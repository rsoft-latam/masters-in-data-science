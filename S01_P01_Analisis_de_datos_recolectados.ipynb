{
  "nbformat": 4,
  "nbformat_minor": 0,
  "metadata": {
    "colab": {
      "provenance": [],
      "toc_visible": true
    },
    "kernelspec": {
      "name": "python3",
      "display_name": "Python 3"
    },
    "language_info": {
      "name": "python"
    }
  },
  "cells": [
    {
      "cell_type": "markdown",
      "source": [
        "# SOE-MIA-V1E3-002\n",
        "## Modulo 2 - Data, open data y Big Data\n",
        "## Práctiva Nro. 1\n",
        "### Alumno:\n",
        "\n",
        "Práctica de Google Colab para el análisis de datos recolectados a partir de una encuesta o formulario, mediante la librería pandas, numpy y para la parte gráfica utilizaremos matplotlib\n"
      ],
      "metadata": {
        "id": "i1Y_ySKZ_Is0"
      }
    },
    {
      "cell_type": "markdown",
      "source": [
        "## Conectamos a un entorno de ejecución nuevo\n",
        "\n",
        "En la parte superir derecha, ubicamos la opción \"**Conectar**\"\n",
        "\n",
        "![image.png](data:image/png;base64,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)"
      ],
      "metadata": {
        "id": "xnSS7o9AC70b"
      }
    },
    {
      "cell_type": "markdown",
      "source": [
        "## Importamos las librerías"
      ],
      "metadata": {
        "id": "mXvGiQEkCtiS"
      }
    },
    {
      "cell_type": "code",
      "execution_count": null,
      "metadata": {
        "id": "83r5-_TL--cL"
      },
      "outputs": [],
      "source": [
        "import pandas as pd\n",
        "import numpy as np\n",
        "import matplotlib.pyplot as plt\n"
      ]
    },
    {
      "cell_type": "markdown",
      "source": [
        "## Conectar con la fuente de datos"
      ],
      "metadata": {
        "id": "WmE-WQUWDdgK"
      }
    },
    {
      "cell_type": "markdown",
      "source": [
        "### Opición 1\n",
        "Conectamos el cuarderno con nuestro google drive para leer el archivo con el que trabajaremos"
      ],
      "metadata": {
        "id": "AY7SlZtCD02y"
      }
    },
    {
      "cell_type": "code",
      "source": [
        "# nos conectamos con el espacio de nuestro google drive\n",
        "from google.colab import drive\n",
        "drive.mount('/content/drive')\n",
        "\n",
        "# listamos los archivos\n",
        "!ls '/content/drive/My Drive/Mis carpetas/Carpeta donde está el CSV'\n"
      ],
      "metadata": {
        "id": "iXII5ThyDeV6"
      },
      "execution_count": null,
      "outputs": []
    },
    {
      "cell_type": "code",
      "source": [
        "# Reemplaza 'RUTA_COMPLETA_AL_CSV' con la ruta real del archivo\n",
        "datos = pd.read_csv('/content/drive/My Drive/Mis carpetas/Carpeta donde está el CSV/archivo.csv')\n"
      ],
      "metadata": {
        "id": "al9N3v05LEks"
      },
      "execution_count": null,
      "outputs": []
    },
    {
      "cell_type": "markdown",
      "source": [
        "### Opción 2\n",
        "\n",
        "Mediante el botón \"Elegir Arvhivos\", ubicamos en nuetro equipo local para subir al espacio temporal de nuestro cuaderno"
      ],
      "metadata": {
        "id": "NMH5dhFFCj5T"
      }
    },
    {
      "cell_type": "code",
      "source": [
        "from google.colab import files\n",
        "uploaded = files.upload()\n",
        "\n"
      ],
      "metadata": {
        "id": "t5qJl93kD-aq"
      },
      "execution_count": null,
      "outputs": []
    },
    {
      "cell_type": "code",
      "source": [
        "# Obtén el nombre del archivo cargado\n",
        "file_name = list(uploaded.keys())[0]\n",
        "\n",
        "# Lee el archivo CSV\n",
        "datos = pd.read_csv(file_name)"
      ],
      "metadata": {
        "id": "moMjceSnHHc9"
      },
      "execution_count": null,
      "outputs": []
    },
    {
      "cell_type": "markdown",
      "source": [
        "### Opción 3\n",
        "Subimos nuestro archivos a la sección de \"Archivos\"  de nuestro cuaderno de notas"
      ],
      "metadata": {
        "id": "qjkmLfF9D6TT"
      }
    },
    {
      "cell_type": "code",
      "source": [
        "!ls"
      ],
      "metadata": {
        "id": "TbZtaXCAmOGE"
      },
      "execution_count": null,
      "outputs": []
    },
    {
      "cell_type": "code",
      "source": [
        "# Reemplaza '/content/Mi_archivo.csv' con la ubiación del CSV almacenado en tu cuenta google Drive\n",
        "datos = pd.read_csv('/content/S01_P01_Captura-de-información_MIAV1E2.csv')"
      ],
      "metadata": {
        "id": "rT14A3F9D5yS"
      },
      "execution_count": null,
      "outputs": []
    },
    {
      "cell_type": "markdown",
      "source": [
        "### Verificamos que logramos la conexión con la fuente de datos"
      ],
      "metadata": {
        "id": "t2j6BzatEw-d"
      }
    },
    {
      "cell_type": "code",
      "source": [
        "## cantidad de datos\n",
        "datos.shape"
      ],
      "metadata": {
        "id": "UuV7hzGBtY4D"
      },
      "execution_count": null,
      "outputs": []
    },
    {
      "cell_type": "code",
      "source": [
        "datos.head(3)"
      ],
      "metadata": {
        "id": "jEtAvgVaE4-M"
      },
      "execution_count": null,
      "outputs": []
    },
    {
      "cell_type": "markdown",
      "source": [
        "### verificamos el tipo de datos que contine cada columna"
      ],
      "metadata": {
        "id": "aTChTsDfE-lC"
      }
    },
    {
      "cell_type": "code",
      "source": [
        "datos.dtypes"
      ],
      "metadata": {
        "id": "j6TF8nKLE-Dq"
      },
      "execution_count": null,
      "outputs": []
    },
    {
      "cell_type": "markdown",
      "source": [
        "### Generamos la primera estadística"
      ],
      "metadata": {
        "id": "lJ6jJyngGGd6"
      }
    },
    {
      "cell_type": "code",
      "source": [
        "# Calcular la edad promedio\n",
        "edad_promedio = datos['Edad'].mean()\n",
        "print(\"Edad promedio:\", edad_promedio)"
      ],
      "metadata": {
        "id": "eNqSTAnxGF2U"
      },
      "execution_count": null,
      "outputs": []
    },
    {
      "cell_type": "code",
      "source": [
        "# Calcular la Alatura promedio\n",
        "# en caso que necesitemos cambiar el tipo de dato\n",
        "# edad_promedio = datos['Altura'].astype(float)\n",
        "altura_promedio = datos['Altura'].mean()\n",
        "print(\"Altura promedio:\", altura_promedio)\n",
        "print(\"Altura mínima:\", datos['Altura'].min())\n",
        "print(\"Altura máxima:\", datos['Altura'].max())"
      ],
      "metadata": {
        "id": "Kp_XPO7qngOa"
      },
      "execution_count": null,
      "outputs": []
    },
    {
      "cell_type": "code",
      "source": [
        "len(datos)"
      ],
      "metadata": {
        "id": "S-JRCm536l2a"
      },
      "execution_count": null,
      "outputs": []
    },
    {
      "cell_type": "code",
      "source": [
        "datos.shape"
      ],
      "metadata": {
        "id": "115Cr9GEpKkJ"
      },
      "execution_count": null,
      "outputs": []
    },
    {
      "cell_type": "code",
      "source": [
        "datos"
      ],
      "metadata": {
        "id": "T_Rj8ckLqDiK"
      },
      "execution_count": null,
      "outputs": []
    },
    {
      "cell_type": "markdown",
      "source": [
        "Obtenemos estadísticas"
      ],
      "metadata": {
        "id": "zwVEi6xoFSCq"
      }
    },
    {
      "cell_type": "code",
      "source": [
        "# Ahora con numpy generamos otras estadísticas\n",
        "\n",
        "# Seleccionamos el nombre de la columna, en este caso será la altura de las personas\n",
        "data_array = datos['Altura'].dropna().to_numpy()\n",
        "#data_array = datos['Altura'].to_numpy()\n",
        "\n",
        "print(data_array)\n",
        "mean_value = np.mean(data_array)\n",
        "median_value = np.median(data_array)\n",
        "std_value = np.std(data_array)\n",
        "print(\"A partir del dato de altura de las personas, se obtienen las siguientes estadísticas:\")\n",
        "print(f\"Media: {mean_value}, Mediana: {median_value}, Desviación Estándar: {std_value}\")\n"
      ],
      "metadata": {
        "id": "_hjqEjuXMGyy"
      },
      "execution_count": null,
      "outputs": []
    },
    {
      "cell_type": "code",
      "source": [
        "\n",
        "print(datos['Altura'].value_counts())"
      ],
      "metadata": {
        "id": "D4csUh-U5kMZ"
      },
      "execution_count": null,
      "outputs": []
    },
    {
      "cell_type": "code",
      "source": [
        "# reducimos los valores\n",
        "datosFix = datos[datos.Altura <= 5]\n"
      ],
      "metadata": {
        "id": "JtOFmEyc7BDi"
      },
      "execution_count": null,
      "outputs": []
    },
    {
      "cell_type": "code",
      "source": [
        "altura_promedio = datosFix['Altura'].mean()\n",
        "print(\"Altura promedio:\", np.round(altura_promedio,2))\n",
        "print(\"Altura minima:\", datosFix['Altura'].min())\n",
        "print(\"Altura máxima:\", datosFix['Altura'].max())\n"
      ],
      "metadata": {
        "id": "vnrZy4yd7DCa"
      },
      "execution_count": null,
      "outputs": []
    },
    {
      "cell_type": "markdown",
      "source": [
        "## Representación gráfica de los datos"
      ],
      "metadata": {
        "id": "qRBfw0BBrZKZ"
      }
    },
    {
      "cell_type": "markdown",
      "source": [
        "Generamos un histograma a partir del campo Edad y desplegamos el gráfico"
      ],
      "metadata": {
        "id": "8iJ_Y_4XMIEy"
      }
    },
    {
      "cell_type": "code",
      "source": [
        "# Histograma de la edad\n",
        "plt.hist(datos['Edad'])\n",
        "plt.xlabel('Edad')\n",
        "plt.ylabel('Frecuencia')\n",
        "plt.title('Distribución de la edad')\n",
        "plt.show()\n"
      ],
      "metadata": {
        "id": "7DSGTdeTMGk8"
      },
      "execution_count": null,
      "outputs": []
    },
    {
      "cell_type": "markdown",
      "source": [],
      "metadata": {
        "id": "iGS62ETKMUn5"
      }
    },
    {
      "cell_type": "code",
      "source": [
        "# Diagrama de barras para la distribución de frecuencias por conocimiento de Big Data\n",
        "\n",
        "data_array = datos['Conocimiento_BigData'].dropna().to_numpy()\n",
        "\n",
        "plt.hist(data_array, bins=10, alpha=0.5)\n",
        "plt.title('Histograma')\n",
        "plt.xlabel('Conocimiento_BigData')\n",
        "plt.ylabel('Frecuencia')\n",
        "plt.show()"
      ],
      "metadata": {
        "id": "iOxpWFZPMNJj"
      },
      "execution_count": null,
      "outputs": []
    },
    {
      "cell_type": "code",
      "source": [
        "# Diagrama de barras para la distribución de frecuencias por conocimiento de SIG\n",
        "\n",
        "data_array = datos['Conocimiento_SIG'].dropna().to_numpy()\n",
        "\n",
        "plt.hist(data_array, bins=10, alpha=0.5)\n",
        "plt.title('Histograma')\n",
        "plt.xlabel('Conocimiento_SIG')\n",
        "plt.ylabel('Frecuencia')\n",
        "plt.show()"
      ],
      "metadata": {
        "id": "1TJPwWs4rwDG"
      },
      "execution_count": null,
      "outputs": []
    },
    {
      "cell_type": "code",
      "source": [
        "### Campo con multiples valores\n",
        "data_array = datos['Lenguajes'].dropna().to_numpy()\n",
        "\n",
        "plt.hist(data_array, bins=10, alpha=0.5)\n",
        "plt.title('Histograma')\n",
        "plt.xlabel('Lenguajes')\n",
        "plt.ylabel('Frecuencia')\n",
        "plt.show()"
      ],
      "metadata": {
        "id": "LliYPRgN6tDK"
      },
      "execution_count": null,
      "outputs": []
    },
    {
      "cell_type": "code",
      "source": [
        "datos.Lenguajes"
      ],
      "metadata": {
        "id": "AKKN4JsV3Kjq"
      },
      "execution_count": null,
      "outputs": []
    },
    {
      "cell_type": "code",
      "source": [
        "# Convertimos de multiple a simple dato\n",
        "data_array = datos.Lenguajes.str.split(',').explode()\n",
        "print(Leng.dtype)\n",
        "\n",
        "plt.hist(data_array, bins=10, alpha=0.5,)\n",
        "plt.title('Histograma')\n",
        "plt.xlabel('Lenguajes')\n",
        "plt.ylabel('Frecuencia')\n",
        "# plt.figure(figsize=(10, 15))\n",
        "plt.show()\n"
      ],
      "metadata": {
        "id": "hMJhVrzJtBSj"
      },
      "execution_count": null,
      "outputs": []
    },
    {
      "cell_type": "markdown",
      "source": [
        "### Librería gráfica opcional\n",
        "\n",
        "https://plotly.com/python/\n"
      ],
      "metadata": {
        "id": "LbHD4E-Y3r6y"
      }
    },
    {
      "cell_type": "code",
      "source": [
        "# Cargamos la librería\n",
        "import plotly.express as px\n"
      ],
      "metadata": {
        "id": "KIZ_dTTZ3rQq"
      },
      "execution_count": null,
      "outputs": []
    },
    {
      "cell_type": "markdown",
      "source": [],
      "metadata": {
        "id": "Yvo-yqmG36GC"
      }
    },
    {
      "cell_type": "code",
      "source": [
        "# Histograma de la edad\n",
        "df = datos.Edad\n",
        "fig = px.histogram(df, x=\"Edad\",text_auto=True)\n",
        "# fig.update_layout(bargap=0.2)\n",
        "fig.show()\n",
        "\n"
      ],
      "metadata": {
        "id": "OFY1UsaG35Zq"
      },
      "execution_count": null,
      "outputs": []
    },
    {
      "cell_type": "code",
      "source": [
        "# Histograma de la edad\n",
        "df = datos\n",
        "fig = px.histogram(df, x=\"Genero\")\n",
        "# fig.update_layout(bargap=0.2)\n",
        "fig.show()\n"
      ],
      "metadata": {
        "id": "aMxPu_aT4mca"
      },
      "execution_count": null,
      "outputs": []
    },
    {
      "cell_type": "markdown",
      "source": [
        "## 📊 Práctica\n",
        "Generar una gráficas de histograma de frecuecia con los campos \"Entorno_programacion\"\n",
        " y realize una síntesis de los resultados observados"
      ],
      "metadata": {
        "id": "AaL9TP-PM7jp"
      }
    },
    {
      "cell_type": "code",
      "source": [],
      "metadata": {
        "id": "A2VuBStdNDm1"
      },
      "execution_count": null,
      "outputs": []
    },
    {
      "cell_type": "markdown",
      "source": [
        "### Sínteis:"
      ],
      "metadata": {
        "id": "QBGOQCE1K5jo"
      }
    },
    {
      "cell_type": "markdown",
      "source": [
        "Calcular estadísticas a partir del campo \"Peso\" y calcula \"promedio\", \"mediana\", \"min\", \"max\""
      ],
      "metadata": {
        "id": "cPOQ7uhMPGOK"
      }
    },
    {
      "cell_type": "code",
      "source": [],
      "metadata": {
        "id": "DIubmXRKOJxW"
      },
      "execution_count": null,
      "outputs": []
    },
    {
      "cell_type": "markdown",
      "source": [
        "### Respuesta:\n",
        "¿Cuál es el peso promedio de los estudiantes?\n",
        "\n",
        "\n",
        "\n"
      ],
      "metadata": {
        "id": "L_QGUX1gLH3B"
      }
    },
    {
      "cell_type": "markdown",
      "source": [
        "## 📝Extra 1\n",
        "Realizar un diagrama de cajas a partir del dato \"Peso\""
      ],
      "metadata": {
        "id": "oZYkxml7NDzz"
      }
    },
    {
      "cell_type": "code",
      "source": [],
      "metadata": {
        "id": "IgousIenOLWq"
      },
      "execution_count": null,
      "outputs": []
    },
    {
      "cell_type": "markdown",
      "source": [
        "¿Qué significan los datos extremos (límite inferior y límite superior)?"
      ],
      "metadata": {
        "id": "BFXIWjjPOJLH"
      }
    },
    {
      "cell_type": "markdown",
      "source": [
        "## 📝Extra 2\n",
        "Realizar un diagrama de dispersión con el campo \"Edad\" y \"Peso\" y obtén una análisis del resultado."
      ],
      "metadata": {
        "id": "rtCBXBG1OLKL"
      }
    },
    {
      "cell_type": "code",
      "source": [],
      "metadata": {
        "id": "zNcVzRvrOaAR"
      },
      "execution_count": null,
      "outputs": []
    },
    {
      "cell_type": "markdown",
      "source": [
        "¿Cúal es tu interpretación sobre los resultados en el diagrama de dispersión?\n",
        "Respuesta:"
      ],
      "metadata": {
        "id": "aNh2Ask1OXZt"
      }
    }
  ]
}