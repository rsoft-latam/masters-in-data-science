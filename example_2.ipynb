{
  "nbformat": 4,
  "nbformat_minor": 0,
  "metadata": {
    "colab": {
      "provenance": [],
      "toc_visible": true,
      "authorship_tag": "ABX9TyMWOK/iAKFUYu01PW2bADsd",
      "include_colab_link": true
    },
    "kernelspec": {
      "name": "python3",
      "display_name": "Python 3"
    },
    "language_info": {
      "name": "python"
    }
  },
  "cells": [
    {
      "cell_type": "markdown",
      "metadata": {
        "id": "view-in-github",
        "colab_type": "text"
      },
      "source": [
        "<a href=\"https://colab.research.google.com/github/rsoft-latam/masters-in-data-science/blob/main/example_2.ipynb\" target=\"_parent\"><img src=\"https://colab.research.google.com/assets/colab-badge.svg\" alt=\"Open In Colab\"/></a>"
      ]
    },
    {
      "cell_type": "markdown",
      "source": [
        "Codifica un programa en Python que nos permita guardar los nombres de los alumnos de una clase y las notas que han obtenido. Cada alumno puede tener distinta cantidad de notas. Guarda la información en un diccionario cuyas claves serán los nombres de los alumnos y los valores serán listas con las notas de cada alumno. Al final el programa nos mostrará la lista de alumnos y la nota media obtenida por cada uno de ellos. Nota: si se introduce el nombre de un alumno que ya existe el programa nos deberá generar un error."
      ],
      "metadata": {
        "id": "6MsYn5aeqzp-"
      }
    },
    {
      "cell_type": "code",
      "source": [
        "alumnos = {}\n",
        "\n",
        "while True:\n",
        "    print(\"\\n\")\n",
        "    print(\"1. Añadir/modificar un nuevo estudiante\")\n",
        "    print(\"2. Salir\")\n",
        "    opcion = int(input(\"Ingresa una opción:\"))\n",
        "\n",
        "    if opcion == 1:\n",
        "        alumno = input(\"Nombre del alumno:\")\n",
        "\n",
        "        while alumno in alumnos:\n",
        "            print(\"Alumno ya existe.\")\n",
        "            alumno = input(\"Nombre del alumno:\")\n",
        "\n",
        "        notas = []\n",
        "        nota = int(input(\"Dame una nota del alumno (negativo para terminar):\"))\n",
        "        while nota >= 0:\n",
        "            notas.append(nota)\n",
        "            nota = int(input(\"Dame una nota del alumno (negativo para terminar):\"))\n",
        "\n",
        "        alumnos[alumno] = notas.copy()\n",
        "    else:\n",
        "        break\n",
        "\n",
        "for alumno, notas in alumnos.items():\n",
        "    print(\"%s ha sacado de nota media %f\" % (alumno, sum(notas) / len(notas)))\n"
      ],
      "metadata": {
        "colab": {
          "base_uri": "https://localhost:8080/",
          "height": 627
        },
        "id": "FeyvymMEqzd6",
        "outputId": "d9fd1aec-1ea4-4788-a855-afbcf0d829bc"
      },
      "execution_count": 1,
      "outputs": [
        {
          "output_type": "stream",
          "name": "stdout",
          "text": [
            "\n",
            "\n",
            "1. Añadir/modificar un nuevo estudiante\n",
            "2. Salir\n",
            "Ingresa una opción:1\n",
            "Nombre del alumno:ricardo\n",
            "Dame una nota del alumno (negativo para terminar):10\n",
            "Dame una nota del alumno (negativo para terminar):10\n",
            "Dame una nota del alumno (negativo para terminar):-1\n",
            "\n",
            "\n",
            "1. Añadir/modificar un nuevo estudiante\n",
            "2. Salir\n",
            "Ingresa una opción:1\n",
            "Nombre del alumno:ricardo\n",
            "Alumno ya existe.\n",
            "Nombre del alumno:ricardo\n",
            "Alumno ya existe.\n",
            "Nombre del alumno:2\n",
            "Dame una nota del alumno (negativo para terminar):-1\n",
            "\n",
            "\n",
            "1. Añadir/modificar un nuevo estudiante\n",
            "2. Salir\n",
            "Ingresa una opción:2\n",
            "ricardo ha sacado de nota media 10.000000\n"
          ]
        },
        {
          "output_type": "error",
          "ename": "ZeroDivisionError",
          "evalue": "division by zero",
          "traceback": [
            "\u001b[0;31m---------------------------------------------------------------------------\u001b[0m",
            "\u001b[0;31mZeroDivisionError\u001b[0m                         Traceback (most recent call last)",
            "\u001b[0;32m<ipython-input-1-ae266152b43a>\u001b[0m in \u001b[0;36m<cell line: 0>\u001b[0;34m()\u001b[0m\n\u001b[1;32m     24\u001b[0m \u001b[0;34m\u001b[0m\u001b[0m\n\u001b[1;32m     25\u001b[0m \u001b[0;32mfor\u001b[0m \u001b[0malumno\u001b[0m\u001b[0;34m,\u001b[0m \u001b[0mnotas\u001b[0m \u001b[0;32min\u001b[0m \u001b[0malumnos\u001b[0m\u001b[0;34m.\u001b[0m\u001b[0mitems\u001b[0m\u001b[0;34m(\u001b[0m\u001b[0;34m)\u001b[0m\u001b[0;34m:\u001b[0m\u001b[0;34m\u001b[0m\u001b[0;34m\u001b[0m\u001b[0m\n\u001b[0;32m---> 26\u001b[0;31m     \u001b[0mprint\u001b[0m\u001b[0;34m(\u001b[0m\u001b[0;34m\"%s ha sacado de nota media %f\"\u001b[0m \u001b[0;34m%\u001b[0m \u001b[0;34m(\u001b[0m\u001b[0malumno\u001b[0m\u001b[0;34m,\u001b[0m \u001b[0msum\u001b[0m\u001b[0;34m(\u001b[0m\u001b[0mnotas\u001b[0m\u001b[0;34m)\u001b[0m \u001b[0;34m/\u001b[0m \u001b[0mlen\u001b[0m\u001b[0;34m(\u001b[0m\u001b[0mnotas\u001b[0m\u001b[0;34m)\u001b[0m\u001b[0;34m)\u001b[0m\u001b[0;34m)\u001b[0m\u001b[0;34m\u001b[0m\u001b[0;34m\u001b[0m\u001b[0m\n\u001b[0m",
            "\u001b[0;31mZeroDivisionError\u001b[0m: division by zero"
          ]
        }
      ]
    },
    {
      "cell_type": "code",
      "execution_count": null,
      "metadata": {
        "id": "0wWQ3I4_qwfW"
      },
      "outputs": [],
      "source": []
    }
  ]
}