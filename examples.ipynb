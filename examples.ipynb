{
  "nbformat": 4,
  "nbformat_minor": 0,
  "metadata": {
    "colab": {
      "provenance": []
    },
    "kernelspec": {
      "name": "python3",
      "display_name": "Python 3"
    },
    "language_info": {
      "name": "python"
    }
  },
  "cells": [
    {
      "cell_type": "markdown",
      "source": [
        "# **Ejemplos**\n",
        "\n",
        "## **Ejemplo 1:** Notas de alumnos\n",
        "\n",
        "Codifica un programa en Python que nos permita guardar los nombres de los alumnos de una clase y las notas que han obtenido. Cada alumno puede tener distinta cantidad de notas. Guarda la información en un diccionario cuya claves serán los nombres de los alumnos y los valores serán listas con las notas de cada alumno. Al final el programa nos mostrará la lista de alumnos y la nota media obtenida por cada uno de ellos. Nota: si se introduce el nombre de un alumno que ya existe el programa nos deberá generar un error."
      ],
      "metadata": {
        "id": "j1OPmVAbpdWe"
      }
    },
    {
      "cell_type": "code",
      "execution_count": null,
      "metadata": {
        "colab": {
          "base_uri": "https://localhost:8080/"
        },
        "id": "9EWtMJfvpXla",
        "outputId": "1bdcf964-5f84-4d91-d170-b55f9d40c59a"
      },
      "outputs": [
        {
          "output_type": "stream",
          "name": "stdout",
          "text": [
            "\n",
            "\n",
            "1. Añadir/modificar un nuevo estudiante\n",
            "2. Salir\n",
            "Ingresa una opción:1\n",
            "Nombre del alumno:Edwin\n",
            "Dame una nota del alumno (negativo para terminar):100\n",
            "Dame una nota del alumno (negativepara terminar):-2\n",
            "\n",
            "\n",
            "1. Añadir/modificar un nuevo estudiante\n",
            "2. Salir\n",
            "Ingresa una opción:2\n",
            "Edwin ha sacado de nota media 100.0\n"
          ]
        }
      ],
      "source": [
        "alumnos = {}\n",
        "while True:\n",
        "  print(\"\\n\")\n",
        "  print(\"1. Añadir/modificar un nuevo estudiante\")\n",
        "  print(\"2. Salir\")\n",
        "  opcion = int(input(\"Ingresa una opción:\"))\n",
        "  if opcion == 1:\n",
        "    alumno = input(\"Nombre del alumno:\")\n",
        "\n",
        "    while alumno in alumnos:\n",
        "      print(\"Alumno ya existe.\")\n",
        "      alumno = input(\"Nombre del alumno:\")\n",
        "\n",
        "    notas=[]\n",
        "    nota = int(input(\"Dame una nota del alumno (negativo para terminar):\"))\n",
        "    while nota >= 0:\n",
        "      notas.append(nota)\n",
        "      nota = int(input(\"Dame una nota del alumno (negativepara terminar):\"))\n",
        "\n",
        "    alumnos[alumno] = notas\n",
        "  else:\n",
        "    break\n",
        "\n",
        "for alumno, notas in alumnos.items():\n",
        "  promedio = sum(notas)/len(notas)\n",
        "  print(f\"{alumno} ha sacado de nota media de {promedio}\")"
      ]
    },
    {
      "cell_type": "markdown",
      "source": [
        "## **Ejemplo 2:** Tienda de Barrio\n",
        "\n",
        "Para una tienda de barrio, crear un programa para guardar los nombres, precios y cantidades vendidas de n productos durante los 12 meses del año. Los valores de las ventas pueden ser generados de manera aleatoria. Al final, el programa deberá brindar un menu para seleccionar entre las siguientes opciones:\n",
        "\n",
        "1. Debería mostrar el nombre y precio del producto que fue mas vendido.\n",
        "2. Acceder el nombre del producto, y obtener el total de ganancia generado por el mismo durante el año. Si el producto no existe, deberá mostrarnos un error.\n",
        "3. El producto menos requerido por los clientes.\n",
        "\n",
        "Tras cada consulta el programa nos preguntará si queremos hacer otra consulta."
      ],
      "metadata": {
        "id": "96GoiysrtuUk"
      }
    },
    {
      "cell_type": "code",
      "source": [
        "import random\n",
        "\n",
        "def generar_datos(num=10):\n",
        "  productos = {}\n",
        "  for i in range(num):\n",
        "    nombre = f\"Producto{i}\"\n",
        "    precio = round(random.uniform(0,50), 2)\n",
        "    cantidades_vendidas = [random.randint(1,1000) for i in range(12)]\n",
        "    productos[nombre] = {\"precio\":precio, \"cantidades vendidas\": cantidades_vendidas}\n",
        "\n",
        "  return productos\n",
        "\n",
        "def mas_vendido(productos):\n",
        "  nombre_max = \"\"\n",
        "  precio_max = 0\n",
        "  mas_vendido_var = 0\n",
        "  for nombre, producto in productos.items():\n",
        "    aux = sum(producto[\"cantidades vendidas\"])\n",
        "    if aux > mas_vendido_var:\n",
        "      nombre_max = nombre\n",
        "      precio_max = producto[\"precio\"]\n",
        "      mas_vendido_var = aux\n",
        "\n",
        "  return nombre_max, precio_max\n",
        "\n",
        "productos = generar_datos(10)\n",
        "print(productos)\n"
      ],
      "metadata": {
        "colab": {
          "base_uri": "https://localhost:8080/"
        },
        "id": "kqwNujeFu6bi",
        "outputId": "cd86b234-00e5-4793-fe98-0bdf693cc1fc"
      },
      "execution_count": null,
      "outputs": [
        {
          "output_type": "stream",
          "name": "stdout",
          "text": [
            "{'Producto0': {'precio': 25.17, 'cantidades vendidas': [709, 982, 245, 87, 136, 144, 290, 710, 450, 222, 82, 522]}, 'Producto1': {'precio': 2.71, 'cantidades vendidas': [692, 847, 783, 335, 792, 48, 385, 4, 449, 354, 301, 375]}, 'Producto2': {'precio': 33.52, 'cantidades vendidas': [552, 184, 423, 241, 832, 743, 105, 546, 593, 476, 673, 876]}, 'Producto3': {'precio': 18.77, 'cantidades vendidas': [512, 62, 253, 714, 796, 15, 399, 868, 596, 448, 868, 252]}, 'Producto4': {'precio': 38.36, 'cantidades vendidas': [413, 330, 95, 24, 394, 585, 80, 64, 912, 301, 640, 12]}, 'Producto5': {'precio': 18.42, 'cantidades vendidas': [386, 889, 273, 200, 860, 496, 755, 634, 723, 560, 723, 799]}, 'Producto6': {'precio': 31.92, 'cantidades vendidas': [341, 514, 803, 151, 601, 889, 963, 765, 966, 26, 96, 14]}, 'Producto7': {'precio': 14.16, 'cantidades vendidas': [729, 133, 823, 76, 100, 342, 572, 950, 977, 848, 842, 575]}, 'Producto8': {'precio': 37.89, 'cantidades vendidas': [770, 804, 40, 567, 368, 395, 441, 751, 917, 489, 437, 26]}, 'Producto9': {'precio': 48.05, 'cantidades vendidas': [195, 515, 100, 105, 985, 871, 164, 646, 181, 462, 526, 552]}}\n",
            "Nombre producto: Producto5  y precio producto: 18.42\n"
          ]
        }
      ]
    },
    {
      "cell_type": "code",
      "source": [
        "productos = generar_datos(10)\n",
        "while True:\n",
        "  opcion = int(input(\"Ingrese una opción:\"))\n",
        "\n",
        "  if opcion == 1:\n",
        "    nombre, precio = mas_vendido(productos)\n",
        "    print(\"Nombre producto:\",nombre,\" y precio producto:\", precio)\n",
        "  elif opcion == 2:\n",
        "    pass\n",
        "  elif opcion == 3:\n",
        "    pass\n",
        "  else:\n",
        "    break"
      ],
      "metadata": {
        "colab": {
          "base_uri": "https://localhost:8080/",
          "height": 425
        },
        "id": "8qq0-rnxtu9H",
        "outputId": "b1629c3e-6ac9-4ac3-e832-ae1bfdeeefb7"
      },
      "execution_count": null,
      "outputs": [
        {
          "name": "stdout",
          "output_type": "stream",
          "text": [
            "Ingrese una opción:1\n",
            "Nombre producto: Producto7  y precio producto: 29.34\n",
            "Ingrese una opción:2\n",
            "Ingrese una opción:3\n"
          ]
        },
        {
          "output_type": "error",
          "ename": "KeyboardInterrupt",
          "evalue": "Interrupted by user",
          "traceback": [
            "\u001b[0;31m---------------------------------------------------------------------------\u001b[0m",
            "\u001b[0;31mKeyboardInterrupt\u001b[0m                         Traceback (most recent call last)",
            "\u001b[0;32m<ipython-input-41-08763a163756>\u001b[0m in \u001b[0;36m<cell line: 0>\u001b[0;34m()\u001b[0m\n\u001b[1;32m      1\u001b[0m \u001b[0mproductos\u001b[0m \u001b[0;34m=\u001b[0m \u001b[0mgenerar_datos\u001b[0m\u001b[0;34m(\u001b[0m\u001b[0;36m10\u001b[0m\u001b[0;34m)\u001b[0m\u001b[0;34m\u001b[0m\u001b[0;34m\u001b[0m\u001b[0m\n\u001b[1;32m      2\u001b[0m \u001b[0;32mwhile\u001b[0m \u001b[0;32mTrue\u001b[0m\u001b[0;34m:\u001b[0m\u001b[0;34m\u001b[0m\u001b[0;34m\u001b[0m\u001b[0m\n\u001b[0;32m----> 3\u001b[0;31m   \u001b[0mopcion\u001b[0m \u001b[0;34m=\u001b[0m \u001b[0mint\u001b[0m\u001b[0;34m(\u001b[0m\u001b[0minput\u001b[0m\u001b[0;34m(\u001b[0m\u001b[0;34m\"Ingrese una opción:\"\u001b[0m\u001b[0;34m)\u001b[0m\u001b[0;34m)\u001b[0m\u001b[0;34m\u001b[0m\u001b[0;34m\u001b[0m\u001b[0m\n\u001b[0m\u001b[1;32m      4\u001b[0m \u001b[0;34m\u001b[0m\u001b[0m\n\u001b[1;32m      5\u001b[0m   \u001b[0;32mif\u001b[0m \u001b[0mopcion\u001b[0m \u001b[0;34m==\u001b[0m \u001b[0;36m1\u001b[0m\u001b[0;34m:\u001b[0m\u001b[0;34m\u001b[0m\u001b[0;34m\u001b[0m\u001b[0m\n",
            "\u001b[0;32m/usr/local/lib/python3.11/dist-packages/ipykernel/kernelbase.py\u001b[0m in \u001b[0;36mraw_input\u001b[0;34m(self, prompt)\u001b[0m\n\u001b[1;32m   1175\u001b[0m                 \u001b[0;34m\"raw_input was called, but this frontend does not support input requests.\"\u001b[0m\u001b[0;34m\u001b[0m\u001b[0;34m\u001b[0m\u001b[0m\n\u001b[1;32m   1176\u001b[0m             )\n\u001b[0;32m-> 1177\u001b[0;31m         return self._input_request(\n\u001b[0m\u001b[1;32m   1178\u001b[0m             \u001b[0mstr\u001b[0m\u001b[0;34m(\u001b[0m\u001b[0mprompt\u001b[0m\u001b[0;34m)\u001b[0m\u001b[0;34m,\u001b[0m\u001b[0;34m\u001b[0m\u001b[0;34m\u001b[0m\u001b[0m\n\u001b[1;32m   1179\u001b[0m             \u001b[0mself\u001b[0m\u001b[0;34m.\u001b[0m\u001b[0m_parent_ident\u001b[0m\u001b[0;34m[\u001b[0m\u001b[0;34m\"shell\"\u001b[0m\u001b[0;34m]\u001b[0m\u001b[0;34m,\u001b[0m\u001b[0;34m\u001b[0m\u001b[0;34m\u001b[0m\u001b[0m\n",
            "\u001b[0;32m/usr/local/lib/python3.11/dist-packages/ipykernel/kernelbase.py\u001b[0m in \u001b[0;36m_input_request\u001b[0;34m(self, prompt, ident, parent, password)\u001b[0m\n\u001b[1;32m   1217\u001b[0m             \u001b[0;32mexcept\u001b[0m \u001b[0mKeyboardInterrupt\u001b[0m\u001b[0;34m:\u001b[0m\u001b[0;34m\u001b[0m\u001b[0;34m\u001b[0m\u001b[0m\n\u001b[1;32m   1218\u001b[0m                 \u001b[0;31m# re-raise KeyboardInterrupt, to truncate traceback\u001b[0m\u001b[0;34m\u001b[0m\u001b[0;34m\u001b[0m\u001b[0m\n\u001b[0;32m-> 1219\u001b[0;31m                 \u001b[0;32mraise\u001b[0m \u001b[0mKeyboardInterrupt\u001b[0m\u001b[0;34m(\u001b[0m\u001b[0;34m\"Interrupted by user\"\u001b[0m\u001b[0;34m)\u001b[0m \u001b[0;32mfrom\u001b[0m \u001b[0;32mNone\u001b[0m\u001b[0;34m\u001b[0m\u001b[0;34m\u001b[0m\u001b[0m\n\u001b[0m\u001b[1;32m   1220\u001b[0m             \u001b[0;32mexcept\u001b[0m \u001b[0mException\u001b[0m\u001b[0;34m:\u001b[0m\u001b[0;34m\u001b[0m\u001b[0;34m\u001b[0m\u001b[0m\n\u001b[1;32m   1221\u001b[0m                 \u001b[0mself\u001b[0m\u001b[0;34m.\u001b[0m\u001b[0mlog\u001b[0m\u001b[0;34m.\u001b[0m\u001b[0mwarning\u001b[0m\u001b[0;34m(\u001b[0m\u001b[0;34m\"Invalid Message:\"\u001b[0m\u001b[0;34m,\u001b[0m \u001b[0mexc_info\u001b[0m\u001b[0;34m=\u001b[0m\u001b[0;32mTrue\u001b[0m\u001b[0;34m)\u001b[0m\u001b[0;34m\u001b[0m\u001b[0;34m\u001b[0m\u001b[0m\n",
            "\u001b[0;31mKeyboardInterrupt\u001b[0m: Interrupted by user"
          ]
        }
      ]
    }
  ]
}