{
  "cells": [
    {
      "cell_type": "markdown",
      "metadata": {
        "id": "view-in-github",
        "colab_type": "text"
      },
      "source": [
        "<a href=\"https://colab.research.google.com/github/rsoft-latam/masters-in-data-science/blob/main/Tutorial_1_Programaci%C3%B3n_Orientada_a_Objetos_en_Python.ipynb\" target=\"_parent\"><img src=\"https://colab.research.google.com/assets/colab-badge.svg\" alt=\"Open In Colab\"/></a>"
      ]
    },
    {
      "cell_type": "markdown",
      "metadata": {
        "id": "Pc6O0PFU8PHi"
      },
      "source": [
        "#**Tutorial 1:** Programación Orientada a Objetos en Python\n",
        "\n",
        "Python es un lenguaje orientado a objetos donde casi todo elemento es un objeto con sus propiedades y métodos. La programación orientada a objetos (POO) es un paradigma de programación que proporciona un medio para estructurar programas de modo que las propiedades y los comportamientos esten agrupados en objetos individuales. Dicho de otra manera, la POO es un enfoque para modelar cosas concretas del mundo real, como automóviles, casas, ciudades, así como relaciones entre cosas, como empresas y empleados, estudiantes y profesores, tramites, etc. Los objetos pueden tener componentes internos que también podrían ser objetos y también pueden tener relaciones jerárquicas conocidas como herencia.\n",
        "\n",
        "En este laboratorio, aprenderás cómo:\n",
        "- Modelar y abstraer situaciones de la vida real con objetos y clases\n",
        "- Crear relaciones entre clases y objetos\n",
        "- Usar diagramas de clases para implementar POO\n",
        "\n",
        "\n"
      ]
    },
    {
      "cell_type": "markdown",
      "metadata": {
        "id": "SvWrL9eVJI4T"
      },
      "source": [
        "## 1. Definición de una Clase\n",
        "\n",
        "Todo objeto en Python puede ser definido con una clase, la cual nos ayuda a definir una estructura de datos personalizada para una entidad o relación entre entidades en concreto. Una clase puede contener **propiedades**, las cuales serán atributos de la entidad que se esta modelando. Por otra parte, una clase también puede tener funciones llamadas **métodos** que identifican los comportamientos y acciones que un objeto creado a partir de la clase puede realizar con sus datos.\n",
        "\n",
        "Una clase es un modelo de cómo debe definirse algo y no contiene ningún dato. Mientras que la clase es el modelo, una **instancia** es un **objeto** que se crea a partir de una clase y contiene datos reales. Dicho de otra manera, una clase es como un formulario o cuestionario. Una instancia es como un formulario que se ha llenado con información. Veamos un ejemplo de como definir una clase para un auto:"
      ]
    },
    {
      "cell_type": "code",
      "execution_count": null,
      "metadata": {
        "id": "0GKrAtGfgbWo"
      },
      "outputs": [],
      "source": []
    },
    {
      "cell_type": "code",
      "execution_count": null,
      "metadata": {
        "id": "nyKd-EsW8EiS"
      },
      "outputs": [],
      "source": [
        "class Car:\n",
        "  # Atributo de clase\n",
        "  description = \"Vehículo de motor con ruedas\"\n",
        "\n",
        "  # La función init es la función constructor que nos permitira definir valores para\n",
        "  # los atributos de una instancia de la clase Car\n",
        "  def __init__(self, company, speed, colour):\n",
        "    self.company = company\n",
        "    self.speed = speed\n",
        "    self.colour = colour\n",
        "\n",
        "  # Metodo para obtener la velocidad del auto\n",
        "  def get_speed(self):\n",
        "    return  f\"Speed: {self.speed} mph\"\n",
        "\n",
        "  # Metodo para mostrar el fabricante y año del auto\n",
        "  def get_details(self, year):\n",
        "    return  f\"Company {self.company} Year: {year}\"\n",
        "\n",
        "  # Metodo para definir la velocidad del auto\n",
        "  def set_speed(self, speed):\n",
        "    self.speed = speed\n"
      ]
    },
    {
      "cell_type": "code",
      "execution_count": null,
      "metadata": {
        "colab": {
          "base_uri": "https://localhost:8080/"
        },
        "id": "IxSzd-K0ij4C",
        "outputId": "91063b45-5b85-478e-daaa-dcf07fc29f24"
      },
      "outputs": [
        {
          "name": "stdout",
          "output_type": "stream",
          "text": [
            "Speed: 155 mph\n",
            "Company BMW Year: 2014\n"
          ]
        }
      ],
      "source": [
        "car1 = Car(\"BMW\",155,\"Black\")\n",
        "print(car1.get_speed())\n",
        "print(car1.get_details(2014))"
      ]
    },
    {
      "cell_type": "markdown",
      "metadata": {
        "id": "j1D6y5E8OWqq"
      },
      "source": [
        "Cada vez que creamos un objeto de la clase `Car`, llamamos por defecto al método constructor `__init__`. Este método se ejecutara cada vez que se cree una nueva instancia de la clase. El primer parametro de esta función tendrá que ser el termino **self**, que significa \"propio\" en Español, y representa la instancia de la clase. Como podrás notar, la palabra clave `self` es útil en las definiciones de métodos y en la inicialización de variables debido a que este permite atar las variables y metodos hacia una clase en especifico.\n",
        "\n",
        "Además, la variable `self` es una variable predeterminada que contiene la dirección de memoria del objeto actual. Cuando se crea el objeto usando una clase, la ubicación de memoria del objeto está registrada por su nombre de objeto. Esta ubicación de memoria se pasa a `self` internamente para que `self` conozca la dirección de memoria del objeto.\n",
        "\n",
        "En la anterior celda, también podrás notar que la variable `description` no esta definida con la palabra clave `self`, como en las variables `company`, `speed` y `colour`. En realidad, la variable `description` es un atributo de clase que sera fijo y estará presente en todas las instancias creadas con la clase `Car`. En todo caso, podemos definir los siguientes tipos de atributo en una clase:\n",
        "\n",
        "- Atributos de instancia: Se refieren a los atributos dentro del método constructor `__init__`, por ejemplo, `self.name` o `self.color`.\n",
        "- Atributos de clase: Se refieren a los atributos fuera del método constructor, por ejemplo, `description`. Estos serán iguales para todas las instancias creadas con la clase."
      ]
    },
    {
      "cell_type": "markdown",
      "metadata": {
        "id": "0436-OvyT700"
      },
      "source": [
        "## 2. Creación de instancias\n",
        "\n",
        "Ahora vamos a crear un par de objetos desde la clase `Car`."
      ]
    },
    {
      "cell_type": "code",
      "execution_count": null,
      "metadata": {
        "colab": {
          "base_uri": "https://localhost:8080/"
        },
        "id": "8AT7NEMuOWbU",
        "outputId": "80d57b56-9030-4ca7-a020-f1394e82ed4a"
      },
      "outputs": [
        {
          "name": "stdout",
          "output_type": "stream",
          "text": [
            "Speed: 155 mph\n",
            "Company BMW Year: 2014\n",
            "Speed: 145 mph\n",
            "Company Tesla Year: 2018\n",
            "Speed: 200 mph\n"
          ]
        }
      ],
      "source": [
        "car1 = Car(\"BMW\",155,\"Black\")\n",
        "print(car1.get_speed())\n",
        "print(car1.gel_details(2014))\n",
        "\n",
        "car2 = Car(\"Tesla\",145,\"Blue\")\n",
        "print(car2.get_speed())\n",
        "print(car2.gel_details(2018))\n",
        "\n",
        "car2.set_speed(200)\n",
        "print(car2.get_speed())"
      ]
    },
    {
      "cell_type": "markdown",
      "metadata": {
        "id": "jOMiWTGLWhKc"
      },
      "source": [
        "Nótese que el método `get_speed()`, ejecutada desde `car1` no tenía ningún parámetro adicional, por lo que no pasamos ningún argumento al llamarlo. El método `get_details()` tiene un parámetro adicional que no es un atributo de la instancia, por lo que pasamos un argumento al llamarlo y no usamos el prefijo `self`.\n",
        "\n",
        "**Nota** - Tres elementos importantes para recordar son:\n",
        "\n",
        "- Puede crear cualquier número de objetos de una clase.\n",
        "- Si el método requiere *n* parámetros y no pasa la misma cantidad de parametros, se producirá un error.\n",
        "- El orden de los parametros importa."
      ]
    },
    {
      "cell_type": "markdown",
      "metadata": {
        "id": "j30WQf0mXMCI"
      },
      "source": [
        "## 3. Listar atributos y métodos de una instancia\n",
        "\n",
        "Como se menciono anteriormente, la gran mayoría de variables y elementos en Python es un objeto. Cada objeto tiene un tipo, una representación interna de datos y procedimiento de interacción. Estas características están bien definidas para estructuradas de datos básicas como ser los *ints*, *floats*, o *strings*. Veamos un ejemplo para visualizar estos atributos con las siguientes variables:"
      ]
    },
    {
      "cell_type": "code",
      "execution_count": null,
      "metadata": {
        "colab": {
          "base_uri": "https://localhost:8080/"
        },
        "id": "qfONVY2OYFHC",
        "outputId": "f165debc-a0ba-4a06-c97b-f4a99f23e579"
      },
      "outputs": [
        {
          "name": "stdout",
          "output_type": "stream",
          "text": [
            "<class 'int'>\n",
            "<class 'float'>\n",
            "<class 'str'>\n",
            "<class 'bool'>\n",
            "<class 'list'>\n",
            "<class 'tuple'>\n",
            "<class 'dict'>\n",
            "<class 'set'>\n",
            "<class '__main__.Car'>\n",
            "\n",
            "['__abs__', '__add__', '__and__', '__bool__', '__ceil__', '__class__', '__delattr__', '__dir__', '__divmod__', '__doc__', '__eq__', '__float__', '__floor__', '__floordiv__', '__format__', '__ge__', '__getattribute__', '__getnewargs__', '__gt__', '__hash__', '__index__', '__init__', '__init_subclass__', '__int__', '__invert__', '__le__', '__lshift__', '__lt__', '__mod__', '__mul__', '__ne__', '__neg__', '__new__', '__or__', '__pos__', '__pow__', '__radd__', '__rand__', '__rdivmod__', '__reduce__', '__reduce_ex__', '__repr__', '__rfloordiv__', '__rlshift__', '__rmod__', '__rmul__', '__ror__', '__round__', '__rpow__', '__rrshift__', '__rshift__', '__rsub__', '__rtruediv__', '__rxor__', '__setattr__', '__sizeof__', '__str__', '__sub__', '__subclasshook__', '__truediv__', '__trunc__', '__xor__', 'as_integer_ratio', 'bit_length', 'conjugate', 'denominator', 'from_bytes', 'imag', 'numerator', 'real', 'to_bytes']\n",
            "['__abs__', '__add__', '__bool__', '__class__', '__delattr__', '__dir__', '__divmod__', '__doc__', '__eq__', '__float__', '__floordiv__', '__format__', '__ge__', '__getattribute__', '__getformat__', '__getnewargs__', '__gt__', '__hash__', '__init__', '__init_subclass__', '__int__', '__le__', '__lt__', '__mod__', '__mul__', '__ne__', '__neg__', '__new__', '__pos__', '__pow__', '__radd__', '__rdivmod__', '__reduce__', '__reduce_ex__', '__repr__', '__rfloordiv__', '__rmod__', '__rmul__', '__round__', '__rpow__', '__rsub__', '__rtruediv__', '__set_format__', '__setattr__', '__sizeof__', '__str__', '__sub__', '__subclasshook__', '__truediv__', '__trunc__', 'as_integer_ratio', 'conjugate', 'fromhex', 'hex', 'imag', 'is_integer', 'real']\n",
            "['__add__', '__class__', '__contains__', '__delattr__', '__dir__', '__doc__', '__eq__', '__format__', '__ge__', '__getattribute__', '__getitem__', '__getnewargs__', '__gt__', '__hash__', '__init__', '__init_subclass__', '__iter__', '__le__', '__len__', '__lt__', '__mod__', '__mul__', '__ne__', '__new__', '__reduce__', '__reduce_ex__', '__repr__', '__rmod__', '__rmul__', '__setattr__', '__sizeof__', '__str__', '__subclasshook__', 'capitalize', 'casefold', 'center', 'count', 'encode', 'endswith', 'expandtabs', 'find', 'format', 'format_map', 'index', 'isalnum', 'isalpha', 'isascii', 'isdecimal', 'isdigit', 'isidentifier', 'islower', 'isnumeric', 'isprintable', 'isspace', 'istitle', 'isupper', 'join', 'ljust', 'lower', 'lstrip', 'maketrans', 'partition', 'replace', 'rfind', 'rindex', 'rjust', 'rpartition', 'rsplit', 'rstrip', 'split', 'splitlines', 'startswith', 'strip', 'swapcase', 'title', 'translate', 'upper', 'zfill']\n",
            "['__abs__', '__add__', '__and__', '__bool__', '__ceil__', '__class__', '__delattr__', '__dir__', '__divmod__', '__doc__', '__eq__', '__float__', '__floor__', '__floordiv__', '__format__', '__ge__', '__getattribute__', '__getnewargs__', '__gt__', '__hash__', '__index__', '__init__', '__init_subclass__', '__int__', '__invert__', '__le__', '__lshift__', '__lt__', '__mod__', '__mul__', '__ne__', '__neg__', '__new__', '__or__', '__pos__', '__pow__', '__radd__', '__rand__', '__rdivmod__', '__reduce__', '__reduce_ex__', '__repr__', '__rfloordiv__', '__rlshift__', '__rmod__', '__rmul__', '__ror__', '__round__', '__rpow__', '__rrshift__', '__rshift__', '__rsub__', '__rtruediv__', '__rxor__', '__setattr__', '__sizeof__', '__str__', '__sub__', '__subclasshook__', '__truediv__', '__trunc__', '__xor__', 'as_integer_ratio', 'bit_length', 'conjugate', 'denominator', 'from_bytes', 'imag', 'numerator', 'real', 'to_bytes']\n",
            "['__add__', '__class__', '__contains__', '__delattr__', '__delitem__', '__dir__', '__doc__', '__eq__', '__format__', '__ge__', '__getattribute__', '__getitem__', '__gt__', '__hash__', '__iadd__', '__imul__', '__init__', '__init_subclass__', '__iter__', '__le__', '__len__', '__lt__', '__mul__', '__ne__', '__new__', '__reduce__', '__reduce_ex__', '__repr__', '__reversed__', '__rmul__', '__setattr__', '__setitem__', '__sizeof__', '__str__', '__subclasshook__', 'append', 'clear', 'copy', 'count', 'extend', 'index', 'insert', 'pop', 'remove', 'reverse', 'sort']\n",
            "['__add__', '__class__', '__contains__', '__delattr__', '__dir__', '__doc__', '__eq__', '__format__', '__ge__', '__getattribute__', '__getitem__', '__getnewargs__', '__gt__', '__hash__', '__init__', '__init_subclass__', '__iter__', '__le__', '__len__', '__lt__', '__mul__', '__ne__', '__new__', '__reduce__', '__reduce_ex__', '__repr__', '__rmul__', '__setattr__', '__sizeof__', '__str__', '__subclasshook__', 'count', 'index']\n",
            "['__class__', '__contains__', '__delattr__', '__delitem__', '__dir__', '__doc__', '__eq__', '__format__', '__ge__', '__getattribute__', '__getitem__', '__gt__', '__hash__', '__init__', '__init_subclass__', '__iter__', '__le__', '__len__', '__lt__', '__ne__', '__new__', '__reduce__', '__reduce_ex__', '__repr__', '__reversed__', '__setattr__', '__setitem__', '__sizeof__', '__str__', '__subclasshook__', 'clear', 'copy', 'fromkeys', 'get', 'items', 'keys', 'pop', 'popitem', 'setdefault', 'update', 'values']\n",
            "['__and__', '__class__', '__contains__', '__delattr__', '__dir__', '__doc__', '__eq__', '__format__', '__ge__', '__getattribute__', '__gt__', '__hash__', '__iand__', '__init__', '__init_subclass__', '__ior__', '__isub__', '__iter__', '__ixor__', '__le__', '__len__', '__lt__', '__ne__', '__new__', '__or__', '__rand__', '__reduce__', '__reduce_ex__', '__repr__', '__ror__', '__rsub__', '__rxor__', '__setattr__', '__sizeof__', '__str__', '__sub__', '__subclasshook__', '__xor__', 'add', 'clear', 'copy', 'difference', 'difference_update', 'discard', 'intersection', 'intersection_update', 'isdisjoint', 'issubset', 'issuperset', 'pop', 'remove', 'symmetric_difference', 'symmetric_difference_update', 'union', 'update']\n",
            "\n",
            "['__class__', '__delattr__', '__dict__', '__dir__', '__doc__', '__eq__', '__format__', '__ge__', '__getattribute__', '__gt__', '__hash__', '__init__', '__init_subclass__', '__le__', '__lt__', '__module__', '__ne__', '__new__', '__reduce__', '__reduce_ex__', '__repr__', '__setattr__', '__sizeof__', '__str__', '__subclasshook__', '__weakref__', 'colour', 'company', 'description', 'gel_details', 'get_speed', 'set_speed', 'speed']\n",
            "<__main__.Car object at 0x7f80010ce190>\n"
          ]
        }
      ],
      "source": [
        "# Tipos de variable - base: Integer, Float, String, Bool\n",
        "num = 125\n",
        "decimal = 24.04\n",
        "string = \"Hello\"\n",
        "boolean = True\n",
        "\n",
        "# Tipos de variable - Estructura de datos: List, Tuple, Dict, Set\n",
        "list_example = [\"hello\",2023,\"we\",\"wish\",\"you\",\"the\",\"best!\"]\n",
        "tuple_example = (45.2,67.1,10,24.1)\n",
        "dict_example = {\"Bolivia\": \"Sucre\", \"Italy\": \"Rome\", \"England\": \"London\"}\n",
        "set_example = {\"apple\", \"banana\", \"cherry\"}\n",
        "\n",
        "# Instancia de la claseCar\n",
        "car3 = Car(\"Honda\",130,\"Silver\")\n",
        "\n",
        "# Imprimir tipos de variables\n",
        "print(type(num))\n",
        "print(type(decimal))\n",
        "print(type(string))\n",
        "print(type(boolean))\n",
        "\n",
        "print(type(list_example))\n",
        "print(type(tuple_example))\n",
        "print(type(dict_example))\n",
        "print(type(set_example))\n",
        "\n",
        "print(type(car3),end=\"\\n\\n\")\n",
        "\n",
        "# dir() es una poderosa función incorporada en Python3, que devuelve una lista\n",
        "# de los atributos y métodos de cualquier objeto (por ejemplo, objetos, módulos,\n",
        "# cadenas, listas, diccionarios, etc.)\n",
        "print(dir(num))\n",
        "print(dir(decimal))\n",
        "print(dir(string))\n",
        "print(dir(boolean))\n",
        "\n",
        "print(dir(list_example))\n",
        "print(dir(tuple_example))\n",
        "print(dir(dict_example))\n",
        "print(dir(set_example), end=\"\\n\\n\")\n",
        "\n",
        "print(dir(car3))\n",
        "print(car3)"
      ]
    },
    {
      "cell_type": "markdown",
      "metadata": {
        "id": "3KQcVlQ6Y0ce"
      },
      "source": [
        "Como podrás notar, cada elemento creado en la anterior celda es un objeto que contiene muchas funciones y atributos por defecto. Inclusive, ese es el caso para la instancia `car3` de la clase `Car`.\n",
        "\n",
        "En la última línea intentamos imprimir el objeto `car3` para entender que contiene. Por defecto, esta linea invoca al método `__str__` del objeto, el cual muestra en texto algunas características del objeto como son: el tipo de objeto, y la dirección de memoria. Cualquier método o atributo listado por `dir()` puede ser reescrito en base a nuestras necesidades. Redefinamos el método `__str__` de la clase Car en la siguiente celda:"
      ]
    },
    {
      "cell_type": "code",
      "execution_count": null,
      "metadata": {
        "colab": {
          "base_uri": "https://localhost:8080/"
        },
        "id": "EFgMyGR5bKlR",
        "outputId": "84dbf0a3-51bf-4f47-8f16-2aa6abfe9cee"
      },
      "outputs": [
        {
          "name": "stdout",
          "output_type": "stream",
          "text": [
            "This car is Tesla and has Red colour\n"
          ]
        }
      ],
      "source": [
        "class CustomisedCar:\n",
        "  def __init__(self, company, speed, colour):\n",
        "    self.company = company\n",
        "    self.speed = speed\n",
        "    self.colour = colour\n",
        "\n",
        "  # Sobreescribir el método por defecto str\n",
        "  def __str__(self):\n",
        "      return f\"This car is {self.company} and has {self.colour} colour\"\n",
        "\n",
        "car4 = CustomisedCar(\"Tesla\",130,\"Red\")\n",
        "print(car4)"
      ]
    },
    {
      "cell_type": "markdown",
      "metadata": {
        "id": "TUIv4oqSc3ON"
      },
      "source": [
        "Los métodos como `.__init__()` y `.__str__() `se denominan métodos *Dunder* o *Magic*, y sus nombres comienzan y terminan con guiones bajos dobles regularmente. Estos son prestablecidos por el lenguaje y se pueden aprovechar para personalizar clases y objetos en Python. Puedes revisar el siguiente [link](https://es.acervolima.com/personaliza-tu-clase-de-python-con-los-metodos-magic-o-dunder/) para ver mas detalles sobre el tema."
      ]
    },
    {
      "cell_type": "markdown",
      "metadata": {
        "id": "KIpdrFr5dP59"
      },
      "source": [
        "## 4. Encapsulación de clases\n",
        "\n",
        "En POO, la noción de encapsulación se refiere a la agrupación de datos (junto con los métodos que operan con esos datos) en una sola unidad. Al hacerlo, se puede ocultar el estado interno del objeto desde el exterior y se puede controlar que sus atributos siempre sean válidos.\n",
        "\n",
        "La sección 1, el estilo de definición de la clase `Car` permite encapsular información en objetos y permitir su acceso y modificación a a tráves de las funciones `get_speed` o `set_speed`. Además, estos atributos también son accesibles y modificables con las funciones mágicas \"Dunder\" `__getattribute__` y `__setattr__`, que se definen por defecto en cualquier clase.\n",
        "\n",
        "Sin embargo, una encapsulación completa requiere que el acceso y modificación de los parametros de una clase sean mejor controlados, para lo cual Python plantea dos  convenciones:\n",
        "- Agregar un prefijo al atributo o método con un solo guión bajo **(_)** para que sea privado.\n",
        "- Agregar un prefijo al atributo o método con guiones bajos dobles **(__)** para usar el **name mangling** el cual es un mecanismo de Python que reescribe cualquier identificador con \"__var\" como `_ClassName__var`.\n",
        "\n",
        "Sin embargo, ambos métodos aun permiten acceder a los atributos y funciones desde el exterior."
      ]
    },
    {
      "cell_type": "code",
      "execution_count": null,
      "metadata": {
        "colab": {
          "base_uri": "https://localhost:8080/"
        },
        "id": "Dm-Ylc1PcuVe",
        "outputId": "bdef3dc2-01cc-4d0f-9141-bb756544a14a"
      },
      "outputs": [
        {
          "name": "stdout",
          "output_type": "stream",
          "text": [
            "Tesla\n",
            "Red\n"
          ]
        }
      ],
      "source": [
        "class SecuredCar:\n",
        "  def __init__(self, company, speed, colour):\n",
        "    self._company = company\n",
        "    self.__speed = speed\n",
        "    self.__colour = colour\n",
        "\n",
        "  # Sobreescribir el método por defecto str\n",
        "  def __str__(self):\n",
        "      return f\"This car is {self._company} and has {self.__colour} colour\"\n",
        "\n",
        "car5 = SecuredCar(\"Tesla\",130,\"Red\")\n",
        "print(car5._company)\n",
        "print(car5._SecuredCar__colour) # Aplicación del name mangling"
      ]
    },
    {
      "cell_type": "markdown",
      "metadata": {
        "id": "wBOKPLfhlOXa"
      },
      "source": [
        "Con respecto a este último punto, Python no se puede comparar con lenguajes clásicos como C++ y Java, debido a que solo provee de convenciones para evitar que los atributos internos de una clase sean modificados. Entonces, un programador responsable, al ver un atributo con tal convención de nomenclatura, se abstendría de acceder o modificar estas variables."
      ]
    },
    {
      "cell_type": "markdown",
      "metadata": {
        "id": "IS880AGHlk1K"
      },
      "source": [
        "## 5. Herencia de clases\n",
        "\n",
        "La herencia es el procedimiento en el que una clase hereda los atributos y métodos de otra clase. La clase cuyas propiedades y métodos se heredan se conoce como *clase padre* y la clase que hereda las propiedades de la clase padre (Parent class) es la *clase hijo* (Child class).\n",
        "\n",
        "Lo interesante es que, una clase hijo puede tener las mismas propiedades y métodos heredadas desde la clase Padre, y asi evitar repetir codigo o funcionalidades. Veamos un ejemplo:"
      ]
    },
    {
      "cell_type": "code",
      "execution_count": null,
      "metadata": {
        "colab": {
          "base_uri": "https://localhost:8080/"
        },
        "id": "EUwSmCXSlkWL",
        "outputId": "77a205b1-ffbc-41ec-c040-4a3371945cb3"
      },
      "outputs": [
        {
          "name": "stdout",
          "output_type": "stream",
          "text": [
            "El vehiculo Volvo M13 tiene una velocidad de 120 mph\n",
            "El vehiculo Mopar L tiene una velocidad de 100 mph\n",
            "El número de pasajeros sentados para el bus Mopar L es 30\n",
            "La posible ganancia total de operar el bus es: 665.0\n"
          ]
        }
      ],
      "source": [
        "class Car: # Clase padre\n",
        "  def __init__(self, name, speed):\n",
        "      self.name = name\n",
        "      self.speed = speed\n",
        "\n",
        "  def description(self):\n",
        "      return f\"El vehiculo {self.name} tiene una velocidad de {self.speed} mph\"\n",
        "\n",
        "class Truck(Car): # Clase hijo\n",
        "    pass\n",
        "\n",
        "class Bus(Car): # Clase hijo extendida\n",
        "  def __init__(self, name, speed, passengers,precio_ticket):\n",
        "    self.passengers = passengers\n",
        "    self.precio_ticket = precio_ticket\n",
        "    # La función super() se usa para dar acceso a métodos y propiedades de una clase padre\n",
        "    # En este caso es necesario, para no repetir el contenido de la función __init__ de cla clase Car\n",
        "    super().__init__(name,speed)\n",
        "\n",
        "  # Función extendida que permite recuperar el numero de pasajeros permitidos en el bus\n",
        "  def permitted_passengers(self):\n",
        "    return f\"El número de pasajeros sentados para el bus {self.name} es {self.passengers}\"\n",
        "\n",
        "  # Función extendida en la que se calcula las ganancias que puede generar el bus\n",
        "  def calculate_profit(self, tax):\n",
        "    total = self.passengers * self.precio_ticket - tax\n",
        "    return f\"La posible ganancia total de operar el bus es: {total}\"\n",
        "\n",
        "truck1 = Truck(\"Volvo M13\",120)\n",
        "print(truck1.description())\n",
        "\n",
        "bus1 = Bus(\"Mopar L\",100,30,23.5)\n",
        "print(bus1.description())\n",
        "print(bus1.permitted_passengers())\n",
        "print(bus1.calculate_profit(40))"
      ]
    },
    {
      "cell_type": "markdown",
      "metadata": {
        "id": "dRueizHhocye"
      },
      "source": [
        "Hemos creado dos clases secundarias, `Truck` y `Bus`, que han heredado los métodos y propiedades de la clase principal `Car`. No hemos proporcionado características y métodos adicionales en la clase `Truck`, sin embargo, este permite crear instancias tal como lo hace la clase padre `Car`. Por otra parte, extendimos la clase `Bus` con dos métodos adicional."
      ]
    },
    {
      "cell_type": "markdown",
      "metadata": {
        "id": "nzi_qRQPprZB"
      },
      "source": [
        "## 6. Polimorfismo\n",
        "\n",
        "Esta es una palabra griega. Si rompemos el término polimorfismo, obtenemos formas \"poli\"-muchos y \"morfos\"-formas. Entonces polimorfismo significa tener muchas formas. En POO se refiere a los métodos que tienen los mismos nombres pero tienen diferentes funcionalidades."
      ]
    },
    {
      "cell_type": "code",
      "execution_count": null,
      "metadata": {
        "colab": {
          "base_uri": "https://localhost:8080/"
        },
        "id": "QiEPYOh5pq_Q",
        "outputId": "f0851299-9d70-4481-d1f2-2292bbbf3284"
      },
      "outputs": [
        {
          "name": "stdout",
          "output_type": "stream",
          "text": [
            "Hola, soy estudiate!\n",
            "Hola, soy docente!\n"
          ]
        }
      ],
      "source": [
        "class Student:\n",
        "  def description(self):\n",
        "    print(\"Hola, soy estudiate!\")\n",
        "\n",
        "class Lecturer:\n",
        "  def description(self):\n",
        "    print(\"Hola, soy docente!\")\n",
        "\n",
        "student1 = Student()\n",
        "lecturer1 = Lecturer()\n",
        "\n",
        "for persona in (student1,lecturer1):\n",
        " persona.description()"
      ]
    },
    {
      "cell_type": "markdown",
      "metadata": {
        "id": "LRp5IzYOqoPl"
      },
      "source": [
        "Notese que cuando se llama a la función `description()` del objeto `lecturer1`, se llama a la función de la clase `Lecturer` y cuando se llama a la función `description()` del objeto `student1`, se llama a la función de la clase `Student`. Este es un ejemplo basico de polimorfismo.\n",
        "\n",
        "### Sobrecarga de operadores\n",
        "La sobrecarga de operadores se refiere a la practica de crear varios métodos con el mismo nombre y diferentes parametros, para que de esta forma sean usables según los parametros que se le asignen. Es un practica común bajo el paraguas de polimorfismo y esta presente en muchos lenguajes de programación. No existe una implementación nativa en Python, pero si existen estrategias para que uno o varios parametros de un método no sean obligatorios y para procesarlos de manera diferenciada."
      ]
    },
    {
      "cell_type": "code",
      "execution_count": null,
      "metadata": {
        "colab": {
          "base_uri": "https://localhost:8080/"
        },
        "id": "lg1Lbq03hut0",
        "outputId": "dbdc89ba-e975-4461-df86-462e55acecc9"
      },
      "outputs": [
        {
          "name": "stdout",
          "output_type": "stream",
          "text": [
            "Hola, soy estudiate! Mi nombre es Mario y mi apellido es Gomez\n",
            "Hola, soy estudiate! Mi nombre es Mario\n"
          ]
        }
      ],
      "source": [
        "class ExtendedStudent:\n",
        "  def description(self, first_name = None, last_name = None):\n",
        "    if first_name is not None and last_name is not None:\n",
        "      return f\"Hola, soy estudiate! Mi nombre es {first_name} y mi apellido es {last_name}\"\n",
        "    elif first_name is not None:\n",
        "      return f\"Hola, soy estudiate! Mi nombre es {first_name}\"\n",
        "    else:\n",
        "      return f\"Hola, soy estudiate!\"\n",
        "\n",
        "student4 = ExtendedStudent()\n",
        "print(student4.description(\"Mario\",\"Gomez\"))\n",
        "print(student4.description(\"Mario\"))"
      ]
    },
    {
      "cell_type": "markdown",
      "metadata": {
        "id": "IdI253Bw7TFx"
      },
      "source": [
        "## 7. Modelado de Clases con UML\n",
        "\n",
        "UML significa Unified Modeling Language y es un lenguaje estándar de modelado de sistemas. En esta ocasión, nos centraremos en el Diagrama de Clases, como una herramienta para abstraer un escenario de la vida real con OOP. En este tipo de diagramas las clases se representan de la siguiente manera:\n",
        "\n",
        "<center>\n",
        "<img src='https://drive.google.com/uc?id=1d0AU3CKFlFx7lzqXanZJj58iLcg-ab3M' width='30%'>\n",
        "</center>\n",
        "\n",
        "Donde, la primera sección contendrá el nombre de la clase, la segunda sección tendrá los atributos de la clase y la tercera tendrá los metodos de las clases.\n",
        "\n",
        "- Para la **sección de atributos**, notarás que el primer carácter con el que empiezan es un símbolo. Este denota la visibilidad/acceso del atributo o método desde el exterior, también denominado Encapsulamiento. Como se menciono en la sección **4. Encapsulamiento**, Python no tiene formas estrictas para definir encapsulamiento en clases, pero esto no limita que podamos incluir esta definición en los diagramas de clases en UML. Estos son los niveles de visibilidad que puedes tener segun UML:\n",
        "\n",
        "1. private → - : Accesible solo dentro de la misma clase\n",
        "2. public → + : Visible para todos\n",
        "3. protected → \\# : Accesible por las clases del mismo paquete y las subclases que residen en cualquier paquete\n",
        "4. default → ~ : accesible por las clases del mismo paquete\n",
        "<br/><br/>\n",
        "Posterior a este carácter, especificaremos el nombre del atributo, el tipo de variable (string, int, float, bool, dict, tuple) etc, y el valor por defecto. Sin embargo, agregar esta última parte no tiene un caracter obligatorio.\n",
        "\n",
        "- Para la **sección de métodos**, también haremos uso de los simbolos descritos en el punto anterior para definir niveles de acceso a los metodos. Luego, plantearemos los nombres de las funciones y sus parametros, y continuaremos con la definición de que debería retornar la función.\n",
        "\n"
      ]
    },
    {
      "cell_type": "markdown",
      "metadata": {
        "id": "qG9nYcPWD22Q"
      },
      "source": [
        "Una forma de representar las relaciones que tendrá un elemento con otro es a través de las flechas. Por ahora, nos centraremos en entender las flechas, por lo que no sera importante entender los numeros o simbolos aún.\n",
        "\n",
        "### Asociación\n",
        "Como su nombre lo dice, notarás que cada vez que esté referenciada este tipo de flecha significará que ese elemento contiene al otro en su definición. La flecha apuntará hacia la dependencia.\n",
        "\n",
        "La dirección de la flecha indica navegabilidad, y en caso de no estar presente, significara que la relación es bidireccional. La flecha es util para cuando se desea extender una clase con otra y asi dotar de mayor detalle a nuestro modelo.\n",
        "\n",
        "<center>\n",
        "<img src='https://drive.google.com/uc?id=1PV2XqimGxHInDud_HWVTs7Ufcgb_Koa1' width='30%'>\n",
        "</center>\n",
        "\n",
        "### Herencia\n",
        "\n",
        "Siempre que veamos este tipo de flecha se estará expresando la herencia. La dirección de la flecha irá desde el hijo hasta el padre. En el ejemplo podemos ver que Caballo hereda atributos y funcionalidades desde Animal.\n",
        "\n",
        "<center>\n",
        "<img src='https://drive.google.com/uc?id=1PYxKpDcL8pHrqPebJ7bJl-8XiZJ5boho' width='15%'>\n",
        "</center>\n",
        "\n",
        "### Agregación\n",
        "Este se parece a la asociación en que un elemento dependerá del otro, pero en este caso será: Un elemento dependerá de muchos otros. Aquí tomamos como referencia la multiplicidad del elemento. Lo que comúnmente conocerías en Bases de Datos como Relaciones uno a muchos.\n",
        "\n",
        "<center>\n",
        "<img src='https://drive.google.com/uc?id=1P_zS0JyfVGqcb2k_KDAxDl7EnMkXnk4U' width='30%'>\n",
        "</center>\n",
        "\n",
        "Una característica importante de la asociación es que la dependencia que esta representa no es dura, por lo que si los elementos que agregan a una clase desaparecen, esta clase seguira existiendo. En el ejemplo, podemos ver que la clase Auto contiene un elemento elementos de la clase Motor, la clase Chasis, y la clase Carroceria. Estos últimos son comúnmente representados con listas o colecciones de datos en las clases en Python.\n",
        "\n",
        "### Composición\n",
        "Este es similar al anterior solo que su relación es totalmente compenetrada de tal modo que conceptualmente una de estas clases no podría vivir si no existiera la otra.\n",
        "Por ejemplo, el siguiente caso:\n",
        "\n",
        "<center>\n",
        "<img src='https://drive.google.com/uc?id=1P_wr2j-PG1gXb3HYkNnWkijIQlbqfCyf' width='30%'>\n",
        "</center>\n",
        "\n",
        "Además de estas relaciones, también puedes leer sobre otras existentes en este [link](https://virtual.itca.edu.sv/Mediadores/ads/213_tipos_de_relaciones.html).\n",
        "\n",
        "### Cardinalidad o Multiplicidad de una relación\n",
        "\n",
        "La cardinalidad son los simbolos ubicados en los extremos de las flechas y estan expresados en terminos de:\n",
        "\n",
        "- 1\t   → Uno y sólo uno\n",
        "- 0..1 →\tCero o uno\n",
        "- N..M →\tDesde N hasta M\n",
        "- \\*   →\tCero o varios\n",
        "- 0..* →\tCero o varios\n",
        "- 1..* →\tUno o varios (al menos uno)\n",
        "\n",
        "La cardinalidad representa cuántos objetos de una clase se van a relacionar con objetos de otra clase. Por ejemplo, si tengo la siguiente relación:\n",
        "\n",
        "<center>\n",
        "<img src='https://drive.google.com/uc?id=1PajVHBAZmoKZNvdtCPDCQw3xARLPE_z3' width='30%'>\n",
        "</center>\n",
        "\n",
        "Quiere decir que los alumnos se puede matricular en uno a más módulos y que un módulo puede tener ningún alumno, uno o varios.\n",
        "\n"
      ]
    },
    {
      "cell_type": "markdown",
      "metadata": {
        "id": "0t8V8UUKWMhZ"
      },
      "source": [
        "### Relación entre asociacion, agregación, composición y su implementación en Python\n",
        "\n",
        "La Agregación y la Composición son un tipo especial de Asociación. A su vez, la composición es un tipo especial de agregación, pero es más restrictiva o más específica. Aunque podemos definir a la Asociación, Agregación y Composición como relaciones \"tiene un\", su implementación en Python varia según cuan estricta sea la dependencia. Por ejemplo, la asociación podría requerir de una llave que permita identificar al objeto relacionado. En el caso de la agregación y la composición, su implementación se podrá aplicar con estructuras de datos (ejem. listas o diccionarios).  \n",
        "\n",
        "<center>\n",
        "<img src='https://drive.google.com/uc?id=1NQ5XGArGiqfydw_uIzDeKwOB8b2MhzxY' width='20%'>\n",
        "</center>\n"
      ]
    },
    {
      "cell_type": "code",
      "execution_count": null,
      "metadata": {
        "id": "NL8R3daOWTeb"
      },
      "outputs": [],
      "source": [
        "# Ejemplo de asociación\n",
        "class Maker:\n",
        "  def __init__(self, id, name, address):\n",
        "    self.id = id\n",
        "    self.name = name\n",
        "    self.address = address\n",
        "\n",
        "  def list_details(self):\n",
        "    return f\"Detalles de la empresa fabricante - Nombre: {self.name} y Dirección: {self.address}\"\n",
        "\n",
        "class Car:\n",
        "  def __init__(self, id, model, speed, maker_id):\n",
        "    self.id = id\n",
        "    self.model = model\n",
        "    self.speed = speed\n",
        "    self.maker_id = maker_id # Asociación - Dependencia mas básica donde la relación esta definida por una clave\n",
        "\n",
        "  def car_manufacturer(self):\n",
        "    return self.maker_id\n",
        "\n",
        "maker = Maker(65,\"Audi\",\"Obrajes\")\n",
        "car = Car(\"234X\",\"Z1\",130,maker.id)"
      ]
    },
    {
      "cell_type": "code",
      "execution_count": null,
      "metadata": {
        "colab": {
          "base_uri": "https://localhost:8080/"
        },
        "id": "G4LWkn_SYDQQ",
        "outputId": "7b89f3bf-2dbb-434a-9fe9-62132449ea32"
      },
      "outputs": [
        {
          "name": "stdout",
          "output_type": "stream",
          "text": [
            "Trabajador incluido Mario Martinez\n",
            "Trabajador incluido Carlos Aguilar\n",
            "Lista de estudiantes:Mario Martinez\n",
            "Carlos Aguilar\n",
            "\n",
            "Mario Martinez\n"
          ]
        }
      ],
      "source": [
        "# Ejemplo de agregación y composición\n",
        "class Date:\n",
        "  def __init__(self, day, month, year):\n",
        "    self.day = day\n",
        "    self.month = month\n",
        "    self.year = year\n",
        "\n",
        "  def get_full_date(self):\n",
        "    return f\"{self.day} - {self.month} - {self.year}\"\n",
        "\n",
        "class Student:\n",
        "  def __init__(self, first_name, second_name, registration_day, registration_month, registration_year):\n",
        "    self.first_name = first_name\n",
        "    self.second_name = second_name\n",
        "    # Fecha de registro a la universidad\n",
        "    self.registration_date = Date(registration_day,registration_month, registration_year) # Composición - El objeto Date desaparece si el estudiante desaparece.\n",
        "    # Esta implementación puede variar en base a si la multiplicidad es de UNO a UNO como en este caso, o de UNO a MUCHOS\n",
        "\n",
        "  def get_full_name(self):\n",
        "    return f\"{self.first_name} {self.second_name}\"\n",
        "\n",
        "class University:\n",
        "  def __init__(self, name):\n",
        "    self.name = name\n",
        "    self.students = [] # Agregación de UNO a MUCHOS\n",
        "    # self.ceo = employee # Agregación de uno a uno. Puede existir un CEO (director)\n",
        "    # para una compañia y este debería ser un objeto de la clase empleado\n",
        "\n",
        "  def include_student(self, student):\n",
        "    self.students.append(student)\n",
        "    return f\"Trabajador incluido {student.get_full_name()}\"\n",
        "\n",
        "  def list_students(self):\n",
        "    aux_string = \"\"\n",
        "    for idx, student in enumerate(self.students):\n",
        "      aux_string+=(student.get_full_name()+\"\\n\")\n",
        "\n",
        "    return \"Lista de estudiantes:\"+aux_string\n",
        "\n",
        "student1 = Student(\"Mario\",\"Martinez\",12,12,2012) # Objeto independiente\n",
        "student2 = Student(\"Carlos\",\"Aguilar\",12,12,2012) # Objeto independiente\n",
        "university = University(\"UAGRM\") # Objeto al cual se agregan los estudiantes\n",
        "print(university.include_student(student1))\n",
        "print(university.include_student(student2))\n",
        "print(university.list_students())\n",
        "\n",
        "# Al eliminar el objeto universidad, podremos notar que el objeto estudiante1 sigue existiendo\n",
        "del(university)\n",
        "print(student1.get_full_name())"
      ]
    },
    {
      "cell_type": "markdown",
      "metadata": {
        "id": "2QPeZQDAj5zn"
      },
      "source": [
        "\n",
        "```\n",
        "TIP: Para resolver los siguientes ejercicios, se recomienda crear un nuevo notebook y copiar únicamente los enunciados de ejercicio.\n",
        "```"
      ]
    },
    {
      "cell_type": "code",
      "execution_count": null,
      "metadata": {
        "id": "vYqemhFpwFZu"
      },
      "outputs": [],
      "source": []
    },
    {
      "cell_type": "markdown",
      "metadata": {
        "id": "1_LEWSHTweqn"
      },
      "source": [
        "## **Ejercicio 1:** Atención de Emergencias\n",
        "Desde un registro de quejas generadas desde la línea de atención a emergencias, se requiere identificar a las zonas afectadas por deslizamientos. Debido a la repetición de ubicaciones, se requiere que escriba un programa Python para eliminar todos los duplicados de una lista determinada de cadenas y devolver una lista de cadenas únicas. Utilice el tipo de datos sets de Python para resolver el ejercicio. Puede crear un conjunto de quejas escritas de ejemplo."
      ]
    },
    {
      "cell_type": "code",
      "execution_count": null,
      "metadata": {
        "colab": {
          "base_uri": "https://localhost:8080/"
        },
        "id": "1fKhk38rwwd5",
        "outputId": "c13df8a9-1576-4e5c-c2e3-247a63e43a88"
      },
      "outputs": [
        {
          "data": {
            "text/plain": [
              "['Inundación en la calle Beni',\n",
              " 'Deslizamiento en la Av. Bolivia',\n",
              " 'Incendio en la zona Equipetrol']"
            ]
          },
          "execution_count": 9,
          "metadata": {},
          "output_type": "execute_result"
        }
      ],
      "source": [
        "from typing import List\n",
        "\n",
        "def remove_duplicates(string_list: List[str]) -> List[str]:\n",
        "  \"\"\"\n",
        "    Removes duplicate strings from a list.\n",
        "\n",
        "    Args:\n",
        "        string_list (list): List of strings.\n",
        "\n",
        "    Returns:\n",
        "        list: Unique strings.\n",
        "  \"\"\"\n",
        "  return list(set(string_list))\n",
        "\n",
        "# Example\n",
        "complaints: List[str] = [\n",
        "    \"Deslizamiento en la Av. Bolivia\",\n",
        "    \"Inundación en la calle Beni\",\n",
        "    \"Deslizamiento en la Av. Bolivia\",\n",
        "    \"Incendio en la zona Equipetrol\",\n",
        "    \"Deslizamiento en la Av. Bolivia\",\n",
        "    \"Inundación en la calle Beni\"\n",
        "]\n",
        "\n",
        "affected_areas: List[str] = remove_duplicates(complaints)\n",
        "affected_areas\n"
      ]
    },
    {
      "cell_type": "markdown",
      "metadata": {
        "id": "2eaD4VHTwwyw"
      },
      "source": [
        "## **Ejercicio 2:** Tesis de Postgrado\n",
        "\n",
        "Mediante uso de estructuras de datos, crear un programa que le permita a la biblioteca de la UAGRM SOE gestionar las tesis de postgrado. El programa debe ser capaz de realizar las siguientes operaciones:\n",
        "-  Agregar una nueva tesis: El usuario debe poder ingresar los detalles de una nueva tesis, como título, autor, tutor, carrera, grado académico, año, y cantidad de copias físicas disponible.\n",
        "-  Buscar una tesis: El usuario debe poder buscar una tesis por título, autor o carrera. El programa debe mostrar los detalles de la tesis si se encuentra.\n",
        "-  Actualizar la información de una tesis: El usuario debe poder modificar los detalles de una tesis existente.\n",
        "-  Eliminar una tesis: El usuario debe poder eliminar una tesis del inventario.\n",
        "-  Listar todas las tesis: El programa debe poder mostrar una lista de todas las tesis en el inventario, junto con sus detalles.\n",
        "\n",
        "Implementar el programa considerando que algunas carreras en la universidad permiten que dos tesistas puedan trabajar en una misma tesis y que la mayoría de las carreras asignan dos tutores a un mismo proyecto (uno conocido como tutor y otro como relator), por lo que se deberá guardar estos datos en listas. También se sugiere Implementa un menú de opciones para que el usuario pueda interactuar fácilmente con el programa.\n",
        "\n"
      ]
    },
    {
      "cell_type": "code",
      "execution_count": null,
      "metadata": {
        "colab": {
          "base_uri": "https://localhost:8080/"
        },
        "id": "18TIR90Lvsfd",
        "outputId": "c4437651-2867-4fb3-b63f-5ebf8d437564"
      },
      "outputs": [
        {
          "name": "stdout",
          "output_type": "stream",
          "text": [
            "\n",
            "Options Menu:\n",
            "1. Add a new thesis\n",
            "2. Search for a thesis\n",
            "3. Update thesis information\n",
            "4. Delete a thesis\n",
            "5. List all theses\n",
            "6. Exit\n",
            "Thesis successfully added.\n",
            "\n",
            "Options Menu:\n",
            "1. Add a new thesis\n",
            "2. Search for a thesis\n",
            "3. Update thesis information\n",
            "4. Delete a thesis\n",
            "5. List all theses\n",
            "6. Exit\n",
            "Thesis details:\n",
            "Title: ricardo\n",
            "Authors: juan,  maria\n",
            "Advisors: marta,  juana\n",
            "Major: informatica\n",
            "Degree: licenciatura\n",
            "Year: 2025\n",
            "Available copies: 3\n",
            "--------------------\n",
            "\n",
            "Options Menu:\n",
            "1. Add a new thesis\n",
            "2. Search for a thesis\n",
            "3. Update thesis information\n",
            "4. Delete a thesis\n",
            "5. List all theses\n",
            "6. Exit\n",
            "Thesis successfully updated.\n",
            "\n",
            "Options Menu:\n",
            "1. Add a new thesis\n",
            "2. Search for a thesis\n",
            "3. Update thesis information\n",
            "4. Delete a thesis\n",
            "5. List all theses\n",
            "6. Exit\n",
            "Thesis details:\n",
            "Title: ricardo\n",
            "Authors: \n",
            "Advisors: \n",
            "Major: informatica\n",
            "Degree: licenciatura\n",
            "Year: 2026\n",
            "Available copies: 3\n",
            "--------------------\n",
            "\n",
            "Options Menu:\n",
            "1. Add a new thesis\n",
            "2. Search for a thesis\n",
            "3. Update thesis information\n",
            "4. Delete a thesis\n",
            "5. List all theses\n",
            "6. Exit\n",
            "Thesis details:\n",
            "Title: ricardo\n",
            "Authors: \n",
            "Advisors: \n",
            "Major: informatica\n",
            "Degree: licenciatura\n",
            "Year: 2026\n",
            "Available copies: 3\n",
            "--------------------\n",
            "\n",
            "Options Menu:\n",
            "1. Add a new thesis\n",
            "2. Search for a thesis\n",
            "3. Update thesis information\n",
            "4. Delete a thesis\n",
            "5. List all theses\n",
            "6. Exit\n",
            "Thesis successfully deleted.\n",
            "\n",
            "Options Menu:\n",
            "1. Add a new thesis\n",
            "2. Search for a thesis\n",
            "3. Update thesis information\n",
            "4. Delete a thesis\n",
            "5. List all theses\n",
            "6. Exit\n",
            "No theses registered.\n",
            "\n",
            "Options Menu:\n",
            "1. Add a new thesis\n",
            "2. Search for a thesis\n",
            "3. Update thesis information\n",
            "4. Delete a thesis\n",
            "5. List all theses\n",
            "6. Exit\n",
            "Invalid option.\n",
            "\n",
            "Options Menu:\n",
            "1. Add a new thesis\n",
            "2. Search for a thesis\n",
            "3. Update thesis information\n",
            "4. Delete a thesis\n",
            "5. List all theses\n",
            "6. Exit\n",
            "Invalid option.\n",
            "\n",
            "Options Menu:\n",
            "1. Add a new thesis\n",
            "2. Search for a thesis\n",
            "3. Update thesis information\n",
            "4. Delete a thesis\n",
            "5. List all theses\n",
            "6. Exit\n",
            "Invalid option.\n",
            "\n",
            "Options Menu:\n",
            "1. Add a new thesis\n",
            "2. Search for a thesis\n",
            "3. Update thesis information\n",
            "4. Delete a thesis\n",
            "5. List all theses\n",
            "6. Exit\n",
            "Invalid option.\n",
            "\n",
            "Options Menu:\n",
            "1. Add a new thesis\n",
            "2. Search for a thesis\n",
            "3. Update thesis information\n",
            "4. Delete a thesis\n",
            "5. List all theses\n",
            "6. Exit\n"
          ]
        },
        {
          "ename": "KeyboardInterrupt",
          "evalue": "Interrupted by user",
          "output_type": "error",
          "traceback": [
            "\u001b[31m---------------------------------------------------------------------------\u001b[39m",
            "\u001b[31mKeyboardInterrupt\u001b[39m                         Traceback (most recent call last)",
            "\u001b[36mCell\u001b[39m\u001b[36m \u001b[39m\u001b[32mIn[10]\u001b[39m\u001b[32m, line 128\u001b[39m\n\u001b[32m    124\u001b[39m             \u001b[38;5;28mprint\u001b[39m(\u001b[33m\"\u001b[39m\u001b[33mInvalid option.\u001b[39m\u001b[33m\"\u001b[39m)\n\u001b[32m    127\u001b[39m \u001b[38;5;28;01mif\u001b[39;00m \u001b[34m__name__\u001b[39m == \u001b[33m\"\u001b[39m\u001b[33m__main__\u001b[39m\u001b[33m\"\u001b[39m:\n\u001b[32m--> \u001b[39m\u001b[32m128\u001b[39m     \u001b[43mmain\u001b[49m\u001b[43m(\u001b[49m\u001b[43m)\u001b[49m\n",
            "\u001b[36mCell\u001b[39m\u001b[36m \u001b[39m\u001b[32mIn[10]\u001b[39m\u001b[32m, line 110\u001b[39m, in \u001b[36mmain\u001b[39m\u001b[34m()\u001b[39m\n\u001b[32m    108\u001b[39m \u001b[38;5;28mprint\u001b[39m(\u001b[33m\"\u001b[39m\u001b[33m5. List all theses\u001b[39m\u001b[33m\"\u001b[39m)\n\u001b[32m    109\u001b[39m \u001b[38;5;28mprint\u001b[39m(\u001b[33m\"\u001b[39m\u001b[33m6. Exit\u001b[39m\u001b[33m\"\u001b[39m)\n\u001b[32m--> \u001b[39m\u001b[32m110\u001b[39m option = \u001b[38;5;28;43minput\u001b[39;49m\u001b[43m(\u001b[49m\u001b[33;43m\"\u001b[39;49m\u001b[33;43mEnter an option: \u001b[39;49m\u001b[33;43m\"\u001b[39;49m\u001b[43m)\u001b[49m\n\u001b[32m    111\u001b[39m \u001b[38;5;28;01mif\u001b[39;00m option == \u001b[33m\"\u001b[39m\u001b[33m1\u001b[39m\u001b[33m\"\u001b[39m:\n\u001b[32m    112\u001b[39m     add_thesis(thesis_list)\n",
            "\u001b[36mFile \u001b[39m\u001b[32m~/Library/Python/3.12/lib/python/site-packages/ipykernel/kernelbase.py:1282\u001b[39m, in \u001b[36mKernel.raw_input\u001b[39m\u001b[34m(self, prompt)\u001b[39m\n\u001b[32m   1280\u001b[39m     msg = \u001b[33m\"\u001b[39m\u001b[33mraw_input was called, but this frontend does not support input requests.\u001b[39m\u001b[33m\"\u001b[39m\n\u001b[32m   1281\u001b[39m     \u001b[38;5;28;01mraise\u001b[39;00m StdinNotImplementedError(msg)\n\u001b[32m-> \u001b[39m\u001b[32m1282\u001b[39m \u001b[38;5;28;01mreturn\u001b[39;00m \u001b[38;5;28;43mself\u001b[39;49m\u001b[43m.\u001b[49m\u001b[43m_input_request\u001b[49m\u001b[43m(\u001b[49m\n\u001b[32m   1283\u001b[39m \u001b[43m    \u001b[49m\u001b[38;5;28;43mstr\u001b[39;49m\u001b[43m(\u001b[49m\u001b[43mprompt\u001b[49m\u001b[43m)\u001b[49m\u001b[43m,\u001b[49m\n\u001b[32m   1284\u001b[39m \u001b[43m    \u001b[49m\u001b[38;5;28;43mself\u001b[39;49m\u001b[43m.\u001b[49m\u001b[43m_parent_ident\u001b[49m\u001b[43m[\u001b[49m\u001b[33;43m\"\u001b[39;49m\u001b[33;43mshell\u001b[39;49m\u001b[33;43m\"\u001b[39;49m\u001b[43m]\u001b[49m\u001b[43m,\u001b[49m\n\u001b[32m   1285\u001b[39m \u001b[43m    \u001b[49m\u001b[38;5;28;43mself\u001b[39;49m\u001b[43m.\u001b[49m\u001b[43mget_parent\u001b[49m\u001b[43m(\u001b[49m\u001b[33;43m\"\u001b[39;49m\u001b[33;43mshell\u001b[39;49m\u001b[33;43m\"\u001b[39;49m\u001b[43m)\u001b[49m\u001b[43m,\u001b[49m\n\u001b[32m   1286\u001b[39m \u001b[43m    \u001b[49m\u001b[43mpassword\u001b[49m\u001b[43m=\u001b[49m\u001b[38;5;28;43;01mFalse\u001b[39;49;00m\u001b[43m,\u001b[49m\n\u001b[32m   1287\u001b[39m \u001b[43m\u001b[49m\u001b[43m)\u001b[49m\n",
            "\u001b[36mFile \u001b[39m\u001b[32m~/Library/Python/3.12/lib/python/site-packages/ipykernel/kernelbase.py:1325\u001b[39m, in \u001b[36mKernel._input_request\u001b[39m\u001b[34m(self, prompt, ident, parent, password)\u001b[39m\n\u001b[32m   1322\u001b[39m \u001b[38;5;28;01mexcept\u001b[39;00m \u001b[38;5;167;01mKeyboardInterrupt\u001b[39;00m:\n\u001b[32m   1323\u001b[39m     \u001b[38;5;66;03m# re-raise KeyboardInterrupt, to truncate traceback\u001b[39;00m\n\u001b[32m   1324\u001b[39m     msg = \u001b[33m\"\u001b[39m\u001b[33mInterrupted by user\u001b[39m\u001b[33m\"\u001b[39m\n\u001b[32m-> \u001b[39m\u001b[32m1325\u001b[39m     \u001b[38;5;28;01mraise\u001b[39;00m \u001b[38;5;167;01mKeyboardInterrupt\u001b[39;00m(msg) \u001b[38;5;28;01mfrom\u001b[39;00m\u001b[38;5;250m \u001b[39m\u001b[38;5;28;01mNone\u001b[39;00m\n\u001b[32m   1326\u001b[39m \u001b[38;5;28;01mexcept\u001b[39;00m \u001b[38;5;167;01mException\u001b[39;00m:\n\u001b[32m   1327\u001b[39m     \u001b[38;5;28mself\u001b[39m.log.warning(\u001b[33m\"\u001b[39m\u001b[33mInvalid Message:\u001b[39m\u001b[33m\"\u001b[39m, exc_info=\u001b[38;5;28;01mTrue\u001b[39;00m)\n",
            "\u001b[31mKeyboardInterrupt\u001b[39m: Interrupted by user"
          ]
        }
      ],
      "source": [
        "from typing import List\n",
        "\n",
        "class Thesis:\n",
        "    def __init__(self, title: str, authors: List[str], advisors: List[str], major: str, degree: str, year: int, copies: int):\n",
        "        self.title = title\n",
        "        self.authors = authors\n",
        "        self.advisors = advisors\n",
        "        self.major = major\n",
        "        self.degree = degree\n",
        "        self.year = year\n",
        "        self.copies = copies\n",
        "\n",
        "    def show_details(self) -> None:\n",
        "        print(\"Thesis details:\")\n",
        "        print(\"Title:\", self.title)\n",
        "        print(\"Authors:\", \", \".join(self.authors))\n",
        "        print(\"Advisors:\", \", \".join(self.advisors))\n",
        "        print(\"Major:\", self.major)\n",
        "        print(\"Degree:\", self.degree)\n",
        "        print(\"Year:\", self.year)\n",
        "        print(\"Available copies:\", self.copies)\n",
        "\n",
        "\n",
        "def add_thesis(thesis_list: List[Thesis]) -> None:\n",
        "    title: str = input(\"Enter the thesis title: \")\n",
        "    authors: List[str] = input(\"Enter the authors (comma-separated): \").split(\",\")\n",
        "    advisors: List[str] = input(\"Enter the advisors (comma-separated): \").split(\",\")\n",
        "    major: str = input(\"Enter the major: \")\n",
        "    degree: str = input(\"Enter the academic degree: \")\n",
        "    year: int = int(input(\"Enter the year: \"))\n",
        "    copies: int = int(input(\"Enter the number of copies: \"))\n",
        "    thesis = Thesis(title, authors, advisors, major, degree, year, copies)\n",
        "    thesis_list.append(thesis)\n",
        "    print(\"Thesis successfully added.\")\n",
        "\n",
        "\n",
        "def search_thesis(thesis_list: List[Thesis]) -> None:\n",
        "    criterion: str = input(\"Search by (title, author, major): \").lower()\n",
        "    term: str = input(\"Enter the search term: \")\n",
        "\n",
        "    results: List[str] = []\n",
        "    for thesis in thesis_list:\n",
        "        if criterion == \"title\" and term.lower() in thesis.title.lower():\n",
        "            results.append(thesis)\n",
        "        elif criterion == \"author\" and any(term.lower() in author.lower() for author in thesis.authors):\n",
        "            results.append(thesis)\n",
        "        elif criterion == \"major\" and term.lower() in thesis.major.lower():\n",
        "            results.append(thesis)\n",
        "\n",
        "    if results:\n",
        "        for thesis in results:\n",
        "            thesis.show_details()\n",
        "            print(\"-\" * 20)\n",
        "    else:\n",
        "        print(\"No theses matched the search criteria.\")\n",
        "\n",
        "\n",
        "def update_thesis(thesis_list: List[Thesis]) -> None:\n",
        "    title: str = input(\"Enter the title of the thesis to update: \")\n",
        "    for thesis in thesis_list:\n",
        "        if thesis.title.lower() == title.lower():\n",
        "            thesis.title = input(\"New title (leave blank to keep current): \") or thesis.title\n",
        "            thesis.authors = input(\"New authors (comma-separated, leave blank to keep current): \").split(\",\") or thesis.authors\n",
        "            thesis.advisors = input(\"New advisors (comma-separated, leave blank to keep current): \").split(\",\") or thesis.advisors\n",
        "            thesis.major = input(\"New major (leave blank to keep current): \") or thesis.major\n",
        "            thesis.degree = input(\"New degree (leave blank to keep current): \") or thesis.degree\n",
        "            try:\n",
        "                thesis.year = int(input(\"New year (leave blank to keep current): \") or thesis.year)\n",
        "            except ValueError:\n",
        "                print(\"Invalid year, keeping previous value.\")\n",
        "            try:\n",
        "                thesis.copies = int(input(\"New number of copies (leave blank to keep current): \") or thesis.copies)\n",
        "            except ValueError:\n",
        "                print(\"Invalid number of copies, keeping previous value.\")\n",
        "\n",
        "            print(\"Thesis successfully updated.\")\n",
        "            return\n",
        "    print(\"Thesis not found.\")\n",
        "\n",
        "\n",
        "def delete_thesis(thesis_list: List[Thesis]) -> None:\n",
        "    title: str = input(\"Enter the title of the thesis to delete: \")\n",
        "    for i, thesis in enumerate(thesis_list):\n",
        "        if thesis.title.lower() == title.lower():\n",
        "            del thesis_list[i]\n",
        "            print(\"Thesis successfully deleted.\")\n",
        "            return\n",
        "    print(\"Thesis not found.\")\n",
        "\n",
        "\n",
        "def list_theses(thesis_list: List[Thesis]) -> None:\n",
        "    if not thesis_list:\n",
        "        print(\"No theses registered.\")\n",
        "        return\n",
        "    for thesis in thesis_list:\n",
        "        thesis.show_details()\n",
        "        print(\"-\" * 20)\n",
        "\n",
        "\n",
        "def main():\n",
        "    thesis_list: List[Thesis] = []\n",
        "    while True:\n",
        "        print(\"\\nOptions Menu:\")\n",
        "        print(\"1. Add a new thesis\")\n",
        "        print(\"2. Search for a thesis\")\n",
        "        print(\"3. Update thesis information\")\n",
        "        print(\"4. Delete a thesis\")\n",
        "        print(\"5. List all theses\")\n",
        "        print(\"6. Exit\")\n",
        "        option = input(\"Enter an option: \")\n",
        "        if option == \"1\":\n",
        "            add_thesis(thesis_list)\n",
        "        elif option == \"2\":\n",
        "            search_thesis(thesis_list)\n",
        "        elif option == \"3\":\n",
        "            update_thesis(thesis_list)\n",
        "        elif option == \"4\":\n",
        "            delete_thesis(thesis_list)\n",
        "        elif option == \"5\":\n",
        "            list_theses(thesis_list)\n",
        "        elif option == \"6\":\n",
        "            break\n",
        "        else:\n",
        "            print(\"Invalid option.\")\n",
        "\n",
        "\n",
        "if __name__ == \"__main__\":\n",
        "    main()\n",
        "\n"
      ]
    },
    {
      "cell_type": "markdown",
      "metadata": {
        "id": "1im-ih2mCNrb"
      },
      "source": [
        "## **Ejercicio 3:** Diagrama de clases\n",
        "\n",
        "Los diagramas de clases son uno de los tipos de diagramas más útiles en UML, ya que trazan claramente la estructura de un sistema concreto al modelar sus clases, atributos, operaciones y relaciones entre objetos. En la siguiente imagen podrás ver un ejemplo de este tipo de diagramas:\n",
        "\n",
        "<center>\n",
        "<img src='https://drive.google.com/uc?id=1PcpB5ExCfsMPSA5zTdkJ0XcohpH193Oj' >\n",
        "</center>\n",
        "\n",
        "Este diagrama proviene de la siguiente especificación:\n",
        "\n",
        "- Una aplicación necesita almacenar información sobre empresas, sus empleados y sus clientes. Ambos se caracterizan por su nombre y edad.\n",
        "- Los empleados tienen un sueldo bruto, los empleados que son directivos tienen una categoría, así como un conjunto de empleados subordinados.\n",
        "- De los clientes además se necesita conocer su teléfono de contacto.\n",
        "- La aplicación necesita mostrar los datos de empleados y clientes\n",
        "\n",
        "Para este ejercicio, deberás traducir el diagrama de clases hacia código en Python. Se espera que también realices la implementación de las funciones definidas en el diagrama, sin embargo, su definción dependera de tu criterio.\n"
      ]
    },
    {
      "cell_type": "code",
      "execution_count": null,
      "metadata": {
        "id": "jr6--Gedj4Af"
      },
      "outputs": [],
      "source": [
        "from typing import List\n",
        "\n",
        "class Person:\n",
        "    def __init__(self, name: str, age: int):\n",
        "        self.name = name\n",
        "        self.age = age\n",
        "\n",
        "    def show(self) -> str:\n",
        "        return f\"Name: {self.name}, Age: {self.age}\"\n",
        "\n",
        "\n",
        "class Client(Person):\n",
        "    def __init__(self, name: str, age: int, contact_phone: int):\n",
        "        super().__init__(name, age)\n",
        "        self.contact_phone = contact_phone\n",
        "\n",
        "    def show(self):\n",
        "        return f\"{super().show()}, Phone: {self.contact_phone}\"\n",
        "\n",
        "\n",
        "class Employee(Person):\n",
        "    def __init__(self, name: str, age: int, gross_salary: float):\n",
        "        super().__init__(name, age)\n",
        "        self.gross_salary = gross_salary\n",
        "\n",
        "    def calculate_net_salary(self) -> float:\n",
        "        # Assuming a flat tax rate of 20%\n",
        "        taxes: float = self.gross_salary * 0.2\n",
        "        return self.gross_salary - taxes\n",
        "\n",
        "    def show(self) -> str:\n",
        "        return f\"{super().show()}, Gross Salary: {self.gross_salary}, Net Salary: {self.calculate_net_salary()}\"\n",
        "\n",
        "\n",
        "class Executive(Employee):\n",
        "    def __init__(self, name: str, age: int, gross_salary: float, category: str):\n",
        "        super().__init__(name, age, gross_salary)\n",
        "        self.category = category\n",
        "        self.subordinates: List[Employee] = []\n",
        "\n",
        "    def add_subordinate(self, employee: Employee) -> None:\n",
        "        if isinstance(employee, Employee):\n",
        "            self.subordinates.append(employee)\n",
        "\n",
        "    def show(self) -> str:\n",
        "        return f\"{super().show()}, Category: {self.category}, Subordinates: {[sub.name for sub in self.subordinates]}\"\n",
        "\n",
        "\n",
        "class Company:\n",
        "    def __init__(self, name: str):\n",
        "        self.name = name\n",
        "        self.employees: List[Employee] = []\n",
        "        self.clients: List[Client] = []\n",
        "\n",
        "    def add_employee(self, employee: Employee) -> None:\n",
        "        if isinstance(employee, Employee):\n",
        "            self.employees.append(employee)\n",
        "\n",
        "    def add_client(self, client: Client) -> None:\n",
        "        if isinstance(client, Client):\n",
        "            self.clients.append(client)\n",
        "\n",
        "    def show(self) -> str:\n",
        "        return f\"Company: {self.name}, Employees: {[emp.name for emp in self.employees]}, Clients: {[cli.name for cli in self.clients]}\"\n"
      ]
    },
    {
      "cell_type": "markdown",
      "metadata": {
        "id": "8mQqv-zNur9z"
      },
      "source": [
        "## **Ejercicio 4:** La biblioteca\n",
        "\n",
        "Diseñe un diagrama de clases para el siguiente caso e implemente su respectiva POO con Python:\n",
        "\n",
        "> Una biblioteca universitaria contiene libros. Hay múltiples copias de algunos libros. Algunos libros están disponibles para préstamo de una semana solamente, pero todos los demás libros pueden ser prestados por tres semanas generalmente. Los miembros de la biblioteca pueden tomar prestados hasta cuatro libros a la vez, y los miembros del personal pueden tomar prestamos de hasta doce libros. Los miembros de la biblioteca y los miembros del personal deben devolver luego los libros a la biblioteca como cualquier otro usuario.\n",
        "\n",
        "Se sugiere considerar a los sustantivos como posibles objetos y a las acciones como posibles funciones.\n"
      ]
    },
    {
      "cell_type": "markdown",
      "source": [
        "![biblioteca.drawio.png](data:image/png;base64,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)"
      ],
      "metadata": {
        "id": "mJruTEdio7W3"
      }
    },
    {
      "cell_type": "code",
      "execution_count": null,
      "metadata": {
        "colab": {
          "base_uri": "https://localhost:8080/"
        },
        "id": "_63bOcf2N6eM",
        "outputId": "453bf37e-7e5a-4ab0-a4fc-7858eee8f821"
      },
      "outputs": [
        {
          "name": "stdout",
          "output_type": "stream",
          "text": [
            "Juan Pérez has borrowed: Don Quixote\n",
            "Juan Pérez has borrowed: Don Quixote\n",
            "Juan Pérez has borrowed: Don Quixote\n",
            "Could not borrow the book Don Quixote\n",
            "Could not borrow the book Don Quixote\n",
            "Ana García has borrowed: One Hundred Years of Solitude\n",
            "Ana García has borrowed: One Hundred Years of Solitude\n",
            "Could not borrow the book One Hundred Years of Solitude\n",
            "Juan Pérez has returned: Don Quixote\n",
            "Title: Don Quixote, Author: Cervantes, Available for one week: False, Available copies: 1\n",
            "Title: One Hundred Years of Solitude, Author: García Márquez, Available for one week: True, Available copies: 0\n",
            "Name: Juan Pérez, ID: 12345, Loan limit: 4\n",
            "Name: Ana García, ID: 67890, Loan limit: 12\n"
          ]
        }
      ],
      "source": [
        "from typing import List\n",
        "\n",
        "class Book:\n",
        "    def __init__(self, title: str, author: str, available_one_week=False):\n",
        "        self.title = title\n",
        "        self.author = author\n",
        "        self.available_one_week = available_one_week\n",
        "        self.available_copies: int = 0\n",
        "\n",
        "    def add_copy(self, quantity=1) -> None:\n",
        "        self.available_copies += quantity\n",
        "\n",
        "    def borrow_copy(self):\n",
        "        if self.available_copies > 0:\n",
        "            self.available_copies -= 1\n",
        "            return True\n",
        "        else:\n",
        "            return False\n",
        "\n",
        "    def return_copy(self) -> None:\n",
        "        self.available_copies += 1\n",
        "\n",
        "    def __str__(self) -> str:\n",
        "        return f\"Title: {self.title}, Author: {self.author}, Available for one week: {self.available_one_week}, Available copies: {self.available_copies}\"\n",
        "\n",
        "\n",
        "class User:\n",
        "    def __init__(self, name: str, user_id: int, loan_limit: int):\n",
        "        self.name = name\n",
        "        self.user_id = user_id\n",
        "        self.loan_limit = loan_limit\n",
        "        self.borrowed_books: List[Book] = []\n",
        "\n",
        "    def borrow_book(self, book: Book) -> bool:\n",
        "        if len(self.borrowed_books) < self.loan_limit and book.borrow_copy():\n",
        "            self.borrowed_books.append(book)\n",
        "            print(f\"{self.name} has borrowed: {book.title}\")\n",
        "            return True\n",
        "        else:\n",
        "            print(f\"Could not borrow the book {book.title}\")\n",
        "            return False\n",
        "\n",
        "    def return_book(self, book: Book) -> None:\n",
        "        if book in self.borrowed_books:\n",
        "            self.borrowed_books.remove(book)\n",
        "            book.return_copy()\n",
        "            print(f\"{self.name} has returned: {book.title}\")\n",
        "        else:\n",
        "            print(f\"{self.name} does not have the book {book.title}\")\n",
        "\n",
        "    def __str__(self) -> str:\n",
        "        return f\"Name: {self.name}, ID: {self.user_id}, Loan limit: {self.loan_limit}\"\n",
        "\n",
        "\n",
        "class LibraryMember(User):\n",
        "    def __init__(self, name: str, user_id: int):\n",
        "        super().__init__(name, user_id, loan_limit=4)\n",
        "\n",
        "\n",
        "class StaffMember(User):\n",
        "    def __init__(self, name: int, user_id: int):\n",
        "        super().__init__(name, user_id, loan_limit=12)\n",
        "\n",
        "\n",
        "class Library:\n",
        "    def __init__(self, name: str):\n",
        "        self.name = name\n",
        "        self.books: List[Book] = []\n",
        "        self.users: List[User] = []\n",
        "\n",
        "    def add_book(self, book: Book) -> None:\n",
        "        self.books.append(book)\n",
        "\n",
        "    def add_user(self, user: User) -> None:\n",
        "        self.users.append(user)\n",
        "\n",
        "\n",
        "# Example\n",
        "library = Library(\"Libreria La Paz\")\n",
        "\n",
        "book1 = Book(\"Don Quixote\", \"Cervantes\")\n",
        "book1.add_copy(3)\n",
        "book2 = Book(\"One Hundred Years of Solitude\", \"García Márquez\", available_one_week=True)\n",
        "book2.add_copy(2)\n",
        "\n",
        "library.add_book(book1)\n",
        "library.add_book(book2)\n",
        "\n",
        "member1 = LibraryMember(\"Juan Pérez\", \"12345\")\n",
        "member2 = StaffMember(\"Ana García\", \"67890\")\n",
        "\n",
        "library.add_user(member1)\n",
        "library.add_user(member2)\n",
        "\n",
        "member1.borrow_book(book1)\n",
        "member1.borrow_book(book1)\n",
        "member1.borrow_book(book1)\n",
        "member1.borrow_book(book1)\n",
        "member1.borrow_book(book1)  # This loan will not be processed as the limit is reached\n",
        "\n",
        "member2.borrow_book(book2)\n",
        "member2.borrow_book(book2)\n",
        "member2.borrow_book(book2)\n",
        "\n",
        "member1.return_book(book1)\n",
        "\n",
        "print(book1)\n",
        "print(book2)\n",
        "print(member1)\n",
        "print(member2)\n"
      ]
    },
    {
      "cell_type": "markdown",
      "metadata": {
        "id": "huyDzqOd3yHQ"
      },
      "source": [
        "## **Ejercicio 5:** El colegio 2\n",
        "\n",
        "Un colegio fiscal se propuso implementar un servidor local para la gestión de cuentas institucionales de docentes y estudiantes, los cuales requieren un correo electrónico y una contraseña. Cada vez que un usuario es creado, se requiere un algoritmo para asignar nuevas cuentas de correo electrónico que no se repitan con cuentas creadas anteriormente. Para esto, cada usuario ingresara sus primer nombre, su segundo y tercer nombre (en caso de existir), su apellido paterno, su apellido materno  y su número de carnet de identidad al momento de crear su cuenta. El identificador de la cuenta de email generado deberá estar compuesto por los primeros dos caracteres del primer nombre, el primer apellido completo y los dos primeros dígitos de la cedula de identidad. Cada correo deberá finalizar con el siguiente texto “@cesma.edu.bo”.\n",
        "\n",
        "Ejemplo de entrada:\n",
        "Ingrese su primer nombre: Jose\n",
        "Ingrese su segundo/tercer nombre: Mario\n",
        "Ingrese su primer apellido: Ochoa\n",
        "Ingrese su segundo apellido: Carrasco\n",
        "Ingrese su carnet de identidad: 5345559\n",
        "\n",
        "Ejemplo de salida:\n",
        "El correo electrónico del empleado es: joochoa53@cesma.edu.bo\n",
        "\n",
        "Diseñe el diagrama de clases e implemente el programa respectivo para resolver este caso.\n"
      ]
    },
    {
      "cell_type": "code",
      "execution_count": null,
      "metadata": {
        "colab": {
          "base_uri": "https://localhost:8080/"
        },
        "id": "tNSmQojk4b4-",
        "outputId": "efdf5158-dc01-450b-8463-bbc293990e70"
      },
      "outputs": [
        {
          "name": "stdout",
          "output_type": "stream",
          "text": [
            "The user's email address is: ripari69@cesma.edu.bo\n"
          ]
        }
      ],
      "source": [
        "class User:\n",
        "    def __init__(self, first_name: str, middle_name: str, third_name: str, last_name: str, second_last_name: str, ci: int):\n",
        "        self.first_name = first_name\n",
        "        self.middle_name = middle_name\n",
        "        self.third_name = third_name\n",
        "        self.last_name = last_name\n",
        "        self.second_last_name = second_last_name\n",
        "        self.ci = ci\n",
        "        self.email = self.generate_email()\n",
        "\n",
        "    def generate_email(self) -> str:\n",
        "        first_two_letters: str = self.first_name[:2].lower()\n",
        "        email: str = first_two_letters + self.last_name.lower() + str(self.ci)[:2] + \"@cesma.edu.bo\"\n",
        "        return email\n",
        "\n",
        "def main():\n",
        "    first_name: str = input(\"Enter your first name: \")\n",
        "    middle_name: str = input(\"Enter your middle/third name: \")\n",
        "    third_name: str = input(\"Enter your third name (optional, press Enter if not applicable): \")\n",
        "    last_name: str = input(\"Enter your first last name: \")\n",
        "    second_last_name: str = input(\"Enter your second last name: \")\n",
        "    ci: int = int(input(\"Enter your CI: \"))\n",
        "\n",
        "    user = User(first_name, middle_name, third_name, last_name, second_last_name, ci)\n",
        "    print(f\"The user's email address is: {user.email}\")\n",
        "\n",
        "if __name__ == \"__main__\":\n",
        "    main()\n"
      ]
    },
    {
      "cell_type": "markdown",
      "metadata": {
        "id": "a3vXR9JU61nP"
      },
      "source": [
        "## **Ejercicio 6:** Nuevas becas\n",
        "Una fundación academica internacional ha decidido estimular a todos los estudiantes de una universidad local mediante la asignación de becas mensuales, para esto se tomarán en consideración los siguientes criterios:\n",
        "\n",
        "Para alumnos mayores de 18 años con promedio mayor o igual a 90, la beca será de Bs.2000.00; con promedio mayor o igual a 75, de Bs.1000.00; para los promedios menores de 75 pero mayores o iguales a 60, de Bs.500.00; a los demás se les enviará una carta de invitación incitándolos a que estudien más en el próximo semestre.\n",
        "\n",
        "A los alumnos de 18 años o menores de esta edad, con promedios mayores o iguales a 90, se les dará Bs.3000; con promedios menores a 90 pero mayores o iguales a 80, Bs.2000; para los alumnos con promedios menores a 80 pero mayores o iguales a 60, se les dará Bs.100, y a los alumnos que tengan promedios menores a 60 se les enviará carta de invitación.\n",
        "\n",
        "En el caso de que un alumno se encuentre actualmente trabajando, se le asignara una beca de Bs.1000. Este sera un caso similar para alumnos que traben como asistentes de investigación en la fundación.\n",
        "\n",
        "Se requiere la creación de una base de datos de estudiantes y su respectiva abstracción con POO para facilitar la programación del caso. Diseñe el diagrama de clases respectivo.  \n"
      ]
    },
    {
      "cell_type": "code",
      "execution_count": null,
      "metadata": {
        "colab": {
          "base_uri": "https://localhost:8080/"
        },
        "id": "ia1WZ-EH62w6",
        "outputId": "4aa2fe8f-f4c2-40cc-d278-defd61f90a5c"
      },
      "outputs": [
        {
          "name": "stdout",
          "output_type": "stream",
          "text": [
            "Ana: Scholarship of Bs. 2000\n",
            "Pedro: Scholarship of Bs. 2000\n",
            "Maria: Invitation letter\n",
            "Juan: Scholarship of Bs. 1000\n",
            "Sofia: Scholarship of Bs. 1000\n"
          ]
        }
      ],
      "source": [
        "from typing import Union\n",
        "\n",
        "class Student:\n",
        "    def __init__(self, name: str, age: int, average: int, works=False, research_assistant=False):\n",
        "        self.name = name\n",
        "        self.age = age\n",
        "        self.average = average\n",
        "        self.works = works\n",
        "        self.research_assistant = research_assistant\n",
        "\n",
        "    def calculate_scholarship(self) -> Union[int, str]:\n",
        "        if self.works or self.research_assistant:\n",
        "            return 1000\n",
        "        elif self.age > 18:\n",
        "            if self.average >= 90:\n",
        "                return 2000\n",
        "            elif self.average >= 75:\n",
        "                return 1000\n",
        "            elif self.average >= 60:\n",
        "                return 500\n",
        "            else:\n",
        "                return \"Invitation letter\"\n",
        "        else:\n",
        "            if self.average >= 90:\n",
        "                return 3000\n",
        "            elif self.average >= 80:\n",
        "                return 2000\n",
        "            elif self.average >= 60:\n",
        "                return 100\n",
        "            else:\n",
        "                return \"Invitation letter\"\n",
        "\n",
        "# Example\n",
        "student1 = Student(\"Ana\", 20, 92)\n",
        "student2 = Student(\"Pedro\", 17, 85)\n",
        "student3 = Student(\"Maria\", 19, 55)\n",
        "student4 = Student(\"Juan\", 22, 70, works=True)\n",
        "student5 = Student(\"Sofia\", 21, 88, research_assistant=True)\n",
        "\n",
        "print(f\"{student1.name}: Scholarship of Bs. {student1.calculate_scholarship()}\")\n",
        "print(f\"{student2.name}: Scholarship of Bs. {student2.calculate_scholarship()}\")\n",
        "print(f\"{student3.name}: {student3.calculate_scholarship()}\")\n",
        "print(f\"{student4.name}: Scholarship of Bs. {student4.calculate_scholarship()}\")\n",
        "print(f\"{student5.name}: Scholarship of Bs. {student5.calculate_scholarship()}\")\n"
      ]
    },
    {
      "cell_type": "markdown",
      "metadata": {
        "id": "LcTWbT418qJS"
      },
      "source": [
        "## **Ejercicio 7.** Nuevos bonos\n",
        "\n",
        "El gobierno de la Argentina ha decidido lanzar un bono mensual que se pagara tres veces a los médicos y al personal hospitalario de ese país. También, se cuenta con la información de la edad, antigüedad (años de trabajo) y el numero de dependientes de n trabajadores hospitalarios. Por cada dependiente, se cuenta con un registro que define la la fecha de nacimiento y edad del dependiente, y si estudia actualmente. Este bono se calcula en base a las siguientes condiciones:\n",
        "\tSi la antigüedad < 5 años:  \t\t       10 % del Salario del empleado\n",
        "\tSi la antigüedad >=5 pero es menor a 10:     15 % del Salario del empleado\n",
        "\tSi la antigüedad >=10 pero es menor a 15:   25 % del Salario del empleado\n",
        "\tSi la antigüedad >= 15:\t  \t\t        50 % del Salario del empleado\n",
        "\n",
        "Además de esto, el bono se incrementa en un 2% por familiar dependiente al trabajador y un 1% adicional si el dependiente estudia. Se requiere calcular el monto total que el gobierno tendrá que pagar al finalizar el tercer mes. Simular los datos de los trabajadores usando valores aleatorios y modelar el caso con POO. Implementar un las clases y funciones respectivas con Python.\n",
        "\n"
      ]
    },
    {
      "cell_type": "code",
      "execution_count": null,
      "metadata": {
        "colab": {
          "base_uri": "https://localhost:8080/"
        },
        "id": "q3WwRYQ18n8I",
        "outputId": "bdbfc214-9484-4629-9d7c-ad217b402bd2"
      },
      "outputs": [
        {
          "name": "stdout",
          "output_type": "stream",
          "text": [
            "The total amount to be paid in three months is: 1242891.7981458753\n"
          ]
        }
      ],
      "source": [
        "from typing import List\n",
        "import random\n",
        "\n",
        "class Dependent:\n",
        "    def __init__(self, birth_date: str, age: int, studies: bool):\n",
        "        self.birth_date = birth_date\n",
        "        self.age = age\n",
        "        self.studies = studies\n",
        "\n",
        "class Worker:\n",
        "    def __init__(self, age: int, seniority: int, salary: float, num_dependents: int):\n",
        "        self.age = age\n",
        "        self.seniority = seniority\n",
        "        self.salary = salary\n",
        "        self.num_dependents = num_dependents\n",
        "        self.dependents = []\n",
        "        self.generate_dependents()\n",
        "\n",
        "    def generate_dependents(self) -> None:\n",
        "        for _ in range(self.num_dependents):\n",
        "            self.dependents.append(Dependent(\n",
        "                birth_date=f\"{random.randint(1, 31)}/{random.randint(1, 12)}/{random.randint(1990, 2025)}\",\n",
        "                age=random.randint(1, 60),\n",
        "                studies=random.choice([True, False])\n",
        "            ))\n",
        "\n",
        "    def calculate_bonus(self) -> float:\n",
        "        if self.seniority < 5:\n",
        "            bonus = self.salary * 0.10\n",
        "        elif self.seniority < 10:\n",
        "            bonus = self.salary * 0.15\n",
        "        elif self.seniority < 15:\n",
        "            bonus = self.salary * 0.25\n",
        "        else:\n",
        "            bonus = self.salary * 0.50\n",
        "\n",
        "        for dependent in self.dependents:\n",
        "            bonus += bonus * 0.02\n",
        "            if dependent.studies:\n",
        "                bonus += bonus * 0.01\n",
        "        return bonus\n",
        "\n",
        "def main():\n",
        "    num_workers: int = 10\n",
        "    workers: List[Worker] = []\n",
        "    for _ in range(num_workers):\n",
        "        workers.append(Worker(\n",
        "            age=random.randint(25, 65),\n",
        "            seniority=random.randint(0, 25),\n",
        "            salary=random.randint(50000, 200000),\n",
        "            num_dependents=random.randint(0, 5)\n",
        "        ))\n",
        "\n",
        "    total_bonus_three_months: float = 0\n",
        "    for worker in workers:\n",
        "        total_bonus_three_months += worker.calculate_bonus() * 3\n",
        "\n",
        "    print(f\"The total amount to be paid in three months is: {total_bonus_three_months}\")\n",
        "\n",
        "if __name__ == \"__main__\":\n",
        "    main()\n"
      ]
    },
    {
      "cell_type": "markdown",
      "metadata": {
        "id": "Qzxt8WkBpbgL"
      },
      "source": [
        "## **Ejercicio 8:** Flota de Vehículos\n",
        "\n",
        "Diseña un sistema simplificado para gestionar una flota de vehículos. Crea una clase Vehiculo con atributos como marca, modelo, año, placa (verificar que siempre sea única) y tipo (que puede ser \"coche\", \"camioneta\", \"motocicleta\", etc.), y métodos para mostrar su información y actualizar su estado (por ejemplo, \"disponible\", \"en reparación\", \"alquilado\").  Luego, crea una clase Flota que contenga un diccionario donde las claves sean las placas y los valores sean objetos Vehiculo. La clase Flota debe tener métodos para agregar vehículos (verificando que no haya placas duplicadas), eliminar vehículos, buscar vehículos por placa, listar todos los vehículos de un tipo específico (usando una lista), y calcular el promedio de antigüedad de todos los vehículos en la flota; adicionalmente, implementa un método que retorne una tupla indicando la marca y el modelo del vehículo más antiguo."
      ]
    },
    {
      "cell_type": "markdown",
      "source": [
        "![ejercicio8.drawio.png](data:image/png;base64,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)"
      ],
      "metadata": {
        "id": "1xxbcn1u1h3G"
      }
    },
    {
      "cell_type": "code",
      "execution_count": null,
      "metadata": {
        "id": "ihBaq7SVpp9G"
      },
      "outputs": [],
      "source": [
        "from typing import Dict\n",
        "\n",
        "class Vehicle:\n",
        "    def __init__(self, brand: str, model: str, year: int, plate: str, vehicle_type: str):\n",
        "        self.brand = brand\n",
        "        self.model = model\n",
        "        self.year = year\n",
        "        self.plate = plate\n",
        "        self.vehicle_type = vehicle_type\n",
        "        self.status = \"available\"\n",
        "\n",
        "    def show_info(self) -> None:\n",
        "        print(f\"Brand: {self.brand}, Model: {self.model}, Year: {self.year}, Plate: {self.plate}, Type: {self.vehicle_type}, Status: {self.status}\")\n",
        "\n",
        "    def update_status(self, new_status: str) -> None:\n",
        "        self.status = new_status\n",
        "\n",
        "\n",
        "class Fleet:\n",
        "    def __init__(self):\n",
        "        self.vehicles: Dict[str, Vehicle] = {}\n",
        "\n",
        "    def add_vehicle(self, vehicle: Vehicle) -> None:\n",
        "        if vehicle.plate not in self.vehicles:\n",
        "            self.vehicles[vehicle.plate] = vehicle\n",
        "            print(f\"Vehicle with plate {vehicle.plate} added successfully.\")\n",
        "        else:\n",
        "            print(f\"Error: A vehicle with plate {vehicle.plate} already exists.\")\n",
        "\n",
        "    def remove_vehicle(self, plate: str) -> None:\n",
        "        if plate in self.vehicles:\n",
        "            del self.vehicles[plate]\n",
        "            print(f\"Vehicle with plate {plate} removed successfully.\")\n",
        "        else:\n",
        "            print(f\"Error: No vehicle found with plate {plate}.\")\n",
        "\n",
        "    def search_vehicle(self, plate: str) -> None:\n",
        "        if plate in self.vehicles:\n",
        "            self.vehicles[plate].show_info()\n",
        "        else:\n",
        "            print(f\"Error: No vehicle found with plate {plate}.\")\n",
        "\n",
        "    def list_vehicles_by_type(self, vehicle_type: str) -> None:\n",
        "        vehicles_by_type = [vehicle for vehicle in self.vehicles.values() if vehicle.vehicle_type == vehicle_type]\n",
        "\n",
        "        for vehicle in vehicles_by_type:\n",
        "            vehicle.show_info()\n",
        "\n",
        "        if not vehicles_by_type:\n",
        "            print(f\"No vehicles of type {vehicle_type} found.\")\n",
        "\n",
        "    def calculate_average_age(self) -> float:\n",
        "        if not self.vehicles:\n",
        "            return 0  # Avoid division by zero if there are no vehicles\n",
        "\n",
        "        ages = [2025 - vehicle.year for vehicle in self.vehicles.values()]\n",
        "        return sum(ages) / len(ages)\n",
        "\n",
        "    def oldest_vehicle(self) -> Union[tuple[str, str], None]:\n",
        "        if not self.vehicles:\n",
        "            return None\n",
        "\n",
        "        oldest_vehicle = min(self.vehicles.values(), key=lambda v: v.year)\n",
        "        return (oldest_vehicle.brand, oldest_vehicle.model)\n"
      ]
    },
    {
      "cell_type": "markdown",
      "metadata": {
        "id": "pzRh8SWwJGWK"
      },
      "source": [
        "## Referencias\n",
        "\n",
        "- [Modelado de relaciones UML, un acercamiento a las Asociaciones por Nicolas Bortolotti](https://nbortolotti.blogspot.com/2008/07/modelando-relaciones-en-uml-un.html)\n",
        "- [Tipos de relaciones en UML por ITCA El Salvador](https://virtual.itca.edu.sv/Mediadores/ads/213_tipos_de_relaciones.html)\n",
        "- [Tutorial UML Diagrama de Clases](https://www.youtube.com/watch?v=Z0yLerU0g-Q)"
      ]
    }
  ],
  "metadata": {
    "colab": {
      "provenance": [],
      "toc_visible": true,
      "include_colab_link": true
    },
    "kernelspec": {
      "display_name": "Python 3",
      "name": "python3"
    },
    "language_info": {
      "codemirror_mode": {
        "name": "ipython",
        "version": 3
      },
      "file_extension": ".py",
      "mimetype": "text/x-python",
      "name": "python",
      "nbconvert_exporter": "python",
      "pygments_lexer": "ipython3",
      "version": "3.12.4"
    }
  },
  "nbformat": 4,
  "nbformat_minor": 0
}