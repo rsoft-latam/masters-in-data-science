{
  "cells": [
    {
      "cell_type": "markdown",
      "metadata": {
        "colab_type": "text",
        "id": "view-in-github"
      },
      "source": [
        "<a href=\"https://colab.research.google.com/github/rsoft-latam/masters-in-data-science/blob/main/Tutorial_1_Programaci%C3%B3n_Orientada_a_Objetos_en_Python.ipynb\" target=\"_parent\"><img src=\"https://colab.research.google.com/assets/colab-badge.svg\" alt=\"Open In Colab\"/></a>"
      ]
    },
    {
      "cell_type": "markdown",
      "metadata": {
        "id": "Pc6O0PFU8PHi"
      },
      "source": [
        "#**Tutorial 1:** Programación Orientada a Objetos en Python\n",
        "\n",
        "Python es un lenguaje orientado a objetos donde casi todo elemento es un objeto con sus propiedades y métodos. La programación orientada a objetos (POO) es un paradigma de programación que proporciona un medio para estructurar programas de modo que las propiedades y los comportamientos esten agrupados en objetos individuales. Dicho de otra manera, la POO es un enfoque para modelar cosas concretas del mundo real, como automóviles, casas, ciudades, así como relaciones entre cosas, como empresas y empleados, estudiantes y profesores, tramites, etc. Los objetos pueden tener componentes internos que también podrían ser objetos y también pueden tener relaciones jerárquicas conocidas como herencia.\n",
        "\n",
        "En este laboratorio, aprenderás cómo:\n",
        "- Modelar y abstraer situaciones de la vida real con objetos y clases\n",
        "- Crear relaciones entre clases y objetos\n",
        "- Usar diagramas de clases para implementar POO\n",
        "\n",
        "\n"
      ]
    },
    {
      "cell_type": "markdown",
      "metadata": {
        "id": "SvWrL9eVJI4T"
      },
      "source": [
        "## 1. Definición de una Clase\n",
        "\n",
        "Todo objeto en Python puede ser definido con una clase, la cual nos ayuda a definir una estructura de datos personalizada para una entidad o relación entre entidades en concreto. Una clase puede contener **propiedades**, las cuales serán atributos de la entidad que se esta modelando. Por otra parte, una clase también puede tener funciones llamadas **métodos** que identifican los comportamientos y acciones que un objeto creado a partir de la clase puede realizar con sus datos.\n",
        "\n",
        "Una clase es un modelo de cómo debe definirse algo y no contiene ningún dato. Mientras que la clase es el modelo, una **instancia** es un **objeto** que se crea a partir de una clase y contiene datos reales. Dicho de otra manera, una clase es como un formulario o cuestionario. Una instancia es como un formulario que se ha llenado con información. Veamos un ejemplo de como definir una clase para un auto:"
      ]
    },
    {
      "cell_type": "code",
      "execution_count": null,
      "metadata": {
        "id": "0GKrAtGfgbWo"
      },
      "outputs": [],
      "source": []
    },
    {
      "cell_type": "code",
      "execution_count": null,
      "metadata": {
        "id": "nyKd-EsW8EiS"
      },
      "outputs": [],
      "source": [
        "class Car:\n",
        "  # Atributo de clase\n",
        "  description = \"Vehículo de motor con ruedas\"\n",
        "\n",
        "  # La función init es la función constructor que nos permitira definir valores para\n",
        "  # los atributos de una instancia de la clase Car\n",
        "  def __init__(self, company, speed, colour):\n",
        "    self.company = company\n",
        "    self.speed = speed\n",
        "    self.colour = colour\n",
        "\n",
        "  # Metodo para obtener la velocidad del auto\n",
        "  def get_speed(self):\n",
        "    return  f\"Speed: {self.speed} mph\"\n",
        "\n",
        "  # Metodo para mostrar el fabricante y año del auto\n",
        "  def get_details(self, year):\n",
        "    return  f\"Company {self.company} Year: {year}\"\n",
        "\n",
        "  # Metodo para definir la velocidad del auto\n",
        "  def set_speed(self, speed):\n",
        "    self.speed = speed\n"
      ]
    },
    {
      "cell_type": "code",
      "execution_count": null,
      "metadata": {
        "colab": {
          "base_uri": "https://localhost:8080/"
        },
        "id": "IxSzd-K0ij4C",
        "outputId": "91063b45-5b85-478e-daaa-dcf07fc29f24"
      },
      "outputs": [
        {
          "name": "stdout",
          "output_type": "stream",
          "text": [
            "Speed: 155 mph\n",
            "Company BMW Year: 2014\n"
          ]
        }
      ],
      "source": [
        "car1 = Car(\"BMW\",155,\"Black\")\n",
        "print(car1.get_speed())\n",
        "print(car1.get_details(2014))"
      ]
    },
    {
      "cell_type": "markdown",
      "metadata": {
        "id": "j1D6y5E8OWqq"
      },
      "source": [
        "Cada vez que creamos un objeto de la clase `Car`, llamamos por defecto al método constructor `__init__`. Este método se ejecutara cada vez que se cree una nueva instancia de la clase. El primer parametro de esta función tendrá que ser el termino **self**, que significa \"propio\" en Español, y representa la instancia de la clase. Como podrás notar, la palabra clave `self` es útil en las definiciones de métodos y en la inicialización de variables debido a que este permite atar las variables y metodos hacia una clase en especifico.\n",
        "\n",
        "Además, la variable `self` es una variable predeterminada que contiene la dirección de memoria del objeto actual. Cuando se crea el objeto usando una clase, la ubicación de memoria del objeto está registrada por su nombre de objeto. Esta ubicación de memoria se pasa a `self` internamente para que `self` conozca la dirección de memoria del objeto.\n",
        "\n",
        "En la anterior celda, también podrás notar que la variable `description` no esta definida con la palabra clave `self`, como en las variables `company`, `speed` y `colour`. En realidad, la variable `description` es un atributo de clase que sera fijo y estará presente en todas las instancias creadas con la clase `Car`. En todo caso, podemos definir los siguientes tipos de atributo en una clase:\n",
        "\n",
        "- Atributos de instancia: Se refieren a los atributos dentro del método constructor `__init__`, por ejemplo, `self.name` o `self.color`.\n",
        "- Atributos de clase: Se refieren a los atributos fuera del método constructor, por ejemplo, `description`. Estos serán iguales para todas las instancias creadas con la clase."
      ]
    },
    {
      "cell_type": "markdown",
      "metadata": {
        "id": "0436-OvyT700"
      },
      "source": [
        "## 2. Creación de instancias\n",
        "\n",
        "Ahora vamos a crear un par de objetos desde la clase `Car`."
      ]
    },
    {
      "cell_type": "code",
      "execution_count": null,
      "metadata": {
        "colab": {
          "base_uri": "https://localhost:8080/"
        },
        "id": "8AT7NEMuOWbU",
        "outputId": "80d57b56-9030-4ca7-a020-f1394e82ed4a"
      },
      "outputs": [
        {
          "name": "stdout",
          "output_type": "stream",
          "text": [
            "Speed: 155 mph\n",
            "Company BMW Year: 2014\n",
            "Speed: 145 mph\n",
            "Company Tesla Year: 2018\n",
            "Speed: 200 mph\n"
          ]
        }
      ],
      "source": [
        "car1 = Car(\"BMW\",155,\"Black\")\n",
        "print(car1.get_speed())\n",
        "print(car1.gel_details(2014))\n",
        "\n",
        "car2 = Car(\"Tesla\",145,\"Blue\")\n",
        "print(car2.get_speed())\n",
        "print(car2.gel_details(2018))\n",
        "\n",
        "car2.set_speed(200)\n",
        "print(car2.get_speed())"
      ]
    },
    {
      "cell_type": "markdown",
      "metadata": {
        "id": "jOMiWTGLWhKc"
      },
      "source": [
        "Nótese que el método `get_speed()`, ejecutada desde `car1` no tenía ningún parámetro adicional, por lo que no pasamos ningún argumento al llamarlo. El método `get_details()` tiene un parámetro adicional que no es un atributo de la instancia, por lo que pasamos un argumento al llamarlo y no usamos el prefijo `self`.\n",
        "\n",
        "**Nota** - Tres elementos importantes para recordar son:\n",
        "\n",
        "- Puede crear cualquier número de objetos de una clase.\n",
        "- Si el método requiere *n* parámetros y no pasa la misma cantidad de parametros, se producirá un error.\n",
        "- El orden de los parametros importa."
      ]
    },
    {
      "cell_type": "markdown",
      "metadata": {
        "id": "j30WQf0mXMCI"
      },
      "source": [
        "## 3. Listar atributos y métodos de una instancia\n",
        "\n",
        "Como se menciono anteriormente, la gran mayoría de variables y elementos en Python es un objeto. Cada objeto tiene un tipo, una representación interna de datos y procedimiento de interacción. Estas características están bien definidas para estructuradas de datos básicas como ser los *ints*, *floats*, o *strings*. Veamos un ejemplo para visualizar estos atributos con las siguientes variables:"
      ]
    },
    {
      "cell_type": "code",
      "execution_count": null,
      "metadata": {
        "colab": {
          "base_uri": "https://localhost:8080/"
        },
        "id": "qfONVY2OYFHC",
        "outputId": "f165debc-a0ba-4a06-c97b-f4a99f23e579"
      },
      "outputs": [
        {
          "name": "stdout",
          "output_type": "stream",
          "text": [
            "<class 'int'>\n",
            "<class 'float'>\n",
            "<class 'str'>\n",
            "<class 'bool'>\n",
            "<class 'list'>\n",
            "<class 'tuple'>\n",
            "<class 'dict'>\n",
            "<class 'set'>\n",
            "<class '__main__.Car'>\n",
            "\n",
            "['__abs__', '__add__', '__and__', '__bool__', '__ceil__', '__class__', '__delattr__', '__dir__', '__divmod__', '__doc__', '__eq__', '__float__', '__floor__', '__floordiv__', '__format__', '__ge__', '__getattribute__', '__getnewargs__', '__gt__', '__hash__', '__index__', '__init__', '__init_subclass__', '__int__', '__invert__', '__le__', '__lshift__', '__lt__', '__mod__', '__mul__', '__ne__', '__neg__', '__new__', '__or__', '__pos__', '__pow__', '__radd__', '__rand__', '__rdivmod__', '__reduce__', '__reduce_ex__', '__repr__', '__rfloordiv__', '__rlshift__', '__rmod__', '__rmul__', '__ror__', '__round__', '__rpow__', '__rrshift__', '__rshift__', '__rsub__', '__rtruediv__', '__rxor__', '__setattr__', '__sizeof__', '__str__', '__sub__', '__subclasshook__', '__truediv__', '__trunc__', '__xor__', 'as_integer_ratio', 'bit_length', 'conjugate', 'denominator', 'from_bytes', 'imag', 'numerator', 'real', 'to_bytes']\n",
            "['__abs__', '__add__', '__bool__', '__class__', '__delattr__', '__dir__', '__divmod__', '__doc__', '__eq__', '__float__', '__floordiv__', '__format__', '__ge__', '__getattribute__', '__getformat__', '__getnewargs__', '__gt__', '__hash__', '__init__', '__init_subclass__', '__int__', '__le__', '__lt__', '__mod__', '__mul__', '__ne__', '__neg__', '__new__', '__pos__', '__pow__', '__radd__', '__rdivmod__', '__reduce__', '__reduce_ex__', '__repr__', '__rfloordiv__', '__rmod__', '__rmul__', '__round__', '__rpow__', '__rsub__', '__rtruediv__', '__set_format__', '__setattr__', '__sizeof__', '__str__', '__sub__', '__subclasshook__', '__truediv__', '__trunc__', 'as_integer_ratio', 'conjugate', 'fromhex', 'hex', 'imag', 'is_integer', 'real']\n",
            "['__add__', '__class__', '__contains__', '__delattr__', '__dir__', '__doc__', '__eq__', '__format__', '__ge__', '__getattribute__', '__getitem__', '__getnewargs__', '__gt__', '__hash__', '__init__', '__init_subclass__', '__iter__', '__le__', '__len__', '__lt__', '__mod__', '__mul__', '__ne__', '__new__', '__reduce__', '__reduce_ex__', '__repr__', '__rmod__', '__rmul__', '__setattr__', '__sizeof__', '__str__', '__subclasshook__', 'capitalize', 'casefold', 'center', 'count', 'encode', 'endswith', 'expandtabs', 'find', 'format', 'format_map', 'index', 'isalnum', 'isalpha', 'isascii', 'isdecimal', 'isdigit', 'isidentifier', 'islower', 'isnumeric', 'isprintable', 'isspace', 'istitle', 'isupper', 'join', 'ljust', 'lower', 'lstrip', 'maketrans', 'partition', 'replace', 'rfind', 'rindex', 'rjust', 'rpartition', 'rsplit', 'rstrip', 'split', 'splitlines', 'startswith', 'strip', 'swapcase', 'title', 'translate', 'upper', 'zfill']\n",
            "['__abs__', '__add__', '__and__', '__bool__', '__ceil__', '__class__', '__delattr__', '__dir__', '__divmod__', '__doc__', '__eq__', '__float__', '__floor__', '__floordiv__', '__format__', '__ge__', '__getattribute__', '__getnewargs__', '__gt__', '__hash__', '__index__', '__init__', '__init_subclass__', '__int__', '__invert__', '__le__', '__lshift__', '__lt__', '__mod__', '__mul__', '__ne__', '__neg__', '__new__', '__or__', '__pos__', '__pow__', '__radd__', '__rand__', '__rdivmod__', '__reduce__', '__reduce_ex__', '__repr__', '__rfloordiv__', '__rlshift__', '__rmod__', '__rmul__', '__ror__', '__round__', '__rpow__', '__rrshift__', '__rshift__', '__rsub__', '__rtruediv__', '__rxor__', '__setattr__', '__sizeof__', '__str__', '__sub__', '__subclasshook__', '__truediv__', '__trunc__', '__xor__', 'as_integer_ratio', 'bit_length', 'conjugate', 'denominator', 'from_bytes', 'imag', 'numerator', 'real', 'to_bytes']\n",
            "['__add__', '__class__', '__contains__', '__delattr__', '__delitem__', '__dir__', '__doc__', '__eq__', '__format__', '__ge__', '__getattribute__', '__getitem__', '__gt__', '__hash__', '__iadd__', '__imul__', '__init__', '__init_subclass__', '__iter__', '__le__', '__len__', '__lt__', '__mul__', '__ne__', '__new__', '__reduce__', '__reduce_ex__', '__repr__', '__reversed__', '__rmul__', '__setattr__', '__setitem__', '__sizeof__', '__str__', '__subclasshook__', 'append', 'clear', 'copy', 'count', 'extend', 'index', 'insert', 'pop', 'remove', 'reverse', 'sort']\n",
            "['__add__', '__class__', '__contains__', '__delattr__', '__dir__', '__doc__', '__eq__', '__format__', '__ge__', '__getattribute__', '__getitem__', '__getnewargs__', '__gt__', '__hash__', '__init__', '__init_subclass__', '__iter__', '__le__', '__len__', '__lt__', '__mul__', '__ne__', '__new__', '__reduce__', '__reduce_ex__', '__repr__', '__rmul__', '__setattr__', '__sizeof__', '__str__', '__subclasshook__', 'count', 'index']\n",
            "['__class__', '__contains__', '__delattr__', '__delitem__', '__dir__', '__doc__', '__eq__', '__format__', '__ge__', '__getattribute__', '__getitem__', '__gt__', '__hash__', '__init__', '__init_subclass__', '__iter__', '__le__', '__len__', '__lt__', '__ne__', '__new__', '__reduce__', '__reduce_ex__', '__repr__', '__reversed__', '__setattr__', '__setitem__', '__sizeof__', '__str__', '__subclasshook__', 'clear', 'copy', 'fromkeys', 'get', 'items', 'keys', 'pop', 'popitem', 'setdefault', 'update', 'values']\n",
            "['__and__', '__class__', '__contains__', '__delattr__', '__dir__', '__doc__', '__eq__', '__format__', '__ge__', '__getattribute__', '__gt__', '__hash__', '__iand__', '__init__', '__init_subclass__', '__ior__', '__isub__', '__iter__', '__ixor__', '__le__', '__len__', '__lt__', '__ne__', '__new__', '__or__', '__rand__', '__reduce__', '__reduce_ex__', '__repr__', '__ror__', '__rsub__', '__rxor__', '__setattr__', '__sizeof__', '__str__', '__sub__', '__subclasshook__', '__xor__', 'add', 'clear', 'copy', 'difference', 'difference_update', 'discard', 'intersection', 'intersection_update', 'isdisjoint', 'issubset', 'issuperset', 'pop', 'remove', 'symmetric_difference', 'symmetric_difference_update', 'union', 'update']\n",
            "\n",
            "['__class__', '__delattr__', '__dict__', '__dir__', '__doc__', '__eq__', '__format__', '__ge__', '__getattribute__', '__gt__', '__hash__', '__init__', '__init_subclass__', '__le__', '__lt__', '__module__', '__ne__', '__new__', '__reduce__', '__reduce_ex__', '__repr__', '__setattr__', '__sizeof__', '__str__', '__subclasshook__', '__weakref__', 'colour', 'company', 'description', 'gel_details', 'get_speed', 'set_speed', 'speed']\n",
            "<__main__.Car object at 0x7f80010ce190>\n"
          ]
        }
      ],
      "source": [
        "# Tipos de variable - base: Integer, Float, String, Bool\n",
        "num = 125\n",
        "decimal = 24.04\n",
        "string = \"Hello\"\n",
        "boolean = True\n",
        "\n",
        "# Tipos de variable - Estructura de datos: List, Tuple, Dict, Set\n",
        "list_example = [\"hello\",2023,\"we\",\"wish\",\"you\",\"the\",\"best!\"]\n",
        "tuple_example = (45.2,67.1,10,24.1)\n",
        "dict_example = {\"Bolivia\": \"Sucre\", \"Italy\": \"Rome\", \"England\": \"London\"}\n",
        "set_example = {\"apple\", \"banana\", \"cherry\"}\n",
        "\n",
        "# Instancia de la claseCar\n",
        "car3 = Car(\"Honda\",130,\"Silver\")\n",
        "\n",
        "# Imprimir tipos de variables\n",
        "print(type(num))\n",
        "print(type(decimal))\n",
        "print(type(string))\n",
        "print(type(boolean))\n",
        "\n",
        "print(type(list_example))\n",
        "print(type(tuple_example))\n",
        "print(type(dict_example))\n",
        "print(type(set_example))\n",
        "\n",
        "print(type(car3),end=\"\\n\\n\")\n",
        "\n",
        "# dir() es una poderosa función incorporada en Python3, que devuelve una lista\n",
        "# de los atributos y métodos de cualquier objeto (por ejemplo, objetos, módulos,\n",
        "# cadenas, listas, diccionarios, etc.)\n",
        "print(dir(num))\n",
        "print(dir(decimal))\n",
        "print(dir(string))\n",
        "print(dir(boolean))\n",
        "\n",
        "print(dir(list_example))\n",
        "print(dir(tuple_example))\n",
        "print(dir(dict_example))\n",
        "print(dir(set_example), end=\"\\n\\n\")\n",
        "\n",
        "print(dir(car3))\n",
        "print(car3)"
      ]
    },
    {
      "cell_type": "markdown",
      "metadata": {
        "id": "3KQcVlQ6Y0ce"
      },
      "source": [
        "Como podrás notar, cada elemento creado en la anterior celda es un objeto que contiene muchas funciones y atributos por defecto. Inclusive, ese es el caso para la instancia `car3` de la clase `Car`.\n",
        "\n",
        "En la última línea intentamos imprimir el objeto `car3` para entender que contiene. Por defecto, esta linea invoca al método `__str__` del objeto, el cual muestra en texto algunas características del objeto como son: el tipo de objeto, y la dirección de memoria. Cualquier método o atributo listado por `dir()` puede ser reescrito en base a nuestras necesidades. Redefinamos el método `__str__` de la clase Car en la siguiente celda:"
      ]
    },
    {
      "cell_type": "code",
      "execution_count": null,
      "metadata": {
        "colab": {
          "base_uri": "https://localhost:8080/"
        },
        "id": "EFgMyGR5bKlR",
        "outputId": "84dbf0a3-51bf-4f47-8f16-2aa6abfe9cee"
      },
      "outputs": [
        {
          "name": "stdout",
          "output_type": "stream",
          "text": [
            "This car is Tesla and has Red colour\n"
          ]
        }
      ],
      "source": [
        "class CustomisedCar:\n",
        "  def __init__(self, company, speed, colour):\n",
        "    self.company = company\n",
        "    self.speed = speed\n",
        "    self.colour = colour\n",
        "\n",
        "  # Sobreescribir el método por defecto str\n",
        "  def __str__(self):\n",
        "      return f\"This car is {self.company} and has {self.colour} colour\"\n",
        "\n",
        "car4 = CustomisedCar(\"Tesla\",130,\"Red\")\n",
        "print(car4)"
      ]
    },
    {
      "cell_type": "markdown",
      "metadata": {
        "id": "TUIv4oqSc3ON"
      },
      "source": [
        "Los métodos como `.__init__()` y `.__str__() `se denominan métodos *Dunder* o *Magic*, y sus nombres comienzan y terminan con guiones bajos dobles regularmente. Estos son prestablecidos por el lenguaje y se pueden aprovechar para personalizar clases y objetos en Python. Puedes revisar el siguiente [link](https://es.acervolima.com/personaliza-tu-clase-de-python-con-los-metodos-magic-o-dunder/) para ver mas detalles sobre el tema."
      ]
    },
    {
      "cell_type": "markdown",
      "metadata": {
        "id": "KIpdrFr5dP59"
      },
      "source": [
        "## 4. Encapsulación de clases\n",
        "\n",
        "En POO, la noción de encapsulación se refiere a la agrupación de datos (junto con los métodos que operan con esos datos) en una sola unidad. Al hacerlo, se puede ocultar el estado interno del objeto desde el exterior y se puede controlar que sus atributos siempre sean válidos.\n",
        "\n",
        "La sección 1, el estilo de definición de la clase `Car` permite encapsular información en objetos y permitir su acceso y modificación a a tráves de las funciones `get_speed` o `set_speed`. Además, estos atributos también son accesibles y modificables con las funciones mágicas \"Dunder\" `__getattribute__` y `__setattr__`, que se definen por defecto en cualquier clase.\n",
        "\n",
        "Sin embargo, una encapsulación completa requiere que el acceso y modificación de los parametros de una clase sean mejor controlados, para lo cual Python plantea dos  convenciones:\n",
        "- Agregar un prefijo al atributo o método con un solo guión bajo **(_)** para que sea privado.\n",
        "- Agregar un prefijo al atributo o método con guiones bajos dobles **(__)** para usar el **name mangling** el cual es un mecanismo de Python que reescribe cualquier identificador con \"__var\" como `_ClassName__var`.\n",
        "\n",
        "Sin embargo, ambos métodos aun permiten acceder a los atributos y funciones desde el exterior."
      ]
    },
    {
      "cell_type": "code",
      "execution_count": null,
      "metadata": {
        "colab": {
          "base_uri": "https://localhost:8080/"
        },
        "id": "Dm-Ylc1PcuVe",
        "outputId": "bdef3dc2-01cc-4d0f-9141-bb756544a14a"
      },
      "outputs": [
        {
          "name": "stdout",
          "output_type": "stream",
          "text": [
            "Tesla\n",
            "Red\n"
          ]
        }
      ],
      "source": [
        "class SecuredCar:\n",
        "  def __init__(self, company, speed, colour):\n",
        "    self._company = company\n",
        "    self.__speed = speed\n",
        "    self.__colour = colour\n",
        "\n",
        "  # Sobreescribir el método por defecto str\n",
        "  def __str__(self):\n",
        "      return f\"This car is {self._company} and has {self.__colour} colour\"\n",
        "\n",
        "car5 = SecuredCar(\"Tesla\",130,\"Red\")\n",
        "print(car5._company)\n",
        "print(car5._SecuredCar__colour) # Aplicación del name mangling"
      ]
    },
    {
      "cell_type": "markdown",
      "metadata": {
        "id": "wBOKPLfhlOXa"
      },
      "source": [
        "Con respecto a este último punto, Python no se puede comparar con lenguajes clásicos como C++ y Java, debido a que solo provee de convenciones para evitar que los atributos internos de una clase sean modificados. Entonces, un programador responsable, al ver un atributo con tal convención de nomenclatura, se abstendría de acceder o modificar estas variables."
      ]
    },
    {
      "cell_type": "markdown",
      "metadata": {
        "id": "IS880AGHlk1K"
      },
      "source": [
        "## 5. Herencia de clases\n",
        "\n",
        "La herencia es el procedimiento en el que una clase hereda los atributos y métodos de otra clase. La clase cuyas propiedades y métodos se heredan se conoce como *clase padre* y la clase que hereda las propiedades de la clase padre (Parent class) es la *clase hijo* (Child class).\n",
        "\n",
        "Lo interesante es que, una clase hijo puede tener las mismas propiedades y métodos heredadas desde la clase Padre, y asi evitar repetir codigo o funcionalidades. Veamos un ejemplo:"
      ]
    },
    {
      "cell_type": "code",
      "execution_count": null,
      "metadata": {
        "colab": {
          "base_uri": "https://localhost:8080/"
        },
        "id": "EUwSmCXSlkWL",
        "outputId": "77a205b1-ffbc-41ec-c040-4a3371945cb3"
      },
      "outputs": [
        {
          "name": "stdout",
          "output_type": "stream",
          "text": [
            "El vehiculo Volvo M13 tiene una velocidad de 120 mph\n",
            "El vehiculo Mopar L tiene una velocidad de 100 mph\n",
            "El número de pasajeros sentados para el bus Mopar L es 30\n",
            "La posible ganancia total de operar el bus es: 665.0\n"
          ]
        }
      ],
      "source": [
        "class Car: # Clase padre\n",
        "  def __init__(self, name, speed):\n",
        "      self.name = name\n",
        "      self.speed = speed\n",
        "\n",
        "  def description(self):\n",
        "      return f\"El vehiculo {self.name} tiene una velocidad de {self.speed} mph\"\n",
        "\n",
        "class Truck(Car): # Clase hijo\n",
        "    pass\n",
        "\n",
        "class Bus(Car): # Clase hijo extendida\n",
        "  def __init__(self, name, speed, passengers,precio_ticket):\n",
        "    self.passengers = passengers\n",
        "    self.precio_ticket = precio_ticket\n",
        "    # La función super() se usa para dar acceso a métodos y propiedades de una clase padre\n",
        "    # En este caso es necesario, para no repetir el contenido de la función __init__ de cla clase Car\n",
        "    super().__init__(name,speed)\n",
        "\n",
        "  # Función extendida que permite recuperar el numero de pasajeros permitidos en el bus\n",
        "  def permitted_passengers(self):\n",
        "    return f\"El número de pasajeros sentados para el bus {self.name} es {self.passengers}\"\n",
        "\n",
        "  # Función extendida en la que se calcula las ganancias que puede generar el bus\n",
        "  def calculate_profit(self, tax):\n",
        "    total = self.passengers * self.precio_ticket - tax\n",
        "    return f\"La posible ganancia total de operar el bus es: {total}\"\n",
        "\n",
        "truck1 = Truck(\"Volvo M13\",120)\n",
        "print(truck1.description())\n",
        "\n",
        "bus1 = Bus(\"Mopar L\",100,30,23.5)\n",
        "print(bus1.description())\n",
        "print(bus1.permitted_passengers())\n",
        "print(bus1.calculate_profit(40))"
      ]
    },
    {
      "cell_type": "markdown",
      "metadata": {
        "id": "dRueizHhocye"
      },
      "source": [
        "Hemos creado dos clases secundarias, `Truck` y `Bus`, que han heredado los métodos y propiedades de la clase principal `Car`. No hemos proporcionado características y métodos adicionales en la clase `Truck`, sin embargo, este permite crear instancias tal como lo hace la clase padre `Car`. Por otra parte, extendimos la clase `Bus` con dos métodos adicional."
      ]
    },
    {
      "cell_type": "markdown",
      "metadata": {
        "id": "nzi_qRQPprZB"
      },
      "source": [
        "## 6. Polimorfismo\n",
        "\n",
        "Esta es una palabra griega. Si rompemos el término polimorfismo, obtenemos formas \"poli\"-muchos y \"morfos\"-formas. Entonces polimorfismo significa tener muchas formas. En POO se refiere a los métodos que tienen los mismos nombres pero tienen diferentes funcionalidades."
      ]
    },
    {
      "cell_type": "code",
      "execution_count": null,
      "metadata": {
        "colab": {
          "base_uri": "https://localhost:8080/"
        },
        "id": "QiEPYOh5pq_Q",
        "outputId": "f0851299-9d70-4481-d1f2-2292bbbf3284"
      },
      "outputs": [
        {
          "name": "stdout",
          "output_type": "stream",
          "text": [
            "Hola, soy estudiate!\n",
            "Hola, soy docente!\n"
          ]
        }
      ],
      "source": [
        "class Student:\n",
        "  def description(self):\n",
        "    print(\"Hola, soy estudiate!\")\n",
        "\n",
        "class Lecturer:\n",
        "  def description(self):\n",
        "    print(\"Hola, soy docente!\")\n",
        "\n",
        "student1 = Student()\n",
        "lecturer1 = Lecturer()\n",
        "\n",
        "for persona in (student1,lecturer1):\n",
        " persona.description()"
      ]
    },
    {
      "cell_type": "markdown",
      "metadata": {
        "id": "LRp5IzYOqoPl"
      },
      "source": [
        "Notese que cuando se llama a la función `description()` del objeto `lecturer1`, se llama a la función de la clase `Lecturer` y cuando se llama a la función `description()` del objeto `student1`, se llama a la función de la clase `Student`. Este es un ejemplo basico de polimorfismo.\n",
        "\n",
        "### Sobrecarga de operadores\n",
        "La sobrecarga de operadores se refiere a la practica de crear varios métodos con el mismo nombre y diferentes parametros, para que de esta forma sean usables según los parametros que se le asignen. Es un practica común bajo el paraguas de polimorfismo y esta presente en muchos lenguajes de programación. No existe una implementación nativa en Python, pero si existen estrategias para que uno o varios parametros de un método no sean obligatorios y para procesarlos de manera diferenciada."
      ]
    },
    {
      "cell_type": "code",
      "execution_count": null,
      "metadata": {
        "colab": {
          "base_uri": "https://localhost:8080/"
        },
        "id": "lg1Lbq03hut0",
        "outputId": "dbdc89ba-e975-4461-df86-462e55acecc9"
      },
      "outputs": [
        {
          "name": "stdout",
          "output_type": "stream",
          "text": [
            "Hola, soy estudiate! Mi nombre es Mario y mi apellido es Gomez\n",
            "Hola, soy estudiate! Mi nombre es Mario\n"
          ]
        }
      ],
      "source": [
        "class ExtendedStudent:\n",
        "  def description(self, first_name = None, last_name = None):\n",
        "    if first_name is not None and last_name is not None:\n",
        "      return f\"Hola, soy estudiate! Mi nombre es {first_name} y mi apellido es {last_name}\"\n",
        "    elif first_name is not None:\n",
        "      return f\"Hola, soy estudiate! Mi nombre es {first_name}\"\n",
        "    else:\n",
        "      return f\"Hola, soy estudiate!\"\n",
        "\n",
        "student4 = ExtendedStudent()\n",
        "print(student4.description(\"Mario\",\"Gomez\"))\n",
        "print(student4.description(\"Mario\"))"
      ]
    },
    {
      "cell_type": "markdown",
      "metadata": {
        "id": "IdI253Bw7TFx"
      },
      "source": [
        "## 7. Modelado de Clases con UML\n",
        "\n",
        "UML significa Unified Modeling Language y es un lenguaje estándar de modelado de sistemas. En esta ocasión, nos centraremos en el Diagrama de Clases, como una herramienta para abstraer un escenario de la vida real con OOP. En este tipo de diagramas las clases se representan de la siguiente manera:\n",
        "\n",
        "<center>\n",
        "<img src='https://drive.google.com/uc?id=1d0AU3CKFlFx7lzqXanZJj58iLcg-ab3M' width='30%'>\n",
        "</center>\n",
        "\n",
        "Donde, la primera sección contendrá el nombre de la clase, la segunda sección tendrá los atributos de la clase y la tercera tendrá los metodos de las clases.\n",
        "\n",
        "- Para la **sección de atributos**, notarás que el primer carácter con el que empiezan es un símbolo. Este denota la visibilidad/acceso del atributo o método desde el exterior, también denominado Encapsulamiento. Como se menciono en la sección **4. Encapsulamiento**, Python no tiene formas estrictas para definir encapsulamiento en clases, pero esto no limita que podamos incluir esta definición en los diagramas de clases en UML. Estos son los niveles de visibilidad que puedes tener segun UML:\n",
        "\n",
        "1. private → - : Accesible solo dentro de la misma clase\n",
        "2. public → + : Visible para todos\n",
        "3. protected → \\# : Accesible por las clases del mismo paquete y las subclases que residen en cualquier paquete\n",
        "4. default → ~ : accesible por las clases del mismo paquete\n",
        "<br/><br/>\n",
        "Posterior a este carácter, especificaremos el nombre del atributo, el tipo de variable (string, int, float, bool, dict, tuple) etc, y el valor por defecto. Sin embargo, agregar esta última parte no tiene un caracter obligatorio.\n",
        "\n",
        "- Para la **sección de métodos**, también haremos uso de los simbolos descritos en el punto anterior para definir niveles de acceso a los metodos. Luego, plantearemos los nombres de las funciones y sus parametros, y continuaremos con la definición de que debería retornar la función.\n",
        "\n"
      ]
    },
    {
      "cell_type": "markdown",
      "metadata": {
        "id": "qG9nYcPWD22Q"
      },
      "source": [
        "Una forma de representar las relaciones que tendrá un elemento con otro es a través de las flechas. Por ahora, nos centraremos en entender las flechas, por lo que no sera importante entender los numeros o simbolos aún.\n",
        "\n",
        "### Asociación\n",
        "Como su nombre lo dice, notarás que cada vez que esté referenciada este tipo de flecha significará que ese elemento contiene al otro en su definición. La flecha apuntará hacia la dependencia.\n",
        "\n",
        "La dirección de la flecha indica navegabilidad, y en caso de no estar presente, significara que la relación es bidireccional. La flecha es util para cuando se desea extender una clase con otra y asi dotar de mayor detalle a nuestro modelo.\n",
        "\n",
        "<center>\n",
        "<img src='https://drive.google.com/uc?id=1PV2XqimGxHInDud_HWVTs7Ufcgb_Koa1' width='30%'>\n",
        "</center>\n",
        "\n",
        "### Herencia\n",
        "\n",
        "Siempre que veamos este tipo de flecha se estará expresando la herencia. La dirección de la flecha irá desde el hijo hasta el padre. En el ejemplo podemos ver que Caballo hereda atributos y funcionalidades desde Animal.\n",
        "\n",
        "<center>\n",
        "<img src='https://drive.google.com/uc?id=1PYxKpDcL8pHrqPebJ7bJl-8XiZJ5boho' width='15%'>\n",
        "</center>\n",
        "\n",
        "### Agregación\n",
        "Este se parece a la asociación en que un elemento dependerá del otro, pero en este caso será: Un elemento dependerá de muchos otros. Aquí tomamos como referencia la multiplicidad del elemento. Lo que comúnmente conocerías en Bases de Datos como Relaciones uno a muchos.\n",
        "\n",
        "<center>\n",
        "<img src='https://drive.google.com/uc?id=1P_zS0JyfVGqcb2k_KDAxDl7EnMkXnk4U' width='30%'>\n",
        "</center>\n",
        "\n",
        "Una característica importante de la asociación es que la dependencia que esta representa no es dura, por lo que si los elementos que agregan a una clase desaparecen, esta clase seguira existiendo. En el ejemplo, podemos ver que la clase Auto contiene un elemento elementos de la clase Motor, la clase Chasis, y la clase Carroceria. Estos últimos son comúnmente representados con listas o colecciones de datos en las clases en Python.\n",
        "\n",
        "### Composición\n",
        "Este es similar al anterior solo que su relación es totalmente compenetrada de tal modo que conceptualmente una de estas clases no podría vivir si no existiera la otra.\n",
        "Por ejemplo, el siguiente caso:\n",
        "\n",
        "<center>\n",
        "<img src='https://drive.google.com/uc?id=1P_wr2j-PG1gXb3HYkNnWkijIQlbqfCyf' width='30%'>\n",
        "</center>\n",
        "\n",
        "Además de estas relaciones, también puedes leer sobre otras existentes en este [link](https://virtual.itca.edu.sv/Mediadores/ads/213_tipos_de_relaciones.html).\n",
        "\n",
        "### Cardinalidad o Multiplicidad de una relación\n",
        "\n",
        "La cardinalidad son los simbolos ubicados en los extremos de las flechas y estan expresados en terminos de:\n",
        "\n",
        "- 1\t   → Uno y sólo uno\n",
        "- 0..1 →\tCero o uno\n",
        "- N..M →\tDesde N hasta M\n",
        "- \\*   →\tCero o varios\n",
        "- 0..* →\tCero o varios\n",
        "- 1..* →\tUno o varios (al menos uno)\n",
        "\n",
        "La cardinalidad representa cuántos objetos de una clase se van a relacionar con objetos de otra clase. Por ejemplo, si tengo la siguiente relación:\n",
        "\n",
        "<center>\n",
        "<img src='https://drive.google.com/uc?id=1PajVHBAZmoKZNvdtCPDCQw3xARLPE_z3' width='30%'>\n",
        "</center>\n",
        "\n",
        "Quiere decir que los alumnos se puede matricular en uno a más módulos y que un módulo puede tener ningún alumno, uno o varios.\n",
        "\n"
      ]
    },
    {
      "cell_type": "markdown",
      "metadata": {
        "id": "0t8V8UUKWMhZ"
      },
      "source": [
        "### Relación entre asociacion, agregación, composición y su implementación en Python\n",
        "\n",
        "La Agregación y la Composición son un tipo especial de Asociación. A su vez, la composición es un tipo especial de agregación, pero es más restrictiva o más específica. Aunque podemos definir a la Asociación, Agregación y Composición como relaciones \"tiene un\", su implementación en Python varia según cuan estricta sea la dependencia. Por ejemplo, la asociación podría requerir de una llave que permita identificar al objeto relacionado. En el caso de la agregación y la composición, su implementación se podrá aplicar con estructuras de datos (ejem. listas o diccionarios).  \n",
        "\n",
        "<center>\n",
        "<img src='https://drive.google.com/uc?id=1NQ5XGArGiqfydw_uIzDeKwOB8b2MhzxY' width='20%'>\n",
        "</center>\n"
      ]
    },
    {
      "cell_type": "code",
      "execution_count": null,
      "metadata": {
        "id": "NL8R3daOWTeb"
      },
      "outputs": [],
      "source": [
        "# Ejemplo de asociación\n",
        "class Maker:\n",
        "  def __init__(self, id, name, address):\n",
        "    self.id = id\n",
        "    self.name = name\n",
        "    self.address = address\n",
        "\n",
        "  def list_details(self):\n",
        "    return f\"Detalles de la empresa fabricante - Nombre: {self.name} y Dirección: {self.address}\"\n",
        "\n",
        "class Car:\n",
        "  def __init__(self, id, model, speed, maker_id):\n",
        "    self.id = id\n",
        "    self.model = model\n",
        "    self.speed = speed\n",
        "    self.maker_id = maker_id # Asociación - Dependencia mas básica donde la relación esta definida por una clave\n",
        "\n",
        "  def car_manufacturer(self):\n",
        "    return self.maker_id\n",
        "\n",
        "maker = Maker(65,\"Audi\",\"Obrajes\")\n",
        "car = Car(\"234X\",\"Z1\",130,maker.id)"
      ]
    },
    {
      "cell_type": "code",
      "execution_count": null,
      "metadata": {
        "colab": {
          "base_uri": "https://localhost:8080/"
        },
        "id": "G4LWkn_SYDQQ",
        "outputId": "7b89f3bf-2dbb-434a-9fe9-62132449ea32"
      },
      "outputs": [
        {
          "name": "stdout",
          "output_type": "stream",
          "text": [
            "Trabajador incluido Mario Martinez\n",
            "Trabajador incluido Carlos Aguilar\n",
            "Lista de estudiantes:Mario Martinez\n",
            "Carlos Aguilar\n",
            "\n",
            "Mario Martinez\n"
          ]
        }
      ],
      "source": [
        "# Ejemplo de agregación y composición\n",
        "class Date:\n",
        "  def __init__(self, day, month, year):\n",
        "    self.day = day\n",
        "    self.month = month\n",
        "    self.year = year\n",
        "\n",
        "  def get_full_date(self):\n",
        "    return f\"{self.day} - {self.month} - {self.year}\"\n",
        "\n",
        "class Student:\n",
        "  def __init__(self, first_name, second_name, registration_day, registration_month, registration_year):\n",
        "    self.first_name = first_name\n",
        "    self.second_name = second_name\n",
        "    # Fecha de registro a la universidad\n",
        "    self.registration_date = Date(registration_day,registration_month, registration_year) # Composición - El objeto Date desaparece si el estudiante desaparece.\n",
        "    # Esta implementación puede variar en base a si la multiplicidad es de UNO a UNO como en este caso, o de UNO a MUCHOS\n",
        "\n",
        "  def get_full_name(self):\n",
        "    return f\"{self.first_name} {self.second_name}\"\n",
        "\n",
        "class University:\n",
        "  def __init__(self, name):\n",
        "    self.name = name\n",
        "    self.students = [] # Agregación de UNO a MUCHOS\n",
        "    # self.ceo = employee # Agregación de uno a uno. Puede existir un CEO (director)\n",
        "    # para una compañia y este debería ser un objeto de la clase empleado\n",
        "\n",
        "  def include_student(self, student):\n",
        "    self.students.append(student)\n",
        "    return f\"Trabajador incluido {student.get_full_name()}\"\n",
        "\n",
        "  def list_students(self):\n",
        "    aux_string = \"\"\n",
        "    for idx, student in enumerate(self.students):\n",
        "      aux_string+=(student.get_full_name()+\"\\n\")\n",
        "\n",
        "    return \"Lista de estudiantes:\"+aux_string\n",
        "\n",
        "student1 = Student(\"Mario\",\"Martinez\",12,12,2012) # Objeto independiente\n",
        "student2 = Student(\"Carlos\",\"Aguilar\",12,12,2012) # Objeto independiente\n",
        "university = University(\"UAGRM\") # Objeto al cual se agregan los estudiantes\n",
        "print(university.include_student(student1))\n",
        "print(university.include_student(student2))\n",
        "print(university.list_students())\n",
        "\n",
        "# Al eliminar el objeto universidad, podremos notar que el objeto estudiante1 sigue existiendo\n",
        "del(university)\n",
        "print(student1.get_full_name())"
      ]
    },
    {
      "cell_type": "markdown",
      "metadata": {
        "id": "2QPeZQDAj5zn"
      },
      "source": [
        "\n",
        "```\n",
        "TIP: Para resolver los siguientes ejercicios, se recomienda crear un nuevo notebook y copiar únicamente los enunciados de ejercicio.\n",
        "```"
      ]
    },
    {
      "cell_type": "code",
      "execution_count": null,
      "metadata": {
        "id": "vYqemhFpwFZu"
      },
      "outputs": [],
      "source": []
    },
    {
      "cell_type": "markdown",
      "metadata": {
        "id": "1_LEWSHTweqn"
      },
      "source": [
        "## **Ejercicio 1:** Atención de Emergencias\n",
        "Desde un registro de quejas generadas desde la línea de atención a emergencias, se requiere identificar a las zonas afectadas por deslizamientos. Debido a la repetición de ubicaciones, se requiere que escriba un programa Python para eliminar todos los duplicados de una lista determinada de cadenas y devolver una lista de cadenas únicas. Utilice el tipo de datos sets de Python para resolver el ejercicio. Puede crear un conjunto de quejas escritas de ejemplo."
      ]
    },
    {
      "cell_type": "code",
      "execution_count": 9,
      "metadata": {
        "colab": {
          "base_uri": "https://localhost:8080/"
        },
        "id": "1fKhk38rwwd5",
        "outputId": "c13df8a9-1576-4e5c-c2e3-247a63e43a88"
      },
      "outputs": [
        {
          "data": {
            "text/plain": [
              "['Inundación en la calle Beni',\n",
              " 'Deslizamiento en la Av. Bolivia',\n",
              " 'Incendio en la zona Equipetrol']"
            ]
          },
          "execution_count": 9,
          "metadata": {},
          "output_type": "execute_result"
        }
      ],
      "source": [
        "from typing import List\n",
        "\n",
        "def remove_duplicates(string_list: List[str]) -> List[str]:\n",
        "  \"\"\"\n",
        "    Removes duplicate strings from a list.\n",
        "\n",
        "    Args:\n",
        "        string_list (list): List of strings.\n",
        "\n",
        "    Returns:\n",
        "        list: Unique strings.\n",
        "  \"\"\"\n",
        "  return list(set(string_list))\n",
        "\n",
        "# Example\n",
        "complaints: List[str] = [\n",
        "    \"Deslizamiento en la Av. Bolivia\",\n",
        "    \"Inundación en la calle Beni\",\n",
        "    \"Deslizamiento en la Av. Bolivia\",\n",
        "    \"Incendio en la zona Equipetrol\",\n",
        "    \"Deslizamiento en la Av. Bolivia\",\n",
        "    \"Inundación en la calle Beni\"\n",
        "]\n",
        "\n",
        "affected_areas: List[str] = remove_duplicates(complaints)\n",
        "affected_areas\n"
      ]
    },
    {
      "cell_type": "markdown",
      "metadata": {
        "id": "2eaD4VHTwwyw"
      },
      "source": [
        "## **Ejercicio 2:** Tesis de Postgrado\n",
        "\n",
        "Mediante uso de estructuras de datos, crear un programa que le permita a la biblioteca de la UAGRM SOE gestionar las tesis de postgrado. El programa debe ser capaz de realizar las siguientes operaciones:\n",
        "-  Agregar una nueva tesis: El usuario debe poder ingresar los detalles de una nueva tesis, como título, autor, tutor, carrera, grado académico, año, y cantidad de copias físicas disponible.\n",
        "-  Buscar una tesis: El usuario debe poder buscar una tesis por título, autor o carrera. El programa debe mostrar los detalles de la tesis si se encuentra.\n",
        "-  Actualizar la información de una tesis: El usuario debe poder modificar los detalles de una tesis existente.\n",
        "-  Eliminar una tesis: El usuario debe poder eliminar una tesis del inventario.\n",
        "-  Listar todas las tesis: El programa debe poder mostrar una lista de todas las tesis en el inventario, junto con sus detalles.\n",
        "\n",
        "Implementar el programa considerando que algunas carreras en la universidad permiten que dos tesistas puedan trabajar en una misma tesis y que la mayoría de las carreras asignan dos tutores a un mismo proyecto (uno conocido como tutor y otro como relator), por lo que se deberá guardar estos datos en listas. También se sugiere Implementa un menú de opciones para que el usuario pueda interactuar fácilmente con el programa.\n",
        "\n"
      ]
    },
    {
      "cell_type": "code",
      "execution_count": 10,
      "metadata": {
        "colab": {
          "base_uri": "https://localhost:8080/"
        },
        "id": "18TIR90Lvsfd",
        "outputId": "c4437651-2867-4fb3-b63f-5ebf8d437564"
      },
      "outputs": [
        {
          "name": "stdout",
          "output_type": "stream",
          "text": [
            "\n",
            "Options Menu:\n",
            "1. Add a new thesis\n",
            "2. Search for a thesis\n",
            "3. Update thesis information\n",
            "4. Delete a thesis\n",
            "5. List all theses\n",
            "6. Exit\n",
            "Thesis successfully added.\n",
            "\n",
            "Options Menu:\n",
            "1. Add a new thesis\n",
            "2. Search for a thesis\n",
            "3. Update thesis information\n",
            "4. Delete a thesis\n",
            "5. List all theses\n",
            "6. Exit\n",
            "Thesis details:\n",
            "Title: ricardo\n",
            "Authors: juan,  maria\n",
            "Advisors: marta,  juana\n",
            "Major: informatica\n",
            "Degree: licenciatura\n",
            "Year: 2025\n",
            "Available copies: 3\n",
            "--------------------\n",
            "\n",
            "Options Menu:\n",
            "1. Add a new thesis\n",
            "2. Search for a thesis\n",
            "3. Update thesis information\n",
            "4. Delete a thesis\n",
            "5. List all theses\n",
            "6. Exit\n",
            "Thesis successfully updated.\n",
            "\n",
            "Options Menu:\n",
            "1. Add a new thesis\n",
            "2. Search for a thesis\n",
            "3. Update thesis information\n",
            "4. Delete a thesis\n",
            "5. List all theses\n",
            "6. Exit\n",
            "Thesis details:\n",
            "Title: ricardo\n",
            "Authors: \n",
            "Advisors: \n",
            "Major: informatica\n",
            "Degree: licenciatura\n",
            "Year: 2026\n",
            "Available copies: 3\n",
            "--------------------\n",
            "\n",
            "Options Menu:\n",
            "1. Add a new thesis\n",
            "2. Search for a thesis\n",
            "3. Update thesis information\n",
            "4. Delete a thesis\n",
            "5. List all theses\n",
            "6. Exit\n",
            "Thesis details:\n",
            "Title: ricardo\n",
            "Authors: \n",
            "Advisors: \n",
            "Major: informatica\n",
            "Degree: licenciatura\n",
            "Year: 2026\n",
            "Available copies: 3\n",
            "--------------------\n",
            "\n",
            "Options Menu:\n",
            "1. Add a new thesis\n",
            "2. Search for a thesis\n",
            "3. Update thesis information\n",
            "4. Delete a thesis\n",
            "5. List all theses\n",
            "6. Exit\n",
            "Thesis successfully deleted.\n",
            "\n",
            "Options Menu:\n",
            "1. Add a new thesis\n",
            "2. Search for a thesis\n",
            "3. Update thesis information\n",
            "4. Delete a thesis\n",
            "5. List all theses\n",
            "6. Exit\n",
            "No theses registered.\n",
            "\n",
            "Options Menu:\n",
            "1. Add a new thesis\n",
            "2. Search for a thesis\n",
            "3. Update thesis information\n",
            "4. Delete a thesis\n",
            "5. List all theses\n",
            "6. Exit\n",
            "Invalid option.\n",
            "\n",
            "Options Menu:\n",
            "1. Add a new thesis\n",
            "2. Search for a thesis\n",
            "3. Update thesis information\n",
            "4. Delete a thesis\n",
            "5. List all theses\n",
            "6. Exit\n",
            "Invalid option.\n",
            "\n",
            "Options Menu:\n",
            "1. Add a new thesis\n",
            "2. Search for a thesis\n",
            "3. Update thesis information\n",
            "4. Delete a thesis\n",
            "5. List all theses\n",
            "6. Exit\n",
            "Invalid option.\n",
            "\n",
            "Options Menu:\n",
            "1. Add a new thesis\n",
            "2. Search for a thesis\n",
            "3. Update thesis information\n",
            "4. Delete a thesis\n",
            "5. List all theses\n",
            "6. Exit\n",
            "Invalid option.\n",
            "\n",
            "Options Menu:\n",
            "1. Add a new thesis\n",
            "2. Search for a thesis\n",
            "3. Update thesis information\n",
            "4. Delete a thesis\n",
            "5. List all theses\n",
            "6. Exit\n"
          ]
        },
        {
          "ename": "KeyboardInterrupt",
          "evalue": "Interrupted by user",
          "output_type": "error",
          "traceback": [
            "\u001b[31m---------------------------------------------------------------------------\u001b[39m",
            "\u001b[31mKeyboardInterrupt\u001b[39m                         Traceback (most recent call last)",
            "\u001b[36mCell\u001b[39m\u001b[36m \u001b[39m\u001b[32mIn[10]\u001b[39m\u001b[32m, line 128\u001b[39m\n\u001b[32m    124\u001b[39m             \u001b[38;5;28mprint\u001b[39m(\u001b[33m\"\u001b[39m\u001b[33mInvalid option.\u001b[39m\u001b[33m\"\u001b[39m)\n\u001b[32m    127\u001b[39m \u001b[38;5;28;01mif\u001b[39;00m \u001b[34m__name__\u001b[39m == \u001b[33m\"\u001b[39m\u001b[33m__main__\u001b[39m\u001b[33m\"\u001b[39m:\n\u001b[32m--> \u001b[39m\u001b[32m128\u001b[39m     \u001b[43mmain\u001b[49m\u001b[43m(\u001b[49m\u001b[43m)\u001b[49m\n",
            "\u001b[36mCell\u001b[39m\u001b[36m \u001b[39m\u001b[32mIn[10]\u001b[39m\u001b[32m, line 110\u001b[39m, in \u001b[36mmain\u001b[39m\u001b[34m()\u001b[39m\n\u001b[32m    108\u001b[39m \u001b[38;5;28mprint\u001b[39m(\u001b[33m\"\u001b[39m\u001b[33m5. List all theses\u001b[39m\u001b[33m\"\u001b[39m)\n\u001b[32m    109\u001b[39m \u001b[38;5;28mprint\u001b[39m(\u001b[33m\"\u001b[39m\u001b[33m6. Exit\u001b[39m\u001b[33m\"\u001b[39m)\n\u001b[32m--> \u001b[39m\u001b[32m110\u001b[39m option = \u001b[38;5;28;43minput\u001b[39;49m\u001b[43m(\u001b[49m\u001b[33;43m\"\u001b[39;49m\u001b[33;43mEnter an option: \u001b[39;49m\u001b[33;43m\"\u001b[39;49m\u001b[43m)\u001b[49m\n\u001b[32m    111\u001b[39m \u001b[38;5;28;01mif\u001b[39;00m option == \u001b[33m\"\u001b[39m\u001b[33m1\u001b[39m\u001b[33m\"\u001b[39m:\n\u001b[32m    112\u001b[39m     add_thesis(thesis_list)\n",
            "\u001b[36mFile \u001b[39m\u001b[32m~/Library/Python/3.12/lib/python/site-packages/ipykernel/kernelbase.py:1282\u001b[39m, in \u001b[36mKernel.raw_input\u001b[39m\u001b[34m(self, prompt)\u001b[39m\n\u001b[32m   1280\u001b[39m     msg = \u001b[33m\"\u001b[39m\u001b[33mraw_input was called, but this frontend does not support input requests.\u001b[39m\u001b[33m\"\u001b[39m\n\u001b[32m   1281\u001b[39m     \u001b[38;5;28;01mraise\u001b[39;00m StdinNotImplementedError(msg)\n\u001b[32m-> \u001b[39m\u001b[32m1282\u001b[39m \u001b[38;5;28;01mreturn\u001b[39;00m \u001b[38;5;28;43mself\u001b[39;49m\u001b[43m.\u001b[49m\u001b[43m_input_request\u001b[49m\u001b[43m(\u001b[49m\n\u001b[32m   1283\u001b[39m \u001b[43m    \u001b[49m\u001b[38;5;28;43mstr\u001b[39;49m\u001b[43m(\u001b[49m\u001b[43mprompt\u001b[49m\u001b[43m)\u001b[49m\u001b[43m,\u001b[49m\n\u001b[32m   1284\u001b[39m \u001b[43m    \u001b[49m\u001b[38;5;28;43mself\u001b[39;49m\u001b[43m.\u001b[49m\u001b[43m_parent_ident\u001b[49m\u001b[43m[\u001b[49m\u001b[33;43m\"\u001b[39;49m\u001b[33;43mshell\u001b[39;49m\u001b[33;43m\"\u001b[39;49m\u001b[43m]\u001b[49m\u001b[43m,\u001b[49m\n\u001b[32m   1285\u001b[39m \u001b[43m    \u001b[49m\u001b[38;5;28;43mself\u001b[39;49m\u001b[43m.\u001b[49m\u001b[43mget_parent\u001b[49m\u001b[43m(\u001b[49m\u001b[33;43m\"\u001b[39;49m\u001b[33;43mshell\u001b[39;49m\u001b[33;43m\"\u001b[39;49m\u001b[43m)\u001b[49m\u001b[43m,\u001b[49m\n\u001b[32m   1286\u001b[39m \u001b[43m    \u001b[49m\u001b[43mpassword\u001b[49m\u001b[43m=\u001b[49m\u001b[38;5;28;43;01mFalse\u001b[39;49;00m\u001b[43m,\u001b[49m\n\u001b[32m   1287\u001b[39m \u001b[43m\u001b[49m\u001b[43m)\u001b[49m\n",
            "\u001b[36mFile \u001b[39m\u001b[32m~/Library/Python/3.12/lib/python/site-packages/ipykernel/kernelbase.py:1325\u001b[39m, in \u001b[36mKernel._input_request\u001b[39m\u001b[34m(self, prompt, ident, parent, password)\u001b[39m\n\u001b[32m   1322\u001b[39m \u001b[38;5;28;01mexcept\u001b[39;00m \u001b[38;5;167;01mKeyboardInterrupt\u001b[39;00m:\n\u001b[32m   1323\u001b[39m     \u001b[38;5;66;03m# re-raise KeyboardInterrupt, to truncate traceback\u001b[39;00m\n\u001b[32m   1324\u001b[39m     msg = \u001b[33m\"\u001b[39m\u001b[33mInterrupted by user\u001b[39m\u001b[33m\"\u001b[39m\n\u001b[32m-> \u001b[39m\u001b[32m1325\u001b[39m     \u001b[38;5;28;01mraise\u001b[39;00m \u001b[38;5;167;01mKeyboardInterrupt\u001b[39;00m(msg) \u001b[38;5;28;01mfrom\u001b[39;00m\u001b[38;5;250m \u001b[39m\u001b[38;5;28;01mNone\u001b[39;00m\n\u001b[32m   1326\u001b[39m \u001b[38;5;28;01mexcept\u001b[39;00m \u001b[38;5;167;01mException\u001b[39;00m:\n\u001b[32m   1327\u001b[39m     \u001b[38;5;28mself\u001b[39m.log.warning(\u001b[33m\"\u001b[39m\u001b[33mInvalid Message:\u001b[39m\u001b[33m\"\u001b[39m, exc_info=\u001b[38;5;28;01mTrue\u001b[39;00m)\n",
            "\u001b[31mKeyboardInterrupt\u001b[39m: Interrupted by user"
          ]
        }
      ],
      "source": [
        "from typing import List\n",
        "\n",
        "class Thesis:\n",
        "    def __init__(self, title: str, authors: List[str], advisors: List[str], major: str, degree: str, year: int, copies: int):\n",
        "        self.title = title\n",
        "        self.authors = authors\n",
        "        self.advisors = advisors\n",
        "        self.major = major\n",
        "        self.degree = degree\n",
        "        self.year = year\n",
        "        self.copies = copies\n",
        "\n",
        "    def show_details(self) -> None:\n",
        "        print(\"Thesis details:\")\n",
        "        print(\"Title:\", self.title)\n",
        "        print(\"Authors:\", \", \".join(self.authors))\n",
        "        print(\"Advisors:\", \", \".join(self.advisors))\n",
        "        print(\"Major:\", self.major)\n",
        "        print(\"Degree:\", self.degree)\n",
        "        print(\"Year:\", self.year)\n",
        "        print(\"Available copies:\", self.copies)\n",
        "\n",
        "\n",
        "def add_thesis(thesis_list: List[Thesis]) -> None:\n",
        "    title: str = input(\"Enter the thesis title: \")\n",
        "    authors: List[str] = input(\"Enter the authors (comma-separated): \").split(\",\")\n",
        "    advisors: List[str] = input(\"Enter the advisors (comma-separated): \").split(\",\")\n",
        "    major: str = input(\"Enter the major: \")\n",
        "    degree: str = input(\"Enter the academic degree: \")\n",
        "    year: int = int(input(\"Enter the year: \"))\n",
        "    copies: int = int(input(\"Enter the number of copies: \"))\n",
        "    thesis = Thesis(title, authors, advisors, major, degree, year, copies)\n",
        "    thesis_list.append(thesis)\n",
        "    print(\"Thesis successfully added.\")\n",
        "\n",
        "\n",
        "def search_thesis(thesis_list: List[Thesis]) -> None:\n",
        "    criterion: str = input(\"Search by (title, author, major): \").lower()\n",
        "    term: str = input(\"Enter the search term: \")\n",
        "\n",
        "    results: List[str] = []\n",
        "    for thesis in thesis_list:\n",
        "        if criterion == \"title\" and term.lower() in thesis.title.lower():\n",
        "            results.append(thesis)\n",
        "        elif criterion == \"author\" and any(term.lower() in author.lower() for author in thesis.authors):\n",
        "            results.append(thesis)\n",
        "        elif criterion == \"major\" and term.lower() in thesis.major.lower():\n",
        "            results.append(thesis)\n",
        "\n",
        "    if results:\n",
        "        for thesis in results:\n",
        "            thesis.show_details()\n",
        "            print(\"-\" * 20)\n",
        "    else:\n",
        "        print(\"No theses matched the search criteria.\")\n",
        "\n",
        "\n",
        "def update_thesis(thesis_list: List[Thesis]) -> None:\n",
        "    title: str = input(\"Enter the title of the thesis to update: \")\n",
        "    for thesis in thesis_list:\n",
        "        if thesis.title.lower() == title.lower():\n",
        "            thesis.title = input(\"New title (leave blank to keep current): \") or thesis.title\n",
        "            thesis.authors = input(\"New authors (comma-separated, leave blank to keep current): \").split(\",\") or thesis.authors\n",
        "            thesis.advisors = input(\"New advisors (comma-separated, leave blank to keep current): \").split(\",\") or thesis.advisors\n",
        "            thesis.major = input(\"New major (leave blank to keep current): \") or thesis.major\n",
        "            thesis.degree = input(\"New degree (leave blank to keep current): \") or thesis.degree\n",
        "            try:\n",
        "                thesis.year = int(input(\"New year (leave blank to keep current): \") or thesis.year)\n",
        "            except ValueError:\n",
        "                print(\"Invalid year, keeping previous value.\")\n",
        "            try:\n",
        "                thesis.copies = int(input(\"New number of copies (leave blank to keep current): \") or thesis.copies)\n",
        "            except ValueError:\n",
        "                print(\"Invalid number of copies, keeping previous value.\")\n",
        "\n",
        "            print(\"Thesis successfully updated.\")\n",
        "            return\n",
        "    print(\"Thesis not found.\")\n",
        "\n",
        "\n",
        "def delete_thesis(thesis_list: List[Thesis]) -> None:\n",
        "    title: str = input(\"Enter the title of the thesis to delete: \")\n",
        "    for i, thesis in enumerate(thesis_list):\n",
        "        if thesis.title.lower() == title.lower():\n",
        "            del thesis_list[i]\n",
        "            print(\"Thesis successfully deleted.\")\n",
        "            return\n",
        "    print(\"Thesis not found.\")\n",
        "\n",
        "\n",
        "def list_theses(thesis_list: List[Thesis]) -> None:\n",
        "    if not thesis_list:\n",
        "        print(\"No theses registered.\")\n",
        "        return\n",
        "    for thesis in thesis_list:\n",
        "        thesis.show_details()\n",
        "        print(\"-\" * 20)\n",
        "\n",
        "\n",
        "def main():\n",
        "    thesis_list: List[Thesis] = []\n",
        "    while True:\n",
        "        print(\"\\nOptions Menu:\")\n",
        "        print(\"1. Add a new thesis\")\n",
        "        print(\"2. Search for a thesis\")\n",
        "        print(\"3. Update thesis information\")\n",
        "        print(\"4. Delete a thesis\")\n",
        "        print(\"5. List all theses\")\n",
        "        print(\"6. Exit\")\n",
        "        option = input(\"Enter an option: \")\n",
        "        if option == \"1\":\n",
        "            add_thesis(thesis_list)\n",
        "        elif option == \"2\":\n",
        "            search_thesis(thesis_list)\n",
        "        elif option == \"3\":\n",
        "            update_thesis(thesis_list)\n",
        "        elif option == \"4\":\n",
        "            delete_thesis(thesis_list)\n",
        "        elif option == \"5\":\n",
        "            list_theses(thesis_list)\n",
        "        elif option == \"6\":\n",
        "            break\n",
        "        else:\n",
        "            print(\"Invalid option.\")\n",
        "\n",
        "\n",
        "if __name__ == \"__main__\":\n",
        "    main()\n",
        "\n"
      ]
    },
    {
      "cell_type": "markdown",
      "metadata": {
        "id": "1im-ih2mCNrb"
      },
      "source": [
        "## **Ejercicio 3:** Diagrama de clases\n",
        "\n",
        "Los diagramas de clases son uno de los tipos de diagramas más útiles en UML, ya que trazan claramente la estructura de un sistema concreto al modelar sus clases, atributos, operaciones y relaciones entre objetos. En la siguiente imagen podrás ver un ejemplo de este tipo de diagramas:\n",
        "\n",
        "<center>\n",
        "<img src='https://drive.google.com/uc?id=1PcpB5ExCfsMPSA5zTdkJ0XcohpH193Oj' >\n",
        "</center>\n",
        "\n",
        "Este diagrama proviene de la siguiente especificación:\n",
        "\n",
        "- Una aplicación necesita almacenar información sobre empresas, sus empleados y sus clientes. Ambos se caracterizan por su nombre y edad.\n",
        "- Los empleados tienen un sueldo bruto, los empleados que son directivos tienen una categoría, así como un conjunto de empleados subordinados.\n",
        "- De los clientes además se necesita conocer su teléfono de contacto.\n",
        "- La aplicación necesita mostrar los datos de empleados y clientes\n",
        "\n",
        "Para este ejercicio, deberás traducir el diagrama de clases hacia código en Python. Se espera que también realices la implementación de las funciones definidas en el diagrama, sin embargo, su definción dependera de tu criterio.\n"
      ]
    },
    {
      "cell_type": "code",
      "execution_count": 11,
      "metadata": {
        "id": "jr6--Gedj4Af"
      },
      "outputs": [],
      "source": [
        "from typing import List\n",
        "\n",
        "class Person:\n",
        "    def __init__(self, name: str, age: int):\n",
        "        self.name = name\n",
        "        self.age = age\n",
        "\n",
        "    def show(self) -> str:\n",
        "        return f\"Name: {self.name}, Age: {self.age}\"\n",
        "\n",
        "\n",
        "class Client(Person):\n",
        "    def __init__(self, name: str, age: int, contact_phone: int):\n",
        "        super().__init__(name, age)\n",
        "        self.contact_phone = contact_phone\n",
        "\n",
        "    def show(self):\n",
        "        return f\"{super().show()}, Phone: {self.contact_phone}\"\n",
        "\n",
        "\n",
        "class Employee(Person):\n",
        "    def __init__(self, name: str, age: int, gross_salary: float):\n",
        "        super().__init__(name, age)\n",
        "        self.gross_salary = gross_salary\n",
        "\n",
        "    def calculate_net_salary(self) -> float:\n",
        "        # Assuming a flat tax rate of 20%\n",
        "        taxes: float = self.gross_salary * 0.2\n",
        "        return self.gross_salary - taxes\n",
        "\n",
        "    def show(self) -> str:\n",
        "        return f\"{super().show()}, Gross Salary: {self.gross_salary}, Net Salary: {self.calculate_net_salary()}\"\n",
        "\n",
        "\n",
        "class Executive(Employee):\n",
        "    def __init__(self, name: str, age: int, gross_salary: float, category: str):\n",
        "        super().__init__(name, age, gross_salary)\n",
        "        self.category = category\n",
        "        self.subordinates: List[Employee] = []\n",
        "\n",
        "    def add_subordinate(self, employee: Employee) -> None:\n",
        "        if isinstance(employee, Employee):\n",
        "            self.subordinates.append(employee)\n",
        "\n",
        "    def show(self) -> str:\n",
        "        return f\"{super().show()}, Category: {self.category}, Subordinates: {[sub.name for sub in self.subordinates]}\"\n",
        "\n",
        "\n",
        "class Company:\n",
        "    def __init__(self, name: str):\n",
        "        self.name = name\n",
        "        self.employees: List[Employee] = []\n",
        "        self.clients: List[Client] = []\n",
        "\n",
        "    def add_employee(self, employee: Employee) -> None:\n",
        "        if isinstance(employee, Employee):\n",
        "            self.employees.append(employee)\n",
        "\n",
        "    def add_client(self, client: Client) -> None:\n",
        "        if isinstance(client, Client):\n",
        "            self.clients.append(client)\n",
        "\n",
        "    def show(self) -> str:\n",
        "        return f\"Company: {self.name}, Employees: {[emp.name for emp in self.employees]}, Clients: {[cli.name for cli in self.clients]}\"\n"
      ]
    },
    {
      "cell_type": "markdown",
      "metadata": {
        "id": "8mQqv-zNur9z"
      },
      "source": [
        "## **Ejercicio 4:** La biblioteca\n",
        "\n",
        "Diseñe un diagrama de clases para el siguiente caso e implemente su respectiva POO con Python:\n",
        "\n",
        "> Una biblioteca universitaria contiene libros. Hay múltiples copias de algunos libros. Algunos libros están disponibles para préstamo de una semana solamente, pero todos los demás libros pueden ser prestados por tres semanas generalmente. Los miembros de la biblioteca pueden tomar prestados hasta cuatro libros a la vez, y los miembros del personal pueden tomar prestamos de hasta doce libros. Los miembros de la biblioteca y los miembros del personal deben devolver luego los libros a la biblioteca como cualquier otro usuario.\n",
        "\n",
        "Se sugiere considerar a los sustantivos como posibles objetos y a las acciones como posibles funciones.\n"
      ]
    },
    {
      "cell_type": "code",
      "execution_count": 12,
      "metadata": {
        "colab": {
          "base_uri": "https://localhost:8080/"
        },
        "id": "_63bOcf2N6eM",
        "outputId": "453bf37e-7e5a-4ab0-a4fc-7858eee8f821"
      },
      "outputs": [
        {
          "name": "stdout",
          "output_type": "stream",
          "text": [
            "Juan Pérez has borrowed: Don Quixote\n",
            "Juan Pérez has borrowed: Don Quixote\n",
            "Juan Pérez has borrowed: Don Quixote\n",
            "Could not borrow the book Don Quixote\n",
            "Could not borrow the book Don Quixote\n",
            "Ana García has borrowed: One Hundred Years of Solitude\n",
            "Ana García has borrowed: One Hundred Years of Solitude\n",
            "Could not borrow the book One Hundred Years of Solitude\n",
            "Juan Pérez has returned: Don Quixote\n",
            "Title: Don Quixote, Author: Cervantes, Available for one week: False, Available copies: 1\n",
            "Title: One Hundred Years of Solitude, Author: García Márquez, Available for one week: True, Available copies: 0\n",
            "Name: Juan Pérez, ID: 12345, Loan limit: 4\n",
            "Name: Ana García, ID: 67890, Loan limit: 12\n"
          ]
        }
      ],
      "source": [
        "from typing import List\n",
        "\n",
        "class Book:\n",
        "    def __init__(self, title: str, author: str, available_one_week=False):\n",
        "        self.title = title\n",
        "        self.author = author\n",
        "        self.available_one_week = available_one_week\n",
        "        self.available_copies: int = 0\n",
        "\n",
        "    def add_copy(self, quantity=1) -> None:\n",
        "        self.available_copies += quantity\n",
        "\n",
        "    def borrow_copy(self):\n",
        "        if self.available_copies > 0:\n",
        "            self.available_copies -= 1\n",
        "            return True\n",
        "        else:\n",
        "            return False\n",
        "\n",
        "    def return_copy(self) -> None:\n",
        "        self.available_copies += 1\n",
        "\n",
        "    def __str__(self) -> str:\n",
        "        return f\"Title: {self.title}, Author: {self.author}, Available for one week: {self.available_one_week}, Available copies: {self.available_copies}\"\n",
        "\n",
        "\n",
        "class User:\n",
        "    def __init__(self, name: str, user_id: int, loan_limit: int):\n",
        "        self.name = name\n",
        "        self.user_id = user_id\n",
        "        self.loan_limit = loan_limit\n",
        "        self.borrowed_books: List[Book] = []\n",
        "\n",
        "    def borrow_book(self, book: Book) -> bool:\n",
        "        if len(self.borrowed_books) < self.loan_limit and book.borrow_copy():\n",
        "            self.borrowed_books.append(book)\n",
        "            print(f\"{self.name} has borrowed: {book.title}\")\n",
        "            return True\n",
        "        else:\n",
        "            print(f\"Could not borrow the book {book.title}\")\n",
        "            return False\n",
        "\n",
        "    def return_book(self, book: Book) -> None:\n",
        "        if book in self.borrowed_books:\n",
        "            self.borrowed_books.remove(book)\n",
        "            book.return_copy()\n",
        "            print(f\"{self.name} has returned: {book.title}\")\n",
        "        else:\n",
        "            print(f\"{self.name} does not have the book {book.title}\")\n",
        "\n",
        "    def __str__(self) -> str:\n",
        "        return f\"Name: {self.name}, ID: {self.user_id}, Loan limit: {self.loan_limit}\"\n",
        "\n",
        "\n",
        "class LibraryMember(User):\n",
        "    def __init__(self, name: str, user_id: int):\n",
        "        super().__init__(name, user_id, loan_limit=4)\n",
        "\n",
        "\n",
        "class StaffMember(User):\n",
        "    def __init__(self, name: int, user_id: int):\n",
        "        super().__init__(name, user_id, loan_limit=12)\n",
        "\n",
        "\n",
        "class Library:\n",
        "    def __init__(self, name: str):\n",
        "        self.name = name\n",
        "        self.books: List[Book] = []\n",
        "        self.users: List[User] = []\n",
        "\n",
        "    def add_book(self, book: Book) -> None:\n",
        "        self.books.append(book)\n",
        "\n",
        "    def add_user(self, user: User) -> None:\n",
        "        self.users.append(user)\n",
        "\n",
        "\n",
        "# Example\n",
        "library = Library(\"Libreria La Paz\")\n",
        "\n",
        "book1 = Book(\"Don Quixote\", \"Cervantes\")\n",
        "book1.add_copy(3)\n",
        "book2 = Book(\"One Hundred Years of Solitude\", \"García Márquez\", available_one_week=True)\n",
        "book2.add_copy(2)\n",
        "\n",
        "library.add_book(book1)\n",
        "library.add_book(book2)\n",
        "\n",
        "member1 = LibraryMember(\"Juan Pérez\", \"12345\")\n",
        "member2 = StaffMember(\"Ana García\", \"67890\")\n",
        "\n",
        "library.add_user(member1)\n",
        "library.add_user(member2)\n",
        "\n",
        "member1.borrow_book(book1)\n",
        "member1.borrow_book(book1)\n",
        "member1.borrow_book(book1)\n",
        "member1.borrow_book(book1)\n",
        "member1.borrow_book(book1)  # This loan will not be processed as the limit is reached\n",
        "\n",
        "member2.borrow_book(book2)\n",
        "member2.borrow_book(book2)\n",
        "member2.borrow_book(book2)\n",
        "\n",
        "member1.return_book(book1)\n",
        "\n",
        "print(book1)\n",
        "print(book2)\n",
        "print(member1)\n",
        "print(member2)\n"
      ]
    },
    {
      "cell_type": "markdown",
      "metadata": {
        "id": "huyDzqOd3yHQ"
      },
      "source": [
        "## **Ejercicio 5:** El colegio 2\n",
        "\n",
        "Un colegio fiscal se propuso implementar un servidor local para la gestión de cuentas institucionales de docentes y estudiantes, los cuales requieren un correo electrónico y una contraseña. Cada vez que un usuario es creado, se requiere un algoritmo para asignar nuevas cuentas de correo electrónico que no se repitan con cuentas creadas anteriormente. Para esto, cada usuario ingresara sus primer nombre, su segundo y tercer nombre (en caso de existir), su apellido paterno, su apellido materno  y su número de carnet de identidad al momento de crear su cuenta. El identificador de la cuenta de email generado deberá estar compuesto por los primeros dos caracteres del primer nombre, el primer apellido completo y los dos primeros dígitos de la cedula de identidad. Cada correo deberá finalizar con el siguiente texto “@cesma.edu.bo”.\n",
        "\n",
        "Ejemplo de entrada:\n",
        "Ingrese su primer nombre: Jose\n",
        "Ingrese su segundo/tercer nombre: Mario\n",
        "Ingrese su primer apellido: Ochoa\n",
        "Ingrese su segundo apellido: Carrasco\n",
        "Ingrese su carnet de identidad: 5345559\n",
        "\n",
        "Ejemplo de salida:\n",
        "El correo electrónico del empleado es: joochoa53@cesma.edu.bo\n",
        "\n",
        "Diseñe el diagrama de clases e implemente el programa respectivo para resolver este caso.\n"
      ]
    },
    {
      "cell_type": "code",
      "execution_count": 14,
      "metadata": {
        "colab": {
          "base_uri": "https://localhost:8080/"
        },
        "id": "tNSmQojk4b4-",
        "outputId": "efdf5158-dc01-450b-8463-bbc293990e70"
      },
      "outputs": [
        {
          "name": "stdout",
          "output_type": "stream",
          "text": [
            "The user's email address is: ripari69@cesma.edu.bo\n"
          ]
        }
      ],
      "source": [
        "class User:\n",
        "    def __init__(self, first_name: str, middle_name: str, third_name: str, last_name: str, second_last_name: str, ci: int):\n",
        "        self.first_name = first_name\n",
        "        self.middle_name = middle_name\n",
        "        self.third_name = third_name\n",
        "        self.last_name = last_name\n",
        "        self.second_last_name = second_last_name\n",
        "        self.ci = ci\n",
        "        self.email = self.generate_email()\n",
        "\n",
        "    def generate_email(self) -> str:\n",
        "        first_two_letters: str = self.first_name[:2].lower()\n",
        "        email: str = first_two_letters + self.last_name.lower() + str(self.ci)[:2] + \"@cesma.edu.bo\"\n",
        "        return email\n",
        "\n",
        "def main():\n",
        "    first_name: str = input(\"Enter your first name: \")\n",
        "    middle_name: str = input(\"Enter your middle/third name: \")\n",
        "    third_name: str = input(\"Enter your third name (optional, press Enter if not applicable): \")\n",
        "    last_name: str = input(\"Enter your first last name: \")\n",
        "    second_last_name: str = input(\"Enter your second last name: \")\n",
        "    ci: int = int(input(\"Enter your CI: \"))\n",
        "\n",
        "    user = User(first_name, middle_name, third_name, last_name, second_last_name, ci)\n",
        "    print(f\"The user's email address is: {user.email}\")\n",
        "\n",
        "if __name__ == \"__main__\":\n",
        "    main()\n"
      ]
    },
    {
      "cell_type": "markdown",
      "metadata": {
        "id": "a3vXR9JU61nP"
      },
      "source": [
        "## **Ejercicio 6:** Nuevas becas\n",
        "Una fundación academica internacional ha decidido estimular a todos los estudiantes de una universidad local mediante la asignación de becas mensuales, para esto se tomarán en consideración los siguientes criterios:\n",
        "\n",
        "Para alumnos mayores de 18 años con promedio mayor o igual a 90, la beca será de Bs.2000.00; con promedio mayor o igual a 75, de Bs.1000.00; para los promedios menores de 75 pero mayores o iguales a 60, de Bs.500.00; a los demás se les enviará una carta de invitación incitándolos a que estudien más en el próximo semestre.\n",
        "\n",
        "A los alumnos de 18 años o menores de esta edad, con promedios mayores o iguales a 90, se les dará Bs.3000; con promedios menores a 90 pero mayores o iguales a 80, Bs.2000; para los alumnos con promedios menores a 80 pero mayores o iguales a 60, se les dará Bs.100, y a los alumnos que tengan promedios menores a 60 se les enviará carta de invitación.\n",
        "\n",
        "En el caso de que un alumno se encuentre actualmente trabajando, se le asignara una beca de Bs.1000. Este sera un caso similar para alumnos que traben como asistentes de investigación en la fundación.\n",
        "\n",
        "Se requiere la creación de una base de datos de estudiantes y su respectiva abstracción con POO para facilitar la programación del caso. Diseñe el diagrama de clases respectivo.  \n"
      ]
    },
    {
      "cell_type": "code",
      "execution_count": null,
      "metadata": {
        "colab": {
          "base_uri": "https://localhost:8080/"
        },
        "id": "ia1WZ-EH62w6",
        "outputId": "4aa2fe8f-f4c2-40cc-d278-defd61f90a5c"
      },
      "outputs": [
        {
          "name": "stdout",
          "output_type": "stream",
          "text": [
            "Ana: Scholarship of Bs. 2000\n",
            "Pedro: Scholarship of Bs. 2000\n",
            "Maria: Invitation letter\n",
            "Juan: Scholarship of Bs. 1000\n",
            "Sofia: Scholarship of Bs. 1000\n"
          ]
        }
      ],
      "source": [
        "from typing import Union\n",
        "\n",
        "class Student:\n",
        "    def __init__(self, name: str, age: int, average: int, works=False, research_assistant=False):\n",
        "        self.name = name\n",
        "        self.age = age\n",
        "        self.average = average\n",
        "        self.works = works\n",
        "        self.research_assistant = research_assistant\n",
        "\n",
        "    def calculate_scholarship(self) -> Union[int, str]:\n",
        "        if self.works or self.research_assistant:\n",
        "            return 1000\n",
        "        elif self.age > 18:\n",
        "            if self.average >= 90:\n",
        "                return 2000\n",
        "            elif self.average >= 75:\n",
        "                return 1000\n",
        "            elif self.average >= 60:\n",
        "                return 500\n",
        "            else:\n",
        "                return \"Invitation letter\"\n",
        "        else:\n",
        "            if self.average >= 90:\n",
        "                return 3000\n",
        "            elif self.average >= 80:\n",
        "                return 2000\n",
        "            elif self.average >= 60:\n",
        "                return 100\n",
        "            else:\n",
        "                return \"Invitation letter\"\n",
        "\n",
        "# Example\n",
        "student1 = Student(\"Ana\", 20, 92)\n",
        "student2 = Student(\"Pedro\", 17, 85)\n",
        "student3 = Student(\"Maria\", 19, 55)\n",
        "student4 = Student(\"Juan\", 22, 70, works=True)\n",
        "student5 = Student(\"Sofia\", 21, 88, research_assistant=True)\n",
        "\n",
        "print(f\"{student1.name}: Scholarship of Bs. {student1.calculate_scholarship()}\")\n",
        "print(f\"{student2.name}: Scholarship of Bs. {student2.calculate_scholarship()}\")\n",
        "print(f\"{student3.name}: {student3.calculate_scholarship()}\")\n",
        "print(f\"{student4.name}: Scholarship of Bs. {student4.calculate_scholarship()}\")\n",
        "print(f\"{student5.name}: Scholarship of Bs. {student5.calculate_scholarship()}\")\n"
      ]
    },
    {
      "cell_type": "markdown",
      "metadata": {
        "id": "LcTWbT418qJS"
      },
      "source": [
        "## **Ejercicio 7.** Nuevos bonos\n",
        "\n",
        "El gobierno de la Argentina ha decidido lanzar un bono mensual que se pagara tres veces a los médicos y al personal hospitalario de ese país. También, se cuenta con la información de la edad, antigüedad (años de trabajo) y el numero de dependientes de n trabajadores hospitalarios. Por cada dependiente, se cuenta con un registro que define la la fecha de nacimiento y edad del dependiente, y si estudia actualmente. Este bono se calcula en base a las siguientes condiciones:\n",
        "\tSi la antigüedad < 5 años:  \t\t       10 % del Salario del empleado\n",
        "\tSi la antigüedad >=5 pero es menor a 10:     15 % del Salario del empleado\n",
        "\tSi la antigüedad >=10 pero es menor a 15:   25 % del Salario del empleado\n",
        "\tSi la antigüedad >= 15:\t  \t\t        50 % del Salario del empleado\n",
        "\n",
        "Además de esto, el bono se incrementa en un 2% por familiar dependiente al trabajador y un 1% adicional si el dependiente estudia. Se requiere calcular el monto total que el gobierno tendrá que pagar al finalizar el tercer mes. Simular los datos de los trabajadores usando valores aleatorios y modelar el caso con POO. Implementar un las clases y funciones respectivas con Python.\n",
        "\n"
      ]
    },
    {
      "cell_type": "code",
      "execution_count": 16,
      "metadata": {
        "colab": {
          "base_uri": "https://localhost:8080/"
        },
        "id": "q3WwRYQ18n8I",
        "outputId": "bdbfc214-9484-4629-9d7c-ad217b402bd2"
      },
      "outputs": [
        {
          "name": "stdout",
          "output_type": "stream",
          "text": [
            "The total amount to be paid in three months is: 1242891.7981458753\n"
          ]
        }
      ],
      "source": [
        "from typing import List\n",
        "import random\n",
        "\n",
        "class Dependent:\n",
        "    def __init__(self, birth_date: str, age: int, studies: bool):\n",
        "        self.birth_date = birth_date\n",
        "        self.age = age\n",
        "        self.studies = studies\n",
        "\n",
        "class Worker:\n",
        "    def __init__(self, age: int, seniority: int, salary: float, num_dependents: int):\n",
        "        self.age = age\n",
        "        self.seniority = seniority\n",
        "        self.salary = salary\n",
        "        self.num_dependents = num_dependents\n",
        "        self.dependents = []\n",
        "        self.generate_dependents()\n",
        "\n",
        "    def generate_dependents(self) -> None:\n",
        "        for _ in range(self.num_dependents):\n",
        "            self.dependents.append(Dependent(\n",
        "                birth_date=f\"{random.randint(1, 31)}/{random.randint(1, 12)}/{random.randint(1990, 2025)}\",\n",
        "                age=random.randint(1, 60),\n",
        "                studies=random.choice([True, False])\n",
        "            ))\n",
        "\n",
        "    def calculate_bonus(self) -> float:\n",
        "        if self.seniority < 5:\n",
        "            bonus = self.salary * 0.10\n",
        "        elif self.seniority < 10:\n",
        "            bonus = self.salary * 0.15\n",
        "        elif self.seniority < 15:\n",
        "            bonus = self.salary * 0.25\n",
        "        else:\n",
        "            bonus = self.salary * 0.50\n",
        "\n",
        "        for dependent in self.dependents:\n",
        "            bonus += bonus * 0.02\n",
        "            if dependent.studies:\n",
        "                bonus += bonus * 0.01\n",
        "        return bonus\n",
        "\n",
        "def main():\n",
        "    num_workers: int = 10\n",
        "    workers: List[Worker] = []\n",
        "    for _ in range(num_workers):\n",
        "        workers.append(Worker(\n",
        "            age=random.randint(25, 65),\n",
        "            seniority=random.randint(0, 25),\n",
        "            salary=random.randint(50000, 200000),\n",
        "            num_dependents=random.randint(0, 5)\n",
        "        ))\n",
        "\n",
        "    total_bonus_three_months: float = 0\n",
        "    for worker in workers:\n",
        "        total_bonus_three_months += worker.calculate_bonus() * 3\n",
        "\n",
        "    print(f\"The total amount to be paid in three months is: {total_bonus_three_months}\")\n",
        "\n",
        "if __name__ == \"__main__\":\n",
        "    main()\n"
      ]
    },
    {
      "cell_type": "markdown",
      "metadata": {
        "id": "Qzxt8WkBpbgL"
      },
      "source": [
        "## **Ejercicio 8:** Flota de Vehículos\n",
        "\n",
        "Diseña un sistema simplificado para gestionar una flota de vehículos. Crea una clase Vehiculo con atributos como marca, modelo, año, placa (verificar que siempre sea única) y tipo (que puede ser \"coche\", \"camioneta\", \"motocicleta\", etc.), y métodos para mostrar su información y actualizar su estado (por ejemplo, \"disponible\", \"en reparación\", \"alquilado\").  Luego, crea una clase Flota que contenga un diccionario donde las claves sean las placas y los valores sean objetos Vehiculo. La clase Flota debe tener métodos para agregar vehículos (verificando que no haya placas duplicadas), eliminar vehículos, buscar vehículos por placa, listar todos los vehículos de un tipo específico (usando una lista), y calcular el promedio de antigüedad de todos los vehículos en la flota; adicionalmente, implementa un método que retorne una tupla indicando la marca y el modelo del vehículo más antiguo."
      ]
    },
    {
      "cell_type": "code",
      "execution_count": 17,
      "metadata": {
        "id": "ihBaq7SVpp9G"
      },
      "outputs": [],
      "source": [
        "from typing import Dict\n",
        "\n",
        "class Vehicle:\n",
        "    def __init__(self, brand: str, model: str, year: int, plate: str, vehicle_type: str):\n",
        "        self.brand = brand\n",
        "        self.model = model\n",
        "        self.year = year\n",
        "        self.plate = plate\n",
        "        self.vehicle_type = vehicle_type\n",
        "        self.status = \"available\"\n",
        "\n",
        "    def show_info(self) -> None:\n",
        "        print(f\"Brand: {self.brand}, Model: {self.model}, Year: {self.year}, Plate: {self.plate}, Type: {self.vehicle_type}, Status: {self.status}\")\n",
        "\n",
        "    def update_status(self, new_status: str) -> None:\n",
        "        self.status = new_status\n",
        "\n",
        "\n",
        "class Fleet:\n",
        "    def __init__(self):\n",
        "        self.vehicles: Dict[str, Vehicle] = {}\n",
        "\n",
        "    def add_vehicle(self, vehicle: Vehicle) -> None:\n",
        "        if vehicle.plate not in self.vehicles:\n",
        "            self.vehicles[vehicle.plate] = vehicle\n",
        "            print(f\"Vehicle with plate {vehicle.plate} added successfully.\")\n",
        "        else:\n",
        "            print(f\"Error: A vehicle with plate {vehicle.plate} already exists.\")\n",
        "\n",
        "    def remove_vehicle(self, plate: str) -> None:\n",
        "        if plate in self.vehicles:\n",
        "            del self.vehicles[plate]\n",
        "            print(f\"Vehicle with plate {plate} removed successfully.\")\n",
        "        else:\n",
        "            print(f\"Error: No vehicle found with plate {plate}.\")\n",
        "\n",
        "    def search_vehicle(self, plate: str) -> None:\n",
        "        if plate in self.vehicles:\n",
        "            self.vehicles[plate].show_info()\n",
        "        else:\n",
        "            print(f\"Error: No vehicle found with plate {plate}.\")\n",
        "\n",
        "    def list_vehicles_by_type(self, vehicle_type: str) -> None:\n",
        "        vehicles_by_type = [vehicle for vehicle in self.vehicles.values() if vehicle.vehicle_type == vehicle_type]\n",
        "\n",
        "        for vehicle in vehicles_by_type:\n",
        "            vehicle.show_info()\n",
        "\n",
        "        if not vehicles_by_type:\n",
        "            print(f\"No vehicles of type {vehicle_type} found.\")\n",
        "\n",
        "    def calculate_average_age(self) -> float:\n",
        "        if not self.vehicles:\n",
        "            return 0  # Avoid division by zero if there are no vehicles\n",
        "\n",
        "        ages = [2025 - vehicle.year for vehicle in self.vehicles.values()]\n",
        "        return sum(ages) / len(ages)\n",
        "\n",
        "    def oldest_vehicle(self) -> Union[tuple[str, str], None]:\n",
        "        if not self.vehicles:\n",
        "            return None\n",
        "\n",
        "        oldest_vehicle = min(self.vehicles.values(), key=lambda v: v.year)\n",
        "        return (oldest_vehicle.brand, oldest_vehicle.model)\n"
      ]
    },
    {
      "cell_type": "markdown",
      "metadata": {
        "id": "pzRh8SWwJGWK"
      },
      "source": [
        "## Referencias\n",
        "\n",
        "- [Modelado de relaciones UML, un acercamiento a las Asociaciones por Nicolas Bortolotti](https://nbortolotti.blogspot.com/2008/07/modelando-relaciones-en-uml-un.html)\n",
        "- [Tipos de relaciones en UML por ITCA El Salvador](https://virtual.itca.edu.sv/Mediadores/ads/213_tipos_de_relaciones.html)\n",
        "- [Tutorial UML Diagrama de Clases](https://www.youtube.com/watch?v=Z0yLerU0g-Q)"
      ]
    }
  ],
  "metadata": {
    "colab": {
      "include_colab_link": true,
      "provenance": [],
      "toc_visible": true
    },
    "kernelspec": {
      "display_name": "Python 3",
      "name": "python3"
    },
    "language_info": {
      "codemirror_mode": {
        "name": "ipython",
        "version": 3
      },
      "file_extension": ".py",
      "mimetype": "text/x-python",
      "name": "python",
      "nbconvert_exporter": "python",
      "pygments_lexer": "ipython3",
      "version": "3.12.4"
    }
  },
  "nbformat": 4,
  "nbformat_minor": 0
}
