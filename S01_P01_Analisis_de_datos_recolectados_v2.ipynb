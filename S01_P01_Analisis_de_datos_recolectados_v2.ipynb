{
  "nbformat": 4,
  "nbformat_minor": 0,
  "metadata": {
    "colab": {
      "provenance": [],
      "toc_visible": true
    },
    "kernelspec": {
      "name": "python3",
      "display_name": "Python 3"
    },
    "language_info": {
      "name": "python"
    }
  },
  "cells": [
    {
      "cell_type": "markdown",
      "source": [
        "# SOE-MIA-V1E3-002\n",
        "## Modulo 2 - Data, open data y Big Data\n",
        "## Práctiva Nro. 1\n",
        "### Alumno:\n",
        "\n",
        "Práctica de Google Colab para el análisis de datos recolectados a partir de una encuesta o formulario, mediante la librería pandas, numpy y para la parte gráfica utilizaremos matplotlib\n"
      ],
      "metadata": {
        "id": "i1Y_ySKZ_Is0"
      }
    },
    {
      "cell_type": "markdown",
      "source": [
        "## Conectamos a un entorno de ejecución nuevo\n",
        "\n",
        "En la parte superir derecha, ubicamos la opción \"**Conectar**\"\n",
        "\n",
        "![image.png](data:image/png;base64,iVBORw0KGgoAAAANSUhEUgAAASYAAABmCAIAAADpiatVAAASxklEQVR4Ae2d708bV7rHz9+y7++bu9Lec2nZrLtMaaaYG5bgstfOTUwLWUguvo3jbeKKLU4QgZtC2pp0IT/w1i1xFUBiMVnsXF8n5VKTCguZRCOiikiVLO0Lq9JIkeb91Tkz45nxrxmPx2B7n1EUZs4859f3nA/Pc85xYoRruNra2mw2W0dHBwOXMQU6OjpsNltbW1sNqkPW5lYAmW5+W1sbwGYMtEKrjo4OoM70xGv2jOaRs9lshVMJng0rYLPZmn3qQPvNKWAeOXBxhvkqYdjR0WFuwCBXsytgHrkS8wiSqlGg2acOtN+cAoBcNZRYamtuwCBXsysAyFmKUTWFNfvUgfabUwCQq4YSS23NDRjkanYFADlLMaqmsGafOtB+cwrUCzn2tCdwy+AV8Jxmq5mrLWJrbsAgVx0V+HBm6Zul/J+ZD62vqv3d7vogd35hi6vq2lo43yIgGe+G9eMJJdamgCtyIKiug4irtvIKc7/xm193X/ygPshNb1QFHMdxG9PG52qLWBYOSNXP7Y7R2fDqyspqeHbU0Y4x7vTNP1Q9Vl1go2Y44fZN+dwn6tM8O8vKBfvjWRVxQjbul9+wrF2+reGnY+jfR6YuNhFyrDsQjv+QoTBn0o/DY84jZ280vMPthEetqbeGscMYt4/cTal/r6XujrRj7PkqLSaKj0arYIamV59mXtCse09XptwE4OO9rq1z3PqE2Ib3559ymcgf69Ig39qhwGf346HA9aX9nJo4QcjtL10PhOL7WV44XPPVWP0bb7Z5b10++3HdvdzGzUrz82beG+p6uf4bGxkuE//S6z7d3XvOO/c4w6XC3q5KpVv/rnGQ6w8+VQNH7p8G+zEeXJRBpI+GpsnQ/DbHbUf87/fYmB73x5EUl1m/1mMoa/2M1MjVr5bB0D6vxazcE78fGqypHWxf14WpP/o+u1FvL7e1XGkPZTm/5NND7sqDH7j0wyvKNst7c0kSjtKEHu/Cox3q/jI7j+ZkDm9ucDvL95alF6nlyXPehcfUCbxIxxe8clGs98sNlQ1NJmjFF25IedOPF7xdjOcvO/lJvvMXD8Mw7PCttf+j1b7IbK1MukTEad7w4laG4yozX9MAkhlZeK1fwxhP5F/QR/1K7Dc3OS4xe0qx9DxIc9uLQySh3TEeToiOM50Ij0kcDt1NcY8WgzFJzM25EcdYJCUOwHbkE7EoAv/m4txmmjrP9PqsHBn2+O5upkXjZ5tB4pvJNbHOpb5dXElz3PbivXwfOI70ghSVWqQzXm0mZqzhbzb4zCBwBET+WTAfgpqo1Hlx1PPpf1/6bLLeyKWTf11bK/snKYVBumu5gYUtLr3sV8/hfs/Ercn/6mcY11yCyzy5f+U0y56+Ek5xXGKOzn7iQjOP57zO7u7Bm2s/cNyLdPxLT29P79DnGxlua2GAlOa6Fc/sbdwa7GZ6hgIrO1wqTGAi2JC8ntPdvefn4sTaTaw1Xm5seY/b+fpKbxfDnru1scfFP++XbbjM4/tjF2kWdZO19yaGTclyKZKXTiYvHbmEcddsQnqmj0qGsnf+hxnu8axmqeL0TU/5nBi3k1rSK9ecNmxz3lzPcOnIJUIIQY5LRT52djKdQwvE3Wa+i/idNtsp3+I2l3lIl0DU36Ye+J0nbZ3nZzf3uPRXHoyx44sEt7c+7bRhbBsJpbhnYZIq/apIrVwbcfR1kjrUXk6LHMdJZmW7ZPDFWEyzdKNYHcaD/kEH6/QF44dFOGZjYwaLLmH2zpnf/8fVS+980F9v5CwKLDVzXTtzyaut+/kNz/P3t6TlFvFyYa9k7P2arMLkJ0Ij9auecIpLBikqDMMQz7lz/6KIVnLuPSnvzUccF50kD+pmdPW6B9y9cmSrtVHyatuqeSoxLFUkOYNPZNbEn0+CToypy6LP9NFIecQtyosmrX37xDqXWf1EXte1f7Ka4dYn2kXkHk1L6SemNzluc0p6IjSKHpJ6uWl5z8P556dcOuLB2HbK4Tgl/ysKytL8+6TaiXUu/UCkj7aiPHIaM22Lq3xyTEU1XOW2ZtR+TLubwh9GpxxVVqA2Pz3c/7s/uN52OuqNHJdJV7hoeEFniE5gqZ7rmnnLMNMbXHr5ipIYWMuIOFHk5K0OEhaKHoxY5pFTFpPy/KW7I6Q65ZcFwekRXZNqm9E9KgeWYmbFRsmrtKvoTj0eZu6ZkeC6FM2l1oMjDMadnghZyWWkR2OFlkduaHGbS8wo/s8x91TEiXClUEoLIDEtubTIKUZ4ZFHKc8LhlwNLKpsqYrxLg1mxoPLIpdRmonENfztu78reLJcc1xY0Gj2Ulnb87u1acCPF/pvL7Rr2nBsdrTdylSefMuN1kCsRWLK959zu02wRcpOyBzOIXGbtehENRpB77+ZGhtv5eszVQyHWYFm511J12uE19cT0OPodjn5HD6PJ3n5C9kya5NIPJQJLUmyPDRci516QPJgZ5EiMSggkeffWp8/Q6FEbMWpYajnk8DsnnRcu/La3p97IWbp9sqRyZvntE4JH+cBSx8vRXRmlWJYVA0UjyGls2FsxtSesK3LtnecnFlcT4g6E7Jw5LpNOrC5OnCdTub3vk8iTVOLbWR9ZMulcNBbdnO5SzOTtk4qBpeLADHk5+0xCDCzJ/kfeTRHXd4xerrrA8qC2wPIXv/rXf3m36587OuqNnDIlKt/peDmGcU1vZLj0xudeVw+rPSSg2ydkq4Nsn9z/LqPaPlHO0MoElswQ+ZzMznLAzTLdQ9eXd9JrgV5xzaZgowSWXbfiXGbjRm/v6W5mYCHJZZJ/9rqcLu+XcbKZcQSB5YmR+e8qC8lx382PnMD4zLx4ipBanZa3ChWoNHcnRsiex/8u+s90tmsPCej2CdkmIdsn11bS6u0TQ8hxZPuEwTbn9PqeRJrv2ww5kDjT03PGHyZ9KYMcofHp/LnOzpPthTuWeWI13aj+wcT2ydXqa5Fz/NNvbF0fDOEue32Qu5E/b9ObH/J7XeQYhnXfeJAUj8JfZLYe3VeOwnu89x9L2847jxa8NNKjCzZ95Bim23svLnmMdDz8J7rZqfFgjIIc0x94SI8K6G6KayJ/ihC+/9c0l5gj+zDavEUxq5Igj0UVP/Mn3bJspX/SvUH77GPprbhVWKkasiyUjsIzzxIR5Si83TEeebpHy0knwuP0My5icGgIuUTkrnRIoJB/YkQ6XcikVj4LE993iTRN4/1IwlCQnuikFtz1Qg4f6SEB03fy1B/6u+u1Y9nlJd6mmssAcspkbY27SgyUeUdiOCMX5UExVvAoU249ksk67VgqrqYzVR2Fn62m5CLbN9966+3fv/fLt9+qj5czygTrlc+XAbmiMSqRoFBUGTxAroR4pZOO7ANfbW+88buh4TdP1Wn7xChy5CMcInWAXOkZoU31fLGyQj7HrPfnC3LApRjTR21J9X9qCi+HMT7CjzWfdPb951TgeL2ciCahDpCrPwRQg44C9f7HO8y79s9W/6cRkGMYpr9f/qhHFQ6yyU11xh9eH70C9f8nqh/4xhoEuSanx1Tzj35GQY2NoAAgZwoXKzI1wvBDG45eAUDOCnpMlXH0gw01NoICgJwpXKzI1AjDD204egUAOSvoMVXG0Q821NgICphHDr4GxBRoUib4GpBGmP3H0gbzyMGXXdWCHHzZ1bFM90ao1Dxy8JWOppGDr3RshKl/XG0wjxzGGL64uFrq4IuLj2uiN069NSHXON2AloACzaIAINcsIwXtbBEFALkWGUjoRrMoAMg1y0hBO1tEAUCuRQYSutEsCgByzTJS0M4WUQCQa5GBhG40iwKAXLOMFLSzRRQA5FpkIKEbzaIAINcsIwXtbBEFALkWGUjoRrMoAMg1y0hBO1tEAUCuRQYSutEsCgByzTJS0M4WUQC54QIFQIEjVAC8XIv87oRuNIsCgFyzjBS0s0UUAORaZCChG82iACDXLCMF7WwRBQC5FhlI6EazKADINctIQTtbRAFArkUGshG64Xa7G6EZjdwGt9sNyDXyADVZ2wA53QED5IolQhgb+VOcEVIwIKc7CQC5YomM8FbSpriof7gUQE53yAG5YolK4lRjYnEt5VJqrKhk9nJ1WZ8OyOlqCsgVS1Ry1jZ1YnEf65ViEXIez2i9WmikXPaj4NLnPra8qa5B+awk9obtkwJ9StDl/wZleSQISHiNsrvIZy9hY2wFaDhjiFQXMrSq1C2zoIN1fLQIOX/wtsdgK9kLd5KvcrxALv7vh8l7wxVQMVimP5oV+O2Z8ta6BuWzAnIltCmcwf6/kdm/fRsN9KGBq2g7i/g9NGANDIV1Kdz+IyN3dmn/+ZKrxNAUJQ2G9nkht7cUuOBi+wYCqwe8wO/erh26ooqsSwAvV6ylFoOz6EBABxFV4qeIF1BsjKSwF1DyleT9Dp/IHI6hrICi9yTHmHuJArJXHJhHhzlqn0PRSbnMQRR7SRMFyYWG9qRHQUD7IVrRR2j3J6mi7PdSRf44Ep6jGG2AwmqJ3wXFfaxXiiVezhfNCkI2elm/kVNPckIuOaUYsnd2eeGljOsgcYDE/b3OHUSnHNQstCdkv49uZ6lf5LPb88OBtYPca2KVexkN2ImRP54VsjE/xngslhX2o/ck8xIGStVG7wC5YqVkEsS5e5sAtnRWkzjzDZr5EGE72s6h3DPk6UOOD9E+j3JbiMUIU+R4DgWcyHWZpB+uUWzGCYrJacTaUWAN8TwK0WJj1G16+gjA21mUe0Lr0nq5bR5lE8hlJzb7vPQrgCAnoIMo8o9qmleEX3Ef65VSO3LseCxLo0QhGxMBKN9WT/SVwG+VCQDtgWRWyCamXHbWNR494Pn9EHGcoT1B4A9Wrg84+jyhZznhtZDjVgJOh+vy0j4vHK6RgFaLnMBXMCjfuHJvALliZbTTVzv11bOZDSGBR3dkD8bOEzhDdgm5PKXEZe2RMkN7iN9SCt/+Ge3fQ5j6zLwx+ynafYI8GGF1vXY0PEp4E2vPF0iQe4lcJdyaUgvNUtxHJcUxmZSmuDjR1X9nk1N9iqWRuxqRc0xGD8VlGW0G/2O0YgP8sayQjRNvVHyxoX3hZ2U9NrPFC3t3RORyiYBkP54kXnJceiI07oWKkDtYOqs2IIUoTBZXrJcCyBUrpJ2v6qmvndyFM34UHYoBJ/Vy+Z2PPCGxrBIukp0YMWgMIeHvKKAtmXCirddxVQ4saUaRYdIACrP6F0Gp++I+alIUx6LhTdfJaAoRH0wiZ3cNXw/FntMgUN0GGhPux0NkqVaiNjVy5F66aExIqCi4KE4ksMxTSuLGbGxMKroMcvuEQnqVMJBfGf8JyBVrpUWuVGA5MEq2UgqRu0riRrLGK4+cGGFqqDCC3FkSTGYTpFLRW1qLHMa4kDr9oK5YN5JiBrm+Ac+ox1MZuVGPZ3RAXIypKnYtvRT4Z0FViuJ/CHKvosX7noCcWq4GudciV377pHJgWezlljgkcEocyIqBYkFg+RFamqc2ai9XwPBzyblZ5eVE3RXqzPJmEjnVsFcZWGKy0cLv3qF7HmIx+ZDPFTkQBCUmxHZW9JOAnErvRrnVIodRIE7WbLHbZDWlOSSg2yfZLWn7ZDen2T4pRo6lDvNgFTkwco2jg59R9DKpq/T2yTjKCSj2EXI5EaYh68EaGhhEgVWyYrTcy4naE+p+MhNP5ofOjJfLZ6Y31ZFvD8SyAv9jLHh1wGF3DV8NJl/xwo8rxLnZg7s82fnw92HWGVjh+MOoT1zLQWCplfz4nwqRwxhNrcpH4Tw6/F45Cid7jPLe/eETNCw6rgKnJG+fYIyG5ZMDgUe7X9HtTYxw/pDgNVIKwWiFnhxk/0baMzCvHDnEdqVdE2u9nCXC144cxtR3GTskIG3u8y/tZnm6yy/wfPZ5dGZQ6gp74c72T9IheXY35KPOELycJQNtbSElkNOsvoq3Oho9xVp9KpVmCXLY+FF4pbY06DvYPikeGECuWBOjKdYgh6v4wJfRljWMHSBXbihaCbxyfbQ+3SLkjvljzdbroioRkFOJoXPbvBDqdMzC1xYhZ2GLGq4oQK7GIWlMDmvslPnsgJyudoCcrkQ1GphjssZKjy07IKcrPSCnKxEYVKEAIKcrFiCnKxEYVKEAIKcrFiCnKxEYgAIWKwD/EYPFgkJxoEBlBQC5yvrAW1DAYgUAOYsFheJAgcoKAHKV9YG3oIDFCsB3hR/ht0RDVaAA/D+WFv8Gg+JAAT0FILDUUwjegwKWKgDIWSonFAYK6CkAyOkpBO9BAUsVAOQslRMKAwX0FADk9BSC96CApQoAcpbKCYWBAnoKAHJ6CsF7UMBSBQA5S+WEwkABPQUAOT2F4D0oYKkCgJylckJhoICeAoCcnkLwHhSwVAFAzlI5oTBQQE8BQE5PIXgPCliqACBnqZxQGCigp8D/A1HCeOAmcwnNAAAAAElFTkSuQmCC)"
      ],
      "metadata": {
        "id": "xnSS7o9AC70b"
      }
    },
    {
      "cell_type": "markdown",
      "source": [
        "## Importamos las librerías"
      ],
      "metadata": {
        "id": "mXvGiQEkCtiS"
      }
    },
    {
      "cell_type": "code",
      "execution_count": 1,
      "metadata": {
        "id": "83r5-_TL--cL"
      },
      "outputs": [],
      "source": [
        "import pandas as pd\n",
        "import numpy as np\n",
        "import matplotlib.pyplot as plt\n"
      ]
    },
    {
      "cell_type": "markdown",
      "source": [
        "## Conectar con la fuente de datos"
      ],
      "metadata": {
        "id": "WmE-WQUWDdgK"
      }
    },
    {
      "cell_type": "markdown",
      "source": [
        "### Opición 1\n",
        "Conectamos el cuarderno con nuestro google drive para leer el archivo con el que trabajaremos"
      ],
      "metadata": {
        "id": "AY7SlZtCD02y"
      }
    },
    {
      "cell_type": "markdown",
      "source": [
        "### Sección nueva"
      ],
      "metadata": {
        "id": "3bPJqjhBQ2Fn"
      }
    },
    {
      "cell_type": "code",
      "source": [
        "# nos conectamos con el espacio de nuestro google drive\n",
        "from google.colab import drive\n",
        "drive.mount('/content/drive')\n",
        "\n",
        "# listamos los archivos\n",
        "!ls '/content/drive/My Drive/Mis carpetas/Carpeta donde está el CSV'\n"
      ],
      "metadata": {
        "id": "iXII5ThyDeV6"
      },
      "execution_count": null,
      "outputs": []
    },
    {
      "cell_type": "code",
      "source": [
        "# Reemplaza 'RUTA_COMPLETA_AL_CSV' con la ruta real del archivo\n",
        "datos = pd.read_csv('/content/drive/My Drive/Mis carpetas/Carpeta donde está el CSV/archivo.csv')\n"
      ],
      "metadata": {
        "id": "al9N3v05LEks"
      },
      "execution_count": null,
      "outputs": []
    },
    {
      "cell_type": "markdown",
      "source": [
        "### Opción 2\n",
        "\n",
        "Mediante el botón \"Elegir Arvhivos\", ubicamos en nuetro equipo local para subir al espacio temporal de nuestro cuaderno"
      ],
      "metadata": {
        "id": "NMH5dhFFCj5T"
      }
    },
    {
      "cell_type": "code",
      "source": [
        "from google.colab import files\n",
        "uploaded = files.upload()\n",
        "\n"
      ],
      "metadata": {
        "id": "t5qJl93kD-aq",
        "colab": {
          "base_uri": "https://localhost:8080/",
          "height": 73
        },
        "outputId": "342dcb88-31d3-41d7-cad0-a0979d22c14b"
      },
      "execution_count": 3,
      "outputs": [
        {
          "output_type": "display_data",
          "data": {
            "text/plain": [
              "<IPython.core.display.HTML object>"
            ],
            "text/html": [
              "\n",
              "     <input type=\"file\" id=\"files-580a2a24-f6d6-409a-b8d5-e89561cc8daf\" name=\"files[]\" multiple disabled\n",
              "        style=\"border:none\" />\n",
              "     <output id=\"result-580a2a24-f6d6-409a-b8d5-e89561cc8daf\">\n",
              "      Upload widget is only available when the cell has been executed in the\n",
              "      current browser session. Please rerun this cell to enable.\n",
              "      </output>\n",
              "      <script>// Copyright 2017 Google LLC\n",
              "//\n",
              "// Licensed under the Apache License, Version 2.0 (the \"License\");\n",
              "// you may not use this file except in compliance with the License.\n",
              "// You may obtain a copy of the License at\n",
              "//\n",
              "//      http://www.apache.org/licenses/LICENSE-2.0\n",
              "//\n",
              "// Unless required by applicable law or agreed to in writing, software\n",
              "// distributed under the License is distributed on an \"AS IS\" BASIS,\n",
              "// WITHOUT WARRANTIES OR CONDITIONS OF ANY KIND, either express or implied.\n",
              "// See the License for the specific language governing permissions and\n",
              "// limitations under the License.\n",
              "\n",
              "/**\n",
              " * @fileoverview Helpers for google.colab Python module.\n",
              " */\n",
              "(function(scope) {\n",
              "function span(text, styleAttributes = {}) {\n",
              "  const element = document.createElement('span');\n",
              "  element.textContent = text;\n",
              "  for (const key of Object.keys(styleAttributes)) {\n",
              "    element.style[key] = styleAttributes[key];\n",
              "  }\n",
              "  return element;\n",
              "}\n",
              "\n",
              "// Max number of bytes which will be uploaded at a time.\n",
              "const MAX_PAYLOAD_SIZE = 100 * 1024;\n",
              "\n",
              "function _uploadFiles(inputId, outputId) {\n",
              "  const steps = uploadFilesStep(inputId, outputId);\n",
              "  const outputElement = document.getElementById(outputId);\n",
              "  // Cache steps on the outputElement to make it available for the next call\n",
              "  // to uploadFilesContinue from Python.\n",
              "  outputElement.steps = steps;\n",
              "\n",
              "  return _uploadFilesContinue(outputId);\n",
              "}\n",
              "\n",
              "// This is roughly an async generator (not supported in the browser yet),\n",
              "// where there are multiple asynchronous steps and the Python side is going\n",
              "// to poll for completion of each step.\n",
              "// This uses a Promise to block the python side on completion of each step,\n",
              "// then passes the result of the previous step as the input to the next step.\n",
              "function _uploadFilesContinue(outputId) {\n",
              "  const outputElement = document.getElementById(outputId);\n",
              "  const steps = outputElement.steps;\n",
              "\n",
              "  const next = steps.next(outputElement.lastPromiseValue);\n",
              "  return Promise.resolve(next.value.promise).then((value) => {\n",
              "    // Cache the last promise value to make it available to the next\n",
              "    // step of the generator.\n",
              "    outputElement.lastPromiseValue = value;\n",
              "    return next.value.response;\n",
              "  });\n",
              "}\n",
              "\n",
              "/**\n",
              " * Generator function which is called between each async step of the upload\n",
              " * process.\n",
              " * @param {string} inputId Element ID of the input file picker element.\n",
              " * @param {string} outputId Element ID of the output display.\n",
              " * @return {!Iterable<!Object>} Iterable of next steps.\n",
              " */\n",
              "function* uploadFilesStep(inputId, outputId) {\n",
              "  const inputElement = document.getElementById(inputId);\n",
              "  inputElement.disabled = false;\n",
              "\n",
              "  const outputElement = document.getElementById(outputId);\n",
              "  outputElement.innerHTML = '';\n",
              "\n",
              "  const pickedPromise = new Promise((resolve) => {\n",
              "    inputElement.addEventListener('change', (e) => {\n",
              "      resolve(e.target.files);\n",
              "    });\n",
              "  });\n",
              "\n",
              "  const cancel = document.createElement('button');\n",
              "  inputElement.parentElement.appendChild(cancel);\n",
              "  cancel.textContent = 'Cancel upload';\n",
              "  const cancelPromise = new Promise((resolve) => {\n",
              "    cancel.onclick = () => {\n",
              "      resolve(null);\n",
              "    };\n",
              "  });\n",
              "\n",
              "  // Wait for the user to pick the files.\n",
              "  const files = yield {\n",
              "    promise: Promise.race([pickedPromise, cancelPromise]),\n",
              "    response: {\n",
              "      action: 'starting',\n",
              "    }\n",
              "  };\n",
              "\n",
              "  cancel.remove();\n",
              "\n",
              "  // Disable the input element since further picks are not allowed.\n",
              "  inputElement.disabled = true;\n",
              "\n",
              "  if (!files) {\n",
              "    return {\n",
              "      response: {\n",
              "        action: 'complete',\n",
              "      }\n",
              "    };\n",
              "  }\n",
              "\n",
              "  for (const file of files) {\n",
              "    const li = document.createElement('li');\n",
              "    li.append(span(file.name, {fontWeight: 'bold'}));\n",
              "    li.append(span(\n",
              "        `(${file.type || 'n/a'}) - ${file.size} bytes, ` +\n",
              "        `last modified: ${\n",
              "            file.lastModifiedDate ? file.lastModifiedDate.toLocaleDateString() :\n",
              "                                    'n/a'} - `));\n",
              "    const percent = span('0% done');\n",
              "    li.appendChild(percent);\n",
              "\n",
              "    outputElement.appendChild(li);\n",
              "\n",
              "    const fileDataPromise = new Promise((resolve) => {\n",
              "      const reader = new FileReader();\n",
              "      reader.onload = (e) => {\n",
              "        resolve(e.target.result);\n",
              "      };\n",
              "      reader.readAsArrayBuffer(file);\n",
              "    });\n",
              "    // Wait for the data to be ready.\n",
              "    let fileData = yield {\n",
              "      promise: fileDataPromise,\n",
              "      response: {\n",
              "        action: 'continue',\n",
              "      }\n",
              "    };\n",
              "\n",
              "    // Use a chunked sending to avoid message size limits. See b/62115660.\n",
              "    let position = 0;\n",
              "    do {\n",
              "      const length = Math.min(fileData.byteLength - position, MAX_PAYLOAD_SIZE);\n",
              "      const chunk = new Uint8Array(fileData, position, length);\n",
              "      position += length;\n",
              "\n",
              "      const base64 = btoa(String.fromCharCode.apply(null, chunk));\n",
              "      yield {\n",
              "        response: {\n",
              "          action: 'append',\n",
              "          file: file.name,\n",
              "          data: base64,\n",
              "        },\n",
              "      };\n",
              "\n",
              "      let percentDone = fileData.byteLength === 0 ?\n",
              "          100 :\n",
              "          Math.round((position / fileData.byteLength) * 100);\n",
              "      percent.textContent = `${percentDone}% done`;\n",
              "\n",
              "    } while (position < fileData.byteLength);\n",
              "  }\n",
              "\n",
              "  // All done.\n",
              "  yield {\n",
              "    response: {\n",
              "      action: 'complete',\n",
              "    }\n",
              "  };\n",
              "}\n",
              "\n",
              "scope.google = scope.google || {};\n",
              "scope.google.colab = scope.google.colab || {};\n",
              "scope.google.colab._files = {\n",
              "  _uploadFiles,\n",
              "  _uploadFilesContinue,\n",
              "};\n",
              "})(self);\n",
              "</script> "
            ]
          },
          "metadata": {}
        },
        {
          "output_type": "stream",
          "name": "stdout",
          "text": [
            "Saving S01_P01_Captura-de-información_MIAV1E3_v01_fix.csv to S01_P01_Captura-de-información_MIAV1E3_v01_fix.csv\n"
          ]
        }
      ]
    },
    {
      "cell_type": "code",
      "source": [
        "# Obtén el nombre del archivo cargado\n",
        "file_name = list(uploaded.keys())[0]\n",
        "\n",
        "# Lee el archivo CSV\n",
        "datos = pd.read_csv(file_name)"
      ],
      "metadata": {
        "id": "moMjceSnHHc9"
      },
      "execution_count": 58,
      "outputs": []
    },
    {
      "cell_type": "markdown",
      "source": [
        "### Opción 3\n",
        "Subimos nuestro archivos a la sección de \"Archivos\"  de nuestro cuaderno de notas"
      ],
      "metadata": {
        "id": "qjkmLfF9D6TT"
      }
    },
    {
      "cell_type": "markdown",
      "source": [
        "### Ejemplos de comandos del shell"
      ],
      "metadata": {
        "id": "CK3ayIzpRn7p"
      }
    },
    {
      "cell_type": "code",
      "source": [
        "!ls"
      ],
      "metadata": {
        "id": "TbZtaXCAmOGE",
        "colab": {
          "base_uri": "https://localhost:8080/"
        },
        "outputId": "7bb2790f-db04-4c09-d6c4-81bb81c6f671"
      },
      "execution_count": 8,
      "outputs": [
        {
          "output_type": "stream",
          "name": "stdout",
          "text": [
            "Data\n",
            "S01_P01_Captura-de-información_MIAV1E3_v01_fix_02.csv\n",
            "S01_P01_Captura-de-información_MIAV1E3_v01_fix.csv\n",
            "sample_data\n"
          ]
        }
      ]
    },
    {
      "cell_type": "code",
      "source": [
        "!mkdir Data"
      ],
      "metadata": {
        "id": "_x_t76yvKNie"
      },
      "execution_count": 7,
      "outputs": []
    },
    {
      "cell_type": "code",
      "source": [
        "!zip -r Data2.zip ./Data"
      ],
      "metadata": {
        "colab": {
          "base_uri": "https://localhost:8080/"
        },
        "id": "sijC_j7XKWXn",
        "outputId": "0fab667a-e987-4479-aaf5-d7aefd7cd814"
      },
      "execution_count": 12,
      "outputs": [
        {
          "output_type": "stream",
          "name": "stdout",
          "text": [
            "  adding: Data/ (stored 0%)\n"
          ]
        }
      ]
    },
    {
      "cell_type": "code",
      "source": [
        "# Descomprimir un fichero\n",
        "!unzip Data2.zip -d ./Data2"
      ],
      "metadata": {
        "colab": {
          "base_uri": "https://localhost:8080/"
        },
        "id": "4F-q41J0QBaI",
        "outputId": "11bedd7c-b4d7-41dc-f15a-acef6c2dd866"
      },
      "execution_count": 57,
      "outputs": [
        {
          "output_type": "stream",
          "name": "stdout",
          "text": [
            "Archive:  Data2.zip\n",
            "   creating: ./Data2/Data/\n"
          ]
        }
      ]
    },
    {
      "cell_type": "code",
      "source": [
        "# Reemplaza '/content/Mi_archivo.csv' con la ubiación del CSV almacenado en tu cuenta google Drive\n",
        "datos = pd.read_csv('/content/S01_P01_Captura-de-información_MIAV1E2.csv')"
      ],
      "metadata": {
        "id": "rT14A3F9D5yS"
      },
      "execution_count": null,
      "outputs": []
    },
    {
      "cell_type": "markdown",
      "source": [
        "### Verificamos que logramos la conexión con la fuente de datos"
      ],
      "metadata": {
        "id": "t2j6BzatEw-d"
      }
    },
    {
      "cell_type": "code",
      "source": [
        "len(datos)"
      ],
      "metadata": {
        "colab": {
          "base_uri": "https://localhost:8080/"
        },
        "id": "JBNENjODSjzv",
        "outputId": "973c92d7-b75a-404a-d0be-c289d9a4efba"
      },
      "execution_count": 59,
      "outputs": [
        {
          "output_type": "execute_result",
          "data": {
            "text/plain": [
              "34"
            ]
          },
          "metadata": {},
          "execution_count": 59
        }
      ]
    },
    {
      "cell_type": "code",
      "source": [
        "## cantidad de datos\n",
        "datos.shape"
      ],
      "metadata": {
        "id": "UuV7hzGBtY4D",
        "colab": {
          "base_uri": "https://localhost:8080/"
        },
        "outputId": "5c969ac7-26af-4a5a-d3a3-9c533dc11c93"
      },
      "execution_count": 16,
      "outputs": [
        {
          "output_type": "execute_result",
          "data": {
            "text/plain": [
              "(34, 14)"
            ]
          },
          "metadata": {},
          "execution_count": 16
        }
      ]
    },
    {
      "cell_type": "code",
      "source": [
        "datos.head(3)"
      ],
      "metadata": {
        "id": "jEtAvgVaE4-M",
        "colab": {
          "base_uri": "https://localhost:8080/",
          "height": 215
        },
        "outputId": "7b1b480e-b7d9-4c0f-b777-2c43c6135dfe"
      },
      "execution_count": 60,
      "outputs": [
        {
          "output_type": "execute_result",
          "data": {
            "text/plain": [
              "      Nombre     Genero  Edad Peso Altura Conocimiento_BigData  \\\n",
              "0  Persona 1  Masculino    49   66   1,60                 Bajo   \n",
              "1  Persona 2  Masculino    34   70   1,75                 Bajo   \n",
              "2  Persona 3  Masculino    41   95   1,80                Medio   \n",
              "\n",
              "  Conocimiento_SIG Habilidad_programacion            Conocimiento_lenguajes  \\\n",
              "0             Bajo             Intermedio           Python, JavaScript, PHP   \n",
              "1             Bajo               Avanzado  Python, JavaScript, C++, C#, PHP   \n",
              "2             Bajo             Intermedio                   Python, C++, C#   \n",
              "\n",
              "  Dominio_lenguaje_programacion Entorno_de_preferencia Nivel_en_python  \\\n",
              "0                        Python     Visual Studio Code      Intermedio   \n",
              "1                    JavaScript     Visual Studio Code      Intermedio   \n",
              "2                            C#            Visual .net          Básico   \n",
              "\n",
              "  Nivel_en_collab                   Ciudad  \n",
              "0          Básico               Cochabamba  \n",
              "1          Básico                   La Paz  \n",
              "2          Básico  Santa Cruz de la Sierra  "
            ],
            "text/html": [
              "\n",
              "  <div id=\"df-ebead14b-6918-492a-9c45-d35a62b3cb55\" class=\"colab-df-container\">\n",
              "    <div>\n",
              "<style scoped>\n",
              "    .dataframe tbody tr th:only-of-type {\n",
              "        vertical-align: middle;\n",
              "    }\n",
              "\n",
              "    .dataframe tbody tr th {\n",
              "        vertical-align: top;\n",
              "    }\n",
              "\n",
              "    .dataframe thead th {\n",
              "        text-align: right;\n",
              "    }\n",
              "</style>\n",
              "<table border=\"1\" class=\"dataframe\">\n",
              "  <thead>\n",
              "    <tr style=\"text-align: right;\">\n",
              "      <th></th>\n",
              "      <th>Nombre</th>\n",
              "      <th>Genero</th>\n",
              "      <th>Edad</th>\n",
              "      <th>Peso</th>\n",
              "      <th>Altura</th>\n",
              "      <th>Conocimiento_BigData</th>\n",
              "      <th>Conocimiento_SIG</th>\n",
              "      <th>Habilidad_programacion</th>\n",
              "      <th>Conocimiento_lenguajes</th>\n",
              "      <th>Dominio_lenguaje_programacion</th>\n",
              "      <th>Entorno_de_preferencia</th>\n",
              "      <th>Nivel_en_python</th>\n",
              "      <th>Nivel_en_collab</th>\n",
              "      <th>Ciudad</th>\n",
              "    </tr>\n",
              "  </thead>\n",
              "  <tbody>\n",
              "    <tr>\n",
              "      <th>0</th>\n",
              "      <td>Persona 1</td>\n",
              "      <td>Masculino</td>\n",
              "      <td>49</td>\n",
              "      <td>66</td>\n",
              "      <td>1,60</td>\n",
              "      <td>Bajo</td>\n",
              "      <td>Bajo</td>\n",
              "      <td>Intermedio</td>\n",
              "      <td>Python, JavaScript, PHP</td>\n",
              "      <td>Python</td>\n",
              "      <td>Visual Studio Code</td>\n",
              "      <td>Intermedio</td>\n",
              "      <td>Básico</td>\n",
              "      <td>Cochabamba</td>\n",
              "    </tr>\n",
              "    <tr>\n",
              "      <th>1</th>\n",
              "      <td>Persona 2</td>\n",
              "      <td>Masculino</td>\n",
              "      <td>34</td>\n",
              "      <td>70</td>\n",
              "      <td>1,75</td>\n",
              "      <td>Bajo</td>\n",
              "      <td>Bajo</td>\n",
              "      <td>Avanzado</td>\n",
              "      <td>Python, JavaScript, C++, C#, PHP</td>\n",
              "      <td>JavaScript</td>\n",
              "      <td>Visual Studio Code</td>\n",
              "      <td>Intermedio</td>\n",
              "      <td>Básico</td>\n",
              "      <td>La Paz</td>\n",
              "    </tr>\n",
              "    <tr>\n",
              "      <th>2</th>\n",
              "      <td>Persona 3</td>\n",
              "      <td>Masculino</td>\n",
              "      <td>41</td>\n",
              "      <td>95</td>\n",
              "      <td>1,80</td>\n",
              "      <td>Medio</td>\n",
              "      <td>Bajo</td>\n",
              "      <td>Intermedio</td>\n",
              "      <td>Python, C++, C#</td>\n",
              "      <td>C#</td>\n",
              "      <td>Visual .net</td>\n",
              "      <td>Básico</td>\n",
              "      <td>Básico</td>\n",
              "      <td>Santa Cruz de la Sierra</td>\n",
              "    </tr>\n",
              "  </tbody>\n",
              "</table>\n",
              "</div>\n",
              "    <div class=\"colab-df-buttons\">\n",
              "\n",
              "  <div class=\"colab-df-container\">\n",
              "    <button class=\"colab-df-convert\" onclick=\"convertToInteractive('df-ebead14b-6918-492a-9c45-d35a62b3cb55')\"\n",
              "            title=\"Convert this dataframe to an interactive table.\"\n",
              "            style=\"display:none;\">\n",
              "\n",
              "  <svg xmlns=\"http://www.w3.org/2000/svg\" height=\"24px\" viewBox=\"0 -960 960 960\">\n",
              "    <path d=\"M120-120v-720h720v720H120Zm60-500h600v-160H180v160Zm220 220h160v-160H400v160Zm0 220h160v-160H400v160ZM180-400h160v-160H180v160Zm440 0h160v-160H620v160ZM180-180h160v-160H180v160Zm440 0h160v-160H620v160Z\"/>\n",
              "  </svg>\n",
              "    </button>\n",
              "\n",
              "  <style>\n",
              "    .colab-df-container {\n",
              "      display:flex;\n",
              "      gap: 12px;\n",
              "    }\n",
              "\n",
              "    .colab-df-convert {\n",
              "      background-color: #E8F0FE;\n",
              "      border: none;\n",
              "      border-radius: 50%;\n",
              "      cursor: pointer;\n",
              "      display: none;\n",
              "      fill: #1967D2;\n",
              "      height: 32px;\n",
              "      padding: 0 0 0 0;\n",
              "      width: 32px;\n",
              "    }\n",
              "\n",
              "    .colab-df-convert:hover {\n",
              "      background-color: #E2EBFA;\n",
              "      box-shadow: 0px 1px 2px rgba(60, 64, 67, 0.3), 0px 1px 3px 1px rgba(60, 64, 67, 0.15);\n",
              "      fill: #174EA6;\n",
              "    }\n",
              "\n",
              "    .colab-df-buttons div {\n",
              "      margin-bottom: 4px;\n",
              "    }\n",
              "\n",
              "    [theme=dark] .colab-df-convert {\n",
              "      background-color: #3B4455;\n",
              "      fill: #D2E3FC;\n",
              "    }\n",
              "\n",
              "    [theme=dark] .colab-df-convert:hover {\n",
              "      background-color: #434B5C;\n",
              "      box-shadow: 0px 1px 3px 1px rgba(0, 0, 0, 0.15);\n",
              "      filter: drop-shadow(0px 1px 2px rgba(0, 0, 0, 0.3));\n",
              "      fill: #FFFFFF;\n",
              "    }\n",
              "  </style>\n",
              "\n",
              "    <script>\n",
              "      const buttonEl =\n",
              "        document.querySelector('#df-ebead14b-6918-492a-9c45-d35a62b3cb55 button.colab-df-convert');\n",
              "      buttonEl.style.display =\n",
              "        google.colab.kernel.accessAllowed ? 'block' : 'none';\n",
              "\n",
              "      async function convertToInteractive(key) {\n",
              "        const element = document.querySelector('#df-ebead14b-6918-492a-9c45-d35a62b3cb55');\n",
              "        const dataTable =\n",
              "          await google.colab.kernel.invokeFunction('convertToInteractive',\n",
              "                                                    [key], {});\n",
              "        if (!dataTable) return;\n",
              "\n",
              "        const docLinkHtml = 'Like what you see? Visit the ' +\n",
              "          '<a target=\"_blank\" href=https://colab.research.google.com/notebooks/data_table.ipynb>data table notebook</a>'\n",
              "          + ' to learn more about interactive tables.';\n",
              "        element.innerHTML = '';\n",
              "        dataTable['output_type'] = 'display_data';\n",
              "        await google.colab.output.renderOutput(dataTable, element);\n",
              "        const docLink = document.createElement('div');\n",
              "        docLink.innerHTML = docLinkHtml;\n",
              "        element.appendChild(docLink);\n",
              "      }\n",
              "    </script>\n",
              "  </div>\n",
              "\n",
              "\n",
              "    <div id=\"df-34d576ac-4d48-4231-b0ee-5770227c3f72\">\n",
              "      <button class=\"colab-df-quickchart\" onclick=\"quickchart('df-34d576ac-4d48-4231-b0ee-5770227c3f72')\"\n",
              "                title=\"Suggest charts\"\n",
              "                style=\"display:none;\">\n",
              "\n",
              "<svg xmlns=\"http://www.w3.org/2000/svg\" height=\"24px\"viewBox=\"0 0 24 24\"\n",
              "     width=\"24px\">\n",
              "    <g>\n",
              "        <path d=\"M19 3H5c-1.1 0-2 .9-2 2v14c0 1.1.9 2 2 2h14c1.1 0 2-.9 2-2V5c0-1.1-.9-2-2-2zM9 17H7v-7h2v7zm4 0h-2V7h2v10zm4 0h-2v-4h2v4z\"/>\n",
              "    </g>\n",
              "</svg>\n",
              "      </button>\n",
              "\n",
              "<style>\n",
              "  .colab-df-quickchart {\n",
              "      --bg-color: #E8F0FE;\n",
              "      --fill-color: #1967D2;\n",
              "      --hover-bg-color: #E2EBFA;\n",
              "      --hover-fill-color: #174EA6;\n",
              "      --disabled-fill-color: #AAA;\n",
              "      --disabled-bg-color: #DDD;\n",
              "  }\n",
              "\n",
              "  [theme=dark] .colab-df-quickchart {\n",
              "      --bg-color: #3B4455;\n",
              "      --fill-color: #D2E3FC;\n",
              "      --hover-bg-color: #434B5C;\n",
              "      --hover-fill-color: #FFFFFF;\n",
              "      --disabled-bg-color: #3B4455;\n",
              "      --disabled-fill-color: #666;\n",
              "  }\n",
              "\n",
              "  .colab-df-quickchart {\n",
              "    background-color: var(--bg-color);\n",
              "    border: none;\n",
              "    border-radius: 50%;\n",
              "    cursor: pointer;\n",
              "    display: none;\n",
              "    fill: var(--fill-color);\n",
              "    height: 32px;\n",
              "    padding: 0;\n",
              "    width: 32px;\n",
              "  }\n",
              "\n",
              "  .colab-df-quickchart:hover {\n",
              "    background-color: var(--hover-bg-color);\n",
              "    box-shadow: 0 1px 2px rgba(60, 64, 67, 0.3), 0 1px 3px 1px rgba(60, 64, 67, 0.15);\n",
              "    fill: var(--button-hover-fill-color);\n",
              "  }\n",
              "\n",
              "  .colab-df-quickchart-complete:disabled,\n",
              "  .colab-df-quickchart-complete:disabled:hover {\n",
              "    background-color: var(--disabled-bg-color);\n",
              "    fill: var(--disabled-fill-color);\n",
              "    box-shadow: none;\n",
              "  }\n",
              "\n",
              "  .colab-df-spinner {\n",
              "    border: 2px solid var(--fill-color);\n",
              "    border-color: transparent;\n",
              "    border-bottom-color: var(--fill-color);\n",
              "    animation:\n",
              "      spin 1s steps(1) infinite;\n",
              "  }\n",
              "\n",
              "  @keyframes spin {\n",
              "    0% {\n",
              "      border-color: transparent;\n",
              "      border-bottom-color: var(--fill-color);\n",
              "      border-left-color: var(--fill-color);\n",
              "    }\n",
              "    20% {\n",
              "      border-color: transparent;\n",
              "      border-left-color: var(--fill-color);\n",
              "      border-top-color: var(--fill-color);\n",
              "    }\n",
              "    30% {\n",
              "      border-color: transparent;\n",
              "      border-left-color: var(--fill-color);\n",
              "      border-top-color: var(--fill-color);\n",
              "      border-right-color: var(--fill-color);\n",
              "    }\n",
              "    40% {\n",
              "      border-color: transparent;\n",
              "      border-right-color: var(--fill-color);\n",
              "      border-top-color: var(--fill-color);\n",
              "    }\n",
              "    60% {\n",
              "      border-color: transparent;\n",
              "      border-right-color: var(--fill-color);\n",
              "    }\n",
              "    80% {\n",
              "      border-color: transparent;\n",
              "      border-right-color: var(--fill-color);\n",
              "      border-bottom-color: var(--fill-color);\n",
              "    }\n",
              "    90% {\n",
              "      border-color: transparent;\n",
              "      border-bottom-color: var(--fill-color);\n",
              "    }\n",
              "  }\n",
              "</style>\n",
              "\n",
              "      <script>\n",
              "        async function quickchart(key) {\n",
              "          const quickchartButtonEl =\n",
              "            document.querySelector('#' + key + ' button');\n",
              "          quickchartButtonEl.disabled = true;  // To prevent multiple clicks.\n",
              "          quickchartButtonEl.classList.add('colab-df-spinner');\n",
              "          try {\n",
              "            const charts = await google.colab.kernel.invokeFunction(\n",
              "                'suggestCharts', [key], {});\n",
              "          } catch (error) {\n",
              "            console.error('Error during call to suggestCharts:', error);\n",
              "          }\n",
              "          quickchartButtonEl.classList.remove('colab-df-spinner');\n",
              "          quickchartButtonEl.classList.add('colab-df-quickchart-complete');\n",
              "        }\n",
              "        (() => {\n",
              "          let quickchartButtonEl =\n",
              "            document.querySelector('#df-34d576ac-4d48-4231-b0ee-5770227c3f72 button');\n",
              "          quickchartButtonEl.style.display =\n",
              "            google.colab.kernel.accessAllowed ? 'block' : 'none';\n",
              "        })();\n",
              "      </script>\n",
              "    </div>\n",
              "\n",
              "    </div>\n",
              "  </div>\n"
            ],
            "application/vnd.google.colaboratory.intrinsic+json": {
              "type": "dataframe",
              "variable_name": "datos",
              "summary": "{\n  \"name\": \"datos\",\n  \"rows\": 34,\n  \"fields\": [\n    {\n      \"column\": \"Nombre\",\n      \"properties\": {\n        \"dtype\": \"string\",\n        \"num_unique_values\": 34,\n        \"samples\": [\n          \"Persona 16\",\n          \"Persona 20\",\n          \"Persona 28\"\n        ],\n        \"semantic_type\": \"\",\n        \"description\": \"\"\n      }\n    },\n    {\n      \"column\": \"Genero\",\n      \"properties\": {\n        \"dtype\": \"category\",\n        \"num_unique_values\": 2,\n        \"samples\": [\n          \"Femenino\",\n          \"Masculino\"\n        ],\n        \"semantic_type\": \"\",\n        \"description\": \"\"\n      }\n    },\n    {\n      \"column\": \"Edad\",\n      \"properties\": {\n        \"dtype\": \"number\",\n        \"std\": 6,\n        \"min\": 25,\n        \"max\": 49,\n        \"num_unique_values\": 18,\n        \"samples\": [\n          49,\n          34\n        ],\n        \"semantic_type\": \"\",\n        \"description\": \"\"\n      }\n    },\n    {\n      \"column\": \"Peso\",\n      \"properties\": {\n        \"dtype\": \"string\",\n        \"num_unique_values\": 22,\n        \"samples\": [\n          \"66\",\n          \"85\"\n        ],\n        \"semantic_type\": \"\",\n        \"description\": \"\"\n      }\n    },\n    {\n      \"column\": \"Altura\",\n      \"properties\": {\n        \"dtype\": \"object\",\n        \"num_unique_values\": 18,\n        \"samples\": [\n          \"1,60\",\n          \"1,75\"\n        ],\n        \"semantic_type\": \"\",\n        \"description\": \"\"\n      }\n    },\n    {\n      \"column\": \"Conocimiento_BigData\",\n      \"properties\": {\n        \"dtype\": \"category\",\n        \"num_unique_values\": 3,\n        \"samples\": [\n          \"Bajo\",\n          \"Medio\"\n        ],\n        \"semantic_type\": \"\",\n        \"description\": \"\"\n      }\n    },\n    {\n      \"column\": \"Conocimiento_SIG\",\n      \"properties\": {\n        \"dtype\": \"category\",\n        \"num_unique_values\": 4,\n        \"samples\": [\n          \"Medio\",\n          \"Alto\"\n        ],\n        \"semantic_type\": \"\",\n        \"description\": \"\"\n      }\n    },\n    {\n      \"column\": \"Habilidad_programacion\",\n      \"properties\": {\n        \"dtype\": \"category\",\n        \"num_unique_values\": 3,\n        \"samples\": [\n          \"Intermedio\",\n          \"Avanzado\"\n        ],\n        \"semantic_type\": \"\",\n        \"description\": \"\"\n      }\n    },\n    {\n      \"column\": \"Conocimiento_lenguajes\",\n      \"properties\": {\n        \"dtype\": \"string\",\n        \"num_unique_values\": 21,\n        \"samples\": [\n          \"Python, JavaScript, PHP\",\n          \"Python, JavaScript, C++, PHP, Otros\"\n        ],\n        \"semantic_type\": \"\",\n        \"description\": \"\"\n      }\n    },\n    {\n      \"column\": \"Dominio_lenguaje_programacion\",\n      \"properties\": {\n        \"dtype\": \"category\",\n        \"num_unique_values\": 8,\n        \"samples\": [\n          \"JavaScript\",\n          \"Otro\"\n        ],\n        \"semantic_type\": \"\",\n        \"description\": \"\"\n      }\n    },\n    {\n      \"column\": \"Entorno_de_preferencia\",\n      \"properties\": {\n        \"dtype\": \"category\",\n        \"num_unique_values\": 4,\n        \"samples\": [\n          \"Visual .net\",\n          \"Otro\"\n        ],\n        \"semantic_type\": \"\",\n        \"description\": \"\"\n      }\n    },\n    {\n      \"column\": \"Nivel_en_python\",\n      \"properties\": {\n        \"dtype\": \"category\",\n        \"num_unique_values\": 3,\n        \"samples\": [\n          \"Intermedio\",\n          \"B\\u00e1sico\"\n        ],\n        \"semantic_type\": \"\",\n        \"description\": \"\"\n      }\n    },\n    {\n      \"column\": \"Nivel_en_collab\",\n      \"properties\": {\n        \"dtype\": \"category\",\n        \"num_unique_values\": 3,\n        \"samples\": [\n          \"B\\u00e1sico\",\n          \"Intermedio\"\n        ],\n        \"semantic_type\": \"\",\n        \"description\": \"\"\n      }\n    },\n    {\n      \"column\": \"Ciudad\",\n      \"properties\": {\n        \"dtype\": \"category\",\n        \"num_unique_values\": 4,\n        \"samples\": [\n          \"La Paz\",\n          \"Otra ciudad dentro del un departamento\"\n        ],\n        \"semantic_type\": \"\",\n        \"description\": \"\"\n      }\n    }\n  ]\n}"
            }
          },
          "metadata": {},
          "execution_count": 60
        }
      ]
    },
    {
      "cell_type": "code",
      "source": [
        "# prompt: imprimir una lista de columnas dentre den mi DataFrame \"datos\"\n",
        "\n",
        "print(datos.columns.tolist())\n"
      ],
      "metadata": {
        "colab": {
          "base_uri": "https://localhost:8080/"
        },
        "id": "ZQFSe_w3THtX",
        "outputId": "2e17eada-96b3-4301-ad05-f1d7b172a9dc"
      },
      "execution_count": 62,
      "outputs": [
        {
          "output_type": "stream",
          "name": "stdout",
          "text": [
            "['Nombre', 'Genero', 'Edad', 'Peso', 'Altura', 'Conocimiento_BigData', 'Conocimiento_SIG', 'Habilidad_programacion', 'Conocimiento_lenguajes', 'Dominio_lenguaje_programacion', 'Entorno_de_preferencia', 'Nivel_en_python', 'Nivel_en_collab', 'Ciudad']\n"
          ]
        }
      ]
    },
    {
      "cell_type": "code",
      "source": [
        "datos.columns"
      ],
      "metadata": {
        "colab": {
          "base_uri": "https://localhost:8080/"
        },
        "id": "2qWahB90TvUP",
        "outputId": "eccd19b8-b50d-41f2-c3cf-c3da72fdcd52"
      },
      "execution_count": 63,
      "outputs": [
        {
          "output_type": "execute_result",
          "data": {
            "text/plain": [
              "Index(['Nombre', 'Genero', 'Edad', 'Peso', 'Altura', 'Conocimiento_BigData',\n",
              "       'Conocimiento_SIG', 'Habilidad_programacion', 'Conocimiento_lenguajes',\n",
              "       'Dominio_lenguaje_programacion', 'Entorno_de_preferencia',\n",
              "       'Nivel_en_python', 'Nivel_en_collab', 'Ciudad'],\n",
              "      dtype='object')"
            ]
          },
          "metadata": {},
          "execution_count": 63
        }
      ]
    },
    {
      "cell_type": "markdown",
      "source": [
        "### verificamos el tipo de datos que contine cada columna"
      ],
      "metadata": {
        "id": "aTChTsDfE-lC"
      }
    },
    {
      "cell_type": "code",
      "source": [
        "datos.dtypes"
      ],
      "metadata": {
        "id": "j6TF8nKLE-Dq",
        "colab": {
          "base_uri": "https://localhost:8080/",
          "height": 585
        },
        "outputId": "b7a1b2e5-a39d-4cbd-9457-7775fac407b6"
      },
      "execution_count": 89,
      "outputs": [
        {
          "output_type": "execute_result",
          "data": {
            "text/plain": [
              "Nombre                            object\n",
              "Genero                            object\n",
              "Edad                               int64\n",
              "Peso                              object\n",
              "Altura                            object\n",
              "Conocimiento_BigData              object\n",
              "Conocimiento_SIG                  object\n",
              "Habilidad_programacion            object\n",
              "Conocimiento_lenguajes            object\n",
              "Dominio_lenguaje_programacion     object\n",
              "Entorno_de_preferencia            object\n",
              "Nivel_en_python                   object\n",
              "Nivel_en_collab                   object\n",
              "Ciudad                            object\n",
              "Altura_fix                       float64\n",
              "Peso_fix                         float64\n",
              "dtype: object"
            ],
            "text/html": [
              "<div>\n",
              "<style scoped>\n",
              "    .dataframe tbody tr th:only-of-type {\n",
              "        vertical-align: middle;\n",
              "    }\n",
              "\n",
              "    .dataframe tbody tr th {\n",
              "        vertical-align: top;\n",
              "    }\n",
              "\n",
              "    .dataframe thead th {\n",
              "        text-align: right;\n",
              "    }\n",
              "</style>\n",
              "<table border=\"1\" class=\"dataframe\">\n",
              "  <thead>\n",
              "    <tr style=\"text-align: right;\">\n",
              "      <th></th>\n",
              "      <th>0</th>\n",
              "    </tr>\n",
              "  </thead>\n",
              "  <tbody>\n",
              "    <tr>\n",
              "      <th>Nombre</th>\n",
              "      <td>object</td>\n",
              "    </tr>\n",
              "    <tr>\n",
              "      <th>Genero</th>\n",
              "      <td>object</td>\n",
              "    </tr>\n",
              "    <tr>\n",
              "      <th>Edad</th>\n",
              "      <td>int64</td>\n",
              "    </tr>\n",
              "    <tr>\n",
              "      <th>Peso</th>\n",
              "      <td>object</td>\n",
              "    </tr>\n",
              "    <tr>\n",
              "      <th>Altura</th>\n",
              "      <td>object</td>\n",
              "    </tr>\n",
              "    <tr>\n",
              "      <th>Conocimiento_BigData</th>\n",
              "      <td>object</td>\n",
              "    </tr>\n",
              "    <tr>\n",
              "      <th>Conocimiento_SIG</th>\n",
              "      <td>object</td>\n",
              "    </tr>\n",
              "    <tr>\n",
              "      <th>Habilidad_programacion</th>\n",
              "      <td>object</td>\n",
              "    </tr>\n",
              "    <tr>\n",
              "      <th>Conocimiento_lenguajes</th>\n",
              "      <td>object</td>\n",
              "    </tr>\n",
              "    <tr>\n",
              "      <th>Dominio_lenguaje_programacion</th>\n",
              "      <td>object</td>\n",
              "    </tr>\n",
              "    <tr>\n",
              "      <th>Entorno_de_preferencia</th>\n",
              "      <td>object</td>\n",
              "    </tr>\n",
              "    <tr>\n",
              "      <th>Nivel_en_python</th>\n",
              "      <td>object</td>\n",
              "    </tr>\n",
              "    <tr>\n",
              "      <th>Nivel_en_collab</th>\n",
              "      <td>object</td>\n",
              "    </tr>\n",
              "    <tr>\n",
              "      <th>Ciudad</th>\n",
              "      <td>object</td>\n",
              "    </tr>\n",
              "    <tr>\n",
              "      <th>Altura_fix</th>\n",
              "      <td>float64</td>\n",
              "    </tr>\n",
              "    <tr>\n",
              "      <th>Peso_fix</th>\n",
              "      <td>float64</td>\n",
              "    </tr>\n",
              "  </tbody>\n",
              "</table>\n",
              "</div><br><label><b>dtype:</b> object</label>"
            ]
          },
          "metadata": {},
          "execution_count": 89
        }
      ]
    },
    {
      "cell_type": "markdown",
      "source": [
        "### Generamos la primera estadística"
      ],
      "metadata": {
        "id": "lJ6jJyngGGd6"
      }
    },
    {
      "cell_type": "code",
      "source": [
        "# Calcular la edad promedio\n",
        "edad_promedio = datos['Edad'].mean()\n",
        "print(\"Edad promedio:\", edad_promedio)"
      ],
      "metadata": {
        "id": "eNqSTAnxGF2U",
        "colab": {
          "base_uri": "https://localhost:8080/"
        },
        "outputId": "ed12d50a-6701-4146-fbf7-3c2c0c5d772a"
      },
      "execution_count": 66,
      "outputs": [
        {
          "output_type": "stream",
          "name": "stdout",
          "text": [
            "Edad promedio: 35.94117647058823\n"
          ]
        }
      ]
    },
    {
      "cell_type": "code",
      "source": [
        "# prompt: comvertir el campo datos.Altura en un tipo numérico\n",
        "\n",
        "\n",
        "# Convert the 'datos.Altura' column to numeric, handling errors\n",
        "datos['Altura_fix'] = pd.to_numeric(datos['Altura'], errors='coerce')\n"
      ],
      "metadata": {
        "id": "WS69YpnGVcEM"
      },
      "execution_count": 70,
      "outputs": []
    },
    {
      "cell_type": "code",
      "source": [
        "# prompt: en el campo Altura, reemplazar \",\" por \".\"\n",
        "\n",
        "import pandas as pd\n",
        "# Replace commas with periods in the 'Altura' column\n",
        "datos['Altura'] = datos['Altura'].str.replace(',', '.')\n",
        "\n",
        "# Convert the 'Altura' column to numeric, handling errors\n",
        "datos['Altura_fix'] = pd.to_numeric(datos['Altura'], errors='coerce')\n"
      ],
      "metadata": {
        "id": "ac0JCVFIV_4D"
      },
      "execution_count": 74,
      "outputs": []
    },
    {
      "cell_type": "code",
      "source": [
        "datos.Altura_fix"
      ],
      "metadata": {
        "colab": {
          "base_uri": "https://localhost:8080/",
          "height": 1000
        },
        "id": "UWDYrTqfVEDF",
        "outputId": "1f31bc9a-4b24-4dcb-be08-f55d3fb819a9"
      },
      "execution_count": 75,
      "outputs": [
        {
          "output_type": "execute_result",
          "data": {
            "text/plain": [
              "0     1.60\n",
              "1     1.75\n",
              "2     1.80\n",
              "3     1.71\n",
              "4     1.87\n",
              "5     1.75\n",
              "6     1.72\n",
              "7     1.84\n",
              "8     1.65\n",
              "9     1.68\n",
              "10    1.54\n",
              "11    1.85\n",
              "12    1.60\n",
              "13    1.69\n",
              "14    1.50\n",
              "15    1.78\n",
              "16    1.70\n",
              "17    1.70\n",
              "18    1.70\n",
              "19    1.68\n",
              "20    1.50\n",
              "21    1.70\n",
              "22    1.67\n",
              "23    1.70\n",
              "24    1.71\n",
              "25    1.53\n",
              "26    1.73\n",
              "27    1.71\n",
              "28    1.60\n",
              "29    1.75\n",
              "30    1.72\n",
              "31    1.65\n",
              "32    1.50\n",
              "33    1.70\n",
              "Name: Altura_fix, dtype: float64"
            ],
            "text/html": [
              "<div>\n",
              "<style scoped>\n",
              "    .dataframe tbody tr th:only-of-type {\n",
              "        vertical-align: middle;\n",
              "    }\n",
              "\n",
              "    .dataframe tbody tr th {\n",
              "        vertical-align: top;\n",
              "    }\n",
              "\n",
              "    .dataframe thead th {\n",
              "        text-align: right;\n",
              "    }\n",
              "</style>\n",
              "<table border=\"1\" class=\"dataframe\">\n",
              "  <thead>\n",
              "    <tr style=\"text-align: right;\">\n",
              "      <th></th>\n",
              "      <th>Altura_fix</th>\n",
              "    </tr>\n",
              "  </thead>\n",
              "  <tbody>\n",
              "    <tr>\n",
              "      <th>0</th>\n",
              "      <td>1.60</td>\n",
              "    </tr>\n",
              "    <tr>\n",
              "      <th>1</th>\n",
              "      <td>1.75</td>\n",
              "    </tr>\n",
              "    <tr>\n",
              "      <th>2</th>\n",
              "      <td>1.80</td>\n",
              "    </tr>\n",
              "    <tr>\n",
              "      <th>3</th>\n",
              "      <td>1.71</td>\n",
              "    </tr>\n",
              "    <tr>\n",
              "      <th>4</th>\n",
              "      <td>1.87</td>\n",
              "    </tr>\n",
              "    <tr>\n",
              "      <th>5</th>\n",
              "      <td>1.75</td>\n",
              "    </tr>\n",
              "    <tr>\n",
              "      <th>6</th>\n",
              "      <td>1.72</td>\n",
              "    </tr>\n",
              "    <tr>\n",
              "      <th>7</th>\n",
              "      <td>1.84</td>\n",
              "    </tr>\n",
              "    <tr>\n",
              "      <th>8</th>\n",
              "      <td>1.65</td>\n",
              "    </tr>\n",
              "    <tr>\n",
              "      <th>9</th>\n",
              "      <td>1.68</td>\n",
              "    </tr>\n",
              "    <tr>\n",
              "      <th>10</th>\n",
              "      <td>1.54</td>\n",
              "    </tr>\n",
              "    <tr>\n",
              "      <th>11</th>\n",
              "      <td>1.85</td>\n",
              "    </tr>\n",
              "    <tr>\n",
              "      <th>12</th>\n",
              "      <td>1.60</td>\n",
              "    </tr>\n",
              "    <tr>\n",
              "      <th>13</th>\n",
              "      <td>1.69</td>\n",
              "    </tr>\n",
              "    <tr>\n",
              "      <th>14</th>\n",
              "      <td>1.50</td>\n",
              "    </tr>\n",
              "    <tr>\n",
              "      <th>15</th>\n",
              "      <td>1.78</td>\n",
              "    </tr>\n",
              "    <tr>\n",
              "      <th>16</th>\n",
              "      <td>1.70</td>\n",
              "    </tr>\n",
              "    <tr>\n",
              "      <th>17</th>\n",
              "      <td>1.70</td>\n",
              "    </tr>\n",
              "    <tr>\n",
              "      <th>18</th>\n",
              "      <td>1.70</td>\n",
              "    </tr>\n",
              "    <tr>\n",
              "      <th>19</th>\n",
              "      <td>1.68</td>\n",
              "    </tr>\n",
              "    <tr>\n",
              "      <th>20</th>\n",
              "      <td>1.50</td>\n",
              "    </tr>\n",
              "    <tr>\n",
              "      <th>21</th>\n",
              "      <td>1.70</td>\n",
              "    </tr>\n",
              "    <tr>\n",
              "      <th>22</th>\n",
              "      <td>1.67</td>\n",
              "    </tr>\n",
              "    <tr>\n",
              "      <th>23</th>\n",
              "      <td>1.70</td>\n",
              "    </tr>\n",
              "    <tr>\n",
              "      <th>24</th>\n",
              "      <td>1.71</td>\n",
              "    </tr>\n",
              "    <tr>\n",
              "      <th>25</th>\n",
              "      <td>1.53</td>\n",
              "    </tr>\n",
              "    <tr>\n",
              "      <th>26</th>\n",
              "      <td>1.73</td>\n",
              "    </tr>\n",
              "    <tr>\n",
              "      <th>27</th>\n",
              "      <td>1.71</td>\n",
              "    </tr>\n",
              "    <tr>\n",
              "      <th>28</th>\n",
              "      <td>1.60</td>\n",
              "    </tr>\n",
              "    <tr>\n",
              "      <th>29</th>\n",
              "      <td>1.75</td>\n",
              "    </tr>\n",
              "    <tr>\n",
              "      <th>30</th>\n",
              "      <td>1.72</td>\n",
              "    </tr>\n",
              "    <tr>\n",
              "      <th>31</th>\n",
              "      <td>1.65</td>\n",
              "    </tr>\n",
              "    <tr>\n",
              "      <th>32</th>\n",
              "      <td>1.50</td>\n",
              "    </tr>\n",
              "    <tr>\n",
              "      <th>33</th>\n",
              "      <td>1.70</td>\n",
              "    </tr>\n",
              "  </tbody>\n",
              "</table>\n",
              "</div><br><label><b>dtype:</b> float64</label>"
            ]
          },
          "metadata": {},
          "execution_count": 75
        }
      ]
    },
    {
      "cell_type": "markdown",
      "source": [
        "### Calculamos la altura promedio del grupo"
      ],
      "metadata": {
        "id": "DI56kmlEW7tk"
      }
    },
    {
      "cell_type": "code",
      "source": [
        "altura_promedio = datos.Altura_fix.mean()\n",
        "print('La altura promedio es:',altura_promedio)"
      ],
      "metadata": {
        "colab": {
          "base_uri": "https://localhost:8080/"
        },
        "id": "7zH_ujcpUtRd",
        "outputId": "f03d6f33-368c-4ec9-f3f4-d1a70202e6d3"
      },
      "execution_count": 80,
      "outputs": [
        {
          "output_type": "stream",
          "name": "stdout",
          "text": [
            "La altura promedio es: 1.6847058823529413\n"
          ]
        }
      ]
    },
    {
      "cell_type": "code",
      "source": [
        "# Calcular la Altura promedio\n",
        "# en caso que necesitemos cambiar el tipo de dato\n",
        "altura_promedio = pd.DataFrame(datos)\n",
        "# altura_promedio['Altura'] = datos['Altura'].str.replace(',', '.', regex=False)\n",
        "# altura_promedio['Altura'] = altura_promedio['Altura'].astype(float)\n",
        "\n",
        "altura_promedio = altura_promedio['Altura_fix'].mean()\n",
        "print(\"Altura promedio:\", altura_promedio)\n",
        "print(\"Altura mínima:\", datos['Altura_fix'].min())\n",
        "print(\"Altura máxima:\", datos['Altura_fix'].max())"
      ],
      "metadata": {
        "id": "Kp_XPO7qngOa",
        "colab": {
          "base_uri": "https://localhost:8080/"
        },
        "outputId": "92078735-c2e5-4a0e-b7d2-45c821896d1f"
      },
      "execution_count": 82,
      "outputs": [
        {
          "output_type": "stream",
          "name": "stdout",
          "text": [
            "Altura promedio: 1.6847058823529413\n",
            "Altura mínima: 1.5\n",
            "Altura máxima: 1.87\n"
          ]
        }
      ]
    },
    {
      "cell_type": "code",
      "source": [
        "\n",
        "datos['Peso_fix'] = datos['Peso'].str.replace(',', '.')\n",
        "\n",
        "\n",
        "datos['Peso_fix'].value_counts()\n",
        "datos['Peso_fix'] = pd.to_numeric(datos['Peso_fix'], errors='coerce')\n",
        "peso_promedio = datos['Peso_fix'].mean()\n",
        "\n",
        "print(\"Peso promedio:\", peso_promedio)\n",
        "print(\"Peso mínimo:\", datos['Peso_fix'].min())\n",
        "print(\"Peso máximo:\", datos['Peso_fix'].max())\n",
        "\n",
        "# Convert the 'Altura' column to numeric, handling errors\n",
        "# datos['Altura_fix'] = pd.to_numeric(datos['Altura'], errors='coerce')"
      ],
      "metadata": {
        "colab": {
          "base_uri": "https://localhost:8080/"
        },
        "id": "U_8-fBbfXbDK",
        "outputId": "ff54bd4f-8842-4137-d3f9-590fb03723e6"
      },
      "execution_count": 92,
      "outputs": [
        {
          "output_type": "stream",
          "name": "stdout",
          "text": [
            "Peso promedio: 76.57058823529412\n",
            "Peso mínimo: 50.0\n",
            "Peso máximo: 112.0\n"
          ]
        }
      ]
    },
    {
      "cell_type": "code",
      "source": [
        "len(datos)"
      ],
      "metadata": {
        "id": "S-JRCm536l2a",
        "colab": {
          "base_uri": "https://localhost:8080/"
        },
        "outputId": "5314c1d8-aeb0-4dd7-f3d5-c6046cf1b61d"
      },
      "execution_count": 91,
      "outputs": [
        {
          "output_type": "execute_result",
          "data": {
            "text/plain": [
              "34"
            ]
          },
          "metadata": {},
          "execution_count": 91
        }
      ]
    },
    {
      "cell_type": "code",
      "source": [
        "datos.shape"
      ],
      "metadata": {
        "id": "115Cr9GEpKkJ",
        "colab": {
          "base_uri": "https://localhost:8080/"
        },
        "outputId": "b2d103e0-747b-4f9e-c84f-ef9dbf562767"
      },
      "execution_count": 21,
      "outputs": [
        {
          "output_type": "execute_result",
          "data": {
            "text/plain": [
              "(34, 14)"
            ]
          },
          "metadata": {},
          "execution_count": 21
        }
      ]
    },
    {
      "cell_type": "code",
      "source": [
        "datos"
      ],
      "metadata": {
        "id": "T_Rj8ckLqDiK",
        "colab": {
          "base_uri": "https://localhost:8080/",
          "height": 1000
        },
        "outputId": "b08bbe0d-894b-4c9b-c80b-169fbc7e8c72"
      },
      "execution_count": 93,
      "outputs": [
        {
          "output_type": "execute_result",
          "data": {
            "text/plain": [
              "        Nombre     Genero  Edad  Peso Altura Conocimiento_BigData  \\\n",
              "0    Persona 1  Masculino    49    66   1.60                 Bajo   \n",
              "1    Persona 2  Masculino    34    70   1.75                 Bajo   \n",
              "2    Persona 3  Masculino    41    95   1.80                Medio   \n",
              "3    Persona 4  Masculino    47    90   1.71                 Bajo   \n",
              "4    Persona 5  Masculino    40   112   1.87                Medio   \n",
              "5    Persona 6  Masculino    40    90   1.75                Medio   \n",
              "6    Persona 7  Masculino    28    65   1.72                Medio   \n",
              "7    Persona 8  Masculino    27    82   1.84                Medio   \n",
              "8    Persona 9  Masculino    34    80   1.65                 Nulo   \n",
              "9   Persona 10  Masculino    41    73   1.68                 Bajo   \n",
              "10  Persona 11   Femenino    40    72   1.54                 Nulo   \n",
              "11  Persona 12  Masculino    35    90   1.85                 Bajo   \n",
              "12  Persona 13   Femenino    43    82   1.60                 Bajo   \n",
              "13  Persona 14  Masculino    41    75   1.69                 Bajo   \n",
              "14  Persona 15   Femenino    37    67   1.50                 Bajo   \n",
              "15  Persona 16  Masculino    45    81   1.78                Medio   \n",
              "16  Persona 17  Masculino    33    85   1.70                Medio   \n",
              "17  Persona 18  Masculino    26    71   1.70                Medio   \n",
              "18  Persona 19  Masculino    30    88   1.70                Medio   \n",
              "19  Persona 20  Masculino    44    92   1.68                 Bajo   \n",
              "20  Persona 21   Femenino    32    67   1.50                 Bajo   \n",
              "21  Persona 22  Masculino    30    70   1.70                 Bajo   \n",
              "22  Persona 23  Masculino    32    65   1.67                 Bajo   \n",
              "23  Persona 24  Masculino    32    83   1.70                 Bajo   \n",
              "24  Persona 25  Masculino    28    70   1.71                 Bajo   \n",
              "25  Persona 26   Femenino    25    65   1.53                Medio   \n",
              "26  Persona 27  Masculino    30    69   1.73                 Bajo   \n",
              "27  Persona 28  Masculino    33    68   1.71                 Bajo   \n",
              "28  Persona 29  Masculino    26  70,4   1.60                Medio   \n",
              "29  Persona 30  Masculino    43    85   1.75                 Bajo   \n",
              "30  Persona 31  Masculino    36    75   1.72                 Bajo   \n",
              "31  Persona 32  Masculino    45    70   1.65                 Bajo   \n",
              "32  Persona 33   Femenino    45    50   1.50                Medio   \n",
              "33  Persona 34  Masculino    30    70   1.70                 Bajo   \n",
              "\n",
              "   Conocimiento_SIG Habilidad_programacion  \\\n",
              "0              Bajo             Intermedio   \n",
              "1              Bajo               Avanzado   \n",
              "2              Bajo             Intermedio   \n",
              "3              Bajo             Intermedio   \n",
              "4             Medio               Avanzado   \n",
              "5              Bajo               Avanzado   \n",
              "6              Bajo             Intermedio   \n",
              "7              Bajo             Intermedio   \n",
              "8              Nulo             Intermedio   \n",
              "9              Bajo             Intermedio   \n",
              "10             Nulo                 Básico   \n",
              "11             Bajo             Intermedio   \n",
              "12             Nulo                 Básico   \n",
              "13            Medio               Avanzado   \n",
              "14             Nulo                 Básico   \n",
              "15             Bajo               Avanzado   \n",
              "16             Bajo             Intermedio   \n",
              "17             Bajo                 Básico   \n",
              "18            Medio             Intermedio   \n",
              "19             Bajo               Avanzado   \n",
              "20             Bajo             Intermedio   \n",
              "21             Bajo             Intermedio   \n",
              "22             Bajo               Avanzado   \n",
              "23            Medio                 Básico   \n",
              "24             Bajo             Intermedio   \n",
              "25            Medio             Intermedio   \n",
              "26             Bajo             Intermedio   \n",
              "27             Nulo                 Básico   \n",
              "28             Alto             Intermedio   \n",
              "29             Bajo             Intermedio   \n",
              "30             Bajo             Intermedio   \n",
              "31             Bajo                 Básico   \n",
              "32             Bajo             Intermedio   \n",
              "33             Bajo             Intermedio   \n",
              "\n",
              "                             Conocimiento_lenguajes  \\\n",
              "0                           Python, JavaScript, PHP   \n",
              "1                  Python, JavaScript, C++, C#, PHP   \n",
              "2                                   Python, C++, C#   \n",
              "3                                C++, Object pascal   \n",
              "4                       Python, JavaScript, C#, PHP   \n",
              "5                                        Python, C#   \n",
              "6                  Python, JavaScript, C++, C#, PHP   \n",
              "7                                       Python, C++   \n",
              "8                Python, JavaScript, C#, PHP, Otros   \n",
              "9                    Python, JavaScript, PHP, Otros   \n",
              "10                                 Python, C++, PHP   \n",
              "11                    Python, JavaScript, C#, Otros   \n",
              "12                                    Python, Otros   \n",
              "13               Python, JavaScript, C#, PHP, Otros   \n",
              "14                                           Python   \n",
              "15                             Python, C++, C#, PHP   \n",
              "16                 Python, JavaScript, C++, C#, PHP   \n",
              "17                                      Python, C++   \n",
              "18                                           Python   \n",
              "19   JavaScript, C++, C#, Object pascal, PHP, Otros   \n",
              "20                      Python, JavaScript, C#, PHP   \n",
              "21                        Python, JavaScript, Otros   \n",
              "22                           Python, JavaScript, C#   \n",
              "23                                           Python   \n",
              "24                                           Python   \n",
              "25                                      Python, C++   \n",
              "26              Python, JavaScript, C++, PHP, Otros   \n",
              "27                        Python, JavaScript, Otros   \n",
              "28                     Python, JavaScript, C++, PHP   \n",
              "29  Python, JavaScript, C++, C#, Object pascal, PHP   \n",
              "30                                    Python, Otros   \n",
              "31                                           Python   \n",
              "32                               Python, PHP, Otros   \n",
              "33                        Python, JavaScript, Otros   \n",
              "\n",
              "   Dominio_lenguaje_programacion Entorno_de_preferencia Nivel_en_python  \\\n",
              "0                         Python     Visual Studio Code      Intermedio   \n",
              "1                     JavaScript     Visual Studio Code      Intermedio   \n",
              "2                             C#            Visual .net          Básico   \n",
              "3                  Object pascal            Visual .net          Básico   \n",
              "4                             C#            Visual .net          Básico   \n",
              "5                             C#              Jetbrains      Intermedio   \n",
              "6                         Python     Visual Studio Code      Intermedio   \n",
              "7                        Ninguno     Visual Studio Code      Intermedio   \n",
              "8                     JavaScript     Visual Studio Code          Básico   \n",
              "9                         Python     Visual Studio Code      Intermedio   \n",
              "10                       Ninguno                   Otro          Básico   \n",
              "11                          Otro     Visual Studio Code          Básico   \n",
              "12                          Otro     Visual Studio Code          Básico   \n",
              "13                            C#     Visual Studio Code      Intermedio   \n",
              "14                       Ninguno     Visual Studio Code          Básico   \n",
              "15                           PHP     Visual Studio Code      Intermedio   \n",
              "16                            C#            Visual .net          Básico   \n",
              "17                           C++     Visual Studio Code          Básico   \n",
              "18                        Python     Visual Studio Code      Intermedio   \n",
              "19                           PHP                   Otro          Básico   \n",
              "20                    JavaScript     Visual Studio Code      Intermedio   \n",
              "21                    JavaScript              Jetbrains          Básico   \n",
              "22                        Python     Visual Studio Code        Avanzado   \n",
              "23                        Python     Visual Studio Code          Básico   \n",
              "24                       Ninguno     Visual Studio Code          Básico   \n",
              "25                        Python     Visual Studio Code      Intermedio   \n",
              "26                        Python     Visual Studio Code      Intermedio   \n",
              "27                        Python     Visual Studio Code          Básico   \n",
              "28                           PHP     Visual Studio Code        Avanzado   \n",
              "29                            C#            Visual .net          Básico   \n",
              "30                       Ninguno     Visual Studio Code      Intermedio   \n",
              "31                       Ninguno     Visual Studio Code          Básico   \n",
              "32                          Otro     Visual Studio Code          Básico   \n",
              "33                    JavaScript              Jetbrains          Básico   \n",
              "\n",
              "   Nivel_en_collab                                  Ciudad  Altura_fix  \\\n",
              "0           Básico                              Cochabamba        1.60   \n",
              "1           Básico                                  La Paz        1.75   \n",
              "2           Básico                 Santa Cruz de la Sierra        1.80   \n",
              "3           Básico                 Santa Cruz de la Sierra        1.71   \n",
              "4           Básico                 Santa Cruz de la Sierra        1.87   \n",
              "5       Intermedio                 Santa Cruz de la Sierra        1.75   \n",
              "6       Intermedio                                  La Paz        1.72   \n",
              "7           Básico                 Santa Cruz de la Sierra        1.84   \n",
              "8           Básico                              Cochabamba        1.65   \n",
              "9           Básico                 Santa Cruz de la Sierra        1.68   \n",
              "10          Básico                 Santa Cruz de la Sierra        1.54   \n",
              "11          Básico                 Santa Cruz de la Sierra        1.85   \n",
              "12          Básico                                  La Paz        1.60   \n",
              "13      Intermedio                                  La Paz        1.69   \n",
              "14          Básico                 Santa Cruz de la Sierra        1.50   \n",
              "15      Intermedio                              Cochabamba        1.78   \n",
              "16          Básico                 Santa Cruz de la Sierra        1.70   \n",
              "17          Básico                 Santa Cruz de la Sierra        1.70   \n",
              "18      Intermedio                 Santa Cruz de la Sierra        1.70   \n",
              "19          Básico                 Santa Cruz de la Sierra        1.68   \n",
              "20      Intermedio                                  La Paz        1.50   \n",
              "21          Básico                                  La Paz        1.70   \n",
              "22          Básico                 Santa Cruz de la Sierra        1.67   \n",
              "23          Básico                              Cochabamba        1.70   \n",
              "24          Básico                 Santa Cruz de la Sierra        1.71   \n",
              "25          Básico                                  La Paz        1.53   \n",
              "26      Intermedio                 Santa Cruz de la Sierra        1.73   \n",
              "27      Intermedio                                  La Paz        1.71   \n",
              "28        Avanzado                                  La Paz        1.60   \n",
              "29          Básico                 Santa Cruz de la Sierra        1.75   \n",
              "30          Básico  Otra ciudad dentro del un departamento        1.72   \n",
              "31          Básico                 Santa Cruz de la Sierra        1.65   \n",
              "32          Básico                 Santa Cruz de la Sierra        1.50   \n",
              "33          Básico                                  La Paz        1.70   \n",
              "\n",
              "    Peso_fix  \n",
              "0       66.0  \n",
              "1       70.0  \n",
              "2       95.0  \n",
              "3       90.0  \n",
              "4      112.0  \n",
              "5       90.0  \n",
              "6       65.0  \n",
              "7       82.0  \n",
              "8       80.0  \n",
              "9       73.0  \n",
              "10      72.0  \n",
              "11      90.0  \n",
              "12      82.0  \n",
              "13      75.0  \n",
              "14      67.0  \n",
              "15      81.0  \n",
              "16      85.0  \n",
              "17      71.0  \n",
              "18      88.0  \n",
              "19      92.0  \n",
              "20      67.0  \n",
              "21      70.0  \n",
              "22      65.0  \n",
              "23      83.0  \n",
              "24      70.0  \n",
              "25      65.0  \n",
              "26      69.0  \n",
              "27      68.0  \n",
              "28      70.4  \n",
              "29      85.0  \n",
              "30      75.0  \n",
              "31      70.0  \n",
              "32      50.0  \n",
              "33      70.0  "
            ],
            "text/html": [
              "\n",
              "  <div id=\"df-f43718c7-634c-4478-8026-68820cc5a646\" class=\"colab-df-container\">\n",
              "    <div>\n",
              "<style scoped>\n",
              "    .dataframe tbody tr th:only-of-type {\n",
              "        vertical-align: middle;\n",
              "    }\n",
              "\n",
              "    .dataframe tbody tr th {\n",
              "        vertical-align: top;\n",
              "    }\n",
              "\n",
              "    .dataframe thead th {\n",
              "        text-align: right;\n",
              "    }\n",
              "</style>\n",
              "<table border=\"1\" class=\"dataframe\">\n",
              "  <thead>\n",
              "    <tr style=\"text-align: right;\">\n",
              "      <th></th>\n",
              "      <th>Nombre</th>\n",
              "      <th>Genero</th>\n",
              "      <th>Edad</th>\n",
              "      <th>Peso</th>\n",
              "      <th>Altura</th>\n",
              "      <th>Conocimiento_BigData</th>\n",
              "      <th>Conocimiento_SIG</th>\n",
              "      <th>Habilidad_programacion</th>\n",
              "      <th>Conocimiento_lenguajes</th>\n",
              "      <th>Dominio_lenguaje_programacion</th>\n",
              "      <th>Entorno_de_preferencia</th>\n",
              "      <th>Nivel_en_python</th>\n",
              "      <th>Nivel_en_collab</th>\n",
              "      <th>Ciudad</th>\n",
              "      <th>Altura_fix</th>\n",
              "      <th>Peso_fix</th>\n",
              "    </tr>\n",
              "  </thead>\n",
              "  <tbody>\n",
              "    <tr>\n",
              "      <th>0</th>\n",
              "      <td>Persona 1</td>\n",
              "      <td>Masculino</td>\n",
              "      <td>49</td>\n",
              "      <td>66</td>\n",
              "      <td>1.60</td>\n",
              "      <td>Bajo</td>\n",
              "      <td>Bajo</td>\n",
              "      <td>Intermedio</td>\n",
              "      <td>Python, JavaScript, PHP</td>\n",
              "      <td>Python</td>\n",
              "      <td>Visual Studio Code</td>\n",
              "      <td>Intermedio</td>\n",
              "      <td>Básico</td>\n",
              "      <td>Cochabamba</td>\n",
              "      <td>1.60</td>\n",
              "      <td>66.0</td>\n",
              "    </tr>\n",
              "    <tr>\n",
              "      <th>1</th>\n",
              "      <td>Persona 2</td>\n",
              "      <td>Masculino</td>\n",
              "      <td>34</td>\n",
              "      <td>70</td>\n",
              "      <td>1.75</td>\n",
              "      <td>Bajo</td>\n",
              "      <td>Bajo</td>\n",
              "      <td>Avanzado</td>\n",
              "      <td>Python, JavaScript, C++, C#, PHP</td>\n",
              "      <td>JavaScript</td>\n",
              "      <td>Visual Studio Code</td>\n",
              "      <td>Intermedio</td>\n",
              "      <td>Básico</td>\n",
              "      <td>La Paz</td>\n",
              "      <td>1.75</td>\n",
              "      <td>70.0</td>\n",
              "    </tr>\n",
              "    <tr>\n",
              "      <th>2</th>\n",
              "      <td>Persona 3</td>\n",
              "      <td>Masculino</td>\n",
              "      <td>41</td>\n",
              "      <td>95</td>\n",
              "      <td>1.80</td>\n",
              "      <td>Medio</td>\n",
              "      <td>Bajo</td>\n",
              "      <td>Intermedio</td>\n",
              "      <td>Python, C++, C#</td>\n",
              "      <td>C#</td>\n",
              "      <td>Visual .net</td>\n",
              "      <td>Básico</td>\n",
              "      <td>Básico</td>\n",
              "      <td>Santa Cruz de la Sierra</td>\n",
              "      <td>1.80</td>\n",
              "      <td>95.0</td>\n",
              "    </tr>\n",
              "    <tr>\n",
              "      <th>3</th>\n",
              "      <td>Persona 4</td>\n",
              "      <td>Masculino</td>\n",
              "      <td>47</td>\n",
              "      <td>90</td>\n",
              "      <td>1.71</td>\n",
              "      <td>Bajo</td>\n",
              "      <td>Bajo</td>\n",
              "      <td>Intermedio</td>\n",
              "      <td>C++, Object pascal</td>\n",
              "      <td>Object pascal</td>\n",
              "      <td>Visual .net</td>\n",
              "      <td>Básico</td>\n",
              "      <td>Básico</td>\n",
              "      <td>Santa Cruz de la Sierra</td>\n",
              "      <td>1.71</td>\n",
              "      <td>90.0</td>\n",
              "    </tr>\n",
              "    <tr>\n",
              "      <th>4</th>\n",
              "      <td>Persona 5</td>\n",
              "      <td>Masculino</td>\n",
              "      <td>40</td>\n",
              "      <td>112</td>\n",
              "      <td>1.87</td>\n",
              "      <td>Medio</td>\n",
              "      <td>Medio</td>\n",
              "      <td>Avanzado</td>\n",
              "      <td>Python, JavaScript, C#, PHP</td>\n",
              "      <td>C#</td>\n",
              "      <td>Visual .net</td>\n",
              "      <td>Básico</td>\n",
              "      <td>Básico</td>\n",
              "      <td>Santa Cruz de la Sierra</td>\n",
              "      <td>1.87</td>\n",
              "      <td>112.0</td>\n",
              "    </tr>\n",
              "    <tr>\n",
              "      <th>5</th>\n",
              "      <td>Persona 6</td>\n",
              "      <td>Masculino</td>\n",
              "      <td>40</td>\n",
              "      <td>90</td>\n",
              "      <td>1.75</td>\n",
              "      <td>Medio</td>\n",
              "      <td>Bajo</td>\n",
              "      <td>Avanzado</td>\n",
              "      <td>Python, C#</td>\n",
              "      <td>C#</td>\n",
              "      <td>Jetbrains</td>\n",
              "      <td>Intermedio</td>\n",
              "      <td>Intermedio</td>\n",
              "      <td>Santa Cruz de la Sierra</td>\n",
              "      <td>1.75</td>\n",
              "      <td>90.0</td>\n",
              "    </tr>\n",
              "    <tr>\n",
              "      <th>6</th>\n",
              "      <td>Persona 7</td>\n",
              "      <td>Masculino</td>\n",
              "      <td>28</td>\n",
              "      <td>65</td>\n",
              "      <td>1.72</td>\n",
              "      <td>Medio</td>\n",
              "      <td>Bajo</td>\n",
              "      <td>Intermedio</td>\n",
              "      <td>Python, JavaScript, C++, C#, PHP</td>\n",
              "      <td>Python</td>\n",
              "      <td>Visual Studio Code</td>\n",
              "      <td>Intermedio</td>\n",
              "      <td>Intermedio</td>\n",
              "      <td>La Paz</td>\n",
              "      <td>1.72</td>\n",
              "      <td>65.0</td>\n",
              "    </tr>\n",
              "    <tr>\n",
              "      <th>7</th>\n",
              "      <td>Persona 8</td>\n",
              "      <td>Masculino</td>\n",
              "      <td>27</td>\n",
              "      <td>82</td>\n",
              "      <td>1.84</td>\n",
              "      <td>Medio</td>\n",
              "      <td>Bajo</td>\n",
              "      <td>Intermedio</td>\n",
              "      <td>Python, C++</td>\n",
              "      <td>Ninguno</td>\n",
              "      <td>Visual Studio Code</td>\n",
              "      <td>Intermedio</td>\n",
              "      <td>Básico</td>\n",
              "      <td>Santa Cruz de la Sierra</td>\n",
              "      <td>1.84</td>\n",
              "      <td>82.0</td>\n",
              "    </tr>\n",
              "    <tr>\n",
              "      <th>8</th>\n",
              "      <td>Persona 9</td>\n",
              "      <td>Masculino</td>\n",
              "      <td>34</td>\n",
              "      <td>80</td>\n",
              "      <td>1.65</td>\n",
              "      <td>Nulo</td>\n",
              "      <td>Nulo</td>\n",
              "      <td>Intermedio</td>\n",
              "      <td>Python, JavaScript, C#, PHP, Otros</td>\n",
              "      <td>JavaScript</td>\n",
              "      <td>Visual Studio Code</td>\n",
              "      <td>Básico</td>\n",
              "      <td>Básico</td>\n",
              "      <td>Cochabamba</td>\n",
              "      <td>1.65</td>\n",
              "      <td>80.0</td>\n",
              "    </tr>\n",
              "    <tr>\n",
              "      <th>9</th>\n",
              "      <td>Persona 10</td>\n",
              "      <td>Masculino</td>\n",
              "      <td>41</td>\n",
              "      <td>73</td>\n",
              "      <td>1.68</td>\n",
              "      <td>Bajo</td>\n",
              "      <td>Bajo</td>\n",
              "      <td>Intermedio</td>\n",
              "      <td>Python, JavaScript, PHP, Otros</td>\n",
              "      <td>Python</td>\n",
              "      <td>Visual Studio Code</td>\n",
              "      <td>Intermedio</td>\n",
              "      <td>Básico</td>\n",
              "      <td>Santa Cruz de la Sierra</td>\n",
              "      <td>1.68</td>\n",
              "      <td>73.0</td>\n",
              "    </tr>\n",
              "    <tr>\n",
              "      <th>10</th>\n",
              "      <td>Persona 11</td>\n",
              "      <td>Femenino</td>\n",
              "      <td>40</td>\n",
              "      <td>72</td>\n",
              "      <td>1.54</td>\n",
              "      <td>Nulo</td>\n",
              "      <td>Nulo</td>\n",
              "      <td>Básico</td>\n",
              "      <td>Python, C++, PHP</td>\n",
              "      <td>Ninguno</td>\n",
              "      <td>Otro</td>\n",
              "      <td>Básico</td>\n",
              "      <td>Básico</td>\n",
              "      <td>Santa Cruz de la Sierra</td>\n",
              "      <td>1.54</td>\n",
              "      <td>72.0</td>\n",
              "    </tr>\n",
              "    <tr>\n",
              "      <th>11</th>\n",
              "      <td>Persona 12</td>\n",
              "      <td>Masculino</td>\n",
              "      <td>35</td>\n",
              "      <td>90</td>\n",
              "      <td>1.85</td>\n",
              "      <td>Bajo</td>\n",
              "      <td>Bajo</td>\n",
              "      <td>Intermedio</td>\n",
              "      <td>Python, JavaScript, C#, Otros</td>\n",
              "      <td>Otro</td>\n",
              "      <td>Visual Studio Code</td>\n",
              "      <td>Básico</td>\n",
              "      <td>Básico</td>\n",
              "      <td>Santa Cruz de la Sierra</td>\n",
              "      <td>1.85</td>\n",
              "      <td>90.0</td>\n",
              "    </tr>\n",
              "    <tr>\n",
              "      <th>12</th>\n",
              "      <td>Persona 13</td>\n",
              "      <td>Femenino</td>\n",
              "      <td>43</td>\n",
              "      <td>82</td>\n",
              "      <td>1.60</td>\n",
              "      <td>Bajo</td>\n",
              "      <td>Nulo</td>\n",
              "      <td>Básico</td>\n",
              "      <td>Python, Otros</td>\n",
              "      <td>Otro</td>\n",
              "      <td>Visual Studio Code</td>\n",
              "      <td>Básico</td>\n",
              "      <td>Básico</td>\n",
              "      <td>La Paz</td>\n",
              "      <td>1.60</td>\n",
              "      <td>82.0</td>\n",
              "    </tr>\n",
              "    <tr>\n",
              "      <th>13</th>\n",
              "      <td>Persona 14</td>\n",
              "      <td>Masculino</td>\n",
              "      <td>41</td>\n",
              "      <td>75</td>\n",
              "      <td>1.69</td>\n",
              "      <td>Bajo</td>\n",
              "      <td>Medio</td>\n",
              "      <td>Avanzado</td>\n",
              "      <td>Python, JavaScript, C#, PHP, Otros</td>\n",
              "      <td>C#</td>\n",
              "      <td>Visual Studio Code</td>\n",
              "      <td>Intermedio</td>\n",
              "      <td>Intermedio</td>\n",
              "      <td>La Paz</td>\n",
              "      <td>1.69</td>\n",
              "      <td>75.0</td>\n",
              "    </tr>\n",
              "    <tr>\n",
              "      <th>14</th>\n",
              "      <td>Persona 15</td>\n",
              "      <td>Femenino</td>\n",
              "      <td>37</td>\n",
              "      <td>67</td>\n",
              "      <td>1.50</td>\n",
              "      <td>Bajo</td>\n",
              "      <td>Nulo</td>\n",
              "      <td>Básico</td>\n",
              "      <td>Python</td>\n",
              "      <td>Ninguno</td>\n",
              "      <td>Visual Studio Code</td>\n",
              "      <td>Básico</td>\n",
              "      <td>Básico</td>\n",
              "      <td>Santa Cruz de la Sierra</td>\n",
              "      <td>1.50</td>\n",
              "      <td>67.0</td>\n",
              "    </tr>\n",
              "    <tr>\n",
              "      <th>15</th>\n",
              "      <td>Persona 16</td>\n",
              "      <td>Masculino</td>\n",
              "      <td>45</td>\n",
              "      <td>81</td>\n",
              "      <td>1.78</td>\n",
              "      <td>Medio</td>\n",
              "      <td>Bajo</td>\n",
              "      <td>Avanzado</td>\n",
              "      <td>Python, C++, C#, PHP</td>\n",
              "      <td>PHP</td>\n",
              "      <td>Visual Studio Code</td>\n",
              "      <td>Intermedio</td>\n",
              "      <td>Intermedio</td>\n",
              "      <td>Cochabamba</td>\n",
              "      <td>1.78</td>\n",
              "      <td>81.0</td>\n",
              "    </tr>\n",
              "    <tr>\n",
              "      <th>16</th>\n",
              "      <td>Persona 17</td>\n",
              "      <td>Masculino</td>\n",
              "      <td>33</td>\n",
              "      <td>85</td>\n",
              "      <td>1.70</td>\n",
              "      <td>Medio</td>\n",
              "      <td>Bajo</td>\n",
              "      <td>Intermedio</td>\n",
              "      <td>Python, JavaScript, C++, C#, PHP</td>\n",
              "      <td>C#</td>\n",
              "      <td>Visual .net</td>\n",
              "      <td>Básico</td>\n",
              "      <td>Básico</td>\n",
              "      <td>Santa Cruz de la Sierra</td>\n",
              "      <td>1.70</td>\n",
              "      <td>85.0</td>\n",
              "    </tr>\n",
              "    <tr>\n",
              "      <th>17</th>\n",
              "      <td>Persona 18</td>\n",
              "      <td>Masculino</td>\n",
              "      <td>26</td>\n",
              "      <td>71</td>\n",
              "      <td>1.70</td>\n",
              "      <td>Medio</td>\n",
              "      <td>Bajo</td>\n",
              "      <td>Básico</td>\n",
              "      <td>Python, C++</td>\n",
              "      <td>C++</td>\n",
              "      <td>Visual Studio Code</td>\n",
              "      <td>Básico</td>\n",
              "      <td>Básico</td>\n",
              "      <td>Santa Cruz de la Sierra</td>\n",
              "      <td>1.70</td>\n",
              "      <td>71.0</td>\n",
              "    </tr>\n",
              "    <tr>\n",
              "      <th>18</th>\n",
              "      <td>Persona 19</td>\n",
              "      <td>Masculino</td>\n",
              "      <td>30</td>\n",
              "      <td>88</td>\n",
              "      <td>1.70</td>\n",
              "      <td>Medio</td>\n",
              "      <td>Medio</td>\n",
              "      <td>Intermedio</td>\n",
              "      <td>Python</td>\n",
              "      <td>Python</td>\n",
              "      <td>Visual Studio Code</td>\n",
              "      <td>Intermedio</td>\n",
              "      <td>Intermedio</td>\n",
              "      <td>Santa Cruz de la Sierra</td>\n",
              "      <td>1.70</td>\n",
              "      <td>88.0</td>\n",
              "    </tr>\n",
              "    <tr>\n",
              "      <th>19</th>\n",
              "      <td>Persona 20</td>\n",
              "      <td>Masculino</td>\n",
              "      <td>44</td>\n",
              "      <td>92</td>\n",
              "      <td>1.68</td>\n",
              "      <td>Bajo</td>\n",
              "      <td>Bajo</td>\n",
              "      <td>Avanzado</td>\n",
              "      <td>JavaScript, C++, C#, Object pascal, PHP, Otros</td>\n",
              "      <td>PHP</td>\n",
              "      <td>Otro</td>\n",
              "      <td>Básico</td>\n",
              "      <td>Básico</td>\n",
              "      <td>Santa Cruz de la Sierra</td>\n",
              "      <td>1.68</td>\n",
              "      <td>92.0</td>\n",
              "    </tr>\n",
              "    <tr>\n",
              "      <th>20</th>\n",
              "      <td>Persona 21</td>\n",
              "      <td>Femenino</td>\n",
              "      <td>32</td>\n",
              "      <td>67</td>\n",
              "      <td>1.50</td>\n",
              "      <td>Bajo</td>\n",
              "      <td>Bajo</td>\n",
              "      <td>Intermedio</td>\n",
              "      <td>Python, JavaScript, C#, PHP</td>\n",
              "      <td>JavaScript</td>\n",
              "      <td>Visual Studio Code</td>\n",
              "      <td>Intermedio</td>\n",
              "      <td>Intermedio</td>\n",
              "      <td>La Paz</td>\n",
              "      <td>1.50</td>\n",
              "      <td>67.0</td>\n",
              "    </tr>\n",
              "    <tr>\n",
              "      <th>21</th>\n",
              "      <td>Persona 22</td>\n",
              "      <td>Masculino</td>\n",
              "      <td>30</td>\n",
              "      <td>70</td>\n",
              "      <td>1.70</td>\n",
              "      <td>Bajo</td>\n",
              "      <td>Bajo</td>\n",
              "      <td>Intermedio</td>\n",
              "      <td>Python, JavaScript, Otros</td>\n",
              "      <td>JavaScript</td>\n",
              "      <td>Jetbrains</td>\n",
              "      <td>Básico</td>\n",
              "      <td>Básico</td>\n",
              "      <td>La Paz</td>\n",
              "      <td>1.70</td>\n",
              "      <td>70.0</td>\n",
              "    </tr>\n",
              "    <tr>\n",
              "      <th>22</th>\n",
              "      <td>Persona 23</td>\n",
              "      <td>Masculino</td>\n",
              "      <td>32</td>\n",
              "      <td>65</td>\n",
              "      <td>1.67</td>\n",
              "      <td>Bajo</td>\n",
              "      <td>Bajo</td>\n",
              "      <td>Avanzado</td>\n",
              "      <td>Python, JavaScript, C#</td>\n",
              "      <td>Python</td>\n",
              "      <td>Visual Studio Code</td>\n",
              "      <td>Avanzado</td>\n",
              "      <td>Básico</td>\n",
              "      <td>Santa Cruz de la Sierra</td>\n",
              "      <td>1.67</td>\n",
              "      <td>65.0</td>\n",
              "    </tr>\n",
              "    <tr>\n",
              "      <th>23</th>\n",
              "      <td>Persona 24</td>\n",
              "      <td>Masculino</td>\n",
              "      <td>32</td>\n",
              "      <td>83</td>\n",
              "      <td>1.70</td>\n",
              "      <td>Bajo</td>\n",
              "      <td>Medio</td>\n",
              "      <td>Básico</td>\n",
              "      <td>Python</td>\n",
              "      <td>Python</td>\n",
              "      <td>Visual Studio Code</td>\n",
              "      <td>Básico</td>\n",
              "      <td>Básico</td>\n",
              "      <td>Cochabamba</td>\n",
              "      <td>1.70</td>\n",
              "      <td>83.0</td>\n",
              "    </tr>\n",
              "    <tr>\n",
              "      <th>24</th>\n",
              "      <td>Persona 25</td>\n",
              "      <td>Masculino</td>\n",
              "      <td>28</td>\n",
              "      <td>70</td>\n",
              "      <td>1.71</td>\n",
              "      <td>Bajo</td>\n",
              "      <td>Bajo</td>\n",
              "      <td>Intermedio</td>\n",
              "      <td>Python</td>\n",
              "      <td>Ninguno</td>\n",
              "      <td>Visual Studio Code</td>\n",
              "      <td>Básico</td>\n",
              "      <td>Básico</td>\n",
              "      <td>Santa Cruz de la Sierra</td>\n",
              "      <td>1.71</td>\n",
              "      <td>70.0</td>\n",
              "    </tr>\n",
              "    <tr>\n",
              "      <th>25</th>\n",
              "      <td>Persona 26</td>\n",
              "      <td>Femenino</td>\n",
              "      <td>25</td>\n",
              "      <td>65</td>\n",
              "      <td>1.53</td>\n",
              "      <td>Medio</td>\n",
              "      <td>Medio</td>\n",
              "      <td>Intermedio</td>\n",
              "      <td>Python, C++</td>\n",
              "      <td>Python</td>\n",
              "      <td>Visual Studio Code</td>\n",
              "      <td>Intermedio</td>\n",
              "      <td>Básico</td>\n",
              "      <td>La Paz</td>\n",
              "      <td>1.53</td>\n",
              "      <td>65.0</td>\n",
              "    </tr>\n",
              "    <tr>\n",
              "      <th>26</th>\n",
              "      <td>Persona 27</td>\n",
              "      <td>Masculino</td>\n",
              "      <td>30</td>\n",
              "      <td>69</td>\n",
              "      <td>1.73</td>\n",
              "      <td>Bajo</td>\n",
              "      <td>Bajo</td>\n",
              "      <td>Intermedio</td>\n",
              "      <td>Python, JavaScript, C++, PHP, Otros</td>\n",
              "      <td>Python</td>\n",
              "      <td>Visual Studio Code</td>\n",
              "      <td>Intermedio</td>\n",
              "      <td>Intermedio</td>\n",
              "      <td>Santa Cruz de la Sierra</td>\n",
              "      <td>1.73</td>\n",
              "      <td>69.0</td>\n",
              "    </tr>\n",
              "    <tr>\n",
              "      <th>27</th>\n",
              "      <td>Persona 28</td>\n",
              "      <td>Masculino</td>\n",
              "      <td>33</td>\n",
              "      <td>68</td>\n",
              "      <td>1.71</td>\n",
              "      <td>Bajo</td>\n",
              "      <td>Nulo</td>\n",
              "      <td>Básico</td>\n",
              "      <td>Python, JavaScript, Otros</td>\n",
              "      <td>Python</td>\n",
              "      <td>Visual Studio Code</td>\n",
              "      <td>Básico</td>\n",
              "      <td>Intermedio</td>\n",
              "      <td>La Paz</td>\n",
              "      <td>1.71</td>\n",
              "      <td>68.0</td>\n",
              "    </tr>\n",
              "    <tr>\n",
              "      <th>28</th>\n",
              "      <td>Persona 29</td>\n",
              "      <td>Masculino</td>\n",
              "      <td>26</td>\n",
              "      <td>70,4</td>\n",
              "      <td>1.60</td>\n",
              "      <td>Medio</td>\n",
              "      <td>Alto</td>\n",
              "      <td>Intermedio</td>\n",
              "      <td>Python, JavaScript, C++, PHP</td>\n",
              "      <td>PHP</td>\n",
              "      <td>Visual Studio Code</td>\n",
              "      <td>Avanzado</td>\n",
              "      <td>Avanzado</td>\n",
              "      <td>La Paz</td>\n",
              "      <td>1.60</td>\n",
              "      <td>70.4</td>\n",
              "    </tr>\n",
              "    <tr>\n",
              "      <th>29</th>\n",
              "      <td>Persona 30</td>\n",
              "      <td>Masculino</td>\n",
              "      <td>43</td>\n",
              "      <td>85</td>\n",
              "      <td>1.75</td>\n",
              "      <td>Bajo</td>\n",
              "      <td>Bajo</td>\n",
              "      <td>Intermedio</td>\n",
              "      <td>Python, JavaScript, C++, C#, Object pascal, PHP</td>\n",
              "      <td>C#</td>\n",
              "      <td>Visual .net</td>\n",
              "      <td>Básico</td>\n",
              "      <td>Básico</td>\n",
              "      <td>Santa Cruz de la Sierra</td>\n",
              "      <td>1.75</td>\n",
              "      <td>85.0</td>\n",
              "    </tr>\n",
              "    <tr>\n",
              "      <th>30</th>\n",
              "      <td>Persona 31</td>\n",
              "      <td>Masculino</td>\n",
              "      <td>36</td>\n",
              "      <td>75</td>\n",
              "      <td>1.72</td>\n",
              "      <td>Bajo</td>\n",
              "      <td>Bajo</td>\n",
              "      <td>Intermedio</td>\n",
              "      <td>Python, Otros</td>\n",
              "      <td>Ninguno</td>\n",
              "      <td>Visual Studio Code</td>\n",
              "      <td>Intermedio</td>\n",
              "      <td>Básico</td>\n",
              "      <td>Otra ciudad dentro del un departamento</td>\n",
              "      <td>1.72</td>\n",
              "      <td>75.0</td>\n",
              "    </tr>\n",
              "    <tr>\n",
              "      <th>31</th>\n",
              "      <td>Persona 32</td>\n",
              "      <td>Masculino</td>\n",
              "      <td>45</td>\n",
              "      <td>70</td>\n",
              "      <td>1.65</td>\n",
              "      <td>Bajo</td>\n",
              "      <td>Bajo</td>\n",
              "      <td>Básico</td>\n",
              "      <td>Python</td>\n",
              "      <td>Ninguno</td>\n",
              "      <td>Visual Studio Code</td>\n",
              "      <td>Básico</td>\n",
              "      <td>Básico</td>\n",
              "      <td>Santa Cruz de la Sierra</td>\n",
              "      <td>1.65</td>\n",
              "      <td>70.0</td>\n",
              "    </tr>\n",
              "    <tr>\n",
              "      <th>32</th>\n",
              "      <td>Persona 33</td>\n",
              "      <td>Femenino</td>\n",
              "      <td>45</td>\n",
              "      <td>50</td>\n",
              "      <td>1.50</td>\n",
              "      <td>Medio</td>\n",
              "      <td>Bajo</td>\n",
              "      <td>Intermedio</td>\n",
              "      <td>Python, PHP, Otros</td>\n",
              "      <td>Otro</td>\n",
              "      <td>Visual Studio Code</td>\n",
              "      <td>Básico</td>\n",
              "      <td>Básico</td>\n",
              "      <td>Santa Cruz de la Sierra</td>\n",
              "      <td>1.50</td>\n",
              "      <td>50.0</td>\n",
              "    </tr>\n",
              "    <tr>\n",
              "      <th>33</th>\n",
              "      <td>Persona 34</td>\n",
              "      <td>Masculino</td>\n",
              "      <td>30</td>\n",
              "      <td>70</td>\n",
              "      <td>1.70</td>\n",
              "      <td>Bajo</td>\n",
              "      <td>Bajo</td>\n",
              "      <td>Intermedio</td>\n",
              "      <td>Python, JavaScript, Otros</td>\n",
              "      <td>JavaScript</td>\n",
              "      <td>Jetbrains</td>\n",
              "      <td>Básico</td>\n",
              "      <td>Básico</td>\n",
              "      <td>La Paz</td>\n",
              "      <td>1.70</td>\n",
              "      <td>70.0</td>\n",
              "    </tr>\n",
              "  </tbody>\n",
              "</table>\n",
              "</div>\n",
              "    <div class=\"colab-df-buttons\">\n",
              "\n",
              "  <div class=\"colab-df-container\">\n",
              "    <button class=\"colab-df-convert\" onclick=\"convertToInteractive('df-f43718c7-634c-4478-8026-68820cc5a646')\"\n",
              "            title=\"Convert this dataframe to an interactive table.\"\n",
              "            style=\"display:none;\">\n",
              "\n",
              "  <svg xmlns=\"http://www.w3.org/2000/svg\" height=\"24px\" viewBox=\"0 -960 960 960\">\n",
              "    <path d=\"M120-120v-720h720v720H120Zm60-500h600v-160H180v160Zm220 220h160v-160H400v160Zm0 220h160v-160H400v160ZM180-400h160v-160H180v160Zm440 0h160v-160H620v160ZM180-180h160v-160H180v160Zm440 0h160v-160H620v160Z\"/>\n",
              "  </svg>\n",
              "    </button>\n",
              "\n",
              "  <style>\n",
              "    .colab-df-container {\n",
              "      display:flex;\n",
              "      gap: 12px;\n",
              "    }\n",
              "\n",
              "    .colab-df-convert {\n",
              "      background-color: #E8F0FE;\n",
              "      border: none;\n",
              "      border-radius: 50%;\n",
              "      cursor: pointer;\n",
              "      display: none;\n",
              "      fill: #1967D2;\n",
              "      height: 32px;\n",
              "      padding: 0 0 0 0;\n",
              "      width: 32px;\n",
              "    }\n",
              "\n",
              "    .colab-df-convert:hover {\n",
              "      background-color: #E2EBFA;\n",
              "      box-shadow: 0px 1px 2px rgba(60, 64, 67, 0.3), 0px 1px 3px 1px rgba(60, 64, 67, 0.15);\n",
              "      fill: #174EA6;\n",
              "    }\n",
              "\n",
              "    .colab-df-buttons div {\n",
              "      margin-bottom: 4px;\n",
              "    }\n",
              "\n",
              "    [theme=dark] .colab-df-convert {\n",
              "      background-color: #3B4455;\n",
              "      fill: #D2E3FC;\n",
              "    }\n",
              "\n",
              "    [theme=dark] .colab-df-convert:hover {\n",
              "      background-color: #434B5C;\n",
              "      box-shadow: 0px 1px 3px 1px rgba(0, 0, 0, 0.15);\n",
              "      filter: drop-shadow(0px 1px 2px rgba(0, 0, 0, 0.3));\n",
              "      fill: #FFFFFF;\n",
              "    }\n",
              "  </style>\n",
              "\n",
              "    <script>\n",
              "      const buttonEl =\n",
              "        document.querySelector('#df-f43718c7-634c-4478-8026-68820cc5a646 button.colab-df-convert');\n",
              "      buttonEl.style.display =\n",
              "        google.colab.kernel.accessAllowed ? 'block' : 'none';\n",
              "\n",
              "      async function convertToInteractive(key) {\n",
              "        const element = document.querySelector('#df-f43718c7-634c-4478-8026-68820cc5a646');\n",
              "        const dataTable =\n",
              "          await google.colab.kernel.invokeFunction('convertToInteractive',\n",
              "                                                    [key], {});\n",
              "        if (!dataTable) return;\n",
              "\n",
              "        const docLinkHtml = 'Like what you see? Visit the ' +\n",
              "          '<a target=\"_blank\" href=https://colab.research.google.com/notebooks/data_table.ipynb>data table notebook</a>'\n",
              "          + ' to learn more about interactive tables.';\n",
              "        element.innerHTML = '';\n",
              "        dataTable['output_type'] = 'display_data';\n",
              "        await google.colab.output.renderOutput(dataTable, element);\n",
              "        const docLink = document.createElement('div');\n",
              "        docLink.innerHTML = docLinkHtml;\n",
              "        element.appendChild(docLink);\n",
              "      }\n",
              "    </script>\n",
              "  </div>\n",
              "\n",
              "\n",
              "    <div id=\"df-2d29daeb-32fe-4b18-bdc9-f83c936bbace\">\n",
              "      <button class=\"colab-df-quickchart\" onclick=\"quickchart('df-2d29daeb-32fe-4b18-bdc9-f83c936bbace')\"\n",
              "                title=\"Suggest charts\"\n",
              "                style=\"display:none;\">\n",
              "\n",
              "<svg xmlns=\"http://www.w3.org/2000/svg\" height=\"24px\"viewBox=\"0 0 24 24\"\n",
              "     width=\"24px\">\n",
              "    <g>\n",
              "        <path d=\"M19 3H5c-1.1 0-2 .9-2 2v14c0 1.1.9 2 2 2h14c1.1 0 2-.9 2-2V5c0-1.1-.9-2-2-2zM9 17H7v-7h2v7zm4 0h-2V7h2v10zm4 0h-2v-4h2v4z\"/>\n",
              "    </g>\n",
              "</svg>\n",
              "      </button>\n",
              "\n",
              "<style>\n",
              "  .colab-df-quickchart {\n",
              "      --bg-color: #E8F0FE;\n",
              "      --fill-color: #1967D2;\n",
              "      --hover-bg-color: #E2EBFA;\n",
              "      --hover-fill-color: #174EA6;\n",
              "      --disabled-fill-color: #AAA;\n",
              "      --disabled-bg-color: #DDD;\n",
              "  }\n",
              "\n",
              "  [theme=dark] .colab-df-quickchart {\n",
              "      --bg-color: #3B4455;\n",
              "      --fill-color: #D2E3FC;\n",
              "      --hover-bg-color: #434B5C;\n",
              "      --hover-fill-color: #FFFFFF;\n",
              "      --disabled-bg-color: #3B4455;\n",
              "      --disabled-fill-color: #666;\n",
              "  }\n",
              "\n",
              "  .colab-df-quickchart {\n",
              "    background-color: var(--bg-color);\n",
              "    border: none;\n",
              "    border-radius: 50%;\n",
              "    cursor: pointer;\n",
              "    display: none;\n",
              "    fill: var(--fill-color);\n",
              "    height: 32px;\n",
              "    padding: 0;\n",
              "    width: 32px;\n",
              "  }\n",
              "\n",
              "  .colab-df-quickchart:hover {\n",
              "    background-color: var(--hover-bg-color);\n",
              "    box-shadow: 0 1px 2px rgba(60, 64, 67, 0.3), 0 1px 3px 1px rgba(60, 64, 67, 0.15);\n",
              "    fill: var(--button-hover-fill-color);\n",
              "  }\n",
              "\n",
              "  .colab-df-quickchart-complete:disabled,\n",
              "  .colab-df-quickchart-complete:disabled:hover {\n",
              "    background-color: var(--disabled-bg-color);\n",
              "    fill: var(--disabled-fill-color);\n",
              "    box-shadow: none;\n",
              "  }\n",
              "\n",
              "  .colab-df-spinner {\n",
              "    border: 2px solid var(--fill-color);\n",
              "    border-color: transparent;\n",
              "    border-bottom-color: var(--fill-color);\n",
              "    animation:\n",
              "      spin 1s steps(1) infinite;\n",
              "  }\n",
              "\n",
              "  @keyframes spin {\n",
              "    0% {\n",
              "      border-color: transparent;\n",
              "      border-bottom-color: var(--fill-color);\n",
              "      border-left-color: var(--fill-color);\n",
              "    }\n",
              "    20% {\n",
              "      border-color: transparent;\n",
              "      border-left-color: var(--fill-color);\n",
              "      border-top-color: var(--fill-color);\n",
              "    }\n",
              "    30% {\n",
              "      border-color: transparent;\n",
              "      border-left-color: var(--fill-color);\n",
              "      border-top-color: var(--fill-color);\n",
              "      border-right-color: var(--fill-color);\n",
              "    }\n",
              "    40% {\n",
              "      border-color: transparent;\n",
              "      border-right-color: var(--fill-color);\n",
              "      border-top-color: var(--fill-color);\n",
              "    }\n",
              "    60% {\n",
              "      border-color: transparent;\n",
              "      border-right-color: var(--fill-color);\n",
              "    }\n",
              "    80% {\n",
              "      border-color: transparent;\n",
              "      border-right-color: var(--fill-color);\n",
              "      border-bottom-color: var(--fill-color);\n",
              "    }\n",
              "    90% {\n",
              "      border-color: transparent;\n",
              "      border-bottom-color: var(--fill-color);\n",
              "    }\n",
              "  }\n",
              "</style>\n",
              "\n",
              "      <script>\n",
              "        async function quickchart(key) {\n",
              "          const quickchartButtonEl =\n",
              "            document.querySelector('#' + key + ' button');\n",
              "          quickchartButtonEl.disabled = true;  // To prevent multiple clicks.\n",
              "          quickchartButtonEl.classList.add('colab-df-spinner');\n",
              "          try {\n",
              "            const charts = await google.colab.kernel.invokeFunction(\n",
              "                'suggestCharts', [key], {});\n",
              "          } catch (error) {\n",
              "            console.error('Error during call to suggestCharts:', error);\n",
              "          }\n",
              "          quickchartButtonEl.classList.remove('colab-df-spinner');\n",
              "          quickchartButtonEl.classList.add('colab-df-quickchart-complete');\n",
              "        }\n",
              "        (() => {\n",
              "          let quickchartButtonEl =\n",
              "            document.querySelector('#df-2d29daeb-32fe-4b18-bdc9-f83c936bbace button');\n",
              "          quickchartButtonEl.style.display =\n",
              "            google.colab.kernel.accessAllowed ? 'block' : 'none';\n",
              "        })();\n",
              "      </script>\n",
              "    </div>\n",
              "\n",
              "  <div id=\"id_8e115939-13e2-4a8b-a5a0-79214af14b15\">\n",
              "    <style>\n",
              "      .colab-df-generate {\n",
              "        background-color: #E8F0FE;\n",
              "        border: none;\n",
              "        border-radius: 50%;\n",
              "        cursor: pointer;\n",
              "        display: none;\n",
              "        fill: #1967D2;\n",
              "        height: 32px;\n",
              "        padding: 0 0 0 0;\n",
              "        width: 32px;\n",
              "      }\n",
              "\n",
              "      .colab-df-generate:hover {\n",
              "        background-color: #E2EBFA;\n",
              "        box-shadow: 0px 1px 2px rgba(60, 64, 67, 0.3), 0px 1px 3px 1px rgba(60, 64, 67, 0.15);\n",
              "        fill: #174EA6;\n",
              "      }\n",
              "\n",
              "      [theme=dark] .colab-df-generate {\n",
              "        background-color: #3B4455;\n",
              "        fill: #D2E3FC;\n",
              "      }\n",
              "\n",
              "      [theme=dark] .colab-df-generate:hover {\n",
              "        background-color: #434B5C;\n",
              "        box-shadow: 0px 1px 3px 1px rgba(0, 0, 0, 0.15);\n",
              "        filter: drop-shadow(0px 1px 2px rgba(0, 0, 0, 0.3));\n",
              "        fill: #FFFFFF;\n",
              "      }\n",
              "    </style>\n",
              "    <button class=\"colab-df-generate\" onclick=\"generateWithVariable('datos')\"\n",
              "            title=\"Generate code using this dataframe.\"\n",
              "            style=\"display:none;\">\n",
              "\n",
              "  <svg xmlns=\"http://www.w3.org/2000/svg\" height=\"24px\"viewBox=\"0 0 24 24\"\n",
              "       width=\"24px\">\n",
              "    <path d=\"M7,19H8.4L18.45,9,17,7.55,7,17.6ZM5,21V16.75L18.45,3.32a2,2,0,0,1,2.83,0l1.4,1.43a1.91,1.91,0,0,1,.58,1.4,1.91,1.91,0,0,1-.58,1.4L9.25,21ZM18.45,9,17,7.55Zm-12,3A5.31,5.31,0,0,0,4.9,8.1,5.31,5.31,0,0,0,1,6.5,5.31,5.31,0,0,0,4.9,4.9,5.31,5.31,0,0,0,6.5,1,5.31,5.31,0,0,0,8.1,4.9,5.31,5.31,0,0,0,12,6.5,5.46,5.46,0,0,0,6.5,12Z\"/>\n",
              "  </svg>\n",
              "    </button>\n",
              "    <script>\n",
              "      (() => {\n",
              "      const buttonEl =\n",
              "        document.querySelector('#id_8e115939-13e2-4a8b-a5a0-79214af14b15 button.colab-df-generate');\n",
              "      buttonEl.style.display =\n",
              "        google.colab.kernel.accessAllowed ? 'block' : 'none';\n",
              "\n",
              "      buttonEl.onclick = () => {\n",
              "        google.colab.notebook.generateWithVariable('datos');\n",
              "      }\n",
              "      })();\n",
              "    </script>\n",
              "  </div>\n",
              "\n",
              "    </div>\n",
              "  </div>\n"
            ],
            "application/vnd.google.colaboratory.intrinsic+json": {
              "type": "dataframe",
              "variable_name": "datos",
              "summary": "{\n  \"name\": \"datos\",\n  \"rows\": 34,\n  \"fields\": [\n    {\n      \"column\": \"Nombre\",\n      \"properties\": {\n        \"dtype\": \"string\",\n        \"num_unique_values\": 34,\n        \"samples\": [\n          \"Persona 16\",\n          \"Persona 20\",\n          \"Persona 28\"\n        ],\n        \"semantic_type\": \"\",\n        \"description\": \"\"\n      }\n    },\n    {\n      \"column\": \"Genero\",\n      \"properties\": {\n        \"dtype\": \"category\",\n        \"num_unique_values\": 2,\n        \"samples\": [\n          \"Femenino\",\n          \"Masculino\"\n        ],\n        \"semantic_type\": \"\",\n        \"description\": \"\"\n      }\n    },\n    {\n      \"column\": \"Edad\",\n      \"properties\": {\n        \"dtype\": \"number\",\n        \"std\": 6,\n        \"min\": 25,\n        \"max\": 49,\n        \"num_unique_values\": 18,\n        \"samples\": [\n          49,\n          34\n        ],\n        \"semantic_type\": \"\",\n        \"description\": \"\"\n      }\n    },\n    {\n      \"column\": \"Peso\",\n      \"properties\": {\n        \"dtype\": \"string\",\n        \"num_unique_values\": 22,\n        \"samples\": [\n          \"66\",\n          \"85\"\n        ],\n        \"semantic_type\": \"\",\n        \"description\": \"\"\n      }\n    },\n    {\n      \"column\": \"Altura\",\n      \"properties\": {\n        \"dtype\": \"string\",\n        \"num_unique_values\": 18,\n        \"samples\": [\n          \"1.60\",\n          \"1.75\"\n        ],\n        \"semantic_type\": \"\",\n        \"description\": \"\"\n      }\n    },\n    {\n      \"column\": \"Conocimiento_BigData\",\n      \"properties\": {\n        \"dtype\": \"category\",\n        \"num_unique_values\": 3,\n        \"samples\": [\n          \"Bajo\",\n          \"Medio\"\n        ],\n        \"semantic_type\": \"\",\n        \"description\": \"\"\n      }\n    },\n    {\n      \"column\": \"Conocimiento_SIG\",\n      \"properties\": {\n        \"dtype\": \"category\",\n        \"num_unique_values\": 4,\n        \"samples\": [\n          \"Medio\",\n          \"Alto\"\n        ],\n        \"semantic_type\": \"\",\n        \"description\": \"\"\n      }\n    },\n    {\n      \"column\": \"Habilidad_programacion\",\n      \"properties\": {\n        \"dtype\": \"category\",\n        \"num_unique_values\": 3,\n        \"samples\": [\n          \"Intermedio\",\n          \"Avanzado\"\n        ],\n        \"semantic_type\": \"\",\n        \"description\": \"\"\n      }\n    },\n    {\n      \"column\": \"Conocimiento_lenguajes\",\n      \"properties\": {\n        \"dtype\": \"string\",\n        \"num_unique_values\": 21,\n        \"samples\": [\n          \"Python, JavaScript, PHP\",\n          \"Python, JavaScript, C++, PHP, Otros\"\n        ],\n        \"semantic_type\": \"\",\n        \"description\": \"\"\n      }\n    },\n    {\n      \"column\": \"Dominio_lenguaje_programacion\",\n      \"properties\": {\n        \"dtype\": \"category\",\n        \"num_unique_values\": 8,\n        \"samples\": [\n          \"JavaScript\",\n          \"Otro\"\n        ],\n        \"semantic_type\": \"\",\n        \"description\": \"\"\n      }\n    },\n    {\n      \"column\": \"Entorno_de_preferencia\",\n      \"properties\": {\n        \"dtype\": \"category\",\n        \"num_unique_values\": 4,\n        \"samples\": [\n          \"Visual .net\",\n          \"Otro\"\n        ],\n        \"semantic_type\": \"\",\n        \"description\": \"\"\n      }\n    },\n    {\n      \"column\": \"Nivel_en_python\",\n      \"properties\": {\n        \"dtype\": \"category\",\n        \"num_unique_values\": 3,\n        \"samples\": [\n          \"Intermedio\",\n          \"B\\u00e1sico\"\n        ],\n        \"semantic_type\": \"\",\n        \"description\": \"\"\n      }\n    },\n    {\n      \"column\": \"Nivel_en_collab\",\n      \"properties\": {\n        \"dtype\": \"category\",\n        \"num_unique_values\": 3,\n        \"samples\": [\n          \"B\\u00e1sico\",\n          \"Intermedio\"\n        ],\n        \"semantic_type\": \"\",\n        \"description\": \"\"\n      }\n    },\n    {\n      \"column\": \"Ciudad\",\n      \"properties\": {\n        \"dtype\": \"category\",\n        \"num_unique_values\": 4,\n        \"samples\": [\n          \"La Paz\",\n          \"Otra ciudad dentro del un departamento\"\n        ],\n        \"semantic_type\": \"\",\n        \"description\": \"\"\n      }\n    },\n    {\n      \"column\": \"Altura_fix\",\n      \"properties\": {\n        \"dtype\": \"number\",\n        \"std\": 0.09538551106916152,\n        \"min\": 1.5,\n        \"max\": 1.87,\n        \"num_unique_values\": 18,\n        \"samples\": [\n          1.6,\n          1.75\n        ],\n        \"semantic_type\": \"\",\n        \"description\": \"\"\n      }\n    },\n    {\n      \"column\": \"Peso_fix\",\n      \"properties\": {\n        \"dtype\": \"number\",\n        \"std\": 11.851723552236832,\n        \"min\": 50.0,\n        \"max\": 112.0,\n        \"num_unique_values\": 22,\n        \"samples\": [\n          66.0,\n          85.0\n        ],\n        \"semantic_type\": \"\",\n        \"description\": \"\"\n      }\n    }\n  ]\n}"
            }
          },
          "metadata": {},
          "execution_count": 93
        }
      ]
    },
    {
      "cell_type": "markdown",
      "source": [
        "Obtenemos estadísticas"
      ],
      "metadata": {
        "id": "zwVEi6xoFSCq"
      }
    },
    {
      "cell_type": "code",
      "source": [
        "# Ahora con numpy generamos otras estadísticas\n",
        "\n",
        "# Seleccionamos el nombre de la columna, en este caso será la altura de las personas\n",
        "data_array = datos['Altura_fix'].dropna().to_numpy()\n",
        "\n",
        "# data_array['Altura_fix'] = data_array['Altura'].str.replace('$', '', regex=False)\n",
        "\n",
        "#data_array = datos['Altura'].to_numpy()\n",
        "\n",
        "# print(data_array)\n",
        "mean_value = np.mean(data_array)\n",
        "median_value = np.median(data_array)\n",
        "std_value = np.std(data_array)\n",
        "print(\"A partir del campo 'Altura', se obtienen las siguientes estadísticas:\")\n",
        "print(f\"Media: {mean_value}, Mediana: {median_value}, Desviación Estándar: {std_value}\")\n"
      ],
      "metadata": {
        "id": "_hjqEjuXMGyy",
        "colab": {
          "base_uri": "https://localhost:8080/"
        },
        "outputId": "9161c66e-3b17-41cf-89ad-6b16699c6c62"
      },
      "execution_count": 143,
      "outputs": [
        {
          "output_type": "stream",
          "name": "stdout",
          "text": [
            "A partir del campo 'Altura', se obtienen las siguientes estadísticas:\n",
            "Media: 1.6847058823529413, Mediana: 1.7, Desviación Estándar: 0.09397231426197221\n"
          ]
        }
      ]
    },
    {
      "cell_type": "code",
      "source": [
        "# Imprimimos el contenido de la columna Altura\n",
        "print(datos['Altura'].value_counts())"
      ],
      "metadata": {
        "id": "D4csUh-U5kMZ",
        "colab": {
          "base_uri": "https://localhost:8080/"
        },
        "outputId": "540373d9-8d72-4e85-e71a-0701a2fedc35"
      },
      "execution_count": 144,
      "outputs": [
        {
          "output_type": "stream",
          "name": "stdout",
          "text": [
            "Altura\n",
            "1.70    6\n",
            "1.60    3\n",
            "1.75    3\n",
            "1.71    3\n",
            "1.50    3\n",
            "1.72    2\n",
            "1.68    2\n",
            "1.65    2\n",
            "1.87    1\n",
            "1.80    1\n",
            "1.54    1\n",
            "1.84    1\n",
            "1.69    1\n",
            "1.85    1\n",
            "1.78    1\n",
            "1.67    1\n",
            "1.53    1\n",
            "1.73    1\n",
            "Name: count, dtype: int64\n"
          ]
        }
      ]
    },
    {
      "cell_type": "code",
      "source": [
        "# reducimos los valores\n",
        "datosFix = datos[datos.Altura_fix <= 1.65]\n"
      ],
      "metadata": {
        "id": "JtOFmEyc7BDi"
      },
      "execution_count": 145,
      "outputs": []
    },
    {
      "cell_type": "code",
      "source": [
        "print('a partir de nuevo de datos de ',len(datosFix), 'registros, tenemos lo siguiente:')\n",
        "altura_promedio = datosFix['Altura_fix'].mean()\n",
        "print(\"Altura promedio:\", np.round(altura_promedio,2))\n",
        "print(\"Altura minima:\", datosFix['Altura'].min())\n",
        "print(\"Altura máxima:\", datosFix['Altura'].max())\n"
      ],
      "metadata": {
        "id": "vnrZy4yd7DCa",
        "colab": {
          "base_uri": "https://localhost:8080/"
        },
        "outputId": "5b8cda99-e271-4383-b17f-eabf7c49a6f6"
      },
      "execution_count": 146,
      "outputs": [
        {
          "output_type": "stream",
          "name": "stdout",
          "text": [
            "a partir de nuevo de datos de  10 registros, tenemos lo siguiente:\n",
            "Altura promedio: 1.57\n",
            "Altura minima: 1.50\n",
            "Altura máxima: 1.65\n"
          ]
        }
      ]
    },
    {
      "cell_type": "markdown",
      "source": [
        "## Representación gráfica de los datos"
      ],
      "metadata": {
        "id": "qRBfw0BBrZKZ"
      }
    },
    {
      "cell_type": "markdown",
      "source": [
        "Generamos un histograma a partir del campo Edad y desplegamos el gráfico"
      ],
      "metadata": {
        "id": "8iJ_Y_4XMIEy"
      }
    },
    {
      "cell_type": "code",
      "source": [
        "# Histograma de la edad\n",
        "plt.hist(datos['Edad'])\n",
        "plt.xlabel('Edad')\n",
        "plt.ylabel('Frecuencia')\n",
        "plt.title('Distribución de la edad')\n",
        "plt.show()\n"
      ],
      "metadata": {
        "id": "7DSGTdeTMGk8",
        "colab": {
          "base_uri": "https://localhost:8080/",
          "height": 472
        },
        "outputId": "659a43e2-5853-4a70-8854-be7ec7e765bd"
      },
      "execution_count": 147,
      "outputs": [
        {
          "output_type": "display_data",
          "data": {
            "text/plain": [
              "<Figure size 640x480 with 1 Axes>"
            ],
            "image/png": "[encoded data removed]"
          },
          "metadata": {}
        }
      ]
    },
    {
      "cell_type": "markdown",
      "source": [],
      "metadata": {
        "id": "iGS62ETKMUn5"
      }
    },
    {
      "cell_type": "code",
      "source": [
        "# Diagrama de barras para la distribución de frecuencias por conocimiento de Big Data\n",
        "\n",
        "data_array = datos['Conocimiento_BigData'].dropna().to_numpy()\n",
        "\n",
        "plt.hist(data_array, bins=10, alpha=0.5)\n",
        "plt.title('Histograma')\n",
        "plt.xlabel('Conocimiento_BigData')\n",
        "plt.ylabel('Frecuencia')\n",
        "plt.show()"
      ],
      "metadata": {
        "id": "iOxpWFZPMNJj",
        "colab": {
          "base_uri": "https://localhost:8080/",
          "height": 472
        },
        "outputId": "6fdb692e-b62c-4aeb-9cf2-dfec73a278dc"
      },
      "execution_count": 106,
      "outputs": [
        {
          "output_type": "display_data",
          "data": {
            "text/plain": [
              "<Figure size 640x480 with 1 Axes>"
            ],
            "image/png": "[encoded data removed]"
          },
          "metadata": {}
        }
      ]
    },
    {
      "cell_type": "code",
      "source": [
        "# Diagrama de barras para la distribución de frecuencias por conocimiento de SIG\n",
        "\n",
        "data_array = datos['Conocimiento_SIG'].dropna().to_numpy()\n",
        "\n",
        "plt.hist(data_array, bins=10, alpha=0.5)\n",
        "plt.title('Histograma')\n",
        "plt.xlabel('Conocimiento_SIG')\n",
        "plt.ylabel('Frecuencia')\n",
        "plt.show()"
      ],
      "metadata": {
        "id": "1TJPwWs4rwDG",
        "colab": {
          "base_uri": "https://localhost:8080/",
          "height": 472
        },
        "outputId": "225a4812-c67d-4746-b40f-afb88b0003ce"
      },
      "execution_count": 107,
      "outputs": [
        {
          "output_type": "display_data",
          "data": {
            "text/plain": [
              "<Figure size 640x480 with 1 Axes>"
            ],
            "image/png": "[encoded data removed]"
          },
          "metadata": {}
        }
      ]
    },
    {
      "cell_type": "code",
      "source": [
        "datos.columns"
      ],
      "metadata": {
        "colab": {
          "base_uri": "https://localhost:8080/"
        },
        "id": "KD3mcr23aQn_",
        "outputId": "5c389e5d-73de-4de8-93b3-8546406c53e8"
      },
      "execution_count": 109,
      "outputs": [
        {
          "output_type": "execute_result",
          "data": {
            "text/plain": [
              "Index(['Nombre', 'Genero', 'Edad', 'Peso', 'Altura', 'Conocimiento_BigData',\n",
              "       'Conocimiento_SIG', 'Habilidad_programacion', 'Conocimiento_lenguajes',\n",
              "       'Dominio_lenguaje_programacion', 'Entorno_de_preferencia',\n",
              "       'Nivel_en_python', 'Nivel_en_collab', 'Ciudad', 'Altura_fix',\n",
              "       'Peso_fix'],\n",
              "      dtype='object')"
            ]
          },
          "metadata": {},
          "execution_count": 109
        }
      ]
    },
    {
      "cell_type": "code",
      "source": [
        "### Campo con multiples valores\n",
        "data_array = datos['Dominio_lenguaje_programacion'].dropna().to_numpy()\n",
        "\n",
        "plt.hist(data_array, bins=10, alpha=0.5)\n",
        "plt.title('Histograma')\n",
        "plt.xlabel('Lenguajes')\n",
        "plt.ylabel('Frecuencia')\n",
        "plt.show()"
      ],
      "metadata": {
        "id": "LliYPRgN6tDK",
        "colab": {
          "base_uri": "https://localhost:8080/",
          "height": 472
        },
        "outputId": "69830e73-9d65-4ed2-bc80-2737a4d219f3"
      },
      "execution_count": 110,
      "outputs": [
        {
          "output_type": "display_data",
          "data": {
            "text/plain": [
              "<Figure size 640x480 with 1 Axes>"
            ],
            "image/png": "[encoded data removed]"
          },
          "metadata": {}
        }
      ]
    },
    {
      "cell_type": "code",
      "source": [
        "datos.Dominio_lenguaje_programacion"
      ],
      "metadata": {
        "id": "AKKN4JsV3Kjq",
        "colab": {
          "base_uri": "https://localhost:8080/",
          "height": 1000
        },
        "outputId": "fcff4428-71e8-47a4-b385-dd34dd01d2da"
      },
      "execution_count": 111,
      "outputs": [
        {
          "output_type": "execute_result",
          "data": {
            "text/plain": [
              "0            Python\n",
              "1        JavaScript\n",
              "2                C#\n",
              "3     Object pascal\n",
              "4                C#\n",
              "5                C#\n",
              "6            Python\n",
              "7           Ninguno\n",
              "8        JavaScript\n",
              "9            Python\n",
              "10          Ninguno\n",
              "11             Otro\n",
              "12             Otro\n",
              "13               C#\n",
              "14          Ninguno\n",
              "15              PHP\n",
              "16               C#\n",
              "17              C++\n",
              "18           Python\n",
              "19              PHP\n",
              "20       JavaScript\n",
              "21       JavaScript\n",
              "22           Python\n",
              "23           Python\n",
              "24          Ninguno\n",
              "25           Python\n",
              "26           Python\n",
              "27           Python\n",
              "28              PHP\n",
              "29               C#\n",
              "30          Ninguno\n",
              "31          Ninguno\n",
              "32             Otro\n",
              "33       JavaScript\n",
              "Name: Dominio_lenguaje_programacion, dtype: object"
            ],
            "text/html": [
              "<div>\n",
              "<style scoped>\n",
              "    .dataframe tbody tr th:only-of-type {\n",
              "        vertical-align: middle;\n",
              "    }\n",
              "\n",
              "    .dataframe tbody tr th {\n",
              "        vertical-align: top;\n",
              "    }\n",
              "\n",
              "    .dataframe thead th {\n",
              "        text-align: right;\n",
              "    }\n",
              "</style>\n",
              "<table border=\"1\" class=\"dataframe\">\n",
              "  <thead>\n",
              "    <tr style=\"text-align: right;\">\n",
              "      <th></th>\n",
              "      <th>Dominio_lenguaje_programacion</th>\n",
              "    </tr>\n",
              "  </thead>\n",
              "  <tbody>\n",
              "    <tr>\n",
              "      <th>0</th>\n",
              "      <td>Python</td>\n",
              "    </tr>\n",
              "    <tr>\n",
              "      <th>1</th>\n",
              "      <td>JavaScript</td>\n",
              "    </tr>\n",
              "    <tr>\n",
              "      <th>2</th>\n",
              "      <td>C#</td>\n",
              "    </tr>\n",
              "    <tr>\n",
              "      <th>3</th>\n",
              "      <td>Object pascal</td>\n",
              "    </tr>\n",
              "    <tr>\n",
              "      <th>4</th>\n",
              "      <td>C#</td>\n",
              "    </tr>\n",
              "    <tr>\n",
              "      <th>5</th>\n",
              "      <td>C#</td>\n",
              "    </tr>\n",
              "    <tr>\n",
              "      <th>6</th>\n",
              "      <td>Python</td>\n",
              "    </tr>\n",
              "    <tr>\n",
              "      <th>7</th>\n",
              "      <td>Ninguno</td>\n",
              "    </tr>\n",
              "    <tr>\n",
              "      <th>8</th>\n",
              "      <td>JavaScript</td>\n",
              "    </tr>\n",
              "    <tr>\n",
              "      <th>9</th>\n",
              "      <td>Python</td>\n",
              "    </tr>\n",
              "    <tr>\n",
              "      <th>10</th>\n",
              "      <td>Ninguno</td>\n",
              "    </tr>\n",
              "    <tr>\n",
              "      <th>11</th>\n",
              "      <td>Otro</td>\n",
              "    </tr>\n",
              "    <tr>\n",
              "      <th>12</th>\n",
              "      <td>Otro</td>\n",
              "    </tr>\n",
              "    <tr>\n",
              "      <th>13</th>\n",
              "      <td>C#</td>\n",
              "    </tr>\n",
              "    <tr>\n",
              "      <th>14</th>\n",
              "      <td>Ninguno</td>\n",
              "    </tr>\n",
              "    <tr>\n",
              "      <th>15</th>\n",
              "      <td>PHP</td>\n",
              "    </tr>\n",
              "    <tr>\n",
              "      <th>16</th>\n",
              "      <td>C#</td>\n",
              "    </tr>\n",
              "    <tr>\n",
              "      <th>17</th>\n",
              "      <td>C++</td>\n",
              "    </tr>\n",
              "    <tr>\n",
              "      <th>18</th>\n",
              "      <td>Python</td>\n",
              "    </tr>\n",
              "    <tr>\n",
              "      <th>19</th>\n",
              "      <td>PHP</td>\n",
              "    </tr>\n",
              "    <tr>\n",
              "      <th>20</th>\n",
              "      <td>JavaScript</td>\n",
              "    </tr>\n",
              "    <tr>\n",
              "      <th>21</th>\n",
              "      <td>JavaScript</td>\n",
              "    </tr>\n",
              "    <tr>\n",
              "      <th>22</th>\n",
              "      <td>Python</td>\n",
              "    </tr>\n",
              "    <tr>\n",
              "      <th>23</th>\n",
              "      <td>Python</td>\n",
              "    </tr>\n",
              "    <tr>\n",
              "      <th>24</th>\n",
              "      <td>Ninguno</td>\n",
              "    </tr>\n",
              "    <tr>\n",
              "      <th>25</th>\n",
              "      <td>Python</td>\n",
              "    </tr>\n",
              "    <tr>\n",
              "      <th>26</th>\n",
              "      <td>Python</td>\n",
              "    </tr>\n",
              "    <tr>\n",
              "      <th>27</th>\n",
              "      <td>Python</td>\n",
              "    </tr>\n",
              "    <tr>\n",
              "      <th>28</th>\n",
              "      <td>PHP</td>\n",
              "    </tr>\n",
              "    <tr>\n",
              "      <th>29</th>\n",
              "      <td>C#</td>\n",
              "    </tr>\n",
              "    <tr>\n",
              "      <th>30</th>\n",
              "      <td>Ninguno</td>\n",
              "    </tr>\n",
              "    <tr>\n",
              "      <th>31</th>\n",
              "      <td>Ninguno</td>\n",
              "    </tr>\n",
              "    <tr>\n",
              "      <th>32</th>\n",
              "      <td>Otro</td>\n",
              "    </tr>\n",
              "    <tr>\n",
              "      <th>33</th>\n",
              "      <td>JavaScript</td>\n",
              "    </tr>\n",
              "  </tbody>\n",
              "</table>\n",
              "</div><br><label><b>dtype:</b> object</label>"
            ]
          },
          "metadata": {},
          "execution_count": 111
        }
      ]
    },
    {
      "cell_type": "code",
      "source": [
        "# Convertimos de multiple a simple dato\n",
        "data_array = datos.Lenguajes.str.split(',').explode()\n",
        "print(Leng.dtype)\n",
        "\n",
        "plt.hist(data_array, bins=10, alpha=0.5,)\n",
        "plt.title('Histograma')\n",
        "plt.xlabel('Lenguajes')\n",
        "plt.ylabel('Frecuencia')\n",
        "# plt.figure(figsize=(10, 15))\n",
        "plt.show()\n"
      ],
      "metadata": {
        "id": "hMJhVrzJtBSj"
      },
      "execution_count": null,
      "outputs": []
    },
    {
      "cell_type": "markdown",
      "source": [
        "### Librería gráfica opcional\n",
        "\n",
        "https://plotly.com/python/\n"
      ],
      "metadata": {
        "id": "LbHD4E-Y3r6y"
      }
    },
    {
      "cell_type": "code",
      "source": [
        "# Cargamos la librería\n",
        "import plotly.express as px\n"
      ],
      "metadata": {
        "id": "KIZ_dTTZ3rQq"
      },
      "execution_count": 115,
      "outputs": []
    },
    {
      "cell_type": "markdown",
      "source": [],
      "metadata": {
        "id": "Yvo-yqmG36GC"
      }
    },
    {
      "cell_type": "code",
      "source": [
        "datos.columns\n"
      ],
      "metadata": {
        "colab": {
          "base_uri": "https://localhost:8080/"
        },
        "id": "fbtPluMobwMO",
        "outputId": "4a73e272-715e-4f15-827d-84e2c8229f6f"
      },
      "execution_count": 122,
      "outputs": [
        {
          "output_type": "execute_result",
          "data": {
            "text/plain": [
              "Index(['Nombre', 'Genero', 'Edad', 'Peso', 'Altura', 'Conocimiento_BigData',\n",
              "       'Conocimiento_SIG', 'Habilidad_programacion', 'Conocimiento_lenguajes',\n",
              "       'Dominio_lenguaje_programacion', 'Entorno_de_preferencia',\n",
              "       'Nivel_en_python', 'Nivel_en_collab', 'Ciudad', 'Altura_fix',\n",
              "       'Peso_fix'],\n",
              "      dtype='object')"
            ]
          },
          "metadata": {},
          "execution_count": 122
        }
      ]
    },
    {
      "cell_type": "code",
      "source": [
        "# Histograma de la edad\n",
        "df = datos\n",
        "fig = px.histogram(df, x=\"Edad\", color='Genero', nbins=10,text_auto=True, )\n",
        "# fig.update_layout(bargap=0.2)\n",
        "fig.update_layout ( bargap = 0.1 )\n",
        "fig.update_layout ( title = \"Histograma de frecuencia por 'Edad'\" )\n",
        "fig.show()\n",
        "# nbins-> se utiliza en los gráficos de histograma para controlar la forma en que los datos se agrupan en \"contenedores\" o \"intervalos\"\n"
      ],
      "metadata": {
        "id": "OFY1UsaG35Zq",
        "colab": {
          "base_uri": "https://localhost:8080/",
          "height": 542
        },
        "outputId": "83b34314-3aaa-42be-b2b3-628a47765469"
      },
      "execution_count": 152,
      "outputs": [
        {
          "output_type": "display_data",
          "data": {
            "text/html": [
              "<html>\n",
              "<head><meta charset=\"utf-8\" /></head>\n",
              "<body>\n",
              "    <div>            <script src=\"https://cdnjs.cloudflare.com/ajax/libs/mathjax/2.7.5/MathJax.js?config=TeX-AMS-MML_SVG\"></script><script type=\"text/javascript\">if (window.MathJax && window.MathJax.Hub && window.MathJax.Hub.Config) {window.MathJax.Hub.Config({SVG: {font: \"STIX-Web\"}});}</script>                <script type=\"text/javascript\">window.PlotlyConfig = {MathJaxConfig: 'local'};</script>\n",
              "        <script charset=\"utf-8\" src=\"https://cdn.plot.ly/plotly-2.35.2.min.js\"></script>                <div id=\"82262b5f-6947-433f-bf22-40d75a5b1956\" class=\"plotly-graph-div\" style=\"height:525px; width:100%;\"></div>            <script type=\"text/javascript\">                                    window.PLOTLYENV=window.PLOTLYENV || {};                                    if (document.getElementById(\"82262b5f-6947-433f-bf22-40d75a5b1956\")) {                    Plotly.newPlot(                        \"82262b5f-6947-433f-bf22-40d75a5b1956\",                        [{\"alignmentgroup\":\"True\",\"bingroup\":\"x\",\"hovertemplate\":\"Genero=Masculino\\u003cbr\\u003eEdad=%{x}\\u003cbr\\u003ecount=%{y}\\u003cextra\\u003e\\u003c\\u002fextra\\u003e\",\"legendgroup\":\"Masculino\",\"marker\":{\"color\":\"#636efa\",\"pattern\":{\"shape\":\"\"}},\"name\":\"Masculino\",\"nbinsx\":10,\"offsetgroup\":\"Masculino\",\"orientation\":\"v\",\"showlegend\":true,\"texttemplate\":\"%{value}\",\"x\":[49,34,41,47,40,40,28,27,34,41,35,41,45,33,26,30,44,30,32,32,28,30,33,26,43,36,45,30],\"xaxis\":\"x\",\"yaxis\":\"y\",\"type\":\"histogram\"},{\"alignmentgroup\":\"True\",\"bingroup\":\"x\",\"hovertemplate\":\"Genero=Femenino\\u003cbr\\u003eEdad=%{x}\\u003cbr\\u003ecount=%{y}\\u003cextra\\u003e\\u003c\\u002fextra\\u003e\",\"legendgroup\":\"Femenino\",\"marker\":{\"color\":\"#EF553B\",\"pattern\":{\"shape\":\"\"}},\"name\":\"Femenino\",\"nbinsx\":10,\"offsetgroup\":\"Femenino\",\"orientation\":\"v\",\"showlegend\":true,\"texttemplate\":\"%{value}\",\"x\":[40,43,37,32,25,45],\"xaxis\":\"x\",\"yaxis\":\"y\",\"type\":\"histogram\"}],                        {\"template\":{\"data\":{\"histogram2dcontour\":[{\"type\":\"histogram2dcontour\",\"colorbar\":{\"outlinewidth\":0,\"ticks\":\"\"},\"colorscale\":[[0.0,\"#0d0887\"],[0.1111111111111111,\"#46039f\"],[0.2222222222222222,\"#7201a8\"],[0.3333333333333333,\"#9c179e\"],[0.4444444444444444,\"#bd3786\"],[0.5555555555555556,\"#d8576b\"],[0.6666666666666666,\"#ed7953\"],[0.7777777777777778,\"#fb9f3a\"],[0.8888888888888888,\"#fdca26\"],[1.0,\"#f0f921\"]]}],\"choropleth\":[{\"type\":\"choropleth\",\"colorbar\":{\"outlinewidth\":0,\"ticks\":\"\"}}],\"histogram2d\":[{\"type\":\"histogram2d\",\"colorbar\":{\"outlinewidth\":0,\"ticks\":\"\"},\"colorscale\":[[0.0,\"#0d0887\"],[0.1111111111111111,\"#46039f\"],[0.2222222222222222,\"#7201a8\"],[0.3333333333333333,\"#9c179e\"],[0.4444444444444444,\"#bd3786\"],[0.5555555555555556,\"#d8576b\"],[0.6666666666666666,\"#ed7953\"],[0.7777777777777778,\"#fb9f3a\"],[0.8888888888888888,\"#fdca26\"],[1.0,\"#f0f921\"]]}],\"heatmap\":[{\"type\":\"heatmap\",\"colorbar\":{\"outlinewidth\":0,\"ticks\":\"\"},\"colorscale\":[[0.0,\"#0d0887\"],[0.1111111111111111,\"#46039f\"],[0.2222222222222222,\"#7201a8\"],[0.3333333333333333,\"#9c179e\"],[0.4444444444444444,\"#bd3786\"],[0.5555555555555556,\"#d8576b\"],[0.6666666666666666,\"#ed7953\"],[0.7777777777777778,\"#fb9f3a\"],[0.8888888888888888,\"#fdca26\"],[1.0,\"#f0f921\"]]}],\"heatmapgl\":[{\"type\":\"heatmapgl\",\"colorbar\":{\"outlinewidth\":0,\"ticks\":\"\"},\"colorscale\":[[0.0,\"#0d0887\"],[0.1111111111111111,\"#46039f\"],[0.2222222222222222,\"#7201a8\"],[0.3333333333333333,\"#9c179e\"],[0.4444444444444444,\"#bd3786\"],[0.5555555555555556,\"#d8576b\"],[0.6666666666666666,\"#ed7953\"],[0.7777777777777778,\"#fb9f3a\"],[0.8888888888888888,\"#fdca26\"],[1.0,\"#f0f921\"]]}],\"contourcarpet\":[{\"type\":\"contourcarpet\",\"colorbar\":{\"outlinewidth\":0,\"ticks\":\"\"}}],\"contour\":[{\"type\":\"contour\",\"colorbar\":{\"outlinewidth\":0,\"ticks\":\"\"},\"colorscale\":[[0.0,\"#0d0887\"],[0.1111111111111111,\"#46039f\"],[0.2222222222222222,\"#7201a8\"],[0.3333333333333333,\"#9c179e\"],[0.4444444444444444,\"#bd3786\"],[0.5555555555555556,\"#d8576b\"],[0.6666666666666666,\"#ed7953\"],[0.7777777777777778,\"#fb9f3a\"],[0.8888888888888888,\"#fdca26\"],[1.0,\"#f0f921\"]]}],\"surface\":[{\"type\":\"surface\",\"colorbar\":{\"outlinewidth\":0,\"ticks\":\"\"},\"colorscale\":[[0.0,\"#0d0887\"],[0.1111111111111111,\"#46039f\"],[0.2222222222222222,\"#7201a8\"],[0.3333333333333333,\"#9c179e\"],[0.4444444444444444,\"#bd3786\"],[0.5555555555555556,\"#d8576b\"],[0.6666666666666666,\"#ed7953\"],[0.7777777777777778,\"#fb9f3a\"],[0.8888888888888888,\"#fdca26\"],[1.0,\"#f0f921\"]]}],\"mesh3d\":[{\"type\":\"mesh3d\",\"colorbar\":{\"outlinewidth\":0,\"ticks\":\"\"}}],\"scatter\":[{\"fillpattern\":{\"fillmode\":\"overlay\",\"size\":10,\"solidity\":0.2},\"type\":\"scatter\"}],\"parcoords\":[{\"type\":\"parcoords\",\"line\":{\"colorbar\":{\"outlinewidth\":0,\"ticks\":\"\"}}}],\"scatterpolargl\":[{\"type\":\"scatterpolargl\",\"marker\":{\"colorbar\":{\"outlinewidth\":0,\"ticks\":\"\"}}}],\"bar\":[{\"error_x\":{\"color\":\"#2a3f5f\"},\"error_y\":{\"color\":\"#2a3f5f\"},\"marker\":{\"line\":{\"color\":\"#E5ECF6\",\"width\":0.5},\"pattern\":{\"fillmode\":\"overlay\",\"size\":10,\"solidity\":0.2}},\"type\":\"bar\"}],\"scattergeo\":[{\"type\":\"scattergeo\",\"marker\":{\"colorbar\":{\"outlinewidth\":0,\"ticks\":\"\"}}}],\"scatterpolar\":[{\"type\":\"scatterpolar\",\"marker\":{\"colorbar\":{\"outlinewidth\":0,\"ticks\":\"\"}}}],\"histogram\":[{\"marker\":{\"pattern\":{\"fillmode\":\"overlay\",\"size\":10,\"solidity\":0.2}},\"type\":\"histogram\"}],\"scattergl\":[{\"type\":\"scattergl\",\"marker\":{\"colorbar\":{\"outlinewidth\":0,\"ticks\":\"\"}}}],\"scatter3d\":[{\"type\":\"scatter3d\",\"line\":{\"colorbar\":{\"outlinewidth\":0,\"ticks\":\"\"}},\"marker\":{\"colorbar\":{\"outlinewidth\":0,\"ticks\":\"\"}}}],\"scattermapbox\":[{\"type\":\"scattermapbox\",\"marker\":{\"colorbar\":{\"outlinewidth\":0,\"ticks\":\"\"}}}],\"scatterternary\":[{\"type\":\"scatterternary\",\"marker\":{\"colorbar\":{\"outlinewidth\":0,\"ticks\":\"\"}}}],\"scattercarpet\":[{\"type\":\"scattercarpet\",\"marker\":{\"colorbar\":{\"outlinewidth\":0,\"ticks\":\"\"}}}],\"carpet\":[{\"aaxis\":{\"endlinecolor\":\"#2a3f5f\",\"gridcolor\":\"white\",\"linecolor\":\"white\",\"minorgridcolor\":\"white\",\"startlinecolor\":\"#2a3f5f\"},\"baxis\":{\"endlinecolor\":\"#2a3f5f\",\"gridcolor\":\"white\",\"linecolor\":\"white\",\"minorgridcolor\":\"white\",\"startlinecolor\":\"#2a3f5f\"},\"type\":\"carpet\"}],\"table\":[{\"cells\":{\"fill\":{\"color\":\"#EBF0F8\"},\"line\":{\"color\":\"white\"}},\"header\":{\"fill\":{\"color\":\"#C8D4E3\"},\"line\":{\"color\":\"white\"}},\"type\":\"table\"}],\"barpolar\":[{\"marker\":{\"line\":{\"color\":\"#E5ECF6\",\"width\":0.5},\"pattern\":{\"fillmode\":\"overlay\",\"size\":10,\"solidity\":0.2}},\"type\":\"barpolar\"}],\"pie\":[{\"automargin\":true,\"type\":\"pie\"}]},\"layout\":{\"autotypenumbers\":\"strict\",\"colorway\":[\"#636efa\",\"#EF553B\",\"#00cc96\",\"#ab63fa\",\"#FFA15A\",\"#19d3f3\",\"#FF6692\",\"#B6E880\",\"#FF97FF\",\"#FECB52\"],\"font\":{\"color\":\"#2a3f5f\"},\"hovermode\":\"closest\",\"hoverlabel\":{\"align\":\"left\"},\"paper_bgcolor\":\"white\",\"plot_bgcolor\":\"#E5ECF6\",\"polar\":{\"bgcolor\":\"#E5ECF6\",\"angularaxis\":{\"gridcolor\":\"white\",\"linecolor\":\"white\",\"ticks\":\"\"},\"radialaxis\":{\"gridcolor\":\"white\",\"linecolor\":\"white\",\"ticks\":\"\"}},\"ternary\":{\"bgcolor\":\"#E5ECF6\",\"aaxis\":{\"gridcolor\":\"white\",\"linecolor\":\"white\",\"ticks\":\"\"},\"baxis\":{\"gridcolor\":\"white\",\"linecolor\":\"white\",\"ticks\":\"\"},\"caxis\":{\"gridcolor\":\"white\",\"linecolor\":\"white\",\"ticks\":\"\"}},\"coloraxis\":{\"colorbar\":{\"outlinewidth\":0,\"ticks\":\"\"}},\"colorscale\":{\"sequential\":[[0.0,\"#0d0887\"],[0.1111111111111111,\"#46039f\"],[0.2222222222222222,\"#7201a8\"],[0.3333333333333333,\"#9c179e\"],[0.4444444444444444,\"#bd3786\"],[0.5555555555555556,\"#d8576b\"],[0.6666666666666666,\"#ed7953\"],[0.7777777777777778,\"#fb9f3a\"],[0.8888888888888888,\"#fdca26\"],[1.0,\"#f0f921\"]],\"sequentialminus\":[[0.0,\"#0d0887\"],[0.1111111111111111,\"#46039f\"],[0.2222222222222222,\"#7201a8\"],[0.3333333333333333,\"#9c179e\"],[0.4444444444444444,\"#bd3786\"],[0.5555555555555556,\"#d8576b\"],[0.6666666666666666,\"#ed7953\"],[0.7777777777777778,\"#fb9f3a\"],[0.8888888888888888,\"#fdca26\"],[1.0,\"#f0f921\"]],\"diverging\":[[0,\"#8e0152\"],[0.1,\"#c51b7d\"],[0.2,\"#de77ae\"],[0.3,\"#f1b6da\"],[0.4,\"#fde0ef\"],[0.5,\"#f7f7f7\"],[0.6,\"#e6f5d0\"],[0.7,\"#b8e186\"],[0.8,\"#7fbc41\"],[0.9,\"#4d9221\"],[1,\"#276419\"]]},\"xaxis\":{\"gridcolor\":\"white\",\"linecolor\":\"white\",\"ticks\":\"\",\"title\":{\"standoff\":15},\"zerolinecolor\":\"white\",\"automargin\":true,\"zerolinewidth\":2},\"yaxis\":{\"gridcolor\":\"white\",\"linecolor\":\"white\",\"ticks\":\"\",\"title\":{\"standoff\":15},\"zerolinecolor\":\"white\",\"automargin\":true,\"zerolinewidth\":2},\"scene\":{\"xaxis\":{\"backgroundcolor\":\"#E5ECF6\",\"gridcolor\":\"white\",\"linecolor\":\"white\",\"showbackground\":true,\"ticks\":\"\",\"zerolinecolor\":\"white\",\"gridwidth\":2},\"yaxis\":{\"backgroundcolor\":\"#E5ECF6\",\"gridcolor\":\"white\",\"linecolor\":\"white\",\"showbackground\":true,\"ticks\":\"\",\"zerolinecolor\":\"white\",\"gridwidth\":2},\"zaxis\":{\"backgroundcolor\":\"#E5ECF6\",\"gridcolor\":\"white\",\"linecolor\":\"white\",\"showbackground\":true,\"ticks\":\"\",\"zerolinecolor\":\"white\",\"gridwidth\":2}},\"shapedefaults\":{\"line\":{\"color\":\"#2a3f5f\"}},\"annotationdefaults\":{\"arrowcolor\":\"#2a3f5f\",\"arrowhead\":0,\"arrowwidth\":1},\"geo\":{\"bgcolor\":\"white\",\"landcolor\":\"#E5ECF6\",\"subunitcolor\":\"white\",\"showland\":true,\"showlakes\":true,\"lakecolor\":\"white\"},\"title\":{\"x\":0.05},\"mapbox\":{\"style\":\"light\"}}},\"xaxis\":{\"anchor\":\"y\",\"domain\":[0.0,1.0],\"title\":{\"text\":\"Edad\"}},\"yaxis\":{\"anchor\":\"x\",\"domain\":[0.0,1.0],\"title\":{\"text\":\"count\"}},\"legend\":{\"title\":{\"text\":\"Genero\"},\"tracegroupgap\":0},\"margin\":{\"t\":60},\"barmode\":\"relative\",\"bargap\":0.1,\"title\":{\"text\":\"Histograma de frecuencia por 'Edad'\"}},                        {\"responsive\": true}                    ).then(function(){\n",
              "                            \n",
              "var gd = document.getElementById('82262b5f-6947-433f-bf22-40d75a5b1956');\n",
              "var x = new MutationObserver(function (mutations, observer) {{\n",
              "        var display = window.getComputedStyle(gd).display;\n",
              "        if (!display || display === 'none') {{\n",
              "            console.log([gd, 'removed!']);\n",
              "            Plotly.purge(gd);\n",
              "            observer.disconnect();\n",
              "        }}\n",
              "}});\n",
              "\n",
              "// Listen for the removal of the full notebook cells\n",
              "var notebookContainer = gd.closest('#notebook-container');\n",
              "if (notebookContainer) {{\n",
              "    x.observe(notebookContainer, {childList: true});\n",
              "}}\n",
              "\n",
              "// Listen for the clearing of the current output cell\n",
              "var outputEl = gd.closest('.output');\n",
              "if (outputEl) {{\n",
              "    x.observe(outputEl, {childList: true});\n",
              "}}\n",
              "\n",
              "                        })                };                            </script>        </div>\n",
              "</body>\n",
              "</html>"
            ]
          },
          "metadata": {}
        }
      ]
    },
    {
      "cell_type": "code",
      "source": [
        "df = datos\n",
        "fig = px.histogram(df, x=\"Dominio_lenguaje_programacion\", color='Habilidad_programacion', nbins=10,text_auto=True, )\n",
        "# fig.update_layout(bargap=0.2)\n",
        "fig.update_layout ( bargap = 0.1 )\n",
        "fig.update_layout ( title = \"Histograma de frecuencia por 'Dominio de lenguaje de programación'\" )\n",
        "fig.show()"
      ],
      "metadata": {
        "colab": {
          "base_uri": "https://localhost:8080/",
          "height": 542
        },
        "id": "87D9qSHekc0Z",
        "outputId": "e6c14f41-65e2-416c-9348-bdae04aaeed6"
      },
      "execution_count": 156,
      "outputs": [
        {
          "output_type": "display_data",
          "data": {
            "text/html": [
              "<html>\n",
              "<head><meta charset=\"utf-8\" /></head>\n",
              "<body>\n",
              "    <div>            <script src=\"https://cdnjs.cloudflare.com/ajax/libs/mathjax/2.7.5/MathJax.js?config=TeX-AMS-MML_SVG\"></script><script type=\"text/javascript\">if (window.MathJax && window.MathJax.Hub && window.MathJax.Hub.Config) {window.MathJax.Hub.Config({SVG: {font: \"STIX-Web\"}});}</script>                <script type=\"text/javascript\">window.PlotlyConfig = {MathJaxConfig: 'local'};</script>\n",
              "        <script charset=\"utf-8\" src=\"https://cdn.plot.ly/plotly-2.35.2.min.js\"></script>                <div id=\"a0e9aba1-3cfe-422d-9b43-c0580c6a8aa8\" class=\"plotly-graph-div\" style=\"height:525px; width:100%;\"></div>            <script type=\"text/javascript\">                                    window.PLOTLYENV=window.PLOTLYENV || {};                                    if (document.getElementById(\"a0e9aba1-3cfe-422d-9b43-c0580c6a8aa8\")) {                    Plotly.newPlot(                        \"a0e9aba1-3cfe-422d-9b43-c0580c6a8aa8\",                        [{\"alignmentgroup\":\"True\",\"bingroup\":\"x\",\"hovertemplate\":\"Habilidad_programacion=Intermedio\\u003cbr\\u003eDominio_lenguaje_programacion=%{x}\\u003cbr\\u003ecount=%{y}\\u003cextra\\u003e\\u003c\\u002fextra\\u003e\",\"legendgroup\":\"Intermedio\",\"marker\":{\"color\":\"#636efa\",\"pattern\":{\"shape\":\"\"}},\"name\":\"Intermedio\",\"nbinsx\":10,\"offsetgroup\":\"Intermedio\",\"orientation\":\"v\",\"showlegend\":true,\"texttemplate\":\"%{value}\",\"x\":[\"Python\",\"C#\",\"Object pascal\",\"Python\",\"Ninguno\",\"JavaScript\",\"Python\",\"Otro\",\"C#\",\"Python\",\"JavaScript\",\"JavaScript\",\"Ninguno\",\"Python\",\"Python\",\"PHP\",\"C#\",\"Ninguno\",\"Otro\",\"JavaScript\"],\"xaxis\":\"x\",\"yaxis\":\"y\",\"type\":\"histogram\"},{\"alignmentgroup\":\"True\",\"bingroup\":\"x\",\"hovertemplate\":\"Habilidad_programacion=Avanzado\\u003cbr\\u003eDominio_lenguaje_programacion=%{x}\\u003cbr\\u003ecount=%{y}\\u003cextra\\u003e\\u003c\\u002fextra\\u003e\",\"legendgroup\":\"Avanzado\",\"marker\":{\"color\":\"#EF553B\",\"pattern\":{\"shape\":\"\"}},\"name\":\"Avanzado\",\"nbinsx\":10,\"offsetgroup\":\"Avanzado\",\"orientation\":\"v\",\"showlegend\":true,\"texttemplate\":\"%{value}\",\"x\":[\"JavaScript\",\"C#\",\"C#\",\"C#\",\"PHP\",\"PHP\",\"Python\"],\"xaxis\":\"x\",\"yaxis\":\"y\",\"type\":\"histogram\"},{\"alignmentgroup\":\"True\",\"bingroup\":\"x\",\"hovertemplate\":\"Habilidad_programacion=Básico\\u003cbr\\u003eDominio_lenguaje_programacion=%{x}\\u003cbr\\u003ecount=%{y}\\u003cextra\\u003e\\u003c\\u002fextra\\u003e\",\"legendgroup\":\"Básico\",\"marker\":{\"color\":\"#00cc96\",\"pattern\":{\"shape\":\"\"}},\"name\":\"Básico\",\"nbinsx\":10,\"offsetgroup\":\"Básico\",\"orientation\":\"v\",\"showlegend\":true,\"texttemplate\":\"%{value}\",\"x\":[\"Ninguno\",\"Otro\",\"Ninguno\",\"C++\",\"Python\",\"Python\",\"Ninguno\"],\"xaxis\":\"x\",\"yaxis\":\"y\",\"type\":\"histogram\"}],                        {\"template\":{\"data\":{\"histogram2dcontour\":[{\"type\":\"histogram2dcontour\",\"colorbar\":{\"outlinewidth\":0,\"ticks\":\"\"},\"colorscale\":[[0.0,\"#0d0887\"],[0.1111111111111111,\"#46039f\"],[0.2222222222222222,\"#7201a8\"],[0.3333333333333333,\"#9c179e\"],[0.4444444444444444,\"#bd3786\"],[0.5555555555555556,\"#d8576b\"],[0.6666666666666666,\"#ed7953\"],[0.7777777777777778,\"#fb9f3a\"],[0.8888888888888888,\"#fdca26\"],[1.0,\"#f0f921\"]]}],\"choropleth\":[{\"type\":\"choropleth\",\"colorbar\":{\"outlinewidth\":0,\"ticks\":\"\"}}],\"histogram2d\":[{\"type\":\"histogram2d\",\"colorbar\":{\"outlinewidth\":0,\"ticks\":\"\"},\"colorscale\":[[0.0,\"#0d0887\"],[0.1111111111111111,\"#46039f\"],[0.2222222222222222,\"#7201a8\"],[0.3333333333333333,\"#9c179e\"],[0.4444444444444444,\"#bd3786\"],[0.5555555555555556,\"#d8576b\"],[0.6666666666666666,\"#ed7953\"],[0.7777777777777778,\"#fb9f3a\"],[0.8888888888888888,\"#fdca26\"],[1.0,\"#f0f921\"]]}],\"heatmap\":[{\"type\":\"heatmap\",\"colorbar\":{\"outlinewidth\":0,\"ticks\":\"\"},\"colorscale\":[[0.0,\"#0d0887\"],[0.1111111111111111,\"#46039f\"],[0.2222222222222222,\"#7201a8\"],[0.3333333333333333,\"#9c179e\"],[0.4444444444444444,\"#bd3786\"],[0.5555555555555556,\"#d8576b\"],[0.6666666666666666,\"#ed7953\"],[0.7777777777777778,\"#fb9f3a\"],[0.8888888888888888,\"#fdca26\"],[1.0,\"#f0f921\"]]}],\"heatmapgl\":[{\"type\":\"heatmapgl\",\"colorbar\":{\"outlinewidth\":0,\"ticks\":\"\"},\"colorscale\":[[0.0,\"#0d0887\"],[0.1111111111111111,\"#46039f\"],[0.2222222222222222,\"#7201a8\"],[0.3333333333333333,\"#9c179e\"],[0.4444444444444444,\"#bd3786\"],[0.5555555555555556,\"#d8576b\"],[0.6666666666666666,\"#ed7953\"],[0.7777777777777778,\"#fb9f3a\"],[0.8888888888888888,\"#fdca26\"],[1.0,\"#f0f921\"]]}],\"contourcarpet\":[{\"type\":\"contourcarpet\",\"colorbar\":{\"outlinewidth\":0,\"ticks\":\"\"}}],\"contour\":[{\"type\":\"contour\",\"colorbar\":{\"outlinewidth\":0,\"ticks\":\"\"},\"colorscale\":[[0.0,\"#0d0887\"],[0.1111111111111111,\"#46039f\"],[0.2222222222222222,\"#7201a8\"],[0.3333333333333333,\"#9c179e\"],[0.4444444444444444,\"#bd3786\"],[0.5555555555555556,\"#d8576b\"],[0.6666666666666666,\"#ed7953\"],[0.7777777777777778,\"#fb9f3a\"],[0.8888888888888888,\"#fdca26\"],[1.0,\"#f0f921\"]]}],\"surface\":[{\"type\":\"surface\",\"colorbar\":{\"outlinewidth\":0,\"ticks\":\"\"},\"colorscale\":[[0.0,\"#0d0887\"],[0.1111111111111111,\"#46039f\"],[0.2222222222222222,\"#7201a8\"],[0.3333333333333333,\"#9c179e\"],[0.4444444444444444,\"#bd3786\"],[0.5555555555555556,\"#d8576b\"],[0.6666666666666666,\"#ed7953\"],[0.7777777777777778,\"#fb9f3a\"],[0.8888888888888888,\"#fdca26\"],[1.0,\"#f0f921\"]]}],\"mesh3d\":[{\"type\":\"mesh3d\",\"colorbar\":{\"outlinewidth\":0,\"ticks\":\"\"}}],\"scatter\":[{\"fillpattern\":{\"fillmode\":\"overlay\",\"size\":10,\"solidity\":0.2},\"type\":\"scatter\"}],\"parcoords\":[{\"type\":\"parcoords\",\"line\":{\"colorbar\":{\"outlinewidth\":0,\"ticks\":\"\"}}}],\"scatterpolargl\":[{\"type\":\"scatterpolargl\",\"marker\":{\"colorbar\":{\"outlinewidth\":0,\"ticks\":\"\"}}}],\"bar\":[{\"error_x\":{\"color\":\"#2a3f5f\"},\"error_y\":{\"color\":\"#2a3f5f\"},\"marker\":{\"line\":{\"color\":\"#E5ECF6\",\"width\":0.5},\"pattern\":{\"fillmode\":\"overlay\",\"size\":10,\"solidity\":0.2}},\"type\":\"bar\"}],\"scattergeo\":[{\"type\":\"scattergeo\",\"marker\":{\"colorbar\":{\"outlinewidth\":0,\"ticks\":\"\"}}}],\"scatterpolar\":[{\"type\":\"scatterpolar\",\"marker\":{\"colorbar\":{\"outlinewidth\":0,\"ticks\":\"\"}}}],\"histogram\":[{\"marker\":{\"pattern\":{\"fillmode\":\"overlay\",\"size\":10,\"solidity\":0.2}},\"type\":\"histogram\"}],\"scattergl\":[{\"type\":\"scattergl\",\"marker\":{\"colorbar\":{\"outlinewidth\":0,\"ticks\":\"\"}}}],\"scatter3d\":[{\"type\":\"scatter3d\",\"line\":{\"colorbar\":{\"outlinewidth\":0,\"ticks\":\"\"}},\"marker\":{\"colorbar\":{\"outlinewidth\":0,\"ticks\":\"\"}}}],\"scattermapbox\":[{\"type\":\"scattermapbox\",\"marker\":{\"colorbar\":{\"outlinewidth\":0,\"ticks\":\"\"}}}],\"scatterternary\":[{\"type\":\"scatterternary\",\"marker\":{\"colorbar\":{\"outlinewidth\":0,\"ticks\":\"\"}}}],\"scattercarpet\":[{\"type\":\"scattercarpet\",\"marker\":{\"colorbar\":{\"outlinewidth\":0,\"ticks\":\"\"}}}],\"carpet\":[{\"aaxis\":{\"endlinecolor\":\"#2a3f5f\",\"gridcolor\":\"white\",\"linecolor\":\"white\",\"minorgridcolor\":\"white\",\"startlinecolor\":\"#2a3f5f\"},\"baxis\":{\"endlinecolor\":\"#2a3f5f\",\"gridcolor\":\"white\",\"linecolor\":\"white\",\"minorgridcolor\":\"white\",\"startlinecolor\":\"#2a3f5f\"},\"type\":\"carpet\"}],\"table\":[{\"cells\":{\"fill\":{\"color\":\"#EBF0F8\"},\"line\":{\"color\":\"white\"}},\"header\":{\"fill\":{\"color\":\"#C8D4E3\"},\"line\":{\"color\":\"white\"}},\"type\":\"table\"}],\"barpolar\":[{\"marker\":{\"line\":{\"color\":\"#E5ECF6\",\"width\":0.5},\"pattern\":{\"fillmode\":\"overlay\",\"size\":10,\"solidity\":0.2}},\"type\":\"barpolar\"}],\"pie\":[{\"automargin\":true,\"type\":\"pie\"}]},\"layout\":{\"autotypenumbers\":\"strict\",\"colorway\":[\"#636efa\",\"#EF553B\",\"#00cc96\",\"#ab63fa\",\"#FFA15A\",\"#19d3f3\",\"#FF6692\",\"#B6E880\",\"#FF97FF\",\"#FECB52\"],\"font\":{\"color\":\"#2a3f5f\"},\"hovermode\":\"closest\",\"hoverlabel\":{\"align\":\"left\"},\"paper_bgcolor\":\"white\",\"plot_bgcolor\":\"#E5ECF6\",\"polar\":{\"bgcolor\":\"#E5ECF6\",\"angularaxis\":{\"gridcolor\":\"white\",\"linecolor\":\"white\",\"ticks\":\"\"},\"radialaxis\":{\"gridcolor\":\"white\",\"linecolor\":\"white\",\"ticks\":\"\"}},\"ternary\":{\"bgcolor\":\"#E5ECF6\",\"aaxis\":{\"gridcolor\":\"white\",\"linecolor\":\"white\",\"ticks\":\"\"},\"baxis\":{\"gridcolor\":\"white\",\"linecolor\":\"white\",\"ticks\":\"\"},\"caxis\":{\"gridcolor\":\"white\",\"linecolor\":\"white\",\"ticks\":\"\"}},\"coloraxis\":{\"colorbar\":{\"outlinewidth\":0,\"ticks\":\"\"}},\"colorscale\":{\"sequential\":[[0.0,\"#0d0887\"],[0.1111111111111111,\"#46039f\"],[0.2222222222222222,\"#7201a8\"],[0.3333333333333333,\"#9c179e\"],[0.4444444444444444,\"#bd3786\"],[0.5555555555555556,\"#d8576b\"],[0.6666666666666666,\"#ed7953\"],[0.7777777777777778,\"#fb9f3a\"],[0.8888888888888888,\"#fdca26\"],[1.0,\"#f0f921\"]],\"sequentialminus\":[[0.0,\"#0d0887\"],[0.1111111111111111,\"#46039f\"],[0.2222222222222222,\"#7201a8\"],[0.3333333333333333,\"#9c179e\"],[0.4444444444444444,\"#bd3786\"],[0.5555555555555556,\"#d8576b\"],[0.6666666666666666,\"#ed7953\"],[0.7777777777777778,\"#fb9f3a\"],[0.8888888888888888,\"#fdca26\"],[1.0,\"#f0f921\"]],\"diverging\":[[0,\"#8e0152\"],[0.1,\"#c51b7d\"],[0.2,\"#de77ae\"],[0.3,\"#f1b6da\"],[0.4,\"#fde0ef\"],[0.5,\"#f7f7f7\"],[0.6,\"#e6f5d0\"],[0.7,\"#b8e186\"],[0.8,\"#7fbc41\"],[0.9,\"#4d9221\"],[1,\"#276419\"]]},\"xaxis\":{\"gridcolor\":\"white\",\"linecolor\":\"white\",\"ticks\":\"\",\"title\":{\"standoff\":15},\"zerolinecolor\":\"white\",\"automargin\":true,\"zerolinewidth\":2},\"yaxis\":{\"gridcolor\":\"white\",\"linecolor\":\"white\",\"ticks\":\"\",\"title\":{\"standoff\":15},\"zerolinecolor\":\"white\",\"automargin\":true,\"zerolinewidth\":2},\"scene\":{\"xaxis\":{\"backgroundcolor\":\"#E5ECF6\",\"gridcolor\":\"white\",\"linecolor\":\"white\",\"showbackground\":true,\"ticks\":\"\",\"zerolinecolor\":\"white\",\"gridwidth\":2},\"yaxis\":{\"backgroundcolor\":\"#E5ECF6\",\"gridcolor\":\"white\",\"linecolor\":\"white\",\"showbackground\":true,\"ticks\":\"\",\"zerolinecolor\":\"white\",\"gridwidth\":2},\"zaxis\":{\"backgroundcolor\":\"#E5ECF6\",\"gridcolor\":\"white\",\"linecolor\":\"white\",\"showbackground\":true,\"ticks\":\"\",\"zerolinecolor\":\"white\",\"gridwidth\":2}},\"shapedefaults\":{\"line\":{\"color\":\"#2a3f5f\"}},\"annotationdefaults\":{\"arrowcolor\":\"#2a3f5f\",\"arrowhead\":0,\"arrowwidth\":1},\"geo\":{\"bgcolor\":\"white\",\"landcolor\":\"#E5ECF6\",\"subunitcolor\":\"white\",\"showland\":true,\"showlakes\":true,\"lakecolor\":\"white\"},\"title\":{\"x\":0.05},\"mapbox\":{\"style\":\"light\"}}},\"xaxis\":{\"anchor\":\"y\",\"domain\":[0.0,1.0],\"title\":{\"text\":\"Dominio_lenguaje_programacion\"}},\"yaxis\":{\"anchor\":\"x\",\"domain\":[0.0,1.0],\"title\":{\"text\":\"count\"}},\"legend\":{\"title\":{\"text\":\"Habilidad_programacion\"},\"tracegroupgap\":0},\"margin\":{\"t\":60},\"barmode\":\"relative\",\"bargap\":0.1,\"title\":{\"text\":\"Histograma de frecuencia por 'Dominio de lenguaje de programación'\"}},                        {\"responsive\": true}                    ).then(function(){\n",
              "                            \n",
              "var gd = document.getElementById('a0e9aba1-3cfe-422d-9b43-c0580c6a8aa8');\n",
              "var x = new MutationObserver(function (mutations, observer) {{\n",
              "        var display = window.getComputedStyle(gd).display;\n",
              "        if (!display || display === 'none') {{\n",
              "            console.log([gd, 'removed!']);\n",
              "            Plotly.purge(gd);\n",
              "            observer.disconnect();\n",
              "        }}\n",
              "}});\n",
              "\n",
              "// Listen for the removal of the full notebook cells\n",
              "var notebookContainer = gd.closest('#notebook-container');\n",
              "if (notebookContainer) {{\n",
              "    x.observe(notebookContainer, {childList: true});\n",
              "}}\n",
              "\n",
              "// Listen for the clearing of the current output cell\n",
              "var outputEl = gd.closest('.output');\n",
              "if (outputEl) {{\n",
              "    x.observe(outputEl, {childList: true});\n",
              "}}\n",
              "\n",
              "                        })                };                            </script>        </div>\n",
              "</body>\n",
              "</html>"
            ]
          },
          "metadata": {}
        }
      ]
    },
    {
      "cell_type": "code",
      "source": [
        "# Histograma de la edad\n",
        "df = datos\n",
        "fig = px.histogram(df, x=\"Genero\")\n",
        "# fig.update_layout(bargap=0.2)\n",
        "fig.show()\n"
      ],
      "metadata": {
        "id": "aMxPu_aT4mca",
        "colab": {
          "base_uri": "https://localhost:8080/",
          "height": 542
        },
        "outputId": "210b5951-a879-469d-e595-4e57f91074be"
      },
      "execution_count": 114,
      "outputs": [
        {
          "output_type": "display_data",
          "data": {
            "text/html": [
              "<html>\n",
              "<head><meta charset=\"utf-8\" /></head>\n",
              "<body>\n",
              "    <div>            <script src=\"https://cdnjs.cloudflare.com/ajax/libs/mathjax/2.7.5/MathJax.js?config=TeX-AMS-MML_SVG\"></script><script type=\"text/javascript\">if (window.MathJax && window.MathJax.Hub && window.MathJax.Hub.Config) {window.MathJax.Hub.Config({SVG: {font: \"STIX-Web\"}});}</script>                <script type=\"text/javascript\">window.PlotlyConfig = {MathJaxConfig: 'local'};</script>\n",
              "        <script charset=\"utf-8\" src=\"https://cdn.plot.ly/plotly-2.35.2.min.js\"></script>                <div id=\"04b89015-7878-4bf5-b939-abc9abb59636\" class=\"plotly-graph-div\" style=\"height:525px; width:100%;\"></div>            <script type=\"text/javascript\">                                    window.PLOTLYENV=window.PLOTLYENV || {};                                    if (document.getElementById(\"04b89015-7878-4bf5-b939-abc9abb59636\")) {                    Plotly.newPlot(                        \"04b89015-7878-4bf5-b939-abc9abb59636\",                        [{\"alignmentgroup\":\"True\",\"bingroup\":\"x\",\"hovertemplate\":\"Genero=%{x}\\u003cbr\\u003ecount=%{y}\\u003cextra\\u003e\\u003c\\u002fextra\\u003e\",\"legendgroup\":\"\",\"marker\":{\"color\":\"#636efa\",\"pattern\":{\"shape\":\"\"}},\"name\":\"\",\"offsetgroup\":\"\",\"orientation\":\"v\",\"showlegend\":false,\"x\":[\"Masculino\",\"Masculino\",\"Masculino\",\"Masculino\",\"Masculino\",\"Masculino\",\"Masculino\",\"Masculino\",\"Masculino\",\"Masculino\",\"Femenino\",\"Masculino\",\"Femenino\",\"Masculino\",\"Femenino\",\"Masculino\",\"Masculino\",\"Masculino\",\"Masculino\",\"Masculino\",\"Femenino\",\"Masculino\",\"Masculino\",\"Masculino\",\"Masculino\",\"Femenino\",\"Masculino\",\"Masculino\",\"Masculino\",\"Masculino\",\"Masculino\",\"Masculino\",\"Femenino\",\"Masculino\"],\"xaxis\":\"x\",\"yaxis\":\"y\",\"type\":\"histogram\"}],                        {\"template\":{\"data\":{\"histogram2dcontour\":[{\"type\":\"histogram2dcontour\",\"colorbar\":{\"outlinewidth\":0,\"ticks\":\"\"},\"colorscale\":[[0.0,\"#0d0887\"],[0.1111111111111111,\"#46039f\"],[0.2222222222222222,\"#7201a8\"],[0.3333333333333333,\"#9c179e\"],[0.4444444444444444,\"#bd3786\"],[0.5555555555555556,\"#d8576b\"],[0.6666666666666666,\"#ed7953\"],[0.7777777777777778,\"#fb9f3a\"],[0.8888888888888888,\"#fdca26\"],[1.0,\"#f0f921\"]]}],\"choropleth\":[{\"type\":\"choropleth\",\"colorbar\":{\"outlinewidth\":0,\"ticks\":\"\"}}],\"histogram2d\":[{\"type\":\"histogram2d\",\"colorbar\":{\"outlinewidth\":0,\"ticks\":\"\"},\"colorscale\":[[0.0,\"#0d0887\"],[0.1111111111111111,\"#46039f\"],[0.2222222222222222,\"#7201a8\"],[0.3333333333333333,\"#9c179e\"],[0.4444444444444444,\"#bd3786\"],[0.5555555555555556,\"#d8576b\"],[0.6666666666666666,\"#ed7953\"],[0.7777777777777778,\"#fb9f3a\"],[0.8888888888888888,\"#fdca26\"],[1.0,\"#f0f921\"]]}],\"heatmap\":[{\"type\":\"heatmap\",\"colorbar\":{\"outlinewidth\":0,\"ticks\":\"\"},\"colorscale\":[[0.0,\"#0d0887\"],[0.1111111111111111,\"#46039f\"],[0.2222222222222222,\"#7201a8\"],[0.3333333333333333,\"#9c179e\"],[0.4444444444444444,\"#bd3786\"],[0.5555555555555556,\"#d8576b\"],[0.6666666666666666,\"#ed7953\"],[0.7777777777777778,\"#fb9f3a\"],[0.8888888888888888,\"#fdca26\"],[1.0,\"#f0f921\"]]}],\"heatmapgl\":[{\"type\":\"heatmapgl\",\"colorbar\":{\"outlinewidth\":0,\"ticks\":\"\"},\"colorscale\":[[0.0,\"#0d0887\"],[0.1111111111111111,\"#46039f\"],[0.2222222222222222,\"#7201a8\"],[0.3333333333333333,\"#9c179e\"],[0.4444444444444444,\"#bd3786\"],[0.5555555555555556,\"#d8576b\"],[0.6666666666666666,\"#ed7953\"],[0.7777777777777778,\"#fb9f3a\"],[0.8888888888888888,\"#fdca26\"],[1.0,\"#f0f921\"]]}],\"contourcarpet\":[{\"type\":\"contourcarpet\",\"colorbar\":{\"outlinewidth\":0,\"ticks\":\"\"}}],\"contour\":[{\"type\":\"contour\",\"colorbar\":{\"outlinewidth\":0,\"ticks\":\"\"},\"colorscale\":[[0.0,\"#0d0887\"],[0.1111111111111111,\"#46039f\"],[0.2222222222222222,\"#7201a8\"],[0.3333333333333333,\"#9c179e\"],[0.4444444444444444,\"#bd3786\"],[0.5555555555555556,\"#d8576b\"],[0.6666666666666666,\"#ed7953\"],[0.7777777777777778,\"#fb9f3a\"],[0.8888888888888888,\"#fdca26\"],[1.0,\"#f0f921\"]]}],\"surface\":[{\"type\":\"surface\",\"colorbar\":{\"outlinewidth\":0,\"ticks\":\"\"},\"colorscale\":[[0.0,\"#0d0887\"],[0.1111111111111111,\"#46039f\"],[0.2222222222222222,\"#7201a8\"],[0.3333333333333333,\"#9c179e\"],[0.4444444444444444,\"#bd3786\"],[0.5555555555555556,\"#d8576b\"],[0.6666666666666666,\"#ed7953\"],[0.7777777777777778,\"#fb9f3a\"],[0.8888888888888888,\"#fdca26\"],[1.0,\"#f0f921\"]]}],\"mesh3d\":[{\"type\":\"mesh3d\",\"colorbar\":{\"outlinewidth\":0,\"ticks\":\"\"}}],\"scatter\":[{\"fillpattern\":{\"fillmode\":\"overlay\",\"size\":10,\"solidity\":0.2},\"type\":\"scatter\"}],\"parcoords\":[{\"type\":\"parcoords\",\"line\":{\"colorbar\":{\"outlinewidth\":0,\"ticks\":\"\"}}}],\"scatterpolargl\":[{\"type\":\"scatterpolargl\",\"marker\":{\"colorbar\":{\"outlinewidth\":0,\"ticks\":\"\"}}}],\"bar\":[{\"error_x\":{\"color\":\"#2a3f5f\"},\"error_y\":{\"color\":\"#2a3f5f\"},\"marker\":{\"line\":{\"color\":\"#E5ECF6\",\"width\":0.5},\"pattern\":{\"fillmode\":\"overlay\",\"size\":10,\"solidity\":0.2}},\"type\":\"bar\"}],\"scattergeo\":[{\"type\":\"scattergeo\",\"marker\":{\"colorbar\":{\"outlinewidth\":0,\"ticks\":\"\"}}}],\"scatterpolar\":[{\"type\":\"scatterpolar\",\"marker\":{\"colorbar\":{\"outlinewidth\":0,\"ticks\":\"\"}}}],\"histogram\":[{\"marker\":{\"pattern\":{\"fillmode\":\"overlay\",\"size\":10,\"solidity\":0.2}},\"type\":\"histogram\"}],\"scattergl\":[{\"type\":\"scattergl\",\"marker\":{\"colorbar\":{\"outlinewidth\":0,\"ticks\":\"\"}}}],\"scatter3d\":[{\"type\":\"scatter3d\",\"line\":{\"colorbar\":{\"outlinewidth\":0,\"ticks\":\"\"}},\"marker\":{\"colorbar\":{\"outlinewidth\":0,\"ticks\":\"\"}}}],\"scattermapbox\":[{\"type\":\"scattermapbox\",\"marker\":{\"colorbar\":{\"outlinewidth\":0,\"ticks\":\"\"}}}],\"scatterternary\":[{\"type\":\"scatterternary\",\"marker\":{\"colorbar\":{\"outlinewidth\":0,\"ticks\":\"\"}}}],\"scattercarpet\":[{\"type\":\"scattercarpet\",\"marker\":{\"colorbar\":{\"outlinewidth\":0,\"ticks\":\"\"}}}],\"carpet\":[{\"aaxis\":{\"endlinecolor\":\"#2a3f5f\",\"gridcolor\":\"white\",\"linecolor\":\"white\",\"minorgridcolor\":\"white\",\"startlinecolor\":\"#2a3f5f\"},\"baxis\":{\"endlinecolor\":\"#2a3f5f\",\"gridcolor\":\"white\",\"linecolor\":\"white\",\"minorgridcolor\":\"white\",\"startlinecolor\":\"#2a3f5f\"},\"type\":\"carpet\"}],\"table\":[{\"cells\":{\"fill\":{\"color\":\"#EBF0F8\"},\"line\":{\"color\":\"white\"}},\"header\":{\"fill\":{\"color\":\"#C8D4E3\"},\"line\":{\"color\":\"white\"}},\"type\":\"table\"}],\"barpolar\":[{\"marker\":{\"line\":{\"color\":\"#E5ECF6\",\"width\":0.5},\"pattern\":{\"fillmode\":\"overlay\",\"size\":10,\"solidity\":0.2}},\"type\":\"barpolar\"}],\"pie\":[{\"automargin\":true,\"type\":\"pie\"}]},\"layout\":{\"autotypenumbers\":\"strict\",\"colorway\":[\"#636efa\",\"#EF553B\",\"#00cc96\",\"#ab63fa\",\"#FFA15A\",\"#19d3f3\",\"#FF6692\",\"#B6E880\",\"#FF97FF\",\"#FECB52\"],\"font\":{\"color\":\"#2a3f5f\"},\"hovermode\":\"closest\",\"hoverlabel\":{\"align\":\"left\"},\"paper_bgcolor\":\"white\",\"plot_bgcolor\":\"#E5ECF6\",\"polar\":{\"bgcolor\":\"#E5ECF6\",\"angularaxis\":{\"gridcolor\":\"white\",\"linecolor\":\"white\",\"ticks\":\"\"},\"radialaxis\":{\"gridcolor\":\"white\",\"linecolor\":\"white\",\"ticks\":\"\"}},\"ternary\":{\"bgcolor\":\"#E5ECF6\",\"aaxis\":{\"gridcolor\":\"white\",\"linecolor\":\"white\",\"ticks\":\"\"},\"baxis\":{\"gridcolor\":\"white\",\"linecolor\":\"white\",\"ticks\":\"\"},\"caxis\":{\"gridcolor\":\"white\",\"linecolor\":\"white\",\"ticks\":\"\"}},\"coloraxis\":{\"colorbar\":{\"outlinewidth\":0,\"ticks\":\"\"}},\"colorscale\":{\"sequential\":[[0.0,\"#0d0887\"],[0.1111111111111111,\"#46039f\"],[0.2222222222222222,\"#7201a8\"],[0.3333333333333333,\"#9c179e\"],[0.4444444444444444,\"#bd3786\"],[0.5555555555555556,\"#d8576b\"],[0.6666666666666666,\"#ed7953\"],[0.7777777777777778,\"#fb9f3a\"],[0.8888888888888888,\"#fdca26\"],[1.0,\"#f0f921\"]],\"sequentialminus\":[[0.0,\"#0d0887\"],[0.1111111111111111,\"#46039f\"],[0.2222222222222222,\"#7201a8\"],[0.3333333333333333,\"#9c179e\"],[0.4444444444444444,\"#bd3786\"],[0.5555555555555556,\"#d8576b\"],[0.6666666666666666,\"#ed7953\"],[0.7777777777777778,\"#fb9f3a\"],[0.8888888888888888,\"#fdca26\"],[1.0,\"#f0f921\"]],\"diverging\":[[0,\"#8e0152\"],[0.1,\"#c51b7d\"],[0.2,\"#de77ae\"],[0.3,\"#f1b6da\"],[0.4,\"#fde0ef\"],[0.5,\"#f7f7f7\"],[0.6,\"#e6f5d0\"],[0.7,\"#b8e186\"],[0.8,\"#7fbc41\"],[0.9,\"#4d9221\"],[1,\"#276419\"]]},\"xaxis\":{\"gridcolor\":\"white\",\"linecolor\":\"white\",\"ticks\":\"\",\"title\":{\"standoff\":15},\"zerolinecolor\":\"white\",\"automargin\":true,\"zerolinewidth\":2},\"yaxis\":{\"gridcolor\":\"white\",\"linecolor\":\"white\",\"ticks\":\"\",\"title\":{\"standoff\":15},\"zerolinecolor\":\"white\",\"automargin\":true,\"zerolinewidth\":2},\"scene\":{\"xaxis\":{\"backgroundcolor\":\"#E5ECF6\",\"gridcolor\":\"white\",\"linecolor\":\"white\",\"showbackground\":true,\"ticks\":\"\",\"zerolinecolor\":\"white\",\"gridwidth\":2},\"yaxis\":{\"backgroundcolor\":\"#E5ECF6\",\"gridcolor\":\"white\",\"linecolor\":\"white\",\"showbackground\":true,\"ticks\":\"\",\"zerolinecolor\":\"white\",\"gridwidth\":2},\"zaxis\":{\"backgroundcolor\":\"#E5ECF6\",\"gridcolor\":\"white\",\"linecolor\":\"white\",\"showbackground\":true,\"ticks\":\"\",\"zerolinecolor\":\"white\",\"gridwidth\":2}},\"shapedefaults\":{\"line\":{\"color\":\"#2a3f5f\"}},\"annotationdefaults\":{\"arrowcolor\":\"#2a3f5f\",\"arrowhead\":0,\"arrowwidth\":1},\"geo\":{\"bgcolor\":\"white\",\"landcolor\":\"#E5ECF6\",\"subunitcolor\":\"white\",\"showland\":true,\"showlakes\":true,\"lakecolor\":\"white\"},\"title\":{\"x\":0.05},\"mapbox\":{\"style\":\"light\"}}},\"xaxis\":{\"anchor\":\"y\",\"domain\":[0.0,1.0],\"title\":{\"text\":\"Genero\"}},\"yaxis\":{\"anchor\":\"x\",\"domain\":[0.0,1.0],\"title\":{\"text\":\"count\"}},\"legend\":{\"tracegroupgap\":0},\"margin\":{\"t\":60},\"barmode\":\"relative\"},                        {\"responsive\": true}                    ).then(function(){\n",
              "                            \n",
              "var gd = document.getElementById('04b89015-7878-4bf5-b939-abc9abb59636');\n",
              "var x = new MutationObserver(function (mutations, observer) {{\n",
              "        var display = window.getComputedStyle(gd).display;\n",
              "        if (!display || display === 'none') {{\n",
              "            console.log([gd, 'removed!']);\n",
              "            Plotly.purge(gd);\n",
              "            observer.disconnect();\n",
              "        }}\n",
              "}});\n",
              "\n",
              "// Listen for the removal of the full notebook cells\n",
              "var notebookContainer = gd.closest('#notebook-container');\n",
              "if (notebookContainer) {{\n",
              "    x.observe(notebookContainer, {childList: true});\n",
              "}}\n",
              "\n",
              "// Listen for the clearing of the current output cell\n",
              "var outputEl = gd.closest('.output');\n",
              "if (outputEl) {{\n",
              "    x.observe(outputEl, {childList: true});\n",
              "}}\n",
              "\n",
              "                        })                };                            </script>        </div>\n",
              "</body>\n",
              "</html>"
            ]
          },
          "metadata": {}
        }
      ]
    },
    {
      "cell_type": "markdown",
      "source": [
        "## 📊 Práctica\n",
        "1.\tGenerar una gráfica de histograma de frecuencia con los campos \"Entorno_de_preferencia\" y en un párrafo interpreta los resultados."
      ],
      "metadata": {
        "id": "AaL9TP-PM7jp"
      }
    },
    {
      "cell_type": "code",
      "source": [],
      "metadata": {
        "id": "A2VuBStdNDm1"
      },
      "execution_count": null,
      "outputs": []
    },
    {
      "cell_type": "markdown",
      "source": [
        "2.\tA partir del campo \"Peso\" calcular las estadísticas \"promedio\", \"mediana\", \"min\", \"max\". Interpretar los resultados y comentar sobre la consistencia de los datos, ¿son correcto los datos?."
      ],
      "metadata": {
        "id": "cPOQ7uhMPGOK"
      }
    },
    {
      "cell_type": "code",
      "source": [],
      "metadata": {
        "id": "DIubmXRKOJxW"
      },
      "execution_count": null,
      "outputs": []
    },
    {
      "cell_type": "markdown",
      "source": [
        "3.\tRealizar un diagrama de dispersión con el campo \"Edad\" y \"Peso\" y obtén un análisis del resultado"
      ],
      "metadata": {
        "id": "ZnjIyweSm7tN"
      }
    },
    {
      "cell_type": "code",
      "source": [],
      "metadata": {
        "id": "IKd9TjNom62t"
      },
      "execution_count": null,
      "outputs": []
    },
    {
      "cell_type": "markdown",
      "source": [
        "### Respuesta:\n",
        "¿Cuál es el peso promedio de los estudiantes?\n",
        "\n",
        "\n",
        "\n"
      ],
      "metadata": {
        "id": "L_QGUX1gLH3B"
      }
    },
    {
      "cell_type": "markdown",
      "source": [
        "## 📝Extra 1\n",
        "4.\tRealiza un histograma de frecuencia por un rango de edades ( 20-25, 26-30,31-35, 36-40, mayor a 41). Realiza una interpretación de los resultados"
      ],
      "metadata": {
        "id": "oZYkxml7NDzz"
      }
    },
    {
      "cell_type": "code",
      "source": [],
      "metadata": {
        "id": "IgousIenOLWq"
      },
      "execution_count": null,
      "outputs": []
    },
    {
      "cell_type": "markdown",
      "source": [
        "¿Qué significan los datos extremos (límite inferior y límite superior)?"
      ],
      "metadata": {
        "id": "BFXIWjjPOJLH"
      }
    },
    {
      "cell_type": "markdown",
      "source": [
        "## 📝Extra 2\n",
        "5.\tGenera un Gráfico de Cajas y calcula los cortes externos (outlayer) para el campo “Altura”, cuantos datos están fuera de los extremos (outlayers)? ¿Y qué utilidad podemos observar a la capacidad de identificar los datos extremos o anómalos?\n",
        "\n",
        "¿Cúal es tu interpretación sobre los resultados en el diagrama de dispersión?\n",
        "Respuesta:"
      ],
      "metadata": {
        "id": "rtCBXBG1OLKL"
      }
    },
    {
      "cell_type": "code",
      "source": [],
      "metadata": {
        "id": "zNcVzRvrOaAR"
      },
      "execution_count": null,
      "outputs": []
    },
    {
      "cell_type": "markdown",
      "source": [
        "* La forma de entrega de la presente actividad será en un Archivo PDF subido a la plataforma\n",
        "\n",
        "* El Plazo de entrega, hasta el día sábado 10 de mayo del 2025 a las 23.59"
      ],
      "metadata": {
        "id": "aNh2Ask1OXZt"
      }
    }
  ]
}